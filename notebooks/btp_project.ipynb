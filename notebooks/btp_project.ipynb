{
  "cells": [
    {
      "cell_type": "markdown",
      "metadata": {
        "id": "view-in-github",
        "colab_type": "text"
      },
      "source": [
        "<a href=\"https://colab.research.google.com/github/VINOD8143/2101AI27_LAB1/blob/main/notebooks/btp_project.ipynb\" target=\"_parent\"><img src=\"https://colab.research.google.com/assets/colab-badge.svg\" alt=\"Open In Colab\"/></a>"
      ]
    },
    {
      "cell_type": "markdown",
      "metadata": {
        "id": "YW8Jkg1RXXWw"
      },
      "source": [
        "This notebook contains the baseline models for Project [SAR](https://github.com/d0r1h/SAR), with sample dataset size of 2000\n",
        "\n",
        "\n",
        "|Model | Checkpoint | Rouge-2[f_score] | checkpoint_link | Inference time |\n",
        "|--- | --- | --- | --- | --- |\n",
        "|BART | ai4bharat/IndicBART | 21.48 | [🤗](https://huggingface.co/ai4bharat/IndicBART) | 20min 27s |\n",
        "|T5 | csebuetnlp/mT5_multilingual_XLSum | 20.21 | [🤗](https://huggingface.co/csebuetnlp/mT5_multilingual_XLSum) | 45min 54s|"
      ]
    },
    {
      "cell_type": "markdown",
      "metadata": {
        "id": "FDwRiLAXXXW1"
      },
      "source": [
        "#### **Installing dependencies**"
      ]
    },
    {
      "cell_type": "code",
      "execution_count": 1,
      "metadata": {
        "execution": {
          "iopub.execute_input": "2022-05-01T07:45:23.970073Z",
          "iopub.status.busy": "2022-05-01T07:45:23.969391Z",
          "iopub.status.idle": "2022-05-01T07:45:36.102927Z",
          "shell.execute_reply": "2022-05-01T07:45:36.102002Z",
          "shell.execute_reply.started": "2022-05-01T07:45:23.970021Z"
        },
        "colab": {
          "base_uri": "https://localhost:8080/"
        },
        "id": "ki_tenKaXXW2",
        "outputId": "011cb806-e25d-430c-dec2-1b533564c375"
      },
      "outputs": [
        {
          "output_type": "stream",
          "name": "stdout",
          "text": [
            "\u001b[?25l   \u001b[90m━━━━━━━━━━━━━━━━━━━━━━━━━━━━━━━━━━━━━━━━\u001b[0m \u001b[32m0.0/485.4 kB\u001b[0m \u001b[31m?\u001b[0m eta \u001b[36m-:--:--\u001b[0m\r\u001b[2K   \u001b[90m━━━━━━━━━━━━━━━━━━━━━━━━━━━━━━━━━━━━━━━━\u001b[0m \u001b[32m485.4/485.4 kB\u001b[0m \u001b[31m16.8 MB/s\u001b[0m eta \u001b[36m0:00:00\u001b[0m\n",
            "\u001b[?25h\u001b[?25l   \u001b[90m━━━━━━━━━━━━━━━━━━━━━━━━━━━━━━━━━━━━━━━━\u001b[0m \u001b[32m0.0/116.3 kB\u001b[0m \u001b[31m?\u001b[0m eta \u001b[36m-:--:--\u001b[0m\r\u001b[2K   \u001b[90m━━━━━━━━━━━━━━━━━━━━━━━━━━━━━━━━━━━━━━━━\u001b[0m \u001b[32m116.3/116.3 kB\u001b[0m \u001b[31m6.0 MB/s\u001b[0m eta \u001b[36m0:00:00\u001b[0m\n",
            "\u001b[?25h\u001b[?25l   \u001b[90m━━━━━━━━━━━━━━━━━━━━━━━━━━━━━━━━━━━━━━━━\u001b[0m \u001b[32m0.0/143.5 kB\u001b[0m \u001b[31m?\u001b[0m eta \u001b[36m-:--:--\u001b[0m\r\u001b[2K   \u001b[90m━━━━━━━━━━━━━━━━━━━━━━━━━━━━━━━━━━━━━━━━\u001b[0m \u001b[32m143.5/143.5 kB\u001b[0m \u001b[31m10.2 MB/s\u001b[0m eta \u001b[36m0:00:00\u001b[0m\n",
            "\u001b[?25h\u001b[?25l   \u001b[90m━━━━━━━━━━━━━━━━━━━━━━━━━━━━━━━━━━━━━━━━\u001b[0m \u001b[32m0.0/194.8 kB\u001b[0m \u001b[31m?\u001b[0m eta \u001b[36m-:--:--\u001b[0m\r\u001b[2K   \u001b[90m━━━━━━━━━━━━━━━━━━━━━━━━━━━━━━━━━━━━━━━━\u001b[0m \u001b[32m194.8/194.8 kB\u001b[0m \u001b[31m14.8 MB/s\u001b[0m eta \u001b[36m0:00:00\u001b[0m\n",
            "\u001b[?25h"
          ]
        }
      ],
      "source": [
        "!pip install transformers sentencepiece datasets rouge -qq"
      ]
    },
    {
      "cell_type": "markdown",
      "metadata": {
        "id": "1A4QAAVDXXW3"
      },
      "source": [
        "#### **Importing libraries**"
      ]
    },
    {
      "cell_type": "code",
      "execution_count": 2,
      "metadata": {
        "execution": {
          "iopub.execute_input": "2022-05-01T07:45:36.105676Z",
          "iopub.status.busy": "2022-05-01T07:45:36.105383Z",
          "iopub.status.idle": "2022-05-01T07:45:40.684209Z",
          "shell.execute_reply": "2022-05-01T07:45:40.683469Z",
          "shell.execute_reply.started": "2022-05-01T07:45:36.105636Z"
        },
        "colab": {
          "base_uri": "https://localhost:8080/",
          "height": 17
        },
        "id": "2xtt4P6CXXW3",
        "outputId": "c4ab7a15-64bc-429b-b2f2-1ef98bb2af6d"
      },
      "outputs": [
        {
          "output_type": "display_data",
          "data": {
            "text/html": [
              "        <script type=\"text/javascript\">\n",
              "        window.PlotlyConfig = {MathJaxConfig: 'local'};\n",
              "        if (window.MathJax && window.MathJax.Hub && window.MathJax.Hub.Config) {window.MathJax.Hub.Config({SVG: {font: \"STIX-Web\"}});}\n",
              "        if (typeof require !== 'undefined') {\n",
              "        require.undef(\"plotly\");\n",
              "        requirejs.config({\n",
              "            paths: {\n",
              "                'plotly': ['https://cdn.plot.ly/plotly-2.35.2.min']\n",
              "            }\n",
              "        });\n",
              "        require(['plotly'], function(Plotly) {\n",
              "            window._Plotly = Plotly;\n",
              "        });\n",
              "        }\n",
              "        </script>\n",
              "        "
            ]
          },
          "metadata": {}
        }
      ],
      "source": [
        "import torch\n",
        "import pandas as pd\n",
        "from rouge import Rouge\n",
        "from transformers import AutoModelForSeq2SeqLM, AutoTokenizer\n",
        "\n",
        "import plotly.express as px\n",
        "import matplotlib.pyplot as plt\n",
        "\n",
        "from plotly.offline import init_notebook_mode\n",
        "init_notebook_mode(connected=True)"
      ]
    },
    {
      "cell_type": "markdown",
      "metadata": {
        "id": "shLG5FmZXXW3"
      },
      "source": [
        "#### **Downloading the data**"
      ]
    },
    {
      "cell_type": "code",
      "execution_count": 3,
      "metadata": {
        "execution": {
          "iopub.execute_input": "2022-05-01T07:45:53.947285Z",
          "iopub.status.busy": "2022-05-01T07:45:53.947027Z",
          "iopub.status.idle": "2022-05-01T07:45:56.268032Z",
          "shell.execute_reply": "2022-05-01T07:45:56.267069Z",
          "shell.execute_reply.started": "2022-05-01T07:45:53.947257Z"
        },
        "id": "bvp6nzj_XXW4"
      },
      "outputs": [],
      "source": [
        "!wget https://raw.githubusercontent.com/d0r1h/SAR/main/dataset/SARsample.csv -q"
      ]
    },
    {
      "cell_type": "code",
      "execution_count": 4,
      "metadata": {
        "execution": {
          "iopub.execute_input": "2022-05-01T07:45:56.270152Z",
          "iopub.status.busy": "2022-05-01T07:45:56.269885Z",
          "iopub.status.idle": "2022-05-01T07:45:56.509584Z",
          "shell.execute_reply": "2022-05-01T07:45:56.508890Z",
          "shell.execute_reply.started": "2022-05-01T07:45:56.270115Z"
        },
        "id": "c3Ysre7iXXW4"
      },
      "outputs": [],
      "source": [
        "data = pd.read_csv(\"./SARsample.csv\")"
      ]
    },
    {
      "cell_type": "code",
      "execution_count": 5,
      "metadata": {
        "execution": {
          "iopub.execute_input": "2022-05-01T07:45:57.394663Z",
          "iopub.status.busy": "2022-05-01T07:45:57.394414Z",
          "iopub.status.idle": "2022-05-01T07:45:57.415937Z",
          "shell.execute_reply": "2022-05-01T07:45:57.415265Z",
          "shell.execute_reply.started": "2022-05-01T07:45:57.394635Z"
        },
        "colab": {
          "base_uri": "https://localhost:8080/",
          "height": 423
        },
        "id": "ASvLEMTKXXW4",
        "outputId": "f84d3193-077a-4ee7-fcac-60bbf89776f3"
      },
      "outputs": [
        {
          "output_type": "execute_result",
          "data": {
            "text/plain": [
              "                                                  title  \\\n",
              "0     लोकसभा चुनाव 2019: तन कर चलने वाली बीजेपी बिहा...   \n",
              "1     चैम्पियंस ट्रॉफी क्रिस गेल ने भारत पाकिस्तान क...   \n",
              "2      सरकार विरोधी प्रदर्शन बंद होने पर ही बातचीत स...   \n",
              "3      वहां शेव करनी चाहिए या नहीं ट्विंकल खन्ना ने ...   \n",
              "4        पैदल सड़क पार करने वाले हैं ट्रैफ़िक में बाधा?   \n",
              "...                                                 ...   \n",
              "1995  नोएडा नकल नहीं करवाई तो टीचर को लोहे की रॉड से...   \n",
              "1996  पाकिस्तान में दरगाह के मानसिक रूप से बीमार संर...   \n",
              "1997  पांच सप्ताह की तेजी के बाद शेयर बाजारों में आई...   \n",
              "1998  गोपनीयता कानून के तहत सजा काटने के बाद पाकिस्त...   \n",
              "1999  जजों के ख़िलाफ़ यौन उत्पीड़न की शिकायत नहीं सु...   \n",
              "\n",
              "                                                summary  \\\n",
              "0     बिहार में भारतीय जनता पार्टी (बीजेपी) अपने सहय...   \n",
              "1     क्रिस गेल ने कहा चैंपियंस ट्रॉफी में पाकिस्तान...   \n",
              "2     म्रिस्र के नवनियुक्त उप राष्ट्रपति उमर सुलेमान...   \n",
              "3     ट्विंकल खन्ना ने वजाइना से जुड़े कई सवालों के ...   \n",
              "4     दुनिया भर में ग़लत तरीके से सड़क पार करने पर ज...   \n",
              "...                                                 ...   \n",
              "1995  परीक्षा में नकल करते हुए पकड़े जाने पर गुस्साए...   \n",
              "1996  अलग अलग अधिकारियों ने घटना का अलग अलग कारण बता...   \n",
              "1997  पांच सप्ताह लगातार तेजी में रहने के बाद गत सप्...   \n",
              "1998  इसको 14 साल सश्रम कारावास की सजा सुनाई गई थी स...   \n",
              "1999  अदालतों पर ज़िम्मेदारी है महिलाओं के यौन उत्पी...   \n",
              "\n",
              "                                                   text  \n",
              "0     आगामी लोकसभा चुनाव में राज्य की कुल 40 सीटों म...  \n",
              "1     वेस्टइंडीज के आक्रामक बल्लेबाज क्रिस गेल ने कह...  \n",
              "2     म्रिस्र के नवनियुक्त उप राष्ट्रपति उमर सुलेमान...  \n",
              "3      अकसर अपने ट्वीट्स को लेकर चर्चा में रहने वाली...  \n",
              "4     कहा जाता है कि अमरीका में 1920 के दशक में मोटर...  \n",
              "...                                                 ...  \n",
              "1995  परीक्षा में नकल करते हुए पकड़े जाने पर गुस्साए...  \n",
              "1996  पाकिस्तान के पंजाब प्रांत में एक दरगाह के मानस...  \n",
              "1997  पांच सप्ताह लगातार तेजी में रहने के बाद गत सप्...  \n",
              "1998  तेलंगाना सरकार ने गोपनीयता कानून के तहत सजा का...  \n",
              "1999  मगर यह समिति किसी न्यायाधीश के ख़िलाफ़ यौन उत्...  \n",
              "\n",
              "[2000 rows x 3 columns]"
            ],
            "text/html": [
              "\n",
              "  <div id=\"df-6a6da200-9858-436e-9e02-0213c828492b\" class=\"colab-df-container\">\n",
              "    <div>\n",
              "<style scoped>\n",
              "    .dataframe tbody tr th:only-of-type {\n",
              "        vertical-align: middle;\n",
              "    }\n",
              "\n",
              "    .dataframe tbody tr th {\n",
              "        vertical-align: top;\n",
              "    }\n",
              "\n",
              "    .dataframe thead th {\n",
              "        text-align: right;\n",
              "    }\n",
              "</style>\n",
              "<table border=\"1\" class=\"dataframe\">\n",
              "  <thead>\n",
              "    <tr style=\"text-align: right;\">\n",
              "      <th></th>\n",
              "      <th>title</th>\n",
              "      <th>summary</th>\n",
              "      <th>text</th>\n",
              "    </tr>\n",
              "  </thead>\n",
              "  <tbody>\n",
              "    <tr>\n",
              "      <th>0</th>\n",
              "      <td>लोकसभा चुनाव 2019: तन कर चलने वाली बीजेपी बिहा...</td>\n",
              "      <td>बिहार में भारतीय जनता पार्टी (बीजेपी) अपने सहय...</td>\n",
              "      <td>आगामी लोकसभा चुनाव में राज्य की कुल 40 सीटों म...</td>\n",
              "    </tr>\n",
              "    <tr>\n",
              "      <th>1</th>\n",
              "      <td>चैम्पियंस ट्रॉफी क्रिस गेल ने भारत पाकिस्तान क...</td>\n",
              "      <td>क्रिस गेल ने कहा चैंपियंस ट्रॉफी में पाकिस्तान...</td>\n",
              "      <td>वेस्टइंडीज के आक्रामक बल्लेबाज क्रिस गेल ने कह...</td>\n",
              "    </tr>\n",
              "    <tr>\n",
              "      <th>2</th>\n",
              "      <td>सरकार विरोधी प्रदर्शन बंद होने पर ही बातचीत स...</td>\n",
              "      <td>म्रिस्र के नवनियुक्त उप राष्ट्रपति उमर सुलेमान...</td>\n",
              "      <td>म्रिस्र के नवनियुक्त उप राष्ट्रपति उमर सुलेमान...</td>\n",
              "    </tr>\n",
              "    <tr>\n",
              "      <th>3</th>\n",
              "      <td>वहां शेव करनी चाहिए या नहीं ट्विंकल खन्ना ने ...</td>\n",
              "      <td>ट्विंकल खन्ना ने वजाइना से जुड़े कई सवालों के ...</td>\n",
              "      <td>अकसर अपने ट्वीट्स को लेकर चर्चा में रहने वाली...</td>\n",
              "    </tr>\n",
              "    <tr>\n",
              "      <th>4</th>\n",
              "      <td>पैदल सड़क पार करने वाले हैं ट्रैफ़िक में बाधा?</td>\n",
              "      <td>दुनिया भर में ग़लत तरीके से सड़क पार करने पर ज...</td>\n",
              "      <td>कहा जाता है कि अमरीका में 1920 के दशक में मोटर...</td>\n",
              "    </tr>\n",
              "    <tr>\n",
              "      <th>...</th>\n",
              "      <td>...</td>\n",
              "      <td>...</td>\n",
              "      <td>...</td>\n",
              "    </tr>\n",
              "    <tr>\n",
              "      <th>1995</th>\n",
              "      <td>नोएडा नकल नहीं करवाई तो टीचर को लोहे की रॉड से...</td>\n",
              "      <td>परीक्षा में नकल करते हुए पकड़े जाने पर गुस्साए...</td>\n",
              "      <td>परीक्षा में नकल करते हुए पकड़े जाने पर गुस्साए...</td>\n",
              "    </tr>\n",
              "    <tr>\n",
              "      <th>1996</th>\n",
              "      <td>पाकिस्तान में दरगाह के मानसिक रूप से बीमार संर...</td>\n",
              "      <td>अलग अलग अधिकारियों ने घटना का अलग अलग कारण बता...</td>\n",
              "      <td>पाकिस्तान के पंजाब प्रांत में एक दरगाह के मानस...</td>\n",
              "    </tr>\n",
              "    <tr>\n",
              "      <th>1997</th>\n",
              "      <td>पांच सप्ताह की तेजी के बाद शेयर बाजारों में आई...</td>\n",
              "      <td>पांच सप्ताह लगातार तेजी में रहने के बाद गत सप्...</td>\n",
              "      <td>पांच सप्ताह लगातार तेजी में रहने के बाद गत सप्...</td>\n",
              "    </tr>\n",
              "    <tr>\n",
              "      <th>1998</th>\n",
              "      <td>गोपनीयता कानून के तहत सजा काटने के बाद पाकिस्त...</td>\n",
              "      <td>इसको 14 साल सश्रम कारावास की सजा सुनाई गई थी स...</td>\n",
              "      <td>तेलंगाना सरकार ने गोपनीयता कानून के तहत सजा का...</td>\n",
              "    </tr>\n",
              "    <tr>\n",
              "      <th>1999</th>\n",
              "      <td>जजों के ख़िलाफ़ यौन उत्पीड़न की शिकायत नहीं सु...</td>\n",
              "      <td>अदालतों पर ज़िम्मेदारी है महिलाओं के यौन उत्पी...</td>\n",
              "      <td>मगर यह समिति किसी न्यायाधीश के ख़िलाफ़ यौन उत्...</td>\n",
              "    </tr>\n",
              "  </tbody>\n",
              "</table>\n",
              "<p>2000 rows × 3 columns</p>\n",
              "</div>\n",
              "    <div class=\"colab-df-buttons\">\n",
              "\n",
              "  <div class=\"colab-df-container\">\n",
              "    <button class=\"colab-df-convert\" onclick=\"convertToInteractive('df-6a6da200-9858-436e-9e02-0213c828492b')\"\n",
              "            title=\"Convert this dataframe to an interactive table.\"\n",
              "            style=\"display:none;\">\n",
              "\n",
              "  <svg xmlns=\"http://www.w3.org/2000/svg\" height=\"24px\" viewBox=\"0 -960 960 960\">\n",
              "    <path d=\"M120-120v-720h720v720H120Zm60-500h600v-160H180v160Zm220 220h160v-160H400v160Zm0 220h160v-160H400v160ZM180-400h160v-160H180v160Zm440 0h160v-160H620v160ZM180-180h160v-160H180v160Zm440 0h160v-160H620v160Z\"/>\n",
              "  </svg>\n",
              "    </button>\n",
              "\n",
              "  <style>\n",
              "    .colab-df-container {\n",
              "      display:flex;\n",
              "      gap: 12px;\n",
              "    }\n",
              "\n",
              "    .colab-df-convert {\n",
              "      background-color: #E8F0FE;\n",
              "      border: none;\n",
              "      border-radius: 50%;\n",
              "      cursor: pointer;\n",
              "      display: none;\n",
              "      fill: #1967D2;\n",
              "      height: 32px;\n",
              "      padding: 0 0 0 0;\n",
              "      width: 32px;\n",
              "    }\n",
              "\n",
              "    .colab-df-convert:hover {\n",
              "      background-color: #E2EBFA;\n",
              "      box-shadow: 0px 1px 2px rgba(60, 64, 67, 0.3), 0px 1px 3px 1px rgba(60, 64, 67, 0.15);\n",
              "      fill: #174EA6;\n",
              "    }\n",
              "\n",
              "    .colab-df-buttons div {\n",
              "      margin-bottom: 4px;\n",
              "    }\n",
              "\n",
              "    [theme=dark] .colab-df-convert {\n",
              "      background-color: #3B4455;\n",
              "      fill: #D2E3FC;\n",
              "    }\n",
              "\n",
              "    [theme=dark] .colab-df-convert:hover {\n",
              "      background-color: #434B5C;\n",
              "      box-shadow: 0px 1px 3px 1px rgba(0, 0, 0, 0.15);\n",
              "      filter: drop-shadow(0px 1px 2px rgba(0, 0, 0, 0.3));\n",
              "      fill: #FFFFFF;\n",
              "    }\n",
              "  </style>\n",
              "\n",
              "    <script>\n",
              "      const buttonEl =\n",
              "        document.querySelector('#df-6a6da200-9858-436e-9e02-0213c828492b button.colab-df-convert');\n",
              "      buttonEl.style.display =\n",
              "        google.colab.kernel.accessAllowed ? 'block' : 'none';\n",
              "\n",
              "      async function convertToInteractive(key) {\n",
              "        const element = document.querySelector('#df-6a6da200-9858-436e-9e02-0213c828492b');\n",
              "        const dataTable =\n",
              "          await google.colab.kernel.invokeFunction('convertToInteractive',\n",
              "                                                    [key], {});\n",
              "        if (!dataTable) return;\n",
              "\n",
              "        const docLinkHtml = 'Like what you see? Visit the ' +\n",
              "          '<a target=\"_blank\" href=https://colab.research.google.com/notebooks/data_table.ipynb>data table notebook</a>'\n",
              "          + ' to learn more about interactive tables.';\n",
              "        element.innerHTML = '';\n",
              "        dataTable['output_type'] = 'display_data';\n",
              "        await google.colab.output.renderOutput(dataTable, element);\n",
              "        const docLink = document.createElement('div');\n",
              "        docLink.innerHTML = docLinkHtml;\n",
              "        element.appendChild(docLink);\n",
              "      }\n",
              "    </script>\n",
              "  </div>\n",
              "\n",
              "\n",
              "<div id=\"df-25952ff4-976f-4505-bbfd-6ad525e9b192\">\n",
              "  <button class=\"colab-df-quickchart\" onclick=\"quickchart('df-25952ff4-976f-4505-bbfd-6ad525e9b192')\"\n",
              "            title=\"Suggest charts\"\n",
              "            style=\"display:none;\">\n",
              "\n",
              "<svg xmlns=\"http://www.w3.org/2000/svg\" height=\"24px\"viewBox=\"0 0 24 24\"\n",
              "     width=\"24px\">\n",
              "    <g>\n",
              "        <path d=\"M19 3H5c-1.1 0-2 .9-2 2v14c0 1.1.9 2 2 2h14c1.1 0 2-.9 2-2V5c0-1.1-.9-2-2-2zM9 17H7v-7h2v7zm4 0h-2V7h2v10zm4 0h-2v-4h2v4z\"/>\n",
              "    </g>\n",
              "</svg>\n",
              "  </button>\n",
              "\n",
              "<style>\n",
              "  .colab-df-quickchart {\n",
              "      --bg-color: #E8F0FE;\n",
              "      --fill-color: #1967D2;\n",
              "      --hover-bg-color: #E2EBFA;\n",
              "      --hover-fill-color: #174EA6;\n",
              "      --disabled-fill-color: #AAA;\n",
              "      --disabled-bg-color: #DDD;\n",
              "  }\n",
              "\n",
              "  [theme=dark] .colab-df-quickchart {\n",
              "      --bg-color: #3B4455;\n",
              "      --fill-color: #D2E3FC;\n",
              "      --hover-bg-color: #434B5C;\n",
              "      --hover-fill-color: #FFFFFF;\n",
              "      --disabled-bg-color: #3B4455;\n",
              "      --disabled-fill-color: #666;\n",
              "  }\n",
              "\n",
              "  .colab-df-quickchart {\n",
              "    background-color: var(--bg-color);\n",
              "    border: none;\n",
              "    border-radius: 50%;\n",
              "    cursor: pointer;\n",
              "    display: none;\n",
              "    fill: var(--fill-color);\n",
              "    height: 32px;\n",
              "    padding: 0;\n",
              "    width: 32px;\n",
              "  }\n",
              "\n",
              "  .colab-df-quickchart:hover {\n",
              "    background-color: var(--hover-bg-color);\n",
              "    box-shadow: 0 1px 2px rgba(60, 64, 67, 0.3), 0 1px 3px 1px rgba(60, 64, 67, 0.15);\n",
              "    fill: var(--button-hover-fill-color);\n",
              "  }\n",
              "\n",
              "  .colab-df-quickchart-complete:disabled,\n",
              "  .colab-df-quickchart-complete:disabled:hover {\n",
              "    background-color: var(--disabled-bg-color);\n",
              "    fill: var(--disabled-fill-color);\n",
              "    box-shadow: none;\n",
              "  }\n",
              "\n",
              "  .colab-df-spinner {\n",
              "    border: 2px solid var(--fill-color);\n",
              "    border-color: transparent;\n",
              "    border-bottom-color: var(--fill-color);\n",
              "    animation:\n",
              "      spin 1s steps(1) infinite;\n",
              "  }\n",
              "\n",
              "  @keyframes spin {\n",
              "    0% {\n",
              "      border-color: transparent;\n",
              "      border-bottom-color: var(--fill-color);\n",
              "      border-left-color: var(--fill-color);\n",
              "    }\n",
              "    20% {\n",
              "      border-color: transparent;\n",
              "      border-left-color: var(--fill-color);\n",
              "      border-top-color: var(--fill-color);\n",
              "    }\n",
              "    30% {\n",
              "      border-color: transparent;\n",
              "      border-left-color: var(--fill-color);\n",
              "      border-top-color: var(--fill-color);\n",
              "      border-right-color: var(--fill-color);\n",
              "    }\n",
              "    40% {\n",
              "      border-color: transparent;\n",
              "      border-right-color: var(--fill-color);\n",
              "      border-top-color: var(--fill-color);\n",
              "    }\n",
              "    60% {\n",
              "      border-color: transparent;\n",
              "      border-right-color: var(--fill-color);\n",
              "    }\n",
              "    80% {\n",
              "      border-color: transparent;\n",
              "      border-right-color: var(--fill-color);\n",
              "      border-bottom-color: var(--fill-color);\n",
              "    }\n",
              "    90% {\n",
              "      border-color: transparent;\n",
              "      border-bottom-color: var(--fill-color);\n",
              "    }\n",
              "  }\n",
              "</style>\n",
              "\n",
              "  <script>\n",
              "    async function quickchart(key) {\n",
              "      const quickchartButtonEl =\n",
              "        document.querySelector('#' + key + ' button');\n",
              "      quickchartButtonEl.disabled = true;  // To prevent multiple clicks.\n",
              "      quickchartButtonEl.classList.add('colab-df-spinner');\n",
              "      try {\n",
              "        const charts = await google.colab.kernel.invokeFunction(\n",
              "            'suggestCharts', [key], {});\n",
              "      } catch (error) {\n",
              "        console.error('Error during call to suggestCharts:', error);\n",
              "      }\n",
              "      quickchartButtonEl.classList.remove('colab-df-spinner');\n",
              "      quickchartButtonEl.classList.add('colab-df-quickchart-complete');\n",
              "    }\n",
              "    (() => {\n",
              "      let quickchartButtonEl =\n",
              "        document.querySelector('#df-25952ff4-976f-4505-bbfd-6ad525e9b192 button');\n",
              "      quickchartButtonEl.style.display =\n",
              "        google.colab.kernel.accessAllowed ? 'block' : 'none';\n",
              "    })();\n",
              "  </script>\n",
              "</div>\n",
              "\n",
              "  <div id=\"id_4b55d379-e3bc-4874-8cd6-f441c059c9bf\">\n",
              "    <style>\n",
              "      .colab-df-generate {\n",
              "        background-color: #E8F0FE;\n",
              "        border: none;\n",
              "        border-radius: 50%;\n",
              "        cursor: pointer;\n",
              "        display: none;\n",
              "        fill: #1967D2;\n",
              "        height: 32px;\n",
              "        padding: 0 0 0 0;\n",
              "        width: 32px;\n",
              "      }\n",
              "\n",
              "      .colab-df-generate:hover {\n",
              "        background-color: #E2EBFA;\n",
              "        box-shadow: 0px 1px 2px rgba(60, 64, 67, 0.3), 0px 1px 3px 1px rgba(60, 64, 67, 0.15);\n",
              "        fill: #174EA6;\n",
              "      }\n",
              "\n",
              "      [theme=dark] .colab-df-generate {\n",
              "        background-color: #3B4455;\n",
              "        fill: #D2E3FC;\n",
              "      }\n",
              "\n",
              "      [theme=dark] .colab-df-generate:hover {\n",
              "        background-color: #434B5C;\n",
              "        box-shadow: 0px 1px 3px 1px rgba(0, 0, 0, 0.15);\n",
              "        filter: drop-shadow(0px 1px 2px rgba(0, 0, 0, 0.3));\n",
              "        fill: #FFFFFF;\n",
              "      }\n",
              "    </style>\n",
              "    <button class=\"colab-df-generate\" onclick=\"generateWithVariable('data')\"\n",
              "            title=\"Generate code using this dataframe.\"\n",
              "            style=\"display:none;\">\n",
              "\n",
              "  <svg xmlns=\"http://www.w3.org/2000/svg\" height=\"24px\"viewBox=\"0 0 24 24\"\n",
              "       width=\"24px\">\n",
              "    <path d=\"M7,19H8.4L18.45,9,17,7.55,7,17.6ZM5,21V16.75L18.45,3.32a2,2,0,0,1,2.83,0l1.4,1.43a1.91,1.91,0,0,1,.58,1.4,1.91,1.91,0,0,1-.58,1.4L9.25,21ZM18.45,9,17,7.55Zm-12,3A5.31,5.31,0,0,0,4.9,8.1,5.31,5.31,0,0,0,1,6.5,5.31,5.31,0,0,0,4.9,4.9,5.31,5.31,0,0,0,6.5,1,5.31,5.31,0,0,0,8.1,4.9,5.31,5.31,0,0,0,12,6.5,5.46,5.46,0,0,0,6.5,12Z\"/>\n",
              "  </svg>\n",
              "    </button>\n",
              "    <script>\n",
              "      (() => {\n",
              "      const buttonEl =\n",
              "        document.querySelector('#id_4b55d379-e3bc-4874-8cd6-f441c059c9bf button.colab-df-generate');\n",
              "      buttonEl.style.display =\n",
              "        google.colab.kernel.accessAllowed ? 'block' : 'none';\n",
              "\n",
              "      buttonEl.onclick = () => {\n",
              "        google.colab.notebook.generateWithVariable('data');\n",
              "      }\n",
              "      })();\n",
              "    </script>\n",
              "  </div>\n",
              "\n",
              "    </div>\n",
              "  </div>\n"
            ],
            "application/vnd.google.colaboratory.intrinsic+json": {
              "type": "dataframe",
              "variable_name": "data",
              "summary": "{\n  \"name\": \"data\",\n  \"rows\": 2000,\n  \"fields\": [\n    {\n      \"column\": \"title\",\n      \"properties\": {\n        \"dtype\": \"string\",\n        \"num_unique_values\": 2000,\n        \"samples\": [\n          \"\\u092e\\u0941\\u0932\\u093e\\u092f\\u092e \\u0938\\u093f\\u0902\\u0939 \\u0915\\u0940 \\u092e\\u0941\\u0936\\u094d\\u0915\\u093f\\u0932\\u0947\\u0902\",\n          \"\\u0921\\u0949\\u0915\\u094d\\u091f\\u0930 \\u0917\\u0923\\u0947\\u0936 \\u0930\\u0916 \\u0915\\u094d\\u092f\\u094b\\u0902 \\u0915\\u0930\\u093e\\u0924\\u0947 \\u0939\\u0948\\u0902 \\u092e\\u0941\\u092b\\u093c\\u094d\\u0924 \\u092a\\u094d\\u0930\\u0938\\u0935?\",\n          \"\\u0930\\u093e\\u092e \\u0938\\u0947\\u0924\\u0941 \\u0915\\u094b \\u0930\\u093e\\u0937\\u094d\\u091f\\u094d\\u0930\\u0940\\u092f \\u0938\\u094d\\u092e\\u093e\\u0930\\u0915 \\u0918\\u094b\\u0937\\u093f\\u0924 \\u0915\\u0930\\u0947\\u0902 \\u091c\\u092f\\u0932\\u0932\\u093f\\u0924\\u093e \"\n        ],\n        \"semantic_type\": \"\",\n        \"description\": \"\"\n      }\n    },\n    {\n      \"column\": \"summary\",\n      \"properties\": {\n        \"dtype\": \"string\",\n        \"num_unique_values\": 1998,\n        \"samples\": [\n          \"\\u091c\\u092e\\u094d\\u092e\\u0942-\\u0915\\u0936\\u094d\\u092e\\u0940\\u0930 \\u0915\\u093e \\u0935\\u093f\\u0936\\u0947\\u0937 \\u0926\\u0930\\u094d\\u091c\\u093e \\u0935\\u093e\\u092a\\u0938 \\u0932\\u093f\\u090f \\u091c\\u093e\\u0928\\u0947 \\u0915\\u0947 \\u092c\\u093e\\u0926 \\u092c\\u0940\\u091c\\u0947\\u092a\\u0940 \\u0915\\u094b \\u091b\\u094b\\u0921\\u093c\\u0915\\u0930 \\u0915\\u0947\\u0902\\u0926\\u094d\\u0930 \\u0936\\u093e\\u0938\\u093f\\u0924 \\u092a\\u094d\\u0930\\u0926\\u0947\\u0936 \\u0915\\u0947 \\u092a\\u094d\\u0930\\u092e\\u0941\\u0916 \\u0930\\u093e\\u091c\\u0928\\u0940\\u0924\\u093f\\u0915 \\u0926\\u0932 \\u0936\\u0928\\u093f\\u0935\\u093e\\u0930 \\u0915\\u094b \\u090f\\u0915 \\u0938\\u093e\\u0925 \\u0906\\u090f \\u0914\\u0930 \\u0905\\u0928\\u0941\\u091a\\u094d\\u091b\\u0947\\u0926-370 \\u0915\\u094b \\u092b\\u093f\\u0930 \\u0938\\u0947 \\u092c\\u0939\\u093e\\u0932 \\u0915\\u0930\\u0928\\u0947 \\u0915\\u094b \\u0932\\u0947\\u0915\\u0930 \\u092c\\u092f\\u093e\\u0928 \\u091c\\u093e\\u0930\\u0940 \\u0915\\u093f\\u092f\\u093e. \\u092c\\u092f\\u093e\\u0928 \\u092e\\u0947\\u0902 \\u0915\\u0939\\u093e \\u0917\\u092f\\u093e \\u0939\\u0948 \\u0915\\u093f \\u0935\\u094b \\u0907\\u0938\\u0915\\u094b \\u0932\\u0947\\u0915\\u0930 \\u0938\\u0902\\u0918\\u0930\\u094d\\u0937 \\u0915\\u0930\\u0947\\u0902\\u0917\\u0947.\",\n          \"\\u0926\\u0941\\u0928\\u093f\\u092f\\u093e \\u0915\\u0940 \\u0938\\u092c\\u0938\\u0947 \\u0909\\u092e\\u094d\\u0930\\u0926\\u0930\\u093e\\u091c\\u093c \\u092c\\u094d\\u0932\\u0949\\u0917\\u0930 108 \\u0935\\u0930\\u094d\\u0937 \\u0915\\u0940 \\u0913\\u0932\\u093f\\u0935 \\u0930\\u093f\\u0932\\u0947 \\u0915\\u093e \\u0926\\u0947\\u0939\\u093e\\u0902\\u0924 \\u0939\\u094b \\u0917\\u092f\\u093e \\u0939\\u0948. \\u0935\\u0947 \\u0911\\u0938\\u094d\\u091f\\u094d\\u0930\\u0947\\u0932\\u093f\\u092f\\u093e \\u0915\\u0940 \\u0930\\u0939\\u0928\\u0947 \\u0935\\u093e\\u0932\\u0940 \\u0925\\u0940\\u0902.\",\n          \"\\u092c\\u0940. \\u091a\\u0902\\u0926\\u094d\\u0930\\u0915\\u0932\\u093e \\u0928\\u0947 \\u0932\\u093f\\u0902\\u0915\\u0921\\u093f\\u0928 \\u092a\\u0930 \\u0915\\u0935\\u093f\\u0924\\u093e \\u0938\\u093e\\u091d\\u093e \\u0915\\u0940 \\u0939\\u0948 \\u0909\\u0928\\u094d\\u0939\\u094b\\u0902\\u0928\\u0947 \\u0932\\u093f\\u0916\\u093e \\u0915\\u093f \\u091b\\u093e\\u092a\\u093e \\u091c\\u093e\\u0902\\u091a \\u0915\\u0940 \\u092a\\u094d\\u0930\\u0915\\u094d\\u0930\\u093f\\u092f\\u093e \\u0915\\u093e \\u0939\\u093f\\u0938\\u094d\\u0938\\u093e \\u0939\\u0948 \\u0905\\u0935\\u0948\\u0927 \\u0916\\u0928\\u0928 \\u092e\\u093e\\u092e\\u0932\\u0947 \\u092e\\u0947\\u0902 \\u091a\\u0902\\u0926\\u094d\\u0930\\u0915\\u0932\\u093e \\u092a\\u0930 \\u0938\\u0940\\u092c\\u0940\\u0906\\u0908 \\u0928\\u0947 \\u091b\\u093e\\u092a\\u093e \\u092e\\u093e\\u0930\\u093e \\u0925\\u093e\"\n        ],\n        \"semantic_type\": \"\",\n        \"description\": \"\"\n      }\n    },\n    {\n      \"column\": \"text\",\n      \"properties\": {\n        \"dtype\": \"string\",\n        \"num_unique_values\": 2000,\n        \"samples\": [\n          \"\\u0928\\u093f\\u0920\\u093e\\u0930\\u0940 \\u0938\\u0947 \\u0938\\u0902\\u092c\\u0902\\u0927\\u093f\\u0924 \\u0916\\u093c\\u092c\\u0930 \\u0939\\u094b \\u092f\\u093e \\u092b\\u093f\\u0930 \\u0930\\u093e\\u091c\\u0927\\u093e\\u0928\\u0940 \\u0932\\u0916\\u0928\\u090a \\u092f\\u093e \\u0905\\u0928\\u094d\\u092f \\u0936\\u0939\\u0930\\u094b\\u0902 \\u092e\\u0947\\u0902 \\u0939\\u094b \\u0930\\u0939\\u0947 \\u0924\\u093e\\u092c\\u0921\\u093c\\u0924\\u094b\\u0921\\u093c \\u091c\\u0918\\u0928\\u094d\\u092f \\u0905\\u092a\\u0930\\u093e\\u0927, \\u092f\\u0939 \\u092a\\u0902\\u0915\\u094d\\u0924\\u093f \\u0910\\u0938\\u0947 \\u0938\\u092e\\u093e\\u091a\\u093e\\u0930\\u094b\\u0902 \\u092e\\u0947\\u0902 \\u092a\\u093f\\u0930\\u094b\\u0908 \\u0939\\u0941\\u0908 \\u0916\\u0942\\u092c \\u092b\\u092c\\u0924\\u0940 \\u0939\\u0948. \\u0907\\u0924\\u0928\\u093e \\u0939\\u0940 \\u092e\\u0941\\u0916\\u094d\\u092f\\u092e\\u0902\\u0924\\u094d\\u0930\\u0940 \\u092e\\u0941\\u0932\\u093e\\u092f\\u092e \\u0938\\u093f\\u0902\\u0939 \\u092f\\u093e\\u0926\\u0935 \\u0915\\u094b \\u092c\\u094c\\u0916\\u0932\\u093e \\u0926\\u0947\\u0928\\u0947 \\u0915\\u0947 \\u0932\\u093f\\u090f \\u0915\\u093e\\u092b\\u093c\\u0940 \\u0939\\u0948. \\u0906\\u092e\\u0924\\u094c\\u0930 \\u092a\\u0930 \\u092e\\u0940\\u0921\\u093f\\u092f\\u093e \\u0938\\u0947 \\u0909\\u0924\\u094d\\u0924\\u092e \\u091c\\u0928\\u0938\\u0902\\u092a\\u0930\\u094d\\u0915 \\u0930\\u0916\\u0928\\u0947 \\u0935\\u093e\\u0932\\u0947 \\u092e\\u0941\\u0932\\u093e\\u092f\\u092e \\u0938\\u093f\\u0902\\u0939 \\u0906\\u091c\\u0915\\u0932 \\u0916\\u093e\\u0938\\u0947 \\u091a\\u093f\\u0921\\u093c\\u091a\\u093f\\u0921\\u093c\\u0947 \\u0928\\u091c\\u093c\\u0930 \\u0906\\u0924\\u0947 \\u0939\\u0948\\u0902. \\u0938\\u0935\\u093e\\u0932 \\u0938\\u0947 \\u0939\\u0932\\u094d\\u0915\\u0940 \\u0938\\u0940 \\u092d\\u0940 \\u091a\\u0941\\u092d\\u0928 \\u0939\\u0941\\u0908 \\u092d\\u0930 \\u092e\\u0941\\u0932\\u093e\\u092f\\u092e \\u092c\\u0938 \\u092a\\u0932\\u0915 \\u091d\\u092a\\u0915\\u0924\\u0947 \\u092c\\u093f\\u0926\\u0915 \\u091c\\u093e\\u0924\\u0947 \\u0939\\u0948\\u0902. \\u2018\\u0915\\u093e\\u0901\\u0917\\u094d\\u0930\\u0947\\u0938 \\u0915\\u0940 \\u0939\\u093f\\u092e\\u094d\\u092e\\u0924 \\u0939\\u094b \\u0924\\u094b...\\u2019 \\u092f\\u093e \\u2018\\u092e\\u0947\\u0930\\u0940 \\u0938\\u0930\\u0915\\u093e\\u0930 \\u0917\\u093f\\u0930\\u093e\\u0928\\u0947 \\u0915\\u0940 \\u0935\\u093f\\u0926\\u0947\\u0936\\u0940 \\u0938\\u093e\\u091c\\u093f\\u0936 \\u0925\\u0940\\u2019 \\u091c\\u0948\\u0938\\u0947 \\u092c\\u093f\\u0928 \\u0938\\u093f\\u0930-\\u092a\\u0948\\u0930 \\u0915\\u0947 \\u092c\\u092f\\u093e\\u0928\\u094b\\u0902 \\u0915\\u0940 \\u091d\\u0921\\u093c\\u0940 \\u0932\\u0917 \\u091c\\u093e\\u0924\\u0940 \\u0939\\u0948. \\u0905\\u0938\\u0932 \\u092e\\u0947\\u0902 \\u0910\\u0928 \\u091a\\u0941\\u0928\\u093e\\u0935 \\u0915\\u0947 \\u092e\\u094c\\u0915\\u093c\\u0947 \\u092a\\u0930 \\u0924\\u0947\\u091c\\u093c\\u0940 \\u0938\\u0947 \\u092c\\u0926\\u0932\\u0940 \\u0938\\u094d\\u0925\\u093f\\u0924\\u093f\\u092f\\u094b\\u0902 \\u0928\\u0947 \\u092e\\u0941\\u0932\\u093e\\u092f\\u092e \\u0915\\u094b \\u091d\\u0915\\u091d\\u094b\\u0930 \\u0915\\u0947 \\u0930\\u0916 \\u0926\\u093f\\u092f\\u093e \\u0939\\u0948. \\u092a\\u093f\\u091b\\u0932\\u0947 \\u0935\\u0930\\u094d\\u0937 \\u091c\\u0941\\u0932\\u093e\\u0908 \\u0938\\u0947 \\u0939\\u0940 \\u0938\\u092e\\u093e\\u091c\\u0935\\u093e\\u0926\\u0940 \\u092a\\u093e\\u0930\\u094d\\u091f\\u0940 \\u0915\\u0947 \\u0930\\u093e\\u0937\\u094d\\u091f\\u094d\\u0930\\u0940\\u092f \\u0905\\u0927\\u094d\\u092f\\u0915\\u094d\\u0937 \\u0928\\u0947 \\u2018\\u0936\\u0947\\u0930 \\u0906\\u092f\\u093e\\u2019 \\u091a\\u093f\\u0932\\u094d\\u0932\\u093e\\u0928\\u093e \\u0936\\u0941\\u0930\\u0942 \\u0915\\u0930 \\u0926\\u093f\\u092f\\u093e \\u0925\\u093e. \\u092e\\u0941\\u0932\\u093e\\u092f\\u092e \\u0938\\u093f\\u0902\\u0939 \\u0914\\u0930 \\u0909\\u0928\\u0915\\u0947 \\u0930\\u0923\\u0928\\u0940\\u0924\\u093f\\u091c\\u094d\\u091e\\u094b\\u0902 \\u0915\\u094b \\u092a\\u0942\\u0930\\u0940 \\u0909\\u092e\\u094d\\u092e\\u0940\\u0926 \\u0925\\u0940 \\u0915\\u093f \\u091a\\u0941\\u0928\\u093e\\u0935 \\u0938\\u0947 \\u092a\\u0942\\u0930\\u094d\\u0935 \\u0915\\u093e\\u0901\\u0917\\u094d\\u0930\\u0947\\u0938 \\u0909\\u0928\\u0915\\u0940 \\u0938\\u0930\\u0915\\u093e\\u0930 \\u0915\\u094b \\u0917\\u093f\\u0930\\u093e \\u0926\\u0947\\u0917\\u0940. \\u0907\\u0938\\u0940 \\u092a\\u0947\\u0936\\u092c\\u0902\\u0926\\u0940 \\u092e\\u0947\\u0902 \\u0909\\u0928\\u094d\\u0939\\u094b\\u0902\\u0928\\u0947 \\u0905\\u0917\\u0938\\u094d\\u0924 2006 \\u0938\\u0947 \\u0932\\u0917\\u093e\\u0924\\u093e\\u0930 \\u0938\\u093e\\u0922\\u093c\\u0947 \\u091a\\u093e\\u0930 \\u092e\\u093e\\u0939 \\u0935\\u093f\\u0927\\u093e\\u0928\\u0938\\u092d\\u093e \\u091a\\u0932\\u093e\\u0915\\u0930 \\u090f\\u0915 \\u0930\\u093f\\u0915\\u0949\\u0930\\u094d\\u0921 \\u0915\\u093e\\u092f\\u092e \\u0915\\u093f\\u092f\\u093e. \\u0907\\u0938\\u0940 \\u092c\\u0940\\u091a \\u092e\\u0941\\u0932\\u093e\\u092f\\u092e \\u0928\\u0947 13 \\u092c\\u093e\\u0930 \\u0935\\u093f\\u0936\\u094d\\u0935\\u093e\\u0938\\u092e\\u0924 \\u092a\\u094d\\u0930\\u093e\\u092a\\u094d\\u0924 \\u0915\\u0930 \\u090f\\u0915 \\u0935\\u093f\\u091a\\u093f\\u0924\\u094d\\u0930 \\u092e\\u093f\\u0938\\u093e\\u0932 \\u092d\\u0940 \\u092a\\u0947\\u0936 \\u0915\\u0940. \\u092a\\u0942\\u0930\\u0940 \\u0909\\u092e\\u094d\\u092e\\u0940\\u0926 \\u0925\\u0940 \\u0915\\u093f \\u0938\\u0930\\u0915\\u093e\\u0930 \\u0917\\u093f\\u0930\\u0928\\u0947 \\u0938\\u0947 \\u090f\\u0915 \\u091c\\u093c\\u092c\\u0930\\u094d\\u0926\\u0938\\u094d\\u0924 \\u0938\\u0939\\u093e\\u0928\\u0941\\u092d\\u0942\\u0924\\u093f \\u0932\\u0939\\u0930 \\u0909\\u0920\\u0947\\u0917\\u0940 \\u091c\\u094b \\u0938\\u093e\\u0922\\u093c\\u0947 \\u0924\\u0940\\u0928 \\u0938\\u093e\\u0932 \\u0915\\u0947 \\u0936\\u093e\\u0938\\u0928\\u0915\\u093e\\u0932 \\u0915\\u0947 \\u0926\\u094c\\u0930\\u093e\\u0928 \\u0909\\u0924\\u094d\\u092a\\u0928\\u094d\\u0928 \\u0939\\u0941\\u090f \\u0905\\u0902\\u0924\\u0930\\u094d\\u0935\\u093f\\u0930\\u094b\\u0927, \\u0916\\u0938\\u094d\\u0924\\u093e\\u0939\\u093e\\u0932 \\u0915\\u093c\\u093e\\u0928\\u0942\\u0928 \\u0935\\u094d\\u092f\\u0935\\u0938\\u094d\\u0925\\u093e, \\u0932\\u091a\\u0930 \\u092a\\u094d\\u0930\\u0936\\u093e\\u0938\\u0928 \\u0914\\u0930 \\u092c\\u0922\\u093c\\u0924\\u0947 \\u092d\\u094d\\u0930\\u0937\\u094d\\u091f\\u093e\\u091a\\u093e\\u0930 \\u0915\\u094b \\u0927\\u094b-\\u092a\\u094b\\u0902\\u091b \\u0915\\u0930 \\u092a\\u093e\\u0930\\u094d\\u091f\\u0940 \\u0915\\u094b \\u090f\\u0915 \\u092c\\u093e\\u0930 \\u092b\\u093f\\u0930 \\u0928\\u092f\\u093e \\u091c\\u0940\\u0935\\u0928\\u0926\\u093e\\u0928 \\u0926\\u0947\\u0917\\u0940. \\u092c\\u0922\\u093c\\u0924\\u0940 \\u092c\\u0947\\u091a\\u0948\\u0928\\u0940 \\u091c\\u092c \\u0928\\u094c \\u091c\\u0928\\u0935\\u0930\\u0940 \\u0915\\u094b \\u0930\\u093e\\u0937\\u094d\\u091f\\u094d\\u0930\\u0940\\u092f \\u0932\\u094b\\u0915\\u0926\\u0932 \\u0915\\u0947 \\u092e\\u0902\\u0924\\u094d\\u0930\\u093f\\u092f\\u094b\\u0902 \\u0928\\u0947 \\u0938\\u0930\\u0915\\u093e\\u0930 \\u0938\\u0947 \\u0907\\u0938\\u094d\\u0924\\u0940\\u092b\\u093c\\u093e \\u0926\\u093f\\u092f\\u093e \\u0914\\u0930 \\u092a\\u093e\\u0930\\u094d\\u091f\\u0940 \\u0905\\u0927\\u094d\\u092f\\u0915\\u094d\\u0937 \\u0905\\u091c\\u0940\\u0924 \\u0938\\u093f\\u0902\\u0939 \\u0928\\u0947 \\u0938\\u0930\\u0915\\u093e\\u0930 \\u0915\\u094b \\u091c\\u092e\\u0915\\u0930 \\u0916\\u0930\\u0940-\\u0916\\u094b\\u091f\\u0940 \\u0938\\u0941\\u0928\\u093e\\u0908 \\u0924\\u092c \\u092e\\u0941\\u0932\\u093e\\u092f\\u092e \\u0938\\u093f\\u0902\\u0939 \\u0915\\u094b \\u092f\\u0915\\u0940\\u0928 \\u0939\\u094b \\u0917\\u092f\\u093e \\u0925\\u093e \\u0915\\u093f \\u0915\\u093e\\u0901\\u0917\\u094d\\u0930\\u0947\\u0938 \\u0905\\u092c \\u0909\\u0928\\u0915\\u0940 \\u0938\\u0930\\u0915\\u093e\\u0930 \\u0917\\u093f\\u0930\\u093e\\u0928\\u0947 \\u0915\\u0940 \\u0909\\u0932\\u094d\\u091f\\u0940 \\u0917\\u093f\\u0928\\u0924\\u0940 \\u0936\\u0941\\u0930\\u0942 \\u0915\\u0930 \\u091a\\u0941\\u0915\\u0940 \\u0939\\u0948. \\u0924\\u0941\\u0930\\u0902\\u0924 \\u0939\\u0940 \\u0915\\u093e\\u0901\\u0917\\u094d\\u0930\\u0947\\u0938, \\u0938\\u094b\\u0928\\u093f\\u092f\\u093e \\u0917\\u093e\\u0901\\u0927\\u0940 \\u0914\\u0930 \\u0930\\u093e\\u091c\\u094d\\u092f\\u092a\\u093e\\u0932 \\u091f\\u0940\\u0935\\u0940 \\u0930\\u093e\\u091c\\u0947\\u0936\\u094d\\u0935\\u0930 \\u092a\\u0930 \\u0906\\u0915\\u094d\\u0930\\u092e\\u0923 \\u0924\\u0947\\u091c\\u093c \\u0939\\u094b \\u0917\\u092f\\u093e. 18 \\u091c\\u0928\\u0935\\u0930\\u0940 \\u0915\\u094b \\u091c\\u092c \\u0915\\u093e\\u0901\\u0917\\u094d\\u0930\\u0947\\u0938 \\u0914\\u0930 \\u0930\\u093e\\u0937\\u094d\\u091f\\u094d\\u0930\\u0940\\u092f \\u0932\\u094b\\u0915\\u0926\\u0932 \\u0928\\u0947 \\u0930\\u093e\\u091c\\u094d\\u092f\\u092a\\u093e\\u0932 \\u0915\\u094b \\u0938\\u092e\\u0930\\u094d\\u0925\\u0928 \\u0935\\u093e\\u092a\\u0938\\u0940 \\u0915\\u0947 \\u092a\\u0924\\u094d\\u0930 \\u0938\\u094c\\u0902\\u092a\\u0947, \\u092e\\u0941\\u0932\\u093e\\u092f\\u092e \\u0928\\u0947 25 \\u091c\\u0928\\u0935\\u0930\\u0940 \\u0915\\u094b \\u092b\\u093f\\u0930 \\u0938\\u0947 \\u0938\\u0926\\u0928 \\u092e\\u0947\\u0902 \\u092c\\u0939\\u0941\\u092e\\u0924 \\u0938\\u093f\\u0926\\u094d\\u0927 \\u0915\\u0930 \\u0926\\u093f\\u092f\\u093e. \\u0909\\u091a\\u094d\\u091a\\u0924\\u092e \\u0928\\u094d\\u092f\\u093e\\u092f\\u093e\\u0932\\u092f \\u0926\\u094d\\u0935\\u093e\\u0930\\u093e 14 \\u092b\\u0930\\u0935\\u0930\\u0940 \\u0915\\u094b 13 \\u092c\\u0938\\u092a\\u093e \\u0915\\u0947 \\u092c\\u093e\\u0917\\u0940 \\u0935\\u093f\\u0927\\u093e\\u092f\\u0915\\u094b\\u0902 \\u0915\\u0940 \\u0938\\u0926\\u0938\\u094d\\u092f\\u0924\\u093e \\u092d\\u0902\\u0917 \\u0915\\u093f\\u090f \\u091c\\u093e\\u0928\\u0947 \\u0915\\u0947 \\u092c\\u093e\\u0926 \\u0924\\u094b \\u0932\\u0917\\u0928\\u0947 \\u0932\\u0917\\u093e \\u0915\\u093f \\u092e\\u0941\\u0932\\u093e\\u092f\\u092e \\u0938\\u0930\\u0915\\u093e\\u0930 \\u0915\\u0940 \\u091b\\u0941\\u091f\\u094d\\u091f\\u0940 \\u0939\\u094b\\u0928\\u0947 \\u0935\\u093e\\u0932\\u0940 \\u0939\\u0948. \\u0932\\u0947\\u0915\\u093f\\u0928 \\u091a\\u0941\\u0928\\u093e\\u0935 \\u0906\\u092f\\u094b\\u0917 \\u0928\\u0947 21 \\u092b\\u093c\\u0930\\u0935\\u0930\\u0940 \\u0915\\u094b \\u0905\\u091a\\u093e\\u0928\\u0915 \\u0909\\u0924\\u094d\\u0924\\u0930\\u092a\\u094d\\u0930\\u0926\\u0947\\u0936 \\u0915\\u0947 \\u0938\\u093e\\u0924 \\u091a\\u0915\\u094d\\u0930\\u094b\\u0902 \\u0915\\u0947 \\u091a\\u0941\\u0928\\u093e\\u0935 \\u0918\\u094b\\u0937\\u093f\\u0924 \\u0915\\u0930 \\u0926\\u093f\\u090f. \\u0938\\u093e\\u0930\\u0947 \\u0930\\u093e\\u091c\\u0928\\u0940\\u0924\\u093f\\u0915 \\u0915\\u092f\\u093e\\u0938 \\u0927\\u0930\\u0947 \\u0930\\u0939 \\u0917\\u090f. \\u0938\\u0930\\u094d\\u0935\\u094b\\u091a\\u094d\\u091a \\u0928\\u094d\\u092f\\u093e\\u092f\\u093e\\u0932\\u092f \\u0915\\u0947 \\u092a\\u0939\\u0932\\u0940 \\u092e\\u093e\\u0930\\u094d\\u091a \\u0915\\u094b \\u0926\\u093f\\u090f \\u0917\\u090f \\u0906\\u092f \\u0938\\u0947 \\u0905\\u0927\\u093f\\u0915 \\u0938\\u0902\\u092a\\u0924\\u094d\\u0924\\u093f \\u092e\\u093e\\u092e\\u0932\\u0947 \\u092e\\u0947\\u0902 \\u0938\\u0940\\u092c\\u0940\\u0906\\u0908 \\u091c\\u093e\\u0901\\u091a \\u0915\\u0947 \\u0906\\u0926\\u0947\\u0936\\u094b\\u0902 \\u0915\\u0947 \\u0909\\u092a\\u0930\\u093e\\u0902\\u0924 \\u090f\\u0915 \\u092c\\u093e\\u0930 \\u092b\\u093f\\u0930 \\u092e\\u0941\\u0932\\u093e\\u092f\\u092e \\u0938\\u093f\\u0902\\u0939 \\u0915\\u0940 \\u092c\\u0930\\u094d\\u0916\\u093c\\u093e\\u0938\\u094d\\u0924\\u0917\\u0940 \\u0915\\u0940 \\u0938\\u0902\\u092d\\u093e\\u0935\\u0928\\u093e\\u0913\\u0902 \\u0928\\u0947 \\u091c\\u093c\\u094b\\u0930 \\u092a\\u0915\\u0921\\u093c\\u093e. \\u0932\\u0947\\u0915\\u093f\\u0928 \\u0910\\u0938\\u093e \\u0928\\u0939\\u0940\\u0902 \\u0939\\u0941\\u0906 \\u0914\\u0930 \\u0936\\u093e\\u092f\\u0926 \\u0907\\u0938\\u0940 \\u0915\\u093e\\u0930\\u0923 \\u092e\\u0941\\u0932\\u093e\\u092f\\u092e \\u0915\\u0940 \\u091a\\u0941\\u0928\\u093e\\u0935\\u0940 \\u0930\\u0923\\u0928\\u0940\\u0924\\u093f \\u092d\\u0930\\u092d\\u0930\\u093e \\u0915\\u0930 \\u092c\\u0948\\u0920\\u0924\\u0940 \\u0928\\u091c\\u093c\\u0930 \\u0906 \\u0930\\u0939\\u0940 \\u0939\\u0948. \\u0935\\u093e\\u092e\\u092a\\u0902\\u0925\\u0940 \\u0926\\u0932\\u094b\\u0902 \\u0915\\u0940 \\u0938\\u0939\\u093e\\u0928\\u0941\\u092d\\u0942\\u0924\\u093f \\u091c\\u0941\\u091f\\u093e\\u0915\\u0930 \\u090f\\u0915 \\u0928\\u090f \\u092e\\u094b\\u0930\\u094d\\u091a\\u0947 \\u0915\\u0947 \\u0917\\u0920\\u0928 \\u0915\\u0940 \\u0924\\u0938\\u094d\\u0935\\u0940\\u0930 \\u092a\\u0947\\u0936 \\u0915\\u0930 \\u0935\\u094b\\u091f\\u0930 \\u0915\\u0947 \\u0932\\u0941\\u092d\\u093e\\u0924\\u0947 \\u092e\\u0941\\u0932\\u093e\\u092f\\u092e \\u0905\\u092c \\u0938\\u0940\\u092c\\u0940\\u0906\\u0908 \\u0938\\u0947 \\u0938\\u0939\\u092f\\u094b\\u0917 \\u0928 \\u0915\\u0930\\u0928\\u0947 \\u092f\\u093e \\u092b\\u093f\\u0930 \\u0938\\u094d\\u0935\\u092f\\u0902 \\u0914\\u0930 \\u092a\\u0930\\u093f\\u0935\\u093e\\u0930\\u0935\\u093e\\u0932\\u094b\\u0902 \\u0915\\u094b \\u091c\\u0947\\u0932 \\u092d\\u0947\\u091c\\u0928\\u0947 \\u0915\\u0940 \\u0938\\u093e\\u091c\\u093f\\u0936 \\u0915\\u0940 \\u0926\\u0941\\u0939\\u093e\\u0908 \\u0926\\u0947\\u0924\\u0947 \\u0928\\u091c\\u093c\\u0930 \\u0906 \\u0930\\u0939\\u0947 \\u0939\\u0948\\u0902. \\u092c\\u0926\\u0932\\u0940 \\u092a\\u0930\\u093f\\u0938\\u094d\\u0925\\u093f\\u0924\\u093f\\u092f\\u093e\\u0901 2007 \\u0915\\u093e \\u0935\\u093f\\u0927\\u093e\\u0928\\u0938\\u092d\\u093e \\u091a\\u0941\\u0928\\u093e\\u0935 \\u0936\\u093e\\u092f\\u0926 \\u092a\\u0939\\u0932\\u093e \\u0910\\u0938\\u093e \\u0905\\u0935\\u0938\\u0930 \\u0939\\u0948 \\u091c\\u092c \\u092e\\u0941\\u0932\\u093e\\u092f\\u092e \\u0938\\u093f\\u0902\\u0939 \\u0915\\u0947 \\u092a\\u093e\\u0938 \\u0928 \\u0924\\u094b \\u0915\\u094b\\u0908 \\u0920\\u094b\\u0938 \\u0930\\u093e\\u091c\\u0928\\u0940\\u0924\\u093f\\u0915 \\u092b\\u093c\\u093e\\u0930\\u094d\\u092e\\u0942\\u0932\\u093e \\u0939\\u0948 \\u0914\\u0930 \\u0928 \\u0939\\u0940 \\u0915\\u093f\\u0938\\u0940 \\u092e\\u091c\\u093c\\u092c\\u0942\\u0924 \\u0917\\u0920\\u092c\\u0902\\u0927\\u0928 \\u0915\\u093e \\u0938\\u0939\\u093e\\u0930\\u093e. \\u0938\\u093e\\u0924 \\u091a\\u0930\\u0923\\u094b\\u0902 \\u092e\\u0947\\u0902 \\u0909\\u0924\\u094d\\u0924\\u0930\\u092a\\u094d\\u0930\\u0926\\u0947\\u0936 \\u0915\\u0947 \\u0910\\u0924\\u093f\\u0939\\u093e\\u0938\\u093f\\u0915 \\u091a\\u0941\\u0928\\u093e\\u0935 \\u0915\\u094b \\u091d\\u0947\\u0932\\u0928\\u093e \\u0915\\u093f\\u0938\\u0940 \\u092d\\u0940 \\u0926\\u0932 \\u0915\\u0947 \\u0932\\u093f\\u090f \\u0916\\u093c\\u093e\\u0938\\u0940 \\u091a\\u0941\\u0928\\u094c\\u0924\\u0940 \\u0939\\u0948 \\u0939\\u0940 \\u0932\\u0947\\u0915\\u093f\\u0928 \\u092f\\u0939 \\u0938\\u0930\\u0915\\u093e\\u0930 \\u092e\\u0947\\u0902 \\u0930\\u0939\\u0915\\u0930 \\u0938\\u093e\\u0930\\u0940 \\u0935\\u093f\\u092a\\u0930\\u0940\\u0924 \\u0938\\u094d\\u0925\\u093f\\u0924\\u093f\\u092f\\u094b\\u0902 \\u0915\\u0940 \\u0917\\u0920\\u0930\\u0940 \\u0922\\u094b\\u0924\\u0947 \\u0939\\u0941\\u090f \\u092e\\u0941\\u0932\\u093e\\u092f\\u092e \\u0938\\u093f\\u0902\\u0939 \\u0915\\u0940 \\u0930\\u093e\\u0924\\u094b\\u0902 \\u0915\\u0940 \\u0928\\u0940\\u0902\\u0926 \\u0939\\u0930 \\u0938\\u0915\\u0924\\u093e \\u0939\\u0948. \\u091a\\u0941\\u0928\\u093e\\u0935 \\u0906\\u092f\\u094b\\u0917 \\u0915\\u0940 \\u092a\\u0948\\u0928\\u0940 \\u0928\\u093f\\u0917\\u093e\\u0939\\u094b\\u0902 \\u0915\\u0947 \\u0928\\u0940\\u091a\\u0947 \\u0938\\u0947 \\u0935\\u094b\\u091f \\u091a\\u0941\\u0930\\u093e\\u0928\\u0947 \\u0915\\u0947 \\u0915\\u093f\\u0938\\u0940 \\u092d\\u0940 \\u092e\\u0928\\u0938\\u0942\\u092c\\u0947 \\u0938\\u0947 \\u0938\\u092e\\u093e\\u091c\\u0935\\u093e\\u0926\\u0940 \\u092a\\u093e\\u0930\\u094d\\u091f\\u0940 \\u0915\\u094b \\u0926\\u0942\\u0930 \\u0939\\u0940 \\u0930\\u0939\\u0928\\u093e \\u0939\\u094b\\u0917\\u093e. \\u092a\\u094d\\u0930\\u0926\\u0947\\u0936 \\u0915\\u0940 \\u0938\\u093e\\u0930\\u0940 \\u0938\\u092e\\u0938\\u094d\\u092f\\u093e\\u090f\\u0901 \\u091c\\u0939\\u093e\\u0901 \\u0915\\u0940 \\u0924\\u0939\\u093e\\u0901 \\u0939\\u0948\\u0902. \\u092e\\u0941\\u0932\\u093e\\u092f\\u092e \\u0938\\u093f\\u0902\\u0939 \\u0915\\u0947 \\u092a\\u093e\\u0930\\u0902\\u092a\\u0930\\u093f\\u0915 \\u091c\\u0928\\u093e\\u0927\\u093e\\u0930 \\u092a\\u0930 \\u092d\\u0940 \\u0938\\u0947\\u0902\\u0927 \\u0932\\u0917 \\u091a\\u0941\\u0915\\u0940 \\u0939\\u0948. \\u090f\\u0915 \\u0924\\u0930\\u092b\\u093c \\u0924\\u094b \\u090a\\u0901\\u091a\\u0940 \\u091c\\u093e\\u0924\\u093f\\u092f\\u093e\\u0901 \\u092c\\u0938\\u092a\\u093e \\u0915\\u094b \\u092d\\u0940 \\u0917\\u0932\\u0947 \\u0932\\u0917\\u093e\\u0928\\u0947 \\u0938\\u0947 \\u0917\\u0941\\u0930\\u0947\\u091c\\u093c \\u0928\\u0939\\u0940\\u0902 \\u0915\\u0930 \\u0930\\u0939\\u0940 \\u0939\\u0948\\u0902 \\u0924\\u094b \\u0926\\u0942\\u0938\\u0930\\u0940 \\u0913\\u0930 \\u092e\\u0941\\u0938\\u094d\\u0932\\u093f\\u092e \\u092e\\u0924\\u0926\\u093e\\u0924\\u093e \\u092d\\u0940 \\u092e\\u093e\\u092f\\u093e\\u0935\\u0924\\u0940 \\u092f\\u093e \\u0915\\u093e\\u0901\\u0917\\u094d\\u0930\\u0947\\u0938 \\u0915\\u094b \\u0935\\u093f\\u0915\\u0932\\u094d\\u092a \\u0915\\u0947 \\u0930\\u0942\\u092a \\u092e\\u0947\\u0902 \\u0938\\u094d\\u0935\\u0940\\u0915\\u093e\\u0930\\u0924\\u093e \\u0926\\u093f\\u0916 \\u0930\\u0939\\u093e \\u0939\\u0948. \\u0938\\u0926\\u093e \\u0938\\u0947 \\u092d\\u093e\\u091c\\u092a\\u093e \\u0915\\u0947 \\u0935\\u093f\\u0930\\u0941\\u0926\\u094d\\u0927 \\u0927\\u0930\\u094d\\u092e\\u0928\\u093f\\u0930\\u092a\\u0947\\u0915\\u094d\\u0937\\u0924\\u093e \\u0915\\u0940 \\u091c\\u0902\\u0917 \\u0915\\u093e \\u0938\\u0939\\u093e\\u0930\\u093e \\u0932\\u0947\\u0915\\u0930 \\u091a\\u0941\\u0928\\u093e\\u0935 \\u0932\\u0921\\u093c\\u0928\\u0947 \\u0935\\u093e\\u0932\\u0947 \\u092e\\u0941\\u0932\\u093e\\u092f\\u092e \\u0907\\u0938 \\u092c\\u093e\\u0930 \\u0915\\u093e\\u0901\\u0917\\u094d\\u0930\\u0947\\u0938 \\u0938\\u0947 \\u0939\\u0940 \\u0915\\u0941\\u0936\\u094d\\u0924\\u0940 \\u0932\\u0921\\u093c\\u0924\\u0947 \\u0928\\u091c\\u093c\\u0930 \\u0906 \\u0930\\u0939\\u0947 \\u0939\\u0948\\u0902. \\u0935\\u0948\\u0938\\u0947 \\u092d\\u0940 \\u092a\\u093f\\u091b\\u0932\\u0947 \\u091a\\u0941\\u0928\\u093e\\u0935 \\u092e\\u0947\\u0902 \\u092e\\u093e\\u0924\\u094d\\u0930 88 \\u0938\\u0940\\u091f\\u0947\\u0902 \\u092a\\u093e\\u0915\\u0930 \\u0939\\u093e\\u0936\\u093f\\u090f \\u092a\\u0930 \\u0906\\u0908 \\u092d\\u093e\\u091c\\u092a\\u093e \\u0915\\u094b \\u0905\\u092d\\u0940 \\u092d\\u0940 \\u092a\\u094d\\u0930\\u0926\\u0947\\u0936 \\u092e\\u0947\\u0902 \\u092b\\u093f\\u0930 \\u0938\\u0947 \\u092a\\u0948\\u0930 \\u091c\\u092e\\u093e\\u0928\\u0947 \\u0915\\u093e \\u0915\\u094b\\u0908 \\u0935\\u093f\\u0936\\u0947\\u0937 \\u092e\\u094c\\u0915\\u093c\\u093e \\u0939\\u093e\\u0925 \\u0928\\u0939\\u0940\\u0902 \\u0932\\u0917\\u093e \\u0939\\u0948. \\u092d\\u093e\\u091c\\u092a\\u093e \\u0915\\u093e \\u0915\\u092e\\u091c\\u094b\\u0930 \\u0939\\u094b\\u0928\\u093e \\u092f\\u0915\\u0940\\u0928\\u0928 \\u092e\\u0941\\u0932\\u093e\\u092f\\u092e \\u0915\\u0947 \\u0932\\u093f\\u090f \\u0936\\u0941\\u092d \\u0938\\u0902\\u0915\\u0947\\u0924 \\u0928\\u0939\\u0940\\u0902 \\u0939\\u0948. \\u0926\\u094b\\u0928\\u094b\\u0902 \\u090f\\u0915 \\u0926\\u0942\\u0938\\u0930\\u0947 \\u0915\\u0947 \\u0930\\u093e\\u091c\\u0928\\u0940\\u0924\\u093f\\u0915 \\u092a\\u0942\\u0930\\u0915 \\u0938\\u0947 \\u0930\\u0939\\u0947 \\u0939\\u0948\\u0902. \\u0910\\u0938\\u0947 \\u092e\\u0947\\u0902 \\u0938\\u092e\\u093e\\u091c\\u0935\\u093e\\u0926\\u0940 \\u092a\\u093e\\u0930\\u094d\\u091f\\u0940 \\u0915\\u093e \\u0935\\u094b\\u091f\\u0930 \\u0916\\u093c\\u093e\\u0938\\u0924\\u094c\\u0930 \\u0938\\u0947 \\u092e\\u0941\\u0938\\u094d\\u0932\\u093f\\u092e \\u092e\\u0924\\u0926\\u093e\\u0924\\u093e \\u090f\\u0915\\u091c\\u0941\\u091f \\u0928\\u0939\\u0940\\u0902 \\u0939\\u094b \\u092a\\u093e\\u0924\\u093e \\u0939\\u0948. \\u0915\\u093e\\u0901\\u0917\\u094d\\u0930\\u0947\\u0938 \\u0938\\u0947 \\u092d\\u093f\\u0921\\u093c\\u0928\\u0947 \\u0938\\u0947 \\u0924\\u094b \\u092e\\u0941\\u0932\\u093e\\u092f\\u092e \\u0915\\u0947 \\u0939\\u093e\\u0925 \\u0936\\u093e\\u092f\\u0926 \\u0939\\u0940 \\u0915\\u0941\\u091b \\u0932\\u0917\\u0947. \\u0930\\u0923\\u0928\\u0940\\u0924\\u093f \\u0915\\u093e \\u0905\\u092d\\u093e\\u0935 \\u0907\\u0938\\u0938\\u0947 \\u092d\\u0940 \\u0905\\u0927\\u093f\\u0915 \\u092e\\u0939\\u0924\\u094d\\u0935\\u092a\\u0942\\u0930\\u094d\\u0923 \\u092a\\u0939\\u0932\\u0942 \\u0939\\u0948 \\u0915\\u093f \\u0938\\u092e\\u093e\\u091c\\u0935\\u093e\\u0926\\u0940 \\u092a\\u093e\\u0930\\u094d\\u091f\\u0940 \\u0915\\u0947 \\u092a\\u093e\\u0938 \\u0907\\u0938 \\u092c\\u093e\\u0930 \\u0915\\u094b\\u0908 \\u0935\\u093f\\u091c\\u092f\\u0940 \\u0935\\u093f\\u0915\\u0932\\u094d\\u092a \\u0928\\u0939\\u0940\\u0902 \\u0939\\u0948. \\u0905\\u092a\\u0928\\u0947 \\u0926\\u092e \\u092a\\u0930 \\u0938\\u0930\\u0915\\u093e\\u0930 \\u092c\\u0928\\u093e\\u0928\\u093e \\u0936\\u093e\\u092f\\u0926 \\u0905\\u092c \\u0915\\u093f\\u0938\\u0940 \\u092d\\u0940 \\u0926\\u0932 \\u0915\\u0947 \\u092c\\u0942\\u0924\\u0947 \\u0915\\u0940 \\u092c\\u093e\\u0924 \\u0928\\u0939\\u0940\\u0902 \\u0939\\u0948. \\u0910\\u0938\\u0947 \\u092e\\u0947\\u0902 \\u092e\\u0941\\u0932\\u093e\\u092f\\u092e \\u0915\\u0940 \\u092a\\u093e\\u0930\\u094d\\u091f\\u0940 \\u092e\\u094c\\u091c\\u0942\\u0926\\u093e 134 \\u0935\\u093f\\u0927\\u093e\\u092f\\u0915\\u094b\\u0902 \\u0915\\u0947 \\u0932\\u0915\\u094d\\u0937\\u094d\\u092f \\u0915\\u094b \\u092b\\u093f\\u0930 \\u092a\\u094d\\u0930\\u093e\\u092a\\u094d\\u0924 \\u0915\\u0930 \\u0932\\u0947 \\u0924\\u094b \\u092f\\u0939\\u0940 \\u0905\\u0928\\u0939\\u094b\\u0928\\u0940 \\u0939\\u094b\\u0917\\u0940. \\u092e\\u0941\\u0932\\u093e\\u092f\\u092e \\u0915\\u0947 \\u0938\\u093e\\u0930\\u0947 \\u0930\\u093e\\u091c\\u0928\\u0940\\u0924\\u093f\\u0915 \\u0938\\u093e\\u0925\\u0940 \\u0909\\u0928\\u0938\\u0947 \\u0915\\u093f\\u0928\\u093e\\u0930\\u093e \\u0915\\u0930 \\u091a\\u0941\\u0915\\u0947 \\u0939\\u0948\\u0902. \\u0935\\u093f\\u0921\\u0902\\u092c\\u0928\\u093e \\u092f\\u0939 \\u0939\\u0948 \\u0915\\u093f \\u092d\\u093e\\u091c\\u092a\\u093e \\u0915\\u094b \\u091b\\u094b\\u0921\\u093c\\u0915\\u0930 \\u092e\\u0941\\u0932\\u093e\\u092f\\u092e \\u0915\\u094b \\u0915\\u093f\\u0938\\u0940 \\u092d\\u0940 \\u092a\\u093e\\u0930\\u094d\\u091f\\u0940 \\u0915\\u093e \\u0938\\u093e\\u0925 \\u092e\\u093f\\u0932\\u0928\\u0947 \\u0915\\u0940 \\u0938\\u0902\\u092d\\u093e\\u0935\\u0928\\u093e \\u0928\\u0917\\u0923\\u094d\\u092f \\u0939\\u0948. \\u0926\\u0942\\u0938\\u0930\\u0940 \\u0913\\u0930 \\u092c\\u0938\\u092a\\u093e \\u090f\\u0915 \\u0936\\u0915\\u094d\\u0924\\u093f\\u0936\\u093e\\u0932\\u0940 \\u0935\\u093f\\u0915\\u0932\\u094d\\u092a \\u0915\\u0947 \\u0930\\u0942\\u092a \\u092e\\u0947\\u0902 \\u0909\\u092d\\u0930 \\u091a\\u0941\\u0915\\u0940 \\u0939\\u0948. \\u0935\\u0939 \\u0915\\u093e\\u0901\\u0917\\u094d\\u0930\\u0947\\u0938 \\u0938\\u0947 \\u092d\\u0940 \\u0917\\u0932\\u092c\\u0939\\u093f\\u092f\\u093e\\u0901 \\u0915\\u0930 \\u0938\\u0915\\u0924\\u0940 \\u0939\\u0948 \\u0914\\u0930 \\u092a\\u0941\\u0930\\u093e\\u0928\\u0940 \\u0938\\u0939\\u092f\\u094b\\u0917\\u0940 \\u092d\\u093e\\u091c\\u092a\\u093e \\u0938\\u0947 \\u092d\\u0940 \\u0909\\u092e\\u094d\\u092e\\u0940\\u0926\\u0947\\u0902 \\u0930\\u0916 \\u0938\\u0915\\u0924\\u0940 \\u0939\\u0948. \\u0907\\u0928 \\u092a\\u0930\\u093f\\u0938\\u094d\\u0925\\u093f\\u0924\\u093f\\u092f\\u094b\\u0902 \\u092e\\u0947\\u0902 \\u0938\\u092e\\u093e\\u091c\\u0935\\u093e\\u0926\\u0940 \\u092a\\u093e\\u0930\\u094d\\u091f\\u0940 \\u092b\\u093f\\u0930 \\u0938\\u0947 \\u0938\\u0930\\u0915\\u093e\\u0930 \\u092c\\u0928\\u093e\\u0928\\u0947 \\u0915\\u0940 \\u0915\\u0942\\u0935\\u0924 \\u0930\\u0916 \\u0938\\u0915\\u0947\\u0917\\u0940, \\u0915\\u0939\\u0928\\u093e \\u092e\\u0941\\u0936\\u094d\\u0915\\u093f\\u0932 \\u0939\\u0948.\",\n          \"\\u092a\\u0941\\u0923\\u0947 \\u092e\\u0947\\u0902 \\u092e\\u094c\\u091c\\u0942\\u0926 \\u0921\\u0949\\u0915\\u094d\\u091f\\u0930 \\u0917\\u0923\\u0947\\u0936 \\u0930\\u0916 \\u0915\\u0947 \\u0905\\u0938\\u094d\\u092a\\u0924\\u093e\\u0932 \\u092e\\u0947\\u0902 \\u092a\\u094d\\u0930\\u0938\\u0935 \\u0915\\u0947 \\u092c\\u093e\\u0926 \\u0905\\u0917\\u0930 \\u0936\\u093f\\u0936\\u0941 \\u0932\\u0921\\u093c\\u0915\\u0940 \\u0939\\u094b \\u0924\\u094b \\u092e\\u093e\\u0902 \\u0914\\u0930 \\u0936\\u093f\\u0936\\u0941 \\u0915\\u093e \\u092a\\u0942\\u0930\\u093e \\u0907\\u0932\\u093e\\u091c \\u092e\\u0941\\u092b\\u094d\\u093c\\u0924 \\u0915\\u093f\\u092f\\u093e \\u091c\\u093e\\u0924\\u093e \\u0939\\u0948. \\u0921\\u0949\\u0915\\u094d\\u091f\\u0930 \\u0930\\u0916 \\u0915\\u0939\\u0924\\u0947 \\u0939\\u0948\\u0902, ''\\u0939\\u0949\\u0938\\u094d\\u092a\\u093f\\u091f\\u0932 \\u092e\\u0947\\u0902 \\u091c\\u092c \\u0915\\u094b\\u0908 \\u092e\\u0939\\u093f\\u0932\\u093e \\u092a\\u094d\\u0930\\u0947\\u0917\\u0928\\u0947\\u0902\\u0938\\u0940 \\u0915\\u0947 \\u0932\\u093f\\u090f \\u0939\\u092e\\u093e\\u0930\\u0947 \\u092a\\u093e\\u0938 \\u0906\\u0924\\u0940 \\u0939\\u0948 \\u0924\\u094b \\u0909\\u0938\\u0915\\u0947 \\u0926\\u093f\\u092e\\u093e\\u0917\\u093c \\u092e\\u0947\\u0902 \\u092a\\u0939\\u0932\\u0947 \\u0926\\u093f\\u0928 \\u0938\\u0947 \\u092f\\u0939\\u0940 \\u0930\\u0939\\u0924\\u093e \\u0939\\u0948 \\u0915\\u093f \\u0932\\u0921\\u093c\\u0915\\u093e \\u0939\\u094b\\u0928\\u0947 \\u0935\\u093e\\u0932\\u093e \\u0939\\u0948. \\u0932\\u0921\\u093c\\u0915\\u0940 \\u092d\\u0940 \\u0939\\u094b \\u0938\\u0915\\u0924\\u0940 \\u0939\\u0948 \\u0910\\u0938\\u093e \\u0935\\u094b \\u0938\\u094b\\u091a\\u0924\\u0940 \\u0939\\u0940 \\u0928\\u0939\\u0940\\u0902. \\u092e\\u0939\\u093e\\u0930\\u093e\\u0937\\u094d\\u091f\\u094d\\u0930 \\u092e\\u0947\\u0902 \\u092f\\u0947 \\u0927\\u094b\\u0916\\u093e\\u0927\\u0921\\u093c\\u0940 \\u092c\\u0939\\u0941\\u0924 \\u091a\\u0932 \\u0930\\u0939\\u0940 \\u0939\\u0948. \\u0921\\u0949\\u0915\\u094d\\u091f\\u0930 \\u092f\\u0947 \\u0915\\u0939\\u0915\\u0930 \\u092a\\u0948\\u0938\\u093e \\u0915\\u092e\\u093e\\u0924\\u0947 \\u0939\\u0948\\u0902 \\u0915\\u093f \\u0935\\u094b \\u0932\\u0921\\u093c\\u0915\\u093e \\u0939\\u094b\\u0928\\u0947 \\u0915\\u0940 \\u0926\\u0935\\u093e\\u0908 \\u0926\\u0947 \\u0938\\u0915\\u0924\\u0947 \\u0939\\u0948\\u0902.'' \\u0921\\u0949\\u0915\\u094d\\u091f\\u0930 \\u0930\\u0916 \\u0915\\u0947 \\u092e\\u0941\\u0924\\u093e\\u092c\\u093f\\u0915\\u093c \\u092a\\u0942\\u0930\\u0947 \\u0928\\u094c \\u092e\\u0939\\u0940\\u0928\\u0947 \\u092e\\u0939\\u093f\\u0932\\u093e\\u090f\\u0901 \\u0907\\u0938 \\u0926\\u092c\\u093e\\u0935 \\u092e\\u0947\\u0902 \\u0930\\u0939\\u0924\\u0940 \\u0939\\u0948\\u0902 \\u0915\\u093f \\u0909\\u0928\\u0915\\u0947 \\u0918\\u0930 \\u0935\\u093e\\u0932\\u094b\\u0902 \\u0928\\u0947 \\u0932\\u0921\\u093c\\u0915\\u093e \\u0939\\u094b\\u0928\\u0947 \\u0915\\u0947 \\u0932\\u093f\\u090f \\u0915\\u093e\\u092b\\u093c\\u0940 \\u0916\\u093c\\u0930\\u094d\\u091a\\u093e \\u0915\\u093f\\u092f\\u093e \\u0939\\u0948 \\u0914\\u0930 \\u0907\\u0938\\u0932\\u093f\\u090f \\u0939\\u0930 \\u0915\\u093c\\u0940\\u092e\\u0924 \\u092a\\u0930 \\u0932\\u0921\\u093c\\u0915\\u093e \\u0939\\u0940 \\u0939\\u094b\\u0928\\u093e \\u091a\\u093e\\u0939\\u093f\\u090f. \\u0910\\u0938\\u0947 \\u092e\\u0947\\u0902 \\u0905\\u0917\\u0930 \\u0932\\u0921\\u093c\\u0915\\u0940 \\u0939\\u094b \\u091c\\u093e\\u0924\\u0940 \\u0939\\u0948 \\u0924\\u094b \\u0905\\u0938\\u094d\\u092a\\u0924\\u093e\\u0932 \\u092a\\u0930 \\u092d\\u0940 \\u0907\\u0938\\u0915\\u093e \\u0905\\u0938\\u0930 \\u092a\\u0921\\u093c\\u0924\\u093e \\u0939\\u0948. \\u0935\\u094b \\u0915\\u0939\\u0924\\u0947 \\u0939\\u0948\\u0902, ''\\u0932\\u0921\\u093c\\u0915\\u093e \\u0939\\u094b\\u0924\\u093e \\u0939\\u0948 \\u0924\\u094b \\u092e\\u093e\\u0902 \\u092c\\u0939\\u0941\\u0924 \\u0916\\u093c\\u0941\\u0936 \\u0930\\u0939\\u0924\\u0940 \\u0939\\u0948 \\u0914\\u0930 \\u092a\\u094d\\u0930\\u0938\\u0935 \\u0915\\u093e \\u0938\\u093e\\u0930\\u093e \\u0926\\u0930\\u094d\\u0926 \\u092d\\u0942\\u0932 \\u091c\\u093e\\u0924\\u0940 \\u0939\\u0948. \\u0932\\u0947\\u0915\\u093f\\u0928 \\u0932\\u0921\\u093c\\u0915\\u0940 \\u0939\\u094b\\u0928\\u0947 \\u092a\\u0930 \\u0909\\u0938\\u0915\\u0947 \\u091c\\u0928\\u094d\\u092e \\u0915\\u093e \\u0938\\u0947\\u0932\\u093f\\u092c\\u094d\\u0930\\u0947\\u0936\\u0928 \\u0930\\u094b-\\u0930\\u094b\\u0915\\u0930 \\u0939\\u094b\\u0924\\u093e \\u0939\\u0948. \\u0936\\u0941\\u0930\\u0941\\u0906\\u0924 \\u0939\\u0940 \\u0905\\u0917\\u0930 \\u092e\\u093e\\u0924\\u092e \\u0938\\u0947 \\u0939\\u094b\\u0917\\u0940 \\u0924\\u094b \\u0938\\u092e\\u093e\\u091c \\u092e\\u0947\\u0902 \\u092e\\u0939\\u093f\\u0932\\u093e\\u0913\\u0902 \\u0915\\u0940 \\u0938\\u0941\\u0930\\u0915\\u094d\\u0937\\u093e \\u0914\\u0930 \\u0907\\u091c\\u093c\\u094d\\u091c\\u093c\\u0924 \\u0915\\u0948\\u0938\\u0947 \\u0939\\u094b\\u0917\\u0940.'' \\u091c\\u091a\\u094d\\u091a\\u093e-\\u092c\\u091a\\u094d\\u091a\\u093e \\u0915\\u093e \\u092e\\u0941\\u092b\\u094d\\u093c\\u0924 \\u0907\\u0932\\u093e\\u091c \\u0905\\u0938\\u094d\\u092a\\u0924\\u093e\\u0932 \\u092e\\u0947\\u0902 \\u0906\\u0928\\u0947 \\u0935\\u093e\\u0932\\u0947 \\u092e\\u0930\\u0940\\u091c\\u093c \\u0914\\u0930 \\u0909\\u0928\\u0915\\u0947 \\u092a\\u0930\\u093f\\u091c\\u0928\\u094b\\u0902 \\u0915\\u0947 \\u0907\\u0938 \\u0930\\u0935\\u0948\\u092f\\u0947 \\u0915\\u094b \\u0926\\u0947\\u0916\\u0915\\u0930 \\u0921\\u0949\\u0915\\u094d\\u091f\\u0930 \\u0930\\u0916 \\u0928\\u0947 \\u092b\\u093c\\u0948\\u0938\\u0932\\u093e \\u0915\\u093f\\u092f\\u093e \\u0915\\u093f \\u0909\\u0928\\u0915\\u0947 \\u0905\\u0938\\u094d\\u092a\\u0924\\u093e\\u0932 \\u092e\\u0947\\u0902 \\u0905\\u0917\\u0930 \\u0932\\u0921\\u093c\\u0915\\u0940 \\u0915\\u093e \\u091c\\u0928\\u094d\\u092e \\u0939\\u094b\\u0924\\u093e \\u0939\\u0948 \\u0924\\u094b \\u0935\\u094b \\u0928 \\u0938\\u093f\\u0930\\u094d\\u092b \\u091c\\u091a\\u094d\\u091a\\u093e-\\u092c\\u091a\\u094d\\u091a\\u093e \\u0915\\u093e \\u092e\\u0941\\u092b\\u094d\\u093c\\u0924 \\u0907\\u0932\\u093e\\u091c \\u0915\\u0930\\u0947\\u0902\\u0917\\u0947 \\u092c\\u0932\\u094d\\u0915\\u093f \\u0905\\u0938\\u094d\\u092a\\u0924\\u093e\\u0932 \\u0935\\u093e\\u0932\\u0947 \\u092e\\u093f\\u0932\\u0915\\u0930 \\u0932\\u0921\\u093c\\u0915\\u0940 \\u0915\\u0947 \\u091c\\u0928\\u094d\\u092e \\u0915\\u0940 \\u0916\\u093c\\u0941\\u0936\\u093f\\u092f\\u093e\\u0902 \\u092d\\u0940 \\u092e\\u0928\\u093e\\u090f\\u0902\\u0917\\u0947. \\u0921\\u0949\\u0915\\u094d\\u091f\\u0930 \\u0930\\u0916 \\u0915\\u0939\\u0924\\u0947 \\u0939\\u0948\\u0902, ''\\u0932\\u0921\\u093c\\u0915\\u0940 \\u092a\\u0948\\u0926\\u093e \\u0939\\u094b\\u0928\\u0947 \\u0915\\u0947 \\u092c\\u093e\\u0926 \\u092e\\u0939\\u093f\\u0932\\u093e \\u0915\\u0947 \\u0918\\u0930 \\u0935\\u093e\\u0932\\u0947 \\u0914\\u0930 \\u0938\\u0938\\u0941\\u0930\\u093e\\u0932 \\u0935\\u093e\\u0932\\u0947 \\u0905\\u0938\\u094d\\u092a\\u0924\\u093e\\u0932 \\u0915\\u0947 \\u092c\\u093f\\u0932 \\u0915\\u094b \\u0932\\u0947\\u0915\\u0930 \\u0932\\u0921\\u093c\\u0924\\u0947 \\u0925\\u0947. \\u0926\\u094b\\u0928\\u094b\\u0902 \\u092e\\u0947\\u0902 \\u0938\\u0947 \\u0915\\u094b\\u0908 \\u0907\\u0932\\u093e\\u091c \\u0915\\u093e \\u0916\\u093c\\u0930\\u094d\\u091a\\u093e \\u0928\\u0939\\u0940\\u0902 \\u0909\\u0920\\u093e\\u0928\\u093e \\u091a\\u093e\\u0939\\u0924\\u093e \\u0925\\u093e. \\u0910\\u0938\\u0947 \\u092e\\u0947\\u0902 \\u0939\\u092e\\u0928\\u0947 \\u092e\\u0941\\u092b\\u094d\\u093c\\u0924 \\u092a\\u094d\\u0930\\u0938\\u0935 \\u0915\\u0947 \\u0905\\u092d\\u093f\\u092f\\u093e\\u0928 \\u0915\\u0940 \\u0936\\u0941\\u0930\\u0941\\u0906\\u0924 \\u0915\\u0940 \\u0914\\u0930 \\u092b\\u093c\\u0948\\u0938\\u0932\\u093e \\u0915\\u093f\\u092f\\u093e \\u0915\\u093f \\u0932\\u0921\\u093c\\u0915\\u0940 \\u0939\\u094b\\u0928\\u0947 \\u092a\\u0930 \\u0905\\u0938\\u094d\\u092a\\u0924\\u093e\\u0932 \\u0915\\u093e \\u092a\\u0942\\u0930\\u093e \\u0938\\u094d\\u091f\\u093e\\u092b \\u092e\\u093f\\u0932\\u0915\\u0930 \\u092e\\u093f\\u0920\\u093e\\u0908 \\u092c\\u093e\\u0902\\u091f\\u0947\\u0917\\u093e \\u0914\\u0930 \\u0916\\u093c\\u0941\\u0936\\u093f\\u092f\\u093e\\u0902 \\u092e\\u0928\\u093e\\u090f\\u0917\\u093e.'' \\u0907\\u0938 \\u092a\\u0939\\u0932 \\u0915\\u093e \\u092e\\u0915\\u0938\\u0926 \\u0932\\u094b\\u0917\\u094b\\u0902 \\u0915\\u094b \\u0907\\u0938 \\u092c\\u093e\\u0924 \\u0915\\u093e \\u090f\\u0939\\u0938\\u093e\\u0938 \\u0926\\u093f\\u0932\\u093e\\u0928\\u093e \\u0925\\u093e \\u0915\\u093f \\u0936\\u093f\\u0936\\u0941 \\u0915\\u093e \\u091c\\u0928\\u094d\\u092e \\u090f\\u0915 \\u0928\\u0948\\u0938\\u0930\\u094d\\u0917\\u093f\\u0915 \\u092a\\u094d\\u0930\\u0915\\u094d\\u0930\\u093f\\u092f\\u093e \\u0939\\u0948 \\u0914\\u0930 \\u0928\\u0935\\u091c\\u093e\\u0924 \\u0936\\u093f\\u0936\\u0941 \\u0915\\u0939\\u0940\\u0902 \\u092d\\u0940 \\u0932\\u0921\\u093c\\u0915\\u0947-\\u0932\\u0921\\u093c\\u0915\\u0940 \\u0915\\u093e \\u092d\\u0947\\u0926 \\u0928\\u0939\\u0940\\u0902 \\u091c\\u093e\\u0928\\u0924\\u093e. '\\u0939\\u0948\\u0930\\u093e\\u0928 \\u0930\\u0939 \\u091c\\u093e\\u0924\\u0947 \\u0939\\u0948\\u0902 \\u0918\\u0930\\u0935\\u093e\\u0932\\u0947' \\u0921\\u0949\\u0915\\u094d\\u091f\\u0930 \\u0930\\u0916 \\u0915\\u0939\\u0924\\u0947 \\u0939\\u0948\\u0902, ''\\u0932\\u0921\\u093c\\u0915\\u0940 \\u0939\\u094b\\u0928\\u0947 \\u092a\\u0930 \\u091c\\u092c \\u0939\\u092e \\u091c\\u0936\\u094d\\u0928 \\u092e\\u0928\\u093e\\u0924\\u0947 \\u0939\\u0948\\u0902, \\u092c\\u091a\\u094d\\u091a\\u0947 \\u0915\\u093e \\u0932\\u093e\\u0921\\u093c \\u0915\\u0930\\u0924\\u0947 \\u0939\\u0948\\u0902 \\u0924\\u094b \\u0936\\u0941\\u0930\\u0942 \\u092e\\u0947\\u0902 \\u0924\\u094b \\u0918\\u0930 \\u0935\\u093e\\u0932\\u0947 \\u0926\\u0942\\u0930-\\u0926\\u0942\\u0930 \\u0938\\u0947 \\u0916\\u0921\\u093c\\u0947 \\u0939\\u094b\\u0915\\u0930 \\u0939\\u092e\\u0947\\u0902 \\u0926\\u0947\\u0916\\u0924\\u0947 \\u0939\\u0948\\u0902. \\u0935\\u094b \\u0939\\u0948\\u0930\\u093e\\u0928 \\u0939\\u094b \\u091c\\u093e\\u0924\\u0947 \\u0939\\u0948\\u0902. \\u0909\\u0928\\u094d\\u0939\\u0947\\u0902 \\u0932\\u0917\\u0924\\u093e \\u0939\\u0948 \\u0915\\u093f \\u092f\\u0947 \\u0932\\u094b\\u0917 \\u092c\\u093f\\u0932 \\u092d\\u0940 \\u0928\\u0939\\u0940\\u0902 \\u0932\\u0947 \\u0930\\u0939\\u0947 \\u0914\\u0930 \\u0916\\u093c\\u0941\\u0936\\u093f\\u092f\\u093e\\u0902 \\u092d\\u0940 \\u092e\\u0928\\u093e \\u0930\\u0939\\u0947 \\u0939\\u0948\\u0902. \\u0932\\u0947\\u0915\\u093f\\u0928 \\u0915\\u0941\\u091b \\u0938\\u092e\\u092f \\u092c\\u093e\\u0926 \\u0909\\u0928\\u094d\\u0939\\u0947\\u0902 \\u0905\\u092a\\u0928\\u0940 \\u0917\\u093c\\u0932\\u0924\\u0940 \\u0915\\u093e \\u090f\\u0939\\u0938\\u093e\\u0938 \\u0939\\u094b\\u0924\\u093e \\u0939\\u0948 \\u0914\\u0930 \\u0935\\u094b \\u0938\\u092e\\u091d\\u0924\\u0947 \\u0939\\u0948\\u0902 \\u0915\\u093f \\u0909\\u0928\\u0915\\u0940 \\u0938\\u094b\\u091a \\u0917\\u093c\\u0932\\u0924 \\u0939\\u0948.\\\" \\u0921\\u0949\\u0915\\u094d\\u091f\\u0930 \\u0930\\u0916 \\u0915\\u0940 \\u0907\\u0938 \\u092e\\u0941\\u0939\\u093f\\u092e \\u092e\\u0947\\u0902 \\u0909\\u0928\\u0915\\u093e \\u0938\\u093e\\u0925 \\u0926\\u0947\\u0928\\u0947 \\u0915\\u0947 \\u0932\\u093f\\u090f \\u0915\\u0908 \\u0921\\u0949\\u0915\\u094d\\u091f\\u0930 \\u0938\\u093e\\u092e\\u0928\\u0947 \\u0906\\u090f. \\u0909\\u0928\\u0915\\u0947 \\u0905\\u092a\\u0928\\u0947 \\u0905\\u0938\\u094d\\u092a\\u0924\\u093e\\u0932 \\u092e\\u0947\\u0902 \\u0915\\u093e\\u092e \\u0915\\u0930\\u0928\\u0947 \\u0935\\u093e\\u0932\\u0947 \\u0921\\u0949\\u0915\\u094d\\u091f\\u0930 \\u0907\\u0915\\u093c\\u092c\\u093e\\u0932 \\u0936\\u0947\\u0916, \\u0921\\u0949\\u0915\\u094d\\u091f\\u0930 \\u0905\\u0928\\u093f\\u0932 \\u091a\\u0935\\u094d\\u0939\\u093e\\u0923, \\u0921\\u0949\\u0915\\u094d\\u091f\\u0930 \\u0938\\u0902\\u0924\\u094b\\u0937 \\u0936\\u093f\\u0902\\u0926\\u0947 \\u0928\\u0947 \\u0905\\u092a\\u0928\\u0940 \\u092b\\u093c\\u0940\\u0938 \\u092e\\u093e\\u092b\\u093c \\u0915\\u0930\\u0928\\u0947 \\u0915\\u093e \\u092b\\u093c\\u0948\\u0938\\u0932\\u093e \\u0915\\u093f\\u092f\\u093e. \\u0906\\u091c \\u092e\\u0939\\u093e\\u0930\\u093e\\u0937\\u094d\\u091f\\u094d\\u0930 \\u0914\\u0930 \\u0909\\u0938\\u0915\\u0947 \\u0906\\u0938-\\u092a\\u093e\\u0938 \\u0915\\u0947 \\u0915\\u0908 \\u0907\\u0932\\u093e\\u0915\\u093c\\u094b\\u0902 \\u092e\\u0947\\u0902 \\u0932\\u094b\\u0917 \\u0921\\u0949\\u0915\\u094d\\u091f\\u0930 \\u0930\\u0916 \\u0915\\u0940 \\u0926\\u0947\\u0916\\u093e-\\u0926\\u0947\\u0916\\u0940 \\u0905\\u092a\\u0928\\u0947 \\u0905\\u0938\\u094d\\u092a\\u0924\\u093e\\u0932\\u094b\\u0902 \\u092e\\u0947\\u0902 \\u0932\\u0921\\u093c\\u0915\\u0940 \\u0915\\u0947 \\u091c\\u0928\\u094d\\u092e \\u092a\\u0930 \\u0938\\u092e\\u093e\\u091c \\u0915\\u093e \\u0928\\u091c\\u093c\\u0930\\u093f\\u092f\\u093e \\u092c\\u0926\\u0932\\u0928\\u0947 \\u0915\\u0940 \\u0915\\u094b\\u0936\\u093f\\u0936 \\u0915\\u0930 \\u0930\\u0939\\u0947 \\u0939\\u0948\\u0902. \\u0932\\u0947\\u0915\\u093f\\u0928 \\u0939\\u0930 \\u0915\\u093f\\u0938\\u0940 \\u0915\\u094b \\u090f\\u0939\\u0938\\u093e\\u0938 \\u0939\\u0948 \\u0915\\u093f \\u0938\\u092e\\u093e\\u091c \\u0915\\u0940 \\u0907\\u0938 \\u0938\\u094b\\u091a \\u0915\\u094b \\u092c\\u0926\\u0932\\u0928\\u093e \\u0906\\u0938\\u093e\\u0928 \\u0928\\u0939\\u0940\\u0902 \\u0939\\u0948 \\u0914\\u0930 \\u092f\\u0939 \\u090f\\u0915 \\u0932\\u0902\\u092c\\u0940 \\u0932\\u0921\\u093c\\u093e\\u0908 \\u0939\\u0948. \\u0921\\u0949\\u0915\\u094d\\u091f\\u0930 \\u0930\\u0916 \\u0938\\u0947 \\u092e\\u093f\\u0932\\u0928\\u0947 \\u092c\\u0940\\u092c\\u0940\\u0938\\u0940 \\u0915\\u0940 \\u091f\\u0940\\u092e \\u091c\\u092c \\u0909\\u0928\\u0915\\u0947 \\u0905\\u0938\\u094d\\u092a\\u0924\\u093e\\u0932 \\u092a\\u0939\\u0941\\u0902\\u091a\\u0940 \\u0924\\u094b \\u092e\\u0941\\u0932\\u093e\\u0915\\u093c\\u093e\\u0924 \\u0939\\u0941\\u0908 \\u0930\\u093f\\u091c\\u093c\\u0935\\u093e\\u0928\\u093e \\u0936\\u0947\\u0916 \\u0938\\u0947. \\u0930\\u093f\\u091c\\u093c\\u0935\\u093e\\u0928\\u093e \\u0928\\u0947 \\u0939\\u092e\\u0947\\u0902 \\u092c\\u0924\\u093e\\u092f\\u093e, ''\\u090f\\u0915 \\u0939\\u092b\\u094d\\u093c\\u0924\\u093e \\u092a\\u0939\\u0932\\u0947 \\u0907\\u0938 \\u0905\\u0938\\u094d\\u092a\\u0924\\u093e\\u0932 \\u092e\\u0947\\u0902 \\u092e\\u0947\\u0930\\u0940 \\u0921\\u093f\\u0932\\u0940\\u0935\\u0930\\u0940 \\u0939\\u0941\\u0908 \\u0939\\u0948. \\u0932\\u0921\\u093c\\u0915\\u0940 \\u0939\\u0941\\u0908 \\u092f\\u0947 \\u0938\\u0941\\u0928\\u0915\\u0930 \\u0918\\u0930\\u0935\\u093e\\u0932\\u0947 \\u0938\\u092c \\u091a\\u0932\\u0947 \\u0917\\u090f. \\u0905\\u092c \\u0924\\u0915 \\u092e\\u0947\\u0930\\u0940 \\u0938\\u0938\\u0941\\u0930\\u093e\\u0932 \\u0938\\u0947 \\u0915\\u094b\\u0908 \\u0928\\u0939\\u0940\\u0902 \\u0906\\u092f\\u093e \\u0939\\u0948. \\u0921\\u0949\\u0915\\u094d\\u091f\\u0930 \\u0928\\u0947 \\u092b\\u093c\\u0940\\u0938 \\u0928\\u0939\\u0940\\u0902 \\u0932\\u0940 \\u0939\\u0948 \\u0914\\u0930 \\u092e\\u0947\\u0930\\u0947 \\u092e\\u093e\\u0924\\u093e-\\u092a\\u093f\\u0924\\u093e \\u0939\\u0940 \\u092e\\u0947\\u0930\\u0940 \\u0926\\u0947\\u0916\\u092d\\u093e\\u0932 \\u0915\\u0930 \\u0930\\u0939\\u0947 \\u0939\\u0948\\u0902. \\u092e\\u0941\\u091d\\u0947 \\u0932\\u0917\\u0924\\u093e \\u0939\\u0948 \\u0915\\u093f \\u092e\\u0947\\u0930\\u0947 \\u0938\\u0938\\u0941\\u0930\\u093e\\u0932 \\u0935\\u093e\\u0932\\u0947 \\u092e\\u0941\\u091d\\u0947 \\u0928\\u0939\\u0940\\u0902 \\u0930\\u0916\\u0947\\u0902\\u0917\\u0947.'' \\u0915\\u0908 \\u0917\\u093e\\u0902\\u0935 \\u091c\\u0941\\u0921\\u093c\\u0947 \\u0907\\u0938 \\u092e\\u0941\\u0939\\u093f\\u092e \\u0915\\u094b \\u091c\\u093c\\u094d\\u092f\\u093e\\u0926\\u093e \\u0938\\u0947 \\u091c\\u093c\\u094d\\u092f\\u093e\\u0926\\u093e \\u0932\\u094b\\u0917\\u094b\\u0902 \\u0924\\u0915 \\u092a\\u0939\\u0941\\u0902\\u091a\\u093e\\u0928\\u0947 \\u0914\\u0930 \\u092a\\u0930\\u093f\\u0935\\u093e\\u0930 \\u0915\\u0947 \\u0932\\u094b\\u0917\\u094b\\u0902 \\u0915\\u094b \\u0907\\u0938\\u092e\\u0947\\u0902 \\u0936\\u093e\\u092e\\u093f\\u0932 \\u0915\\u0930\\u0928\\u0947 \\u0915\\u0947 \\u0932\\u093f\\u090f \\u092a\\u0941\\u0923\\u0947 \\u0915\\u0947 \\u0906\\u0938\\u092a\\u093e\\u0938 \\u0915\\u0947 \\u0915\\u0908 \\u0917\\u094d\\u0930\\u093e\\u092e \\u092a\\u094d\\u0930\\u0927\\u093e\\u0928\\u094b\\u0902 \\u0928\\u0947 \\u0921\\u0949\\u0915\\u094d\\u091f\\u0930 \\u0930\\u0916 \\u0938\\u0947 \\u0938\\u0902\\u092a\\u0930\\u094d\\u0915 \\u0915\\u093f\\u092f\\u093e \\u0914\\u0930 \\u0905\\u092a\\u0928\\u0947 \\u0907\\u0932\\u093e\\u0915\\u093c\\u094b\\u0902 \\u092e\\u0947\\u0902 \\u0907\\u0938\\u0915\\u0940 \\u0936\\u0941\\u0930\\u0941\\u0906\\u0924 \\u0915\\u0940. \\u092c\\u093f\\u091f\\u0932\\u093e \\u0917\\u093e\\u0902\\u0935 \\u0915\\u0940 \\u0938\\u0930\\u092a\\u0902\\u091a \\u0915\\u0902\\u091a\\u0928 \\u0924\\u0942\\u092a\\u0947 \\u0928\\u0947 \\u092c\\u0924\\u093e\\u092f\\u093e, ''\\u0939\\u092e\\u093e\\u0930\\u0947 \\u0917\\u093e\\u0902\\u0935 \\u0938\\u0947 \\u0915\\u0908 \\u0932\\u094b\\u0917 \\u0907\\u0938 \\u0905\\u0938\\u094d\\u092a\\u0924\\u093e\\u0932 \\u092e\\u0947\\u0902 \\u091c\\u093e\\u0924\\u0947 \\u0925\\u0947. \\u0910\\u0938\\u0947 \\u092e\\u0947\\u0902 \\u0939\\u092e\\u0928\\u0947 \\u092a\\u0930\\u093f\\u0935\\u093e\\u0930\\u094b\\u0902 \\u0915\\u094b \\u0938\\u092e\\u091d\\u093e\\u0928\\u093e \\u0936\\u0941\\u0930\\u0942 \\u0915\\u093f\\u092f\\u093e \\u0915\\u093f \\u0932\\u0921\\u093c\\u0915\\u093e-\\u0932\\u0921\\u093c\\u0915\\u0940 \\u0915\\u0947 \\u092d\\u0947\\u0926\\u092d\\u093e\\u0935 \\u0938\\u0947 \\u0915\\u094b\\u0908 \\u092b\\u093c\\u093e\\u092f\\u0926\\u093e \\u0928\\u0939\\u0940\\u0902 \\u0914\\u0930 \\u0932\\u0921\\u093c\\u0915\\u0940 \\u092d\\u0940 \\u0909\\u0924\\u0928\\u0940 \\u0939\\u0940 \\u0905\\u0928\\u092e\\u094b\\u0932 \\u0939\\u0948. \\u0932\\u0921\\u093c\\u0915\\u0940 \\u092a\\u0948\\u0926\\u093e \\u0939\\u094b\\u0928\\u0947 \\u092a\\u0930 \\u0939\\u092e \\u0909\\u0938\\u0915\\u0947 \\u0928\\u093e\\u092e \\u092a\\u0930 \\u0926\\u094b \\u0939\\u091c\\u093c\\u093e\\u0930 \\u0930\\u0941\\u092a\\u090f \\u0915\\u0940 \\u090f\\u092b\\u093c\\u0921\\u0940 \\u0915\\u0930\\u093e\\u0924\\u0947 \\u0939\\u0948\\u0902 \\u0914\\u0930 \\u0932\\u094b\\u0917\\u094b\\u0902 \\u0915\\u094b \\u0907\\u0938 \\u092c\\u093e\\u0924 \\u0915\\u0947 \\u0932\\u093f\\u090f \\u0938\\u092e\\u091d\\u093e\\u0924\\u0947 \\u0939\\u0948\\u0902 \\u0915\\u093f \\u0935\\u094b \\u0905\\u092a\\u0928\\u0947 \\u0918\\u0930\\u094b\\u0902 \\u092e\\u0947\\u0902 \\u092d\\u0947\\u0926\\u092d\\u093e\\u0935 \\u0928 \\u0915\\u0930\\u0947\\u0902.'' \\u0921\\u0949\\u0915\\u094d\\u091f\\u0930 \\u0930\\u0916 \\u0907\\u0938 \\u092e\\u0941\\u0939\\u093f\\u092e \\u0915\\u094b \\u0924\\u092c \\u0924\\u0915 \\u091c\\u093e\\u0930\\u0940 \\u0930\\u0916\\u0928\\u093e \\u091a\\u093e\\u0939\\u0924\\u0947 \\u0939\\u0948\\u0902 \\u091c\\u092c \\u0924\\u0915 \\u0932\\u0921\\u093c\\u0915\\u0940 \\u0915\\u0947 \\u091c\\u0928\\u094d\\u092e \\u092a\\u0930 \\u0932\\u094b\\u0917 \\u092e\\u093e\\u092f\\u0942\\u0938\\u0940 \\u0938\\u0947 \\u0928\\u0939\\u0940\\u0902 \\u092e\\u0941\\u0938\\u094d\\u0915\\u0941\\u0930\\u093e\\u0939\\u091f \\u0938\\u0947 \\u0909\\u0938\\u0915\\u093e \\u0938\\u094d\\u0935\\u093e\\u0917\\u0924 \\u0915\\u0930\\u0947\\u0902. \\u0935\\u094b \\u091a\\u093e\\u0939\\u0924\\u0947 \\u0939\\u0948\\u0902 \\u0915\\u093f \\u091c\\u093c\\u094d\\u092f\\u093e\\u0926\\u093e \\u0938\\u0947 \\u091c\\u093c\\u094d\\u092f\\u093e\\u0926\\u093e \\u0921\\u0949\\u0915\\u094d\\u091f\\u0930 \\u0907\\u0938 \\u0924\\u0930\\u0939 \\u0915\\u0940 \\u0915\\u094b\\u0936\\u093f\\u0936\\u0947\\u0902 \\u0936\\u0941\\u0930\\u0942 \\u0915\\u0930\\u0947\\u0902 \\u0915\\u094d\\u092f\\u094b\\u0902\\u0915\\u093f \\u0932\\u093f\\u0902\\u0917 \\u092a\\u0930\\u0940\\u0915\\u094d\\u0937\\u0923 \\u0914\\u0930 \\u0926\\u0935\\u093e\\u0913\\u0902 \\u0915\\u0947 \\u091c\\u093c\\u0930\\u093f\\u090f \\u0932\\u0921\\u093c\\u0915\\u093e \\u092a\\u0948\\u0926\\u093e \\u0939\\u094b\\u0928\\u0947 \\u0915\\u0940 \\u091a\\u093e\\u0939\\u0924 \\u092a\\u0942\\u0930\\u093e \\u0915\\u0930\\u0928\\u0947 \\u092e\\u0947\\u0902 \\u0921\\u0949\\u0915\\u094d\\u091f\\u0930 \\u0905\\u0939\\u092e \\u092d\\u0942\\u092e\\u093f\\u0915\\u093e \\u0928\\u093f\\u092d\\u093e\\u0924\\u0947 \\u0939\\u0948\\u0902. (\\u092c\\u0940\\u092c\\u0940\\u0938\\u0940 \\u0939\\u093f\\u0928\\u094d\\u0926\\u0940 \\u0915\\u0947 \\u090f\\u0902\\u0921\\u094d\\u0930\\u0949\\u090f\\u0921 \\u0910\\u092a \\u0915\\u0947 \\u0932\\u093f\\u090f \\u092f\\u0939\\u093e\\u0902 \\u0915\\u094d\\u0932\\u093f\\u0915 \\u0915\\u0930\\u0947\\u0902. \\u0906\\u092a \\u0939\\u092e\\u0947\\u0902 \\u092b\\u093c\\u0947\\u0938\\u092c\\u0941\\u0915 \\u0914\\u0930 \\u091f\\u094d\\u0935\\u093f\\u091f\\u0930 \\u092a\\u0930 \\u092d\\u0940 \\u092b\\u093c\\u0949\\u0932\\u094b \\u0915\\u0930 \\u0938\\u0915\\u0924\\u0947 \\u0939\\u0948\\u0902.)\",\n          \"\\u0909\\u091a\\u094d\\u091a\\u0924\\u092e \\u0928\\u094d\\u092f\\u093e\\u092f\\u093e\\u0932\\u092f \\u0926\\u094d\\u0935\\u093e\\u0930\\u093e \\u0930\\u093e\\u092e \\u0938\\u0947\\u0924\\u0941 \\u092a\\u0930 \\u0915\\u0947\\u0928\\u094d\\u0926\\u094d\\u0930 \\u0915\\u093e \\u0930\\u0942\\u0916 \\u092a\\u0942\\u091b\\u0928\\u0947 \\u0915\\u0947 \\u090f\\u0915 \\u0926\\u093f\\u0928 \\u092c\\u093e\\u0926 \\u0924\\u092e\\u093f\\u0932\\u0928\\u093e\\u0921\\u0941 \\u0915\\u0940 \\u092e\\u0941\\u0916\\u094d\\u092f\\u092e\\u0902\\u0924\\u094d\\u0930\\u0940 \\u091c\\u092f\\u0932\\u0932\\u093f\\u0924\\u093e \\u0928\\u0947 \\u092c\\u0941\\u0927\\u0935\\u093e\\u0930 \\u0915\\u094b \\u0915\\u0947\\u0928\\u094d\\u0926\\u094d\\u0930 \\u0938\\u0930\\u0915\\u093e\\u0930 \\u0938\\u0947 \\u0907\\u0938 \\u0938\\u0947\\u0924\\u0941 \\u0915\\u094b \\u091c\\u0932\\u094d\\u0926 \\u0930\\u093e\\u0937\\u094d\\u091f\\u094d\\u0930\\u0940\\u092f \\u0938\\u094d\\u092e\\u093e\\u0930\\u0915 \\u0918\\u094b\\u0937\\u093f\\u0924 \\u0915\\u0930\\u0928\\u0947 \\u0915\\u093e \\u0905\\u0928\\u0941\\u0930\\u094b\\u0927 \\u0915\\u093f\\u092f\\u093e\\u0964 \\u092a\\u094d\\u0930\\u0927\\u093e\\u0928\\u092e\\u0902\\u0924\\u094d\\u0930\\u0940 \\u092e\\u0928\\u092e\\u094b\\u0939\\u0928 \\u0938\\u093f\\u0902\\u0939 \\u0915\\u094b \\u0932\\u093f\\u0916\\u0947 \\u092a\\u0924\\u094d\\u0930 \\u092e\\u0947\\u0902 \\u091c\\u092f\\u0932\\u0932\\u093f\\u0924\\u093e \\u0928\\u0947 \\u0915\\u0939\\u093e \\u0915\\u093f \\u0930\\u093e\\u091c\\u094d\\u092f \\u0938\\u0930\\u0915\\u093e\\u0930 \\u0909\\u091a\\u094d\\u091a\\u0924\\u092e \\u0928\\u094d\\u092f\\u093e\\u092f\\u093e\\u0932\\u092f \\u0915\\u0947 \\u0938\\u093e\\u092e\\u0928\\u0947 \\u0907\\u0938 \\u092e\\u0941\\u0926\\u094d\\u0926\\u0947 \\u092a\\u0930 \\u0905\\u092a\\u0928\\u093e \\u0930\\u0942\\u0916 \\u0935\\u094d\\u092f\\u0915\\u094d\\u0924 \\u0915\\u0930\\u0947\\u0917\\u0940\\u0964 \\u0936\\u0940\\u0930\\u094d\\u0937 \\u0905\\u0926\\u093e\\u0932\\u0924 \\u092e\\u0947\\u0902 \\u0907\\u0938 \\u092e\\u093e\\u092e\\u0932\\u0947 \\u092a\\u0930 \\u0938\\u0941\\u0928\\u0935\\u093e\\u0908 29 \\u092e\\u093e\\u0930\\u094d\\u091a \\u0924\\u0915 \\u0915\\u0947 \\u0932\\u093f\\u090f \\u091f\\u0932 \\u0917\\u0908 \\u0939\\u0948\\u0964\\u091f\\u093f\\u092a\\u094d\\u092a\\u0923\\u093f\\u092f\\u093e\\u0902 \\u0909\\u0928\\u094d\\u0939\\u094b\\u0902\\u0928\\u0947 \\u0915\\u0939\\u093e \\u0915\\u093f \\u0907\\u0938\\u0915\\u0947 \\u092a\\u0941\\u0930\\u093e\\u0924\\u0924\\u094d\\u0935 \\u0910\\u0924\\u093f\\u0939\\u093e\\u0938\\u093f\\u0915 \\u0914\\u0930 \\u0938\\u093e\\u0902\\u0938\\u094d\\u0915\\u0943\\u0924\\u093f\\u0915 \\u092e\\u0939\\u0924\\u094d\\u0935 \\u0915\\u0947 \\u0915\\u093e\\u0930\\u0923 \\u092a\\u093f\\u091b\\u0932\\u0940 \\u092c\\u093e\\u0930 \\u091c\\u0924\\u093e\\u0908 \\u0917\\u0908 \\u0906\\u092a\\u0924\\u094d\\u0924\\u093f \\u0915\\u094b \\u0926\\u0947\\u0916\\u0924\\u0947 \\u0939\\u0941\\u090f \\u092e\\u0948\\u0902 \\u0906\\u092a\\u0938\\u0947 \\u0909\\u091a\\u094d\\u091a\\u0924\\u092e \\u0928\\u094d\\u092f\\u093e\\u092f\\u093e\\u0932\\u092f \\u092e\\u0947\\u0902 \\u092d\\u093e\\u0930\\u0924 \\u0938\\u0930\\u0915\\u093e\\u0930 \\u0915\\u0947 \\u0930\\u0942\\u0916 \\u0915\\u094b \\u092c\\u0924\\u093e\\u0928\\u0947 \\u0915\\u0947 \\u0938\\u092e\\u092f \\u092f\\u0939 \\u091c\\u0930\\u0942\\u0930\\u0940 \\u0915\\u0926\\u092e \\u0909\\u0920\\u093e\\u0928\\u0947 \\u0915\\u093e \\u0905\\u0928\\u0941\\u0930\\u094b\\u0927 \\u0915\\u0930\\u0924\\u0940 \\u0939\\u0942\\u0902 \\u0915\\u093f \\u0915\\u0947\\u0928\\u094d\\u0926\\u094d\\u0930 \\u0938\\u0930\\u0915\\u093e\\u0930 \\u092c\\u093f\\u0928\\u093e \\u0915\\u094b\\u0908 \\u0926\\u0947\\u0930\\u0940 \\u0915\\u0930\\u0947 \\u0907\\u0938 \\u0938\\u094d\\u0925\\u0932 \\u0915\\u094b \\u0930\\u093e\\u0937\\u094d\\u091f\\u094d\\u0930\\u0940\\u092f \\u0938\\u094d\\u092e\\u093e\\u0930\\u0915 \\u0918\\u094b\\u0937\\u093f\\u0924 \\u0915\\u0930\\u0928\\u0947 \\u0915\\u0940 \\u0926\\u093f\\u0936\\u093e \\u092e\\u0947\\u0902 \\u0924\\u0924\\u094d\\u0915\\u093e\\u0932 \\u0915\\u0926\\u092e \\u0909\\u0920\\u093e\\u090f\\u0917\\u0940\\u0964 \\u0909\\u0928\\u094d\\u0939\\u094b\\u0902\\u0928\\u0947 \\u0915\\u0939\\u093e \\u0915\\u093f \\u0936\\u0940\\u0930\\u094d\\u0937 \\u0905\\u0926\\u093e\\u0932\\u0924 \\u0928\\u0947 \\u0917\\u0941\\u0930\\u0942\\u0935\\u093e\\u0930 \\u0915\\u094b \\u0938\\u0941\\u0928\\u0935\\u093e\\u0908 \\u0915\\u0947 \\u0926\\u094c\\u0930\\u093e\\u0928 \\u0905\\u0924\\u093f\\u0930\\u093f\\u0915\\u094d\\u0924 \\u0938\\u093e\\u0932\\u093f\\u0938\\u093f\\u091f\\u0930 \\u091c\\u0928\\u0930\\u0932 \\u0915\\u094b \\u0907\\u0938 \\u0938\\u094d\\u0925\\u0932 \\u0915\\u094b \\u0930\\u093e\\u0937\\u094d\\u091f\\u094d\\u0930\\u0940\\u092f \\u0938\\u094d\\u092e\\u093e\\u0930\\u0915 \\u0918\\u094b\\u0937\\u093f\\u0924 \\u0915\\u0930\\u0928\\u0947 \\u0915\\u094b \\u0932\\u0947\\u0915\\u0930 \\u0915\\u0947\\u0928\\u094d\\u0926\\u094d\\u0930 \\u0915\\u0940 \\u091f\\u093f\\u092a\\u094d\\u092a\\u0923\\u0940 \\u092c\\u0924\\u093e\\u0928\\u0947 \\u0915\\u093e \\u0928\\u093f\\u0930\\u094d\\u0926\\u0947\\u0936 \\u0926\\u093f\\u092f\\u093e \\u0939\\u0948\\u0964 \\u091c\\u092f\\u0932\\u0932\\u093f\\u0924\\u093e \\u0928\\u0947 \\u0915\\u0939\\u093e \\u0915\\u093f \\u0938\\u0947\\u0924\\u0941 \\u0938\\u092e\\u0941\\u0926\\u094d\\u0930\\u092e \\u092a\\u0930\\u093f\\u092f\\u094b\\u091c\\u0928\\u093e \\u0915\\u0947 \\u0938\\u0902\\u092c\\u0902\\u0927 \\u092e\\u0947\\u0902 \\u0909\\u091a\\u094d\\u091a\\u0924\\u092e \\u0928\\u094d\\u092f\\u093e\\u092f\\u093e\\u0932\\u092f \\u092e\\u0947\\u0902 \\u092f\\u093e\\u091a\\u093f\\u0915\\u093e\\u090f\\u0902 \\u0926\\u093e\\u092f\\u0930 \\u0915\\u0940 \\u0917\\u0908 \\u0939\\u0948\\u0902\\u0964 \\u092a\\u094d\\u0930\\u0927\\u093e\\u0928\\u092e\\u0902\\u0924\\u094d\\u0930\\u0940 \\u092e\\u0928\\u092e\\u094b\\u0939\\u0928 \\u0938\\u093f\\u0902\\u0939 \\u0915\\u094b \\u0932\\u093f\\u0916\\u0947 \\u092a\\u0924\\u094d\\u0930 \\u092e\\u0947\\u0902 \\u091c\\u092f\\u0932\\u0932\\u093f\\u0924\\u093e \\u0928\\u0947 \\u0915\\u0939\\u093e \\u0915\\u093f \\u0930\\u093e\\u091c\\u094d\\u092f \\u0938\\u0930\\u0915\\u093e\\u0930 \\u0909\\u091a\\u094d\\u091a\\u0924\\u092e \\u0928\\u094d\\u092f\\u093e\\u092f\\u093e\\u0932\\u092f \\u0915\\u0947 \\u0938\\u093e\\u092e\\u0928\\u0947 \\u0907\\u0938 \\u092e\\u0941\\u0926\\u094d\\u0926\\u0947 \\u092a\\u0930 \\u0905\\u092a\\u0928\\u093e \\u0930\\u0942\\u0916 \\u0935\\u094d\\u092f\\u0915\\u094d\\u0924 \\u0915\\u0930\\u0947\\u0917\\u0940\\u0964 \\u0936\\u0940\\u0930\\u094d\\u0937 \\u0905\\u0926\\u093e\\u0932\\u0924 \\u092e\\u0947\\u0902 \\u0907\\u0938 \\u092e\\u093e\\u092e\\u0932\\u0947 \\u092a\\u0930 \\u0938\\u0941\\u0928\\u0935\\u093e\\u0908 29 \\u092e\\u093e\\u0930\\u094d\\u091a \\u0924\\u0915 \\u0915\\u0947 \\u0932\\u093f\\u090f \\u091f\\u0932 \\u0917\\u0908 \\u0939\\u0948\\u0964\\u091f\\u093f\\u092a\\u094d\\u092a\\u0923\\u093f\\u092f\\u093e\\u0902 \\u0909\\u0928\\u094d\\u0939\\u094b\\u0902\\u0928\\u0947 \\u0915\\u0939\\u093e \\u0915\\u093f \\u0907\\u0938\\u0915\\u0947 \\u092a\\u0941\\u0930\\u093e\\u0924\\u0924\\u094d\\u0935 \\u0910\\u0924\\u093f\\u0939\\u093e\\u0938\\u093f\\u0915 \\u0914\\u0930 \\u0938\\u093e\\u0902\\u0938\\u094d\\u0915\\u0943\\u0924\\u093f\\u0915 \\u092e\\u0939\\u0924\\u094d\\u0935 \\u0915\\u0947 \\u0915\\u093e\\u0930\\u0923 \\u092a\\u093f\\u091b\\u0932\\u0940 \\u092c\\u093e\\u0930 \\u091c\\u0924\\u093e\\u0908 \\u0917\\u0908 \\u0906\\u092a\\u0924\\u094d\\u0924\\u093f \\u0915\\u094b \\u0926\\u0947\\u0916\\u0924\\u0947 \\u0939\\u0941\\u090f \\u092e\\u0948\\u0902 \\u0906\\u092a\\u0938\\u0947 \\u0909\\u091a\\u094d\\u091a\\u0924\\u092e \\u0928\\u094d\\u092f\\u093e\\u092f\\u093e\\u0932\\u092f \\u092e\\u0947\\u0902 \\u092d\\u093e\\u0930\\u0924 \\u0938\\u0930\\u0915\\u093e\\u0930 \\u0915\\u0947 \\u0930\\u0942\\u0916 \\u0915\\u094b \\u092c\\u0924\\u093e\\u0928\\u0947 \\u0915\\u0947 \\u0938\\u092e\\u092f \\u092f\\u0939 \\u091c\\u0930\\u0942\\u0930\\u0940 \\u0915\\u0926\\u092e \\u0909\\u0920\\u093e\\u0928\\u0947 \\u0915\\u093e \\u0905\\u0928\\u0941\\u0930\\u094b\\u0927 \\u0915\\u0930\\u0924\\u0940 \\u0939\\u0942\\u0902 \\u0915\\u093f \\u0915\\u0947\\u0928\\u094d\\u0926\\u094d\\u0930 \\u0938\\u0930\\u0915\\u093e\\u0930 \\u092c\\u093f\\u0928\\u093e \\u0915\\u094b\\u0908 \\u0926\\u0947\\u0930\\u0940 \\u0915\\u0930\\u0947 \\u0907\\u0938 \\u0938\\u094d\\u0925\\u0932 \\u0915\\u094b \\u0930\\u093e\\u0937\\u094d\\u091f\\u094d\\u0930\\u0940\\u092f \\u0938\\u094d\\u092e\\u093e\\u0930\\u0915 \\u0918\\u094b\\u0937\\u093f\\u0924 \\u0915\\u0930\\u0928\\u0947 \\u0915\\u0940 \\u0926\\u093f\\u0936\\u093e \\u092e\\u0947\\u0902 \\u0924\\u0924\\u094d\\u0915\\u093e\\u0932 \\u0915\\u0926\\u092e \\u0909\\u0920\\u093e\\u090f\\u0917\\u0940\\u0964 \\u0909\\u0928\\u094d\\u0939\\u094b\\u0902\\u0928\\u0947 \\u0915\\u0939\\u093e \\u0915\\u093f \\u0936\\u0940\\u0930\\u094d\\u0937 \\u0905\\u0926\\u093e\\u0932\\u0924 \\u0928\\u0947 \\u0917\\u0941\\u0930\\u0942\\u0935\\u093e\\u0930 \\u0915\\u094b \\u0938\\u0941\\u0928\\u0935\\u093e\\u0908 \\u0915\\u0947 \\u0926\\u094c\\u0930\\u093e\\u0928 \\u0905\\u0924\\u093f\\u0930\\u093f\\u0915\\u094d\\u0924 \\u0938\\u093e\\u0932\\u093f\\u0938\\u093f\\u091f\\u0930 \\u091c\\u0928\\u0930\\u0932 \\u0915\\u094b \\u0907\\u0938 \\u0938\\u094d\\u0925\\u0932 \\u0915\\u094b \\u0930\\u093e\\u0937\\u094d\\u091f\\u094d\\u0930\\u0940\\u092f \\u0938\\u094d\\u092e\\u093e\\u0930\\u0915 \\u0918\\u094b\\u0937\\u093f\\u0924 \\u0915\\u0930\\u0928\\u0947 \\u0915\\u094b \\u0932\\u0947\\u0915\\u0930 \\u0915\\u0947\\u0928\\u094d\\u0926\\u094d\\u0930 \\u0915\\u0940 \\u091f\\u093f\\u092a\\u094d\\u092a\\u0923\\u0940 \\u092c\\u0924\\u093e\\u0928\\u0947 \\u0915\\u093e \\u0928\\u093f\\u0930\\u094d\\u0926\\u0947\\u0936 \\u0926\\u093f\\u092f\\u093e \\u0939\\u0948\\u0964 \\u091c\\u092f\\u0932\\u0932\\u093f\\u0924\\u093e \\u0928\\u0947 \\u0915\\u0939\\u093e \\u0915\\u093f \\u0938\\u0947\\u0924\\u0941 \\u0938\\u092e\\u0941\\u0926\\u094d\\u0930\\u092e \\u092a\\u0930\\u093f\\u092f\\u094b\\u091c\\u0928\\u093e \\u0915\\u0947 \\u0938\\u0902\\u092c\\u0902\\u0927 \\u092e\\u0947\\u0902 \\u0909\\u091a\\u094d\\u091a\\u0924\\u092e \\u0928\\u094d\\u092f\\u093e\\u092f\\u093e\\u0932\\u092f \\u092e\\u0947\\u0902 \\u092f\\u093e\\u091a\\u093f\\u0915\\u093e\\u090f\\u0902 \\u0926\\u093e\\u092f\\u0930 \\u0915\\u0940 \\u0917\\u0908 \\u0939\\u0948\\u0902\\u0964 \\u0909\\u0928\\u094d\\u0939\\u094b\\u0902\\u0928\\u0947 \\u0915\\u0939\\u093e \\u0915\\u093f \\u0907\\u0938\\u0915\\u0947 \\u092a\\u0941\\u0930\\u093e\\u0924\\u0924\\u094d\\u0935 \\u0910\\u0924\\u093f\\u0939\\u093e\\u0938\\u093f\\u0915 \\u0914\\u0930 \\u0938\\u093e\\u0902\\u0938\\u094d\\u0915\\u0943\\u0924\\u093f\\u0915 \\u092e\\u0939\\u0924\\u094d\\u0935 \\u0915\\u0947 \\u0915\\u093e\\u0930\\u0923 \\u092a\\u093f\\u091b\\u0932\\u0940 \\u092c\\u093e\\u0930 \\u091c\\u0924\\u093e\\u0908 \\u0917\\u0908 \\u0906\\u092a\\u0924\\u094d\\u0924\\u093f \\u0915\\u094b \\u0926\\u0947\\u0916\\u0924\\u0947 \\u0939\\u0941\\u090f \\u092e\\u0948\\u0902 \\u0906\\u092a\\u0938\\u0947 \\u0909\\u091a\\u094d\\u091a\\u0924\\u092e \\u0928\\u094d\\u092f\\u093e\\u092f\\u093e\\u0932\\u092f \\u092e\\u0947\\u0902 \\u092d\\u093e\\u0930\\u0924 \\u0938\\u0930\\u0915\\u093e\\u0930 \\u0915\\u0947 \\u0930\\u0942\\u0916 \\u0915\\u094b \\u092c\\u0924\\u093e\\u0928\\u0947 \\u0915\\u0947 \\u0938\\u092e\\u092f \\u092f\\u0939 \\u091c\\u0930\\u0942\\u0930\\u0940 \\u0915\\u0926\\u092e \\u0909\\u0920\\u093e\\u0928\\u0947 \\u0915\\u093e \\u0905\\u0928\\u0941\\u0930\\u094b\\u0927 \\u0915\\u0930\\u0924\\u0940 \\u0939\\u0942\\u0902 \\u0915\\u093f \\u0915\\u0947\\u0928\\u094d\\u0926\\u094d\\u0930 \\u0938\\u0930\\u0915\\u093e\\u0930 \\u092c\\u093f\\u0928\\u093e \\u0915\\u094b\\u0908 \\u0926\\u0947\\u0930\\u0940 \\u0915\\u0930\\u0947 \\u0907\\u0938 \\u0938\\u094d\\u0925\\u0932 \\u0915\\u094b \\u0930\\u093e\\u0937\\u094d\\u091f\\u094d\\u0930\\u0940\\u092f \\u0938\\u094d\\u092e\\u093e\\u0930\\u0915 \\u0918\\u094b\\u0937\\u093f\\u0924 \\u0915\\u0930\\u0928\\u0947 \\u0915\\u0940 \\u0926\\u093f\\u0936\\u093e \\u092e\\u0947\\u0902 \\u0924\\u0924\\u094d\\u0915\\u093e\\u0932 \\u0915\\u0926\\u092e \\u0909\\u0920\\u093e\\u090f\\u0917\\u0940\\u0964 \\u0909\\u0928\\u094d\\u0939\\u094b\\u0902\\u0928\\u0947 \\u0915\\u0939\\u093e \\u0915\\u093f \\u0936\\u0940\\u0930\\u094d\\u0937 \\u0905\\u0926\\u093e\\u0932\\u0924 \\u0928\\u0947 \\u0917\\u0941\\u0930\\u0942\\u0935\\u093e\\u0930 \\u0915\\u094b \\u0938\\u0941\\u0928\\u0935\\u093e\\u0908 \\u0915\\u0947 \\u0926\\u094c\\u0930\\u093e\\u0928 \\u0905\\u0924\\u093f\\u0930\\u093f\\u0915\\u094d\\u0924 \\u0938\\u093e\\u0932\\u093f\\u0938\\u093f\\u091f\\u0930 \\u091c\\u0928\\u0930\\u0932 \\u0915\\u094b \\u0907\\u0938 \\u0938\\u094d\\u0925\\u0932 \\u0915\\u094b \\u0930\\u093e\\u0937\\u094d\\u091f\\u094d\\u0930\\u0940\\u092f \\u0938\\u094d\\u092e\\u093e\\u0930\\u0915 \\u0918\\u094b\\u0937\\u093f\\u0924 \\u0915\\u0930\\u0928\\u0947 \\u0915\\u094b \\u0932\\u0947\\u0915\\u0930 \\u0915\\u0947\\u0928\\u094d\\u0926\\u094d\\u0930 \\u0915\\u0940 \\u091f\\u093f\\u092a\\u094d\\u092a\\u0923\\u0940 \\u092c\\u0924\\u093e\\u0928\\u0947 \\u0915\\u093e \\u0928\\u093f\\u0930\\u094d\\u0926\\u0947\\u0936 \\u0926\\u093f\\u092f\\u093e \\u0939\\u0948\\u0964 \\u091c\\u092f\\u0932\\u0932\\u093f\\u0924\\u093e \\u0928\\u0947 \\u0915\\u0939\\u093e \\u0915\\u093f \\u0938\\u0947\\u0924\\u0941 \\u0938\\u092e\\u0941\\u0926\\u094d\\u0930\\u092e \\u092a\\u0930\\u093f\\u092f\\u094b\\u091c\\u0928\\u093e \\u0915\\u0947 \\u0938\\u0902\\u092c\\u0902\\u0927 \\u092e\\u0947\\u0902 \\u0909\\u091a\\u094d\\u091a\\u0924\\u092e \\u0928\\u094d\\u092f\\u093e\\u092f\\u093e\\u0932\\u092f \\u092e\\u0947\\u0902 \\u092f\\u093e\\u091a\\u093f\\u0915\\u093e\\u090f\\u0902 \\u0926\\u093e\\u092f\\u0930 \\u0915\\u0940 \\u0917\\u0908 \\u0939\\u0948\\u0902\\u0964 \\u0909\\u0928\\u094d\\u0939\\u094b\\u0902\\u0928\\u0947 \\u0915\\u0939\\u093e \\u0915\\u093f \\u0936\\u0940\\u0930\\u094d\\u0937 \\u0905\\u0926\\u093e\\u0932\\u0924 \\u0928\\u0947 \\u0917\\u0941\\u0930\\u0942\\u0935\\u093e\\u0930 \\u0915\\u094b \\u0938\\u0941\\u0928\\u0935\\u093e\\u0908 \\u0915\\u0947 \\u0926\\u094c\\u0930\\u093e\\u0928 \\u0905\\u0924\\u093f\\u0930\\u093f\\u0915\\u094d\\u0924 \\u0938\\u093e\\u0932\\u093f\\u0938\\u093f\\u091f\\u0930 \\u091c\\u0928\\u0930\\u0932 \\u0915\\u094b \\u0907\\u0938 \\u0938\\u094d\\u0925\\u0932 \\u0915\\u094b \\u0930\\u093e\\u0937\\u094d\\u091f\\u094d\\u0930\\u0940\\u092f \\u0938\\u094d\\u092e\\u093e\\u0930\\u0915 \\u0918\\u094b\\u0937\\u093f\\u0924 \\u0915\\u0930\\u0928\\u0947 \\u0915\\u094b \\u0932\\u0947\\u0915\\u0930 \\u0915\\u0947\\u0928\\u094d\\u0926\\u094d\\u0930 \\u0915\\u0940 \\u091f\\u093f\\u092a\\u094d\\u092a\\u0923\\u0940 \\u092c\\u0924\\u093e\\u0928\\u0947 \\u0915\\u093e \\u0928\\u093f\\u0930\\u094d\\u0926\\u0947\\u0936 \\u0926\\u093f\\u092f\\u093e \\u0939\\u0948\\u0964 \\u091c\\u092f\\u0932\\u0932\\u093f\\u0924\\u093e \\u0928\\u0947 \\u0915\\u0939\\u093e \\u0915\\u093f \\u0938\\u0947\\u0924\\u0941 \\u0938\\u092e\\u0941\\u0926\\u094d\\u0930\\u092e \\u092a\\u0930\\u093f\\u092f\\u094b\\u091c\\u0928\\u093e \\u0915\\u0947 \\u0938\\u0902\\u092c\\u0902\\u0927 \\u092e\\u0947\\u0902 \\u0909\\u091a\\u094d\\u091a\\u0924\\u092e \\u0928\\u094d\\u092f\\u093e\\u092f\\u093e\\u0932\\u092f \\u092e\\u0947\\u0902 \\u092f\\u093e\\u091a\\u093f\\u0915\\u093e\\u090f\\u0902 \\u0926\\u093e\\u092f\\u0930 \\u0915\\u0940 \\u0917\\u0908 \\u0939\\u0948\\u0902\\u0964\"\n        ],\n        \"semantic_type\": \"\",\n        \"description\": \"\"\n      }\n    }\n  ]\n}"
            }
          },
          "metadata": {},
          "execution_count": 5
        }
      ],
      "source": [
        "data"
      ]
    },
    {
      "cell_type": "code",
      "execution_count": 6,
      "metadata": {
        "execution": {
          "iopub.execute_input": "2022-05-01T09:18:48.439804Z",
          "iopub.status.busy": "2022-05-01T09:18:48.439093Z",
          "iopub.status.idle": "2022-05-01T09:18:48.445544Z",
          "shell.execute_reply": "2022-05-01T09:18:48.444904Z",
          "shell.execute_reply.started": "2022-05-01T09:18:48.439742Z"
        },
        "id": "HrryCK3UXXW5"
      },
      "outputs": [],
      "source": [
        "text = data['text']\n",
        "goldsummary = data['summary']"
      ]
    },
    {
      "cell_type": "markdown",
      "metadata": {
        "id": "FBYFXFkvXXW6"
      },
      "source": [
        "**Note**: Mostly data is cleaned except few numerical values such as days and count, and maybe it is best not to remove them becuase summary also contains these numbers and it can be valuable for text generation."
      ]
    },
    {
      "cell_type": "markdown",
      "metadata": {
        "id": "SeAUD2vwXXW6"
      },
      "source": [
        "### **Model1 : BART**"
      ]
    },
    {
      "cell_type": "code",
      "execution_count": 7,
      "metadata": {
        "execution": {
          "iopub.execute_input": "2022-05-01T07:46:03.147081Z",
          "iopub.status.busy": "2022-05-01T07:46:03.146635Z",
          "iopub.status.idle": "2022-05-01T07:46:03.150705Z",
          "shell.execute_reply": "2022-05-01T07:46:03.150035Z",
          "shell.execute_reply.started": "2022-05-01T07:46:03.147046Z"
        },
        "id": "n0wggnNdXXW6"
      },
      "outputs": [],
      "source": [
        "bart_checkpoint = \"ai4bharat/IndicBART\""
      ]
    },
    {
      "cell_type": "code",
      "execution_count": 8,
      "metadata": {
        "execution": {
          "iopub.execute_input": "2022-05-01T07:46:05.444394Z",
          "iopub.status.busy": "2022-05-01T07:46:05.443832Z",
          "iopub.status.idle": "2022-05-01T07:46:05.521257Z",
          "shell.execute_reply": "2022-05-01T07:46:05.520338Z",
          "shell.execute_reply.started": "2022-05-01T07:46:05.444359Z"
        },
        "id": "lJkqr56ZXXW7"
      },
      "outputs": [],
      "source": [
        "device = \"cuda\" if torch.cuda.is_available() else \"cpu\""
      ]
    },
    {
      "cell_type": "code",
      "execution_count": 9,
      "metadata": {
        "colab": {
          "base_uri": "https://localhost:8080/",
          "height": 400,
          "referenced_widgets": [
            "afafcd9a436e463db848a21cf6cbdd84",
            "08fbdaf86ad5488fb7ab06397e58c9a9",
            "543df3d6cd2241a2aaede5d56f23b41b",
            "b1d8f5de427f41b4bd3a25cb124a8ce9",
            "1b63d87dd87b472b9ac94193eeb6ca0f",
            "ed512bf7acf44edaba0033d6b7750298",
            "2a8a3fd2010a418091176cf3a4640f0f",
            "adc4b14f1789434091c070a565de9de5",
            "a5dfb5dc0bf940a8a9562e3cafae8ad0",
            "2fb52b2b67ec425bafae76706b97ea24",
            "9030ff3a6c294f0bad37d75215cd5f74",
            "06c7040394ef42daae8ee2c0d7bfbc07",
            "b75fd3022b5e45fd8898b6b4c332c296",
            "9cde921b4cde42329ea59419ad7bea64",
            "8c7a866a117f44298207eb33b52e5067",
            "d1b20b9e9648454b825518f0b35e76a5",
            "fce2b0c3e6df42a29220cf6807b0aebc",
            "08f27a88207e4400aa286752e33f1932",
            "b524c0c926bf4c74bd94ed4fbd92ad31",
            "2ad71b036c46434e84306f21026be4e8",
            "31f3b48d282c4c17a0115d1ed751af2b",
            "7d203ad5f0504f4c9accab36f0c1b5c2",
            "f8286762cb7d4feea14bf9773e9c9d8f",
            "9d4c0a7aa20f46db84e0e13787c935d4",
            "6df660ed7f41462bb39eb0226ba07017",
            "39fbde2948634589b27dcf71a1ac5b81",
            "3aad1b46303a441591a4170bd843dd93",
            "76ef6ac517df48e1a19930d19feba6dc",
            "b3ef9f596ec84fc189519611d5f1a2f0",
            "945eff63d3994d1198112273cce4089d",
            "71fbf8e04610481fa10a4e45d39d2fca",
            "1ea086ce96d84887ae3aeb8192c18f1c",
            "cbd5b54eb4dd4ee08d32fd32cd11d5f8",
            "8e06bcd9ad4c4a3c82e48c463e65823a",
            "5cebab519a43484c8cb9bde3fdd70479",
            "1d660ad55a4e4457932d8f6399e021c9",
            "a093c9b0719445f18f261f1d99cb69d8",
            "5415aa75d2d147549a4c52b727f49de4",
            "cdfdb9da7cee40ab884140293ef3f66a",
            "a1134167f81a4b37a6eed92a7b2274e7",
            "45ec8e4bc2a24abaae6f9cfc2261c718",
            "0b95a8ae304a4e27a0b2044b86d3ab4e",
            "5a7b469677d9430eacc0402eab04b927",
            "3b9795b91cab45c98409af25795ea132",
            "6e4df14d059f4b7e92679fb1f838003b",
            "6e1b26e0303849719cf2c5626078e7ef",
            "2e4d744ddcfe4afab22af933add46647",
            "fbcdaa22ee89465f84f5a00c7d627e82",
            "b537bf2c900049b4b70e210cabc3dea3",
            "bf86b11722434ba4893236d0a6b3e637",
            "e7531162380040e9b3e49b9984892e98",
            "fbb89679ec2546e7af2280f2d9cd8c69",
            "bca7f0c3d9214059a65fe87a9e5e3401",
            "387b97c23105499093b4219b10f1f073",
            "c39e98299cd54fc6a28b7c61b7fa3b17",
            "d91cbeb1c0ea4e2695de7f5042036865",
            "4743af3b8b304e3186f1d95d8a3cb20b",
            "8d5167c8ba7f48a18404259bc09b4075",
            "00614d8e86fd4b2b9543f434fd6d0545",
            "1fa5e7193dbc4bf5b331b83f744c8225",
            "af1c83b6ac904bcb8c74d92139a5f6ad",
            "3be323f1b1984cf7a9ae220f6fc029a7",
            "5c71802506f54b289fcf8a97a92a28d4",
            "5624b7c68a2d4bdf820d9c757a7deb01",
            "f96177326daf41c1a962d2f95c1bc7cc",
            "2e6a59b65630452284acd6821877ce41",
            "1ffe28dc2ca7415aa1f50d25a1425534",
            "bd8ce53fbba04083962c4378ad57d6f4",
            "8c1e6e42738c43b893ca88b7c220bbb1",
            "f89ce2f5767b4e919364da2b8b3d05c5",
            "e8c0052e76be40809b867275b468b57e",
            "cf0623c6da30454ba74ff7534c5578f2",
            "485073b5ddb943a1ad61102ef239fb4c",
            "30f2077cf46a405ea4963bb82b4b593c",
            "cd35e61126f2406083cc1e5a5dd14764",
            "fe040e4351cf4ac5919e63c44f31dc9b",
            "82c0fce5cafb4aff8d9b5947c01660ba"
          ]
        },
        "id": "VxmOrWKAXXW7",
        "outputId": "015c644d-1272-42cb-f944-41955b21bec7"
      },
      "outputs": [
        {
          "output_type": "stream",
          "name": "stderr",
          "text": [
            "/usr/local/lib/python3.11/dist-packages/huggingface_hub/utils/_auth.py:94: UserWarning:\n",
            "\n",
            "\n",
            "The secret `HF_TOKEN` does not exist in your Colab secrets.\n",
            "To authenticate with the Hugging Face Hub, create a token in your settings tab (https://huggingface.co/settings/tokens), set it as secret in your Google Colab and restart your session.\n",
            "You will be able to reuse this secret in all of your notebooks.\n",
            "Please note that authentication is recommended but still optional to access public models or datasets.\n",
            "\n"
          ]
        },
        {
          "output_type": "display_data",
          "data": {
            "text/plain": [
              "tokenizer_config.json:   0%|          | 0.00/498 [00:00<?, ?B/s]"
            ],
            "application/vnd.jupyter.widget-view+json": {
              "version_major": 2,
              "version_minor": 0,
              "model_id": "afafcd9a436e463db848a21cf6cbdd84"
            }
          },
          "metadata": {}
        },
        {
          "output_type": "display_data",
          "data": {
            "text/plain": [
              "config.json:   0%|          | 0.00/832 [00:00<?, ?B/s]"
            ],
            "application/vnd.jupyter.widget-view+json": {
              "version_major": 2,
              "version_minor": 0,
              "model_id": "06c7040394ef42daae8ee2c0d7bfbc07"
            }
          },
          "metadata": {}
        },
        {
          "output_type": "display_data",
          "data": {
            "text/plain": [
              "spiece.model:   0%|          | 0.00/1.90M [00:00<?, ?B/s]"
            ],
            "application/vnd.jupyter.widget-view+json": {
              "version_major": 2,
              "version_minor": 0,
              "model_id": "f8286762cb7d4feea14bf9773e9c9d8f"
            }
          },
          "metadata": {}
        },
        {
          "output_type": "display_data",
          "data": {
            "text/plain": [
              "added_tokens.json:   0%|          | 0.00/221 [00:00<?, ?B/s]"
            ],
            "application/vnd.jupyter.widget-view+json": {
              "version_major": 2,
              "version_minor": 0,
              "model_id": "8e06bcd9ad4c4a3c82e48c463e65823a"
            }
          },
          "metadata": {}
        },
        {
          "output_type": "display_data",
          "data": {
            "text/plain": [
              "special_tokens_map.json:   0%|          | 0.00/398 [00:00<?, ?B/s]"
            ],
            "application/vnd.jupyter.widget-view+json": {
              "version_major": 2,
              "version_minor": 0,
              "model_id": "6e4df14d059f4b7e92679fb1f838003b"
            }
          },
          "metadata": {}
        },
        {
          "output_type": "display_data",
          "data": {
            "text/plain": [
              "pytorch_model.bin:   0%|          | 0.00/976M [00:00<?, ?B/s]"
            ],
            "application/vnd.jupyter.widget-view+json": {
              "version_major": 2,
              "version_minor": 0,
              "model_id": "d91cbeb1c0ea4e2695de7f5042036865"
            }
          },
          "metadata": {}
        },
        {
          "output_type": "display_data",
          "data": {
            "text/plain": [
              "model.safetensors:   0%|          | 0.00/976M [00:00<?, ?B/s]"
            ],
            "application/vnd.jupyter.widget-view+json": {
              "version_major": 2,
              "version_minor": 0,
              "model_id": "1ffe28dc2ca7415aa1f50d25a1425534"
            }
          },
          "metadata": {}
        }
      ],
      "source": [
        "tokenizer_bart = AutoTokenizer.from_pretrained(bart_checkpoint,\n",
        "                                               do_lower_case=False,\n",
        "                                               use_fast=False,\n",
        "                                               keep_accents=True)\n",
        "\n",
        "model_bart = AutoModelForSeq2SeqLM.from_pretrained(bart_checkpoint).to(device)"
      ]
    },
    {
      "cell_type": "code",
      "execution_count": 10,
      "metadata": {
        "execution": {
          "iopub.execute_input": "2022-05-01T07:47:02.445837Z",
          "iopub.status.busy": "2022-05-01T07:47:02.445566Z",
          "iopub.status.idle": "2022-05-01T07:47:02.450896Z",
          "shell.execute_reply": "2022-05-01T07:47:02.450208Z",
          "shell.execute_reply.started": "2022-05-01T07:47:02.445808Z"
        },
        "id": "e5C8wRMgXXW7"
      },
      "outputs": [],
      "source": [
        "bos_id = tokenizer_bart._convert_token_to_id_with_added_voc(\"<s>\")\n",
        "eos_id = tokenizer_bart._convert_token_to_id_with_added_voc(\"</s>\")\n",
        "pad_id = tokenizer_bart._convert_token_to_id_with_added_voc(\"<pad>\")"
      ]
    },
    {
      "cell_type": "code",
      "execution_count": 15,
      "metadata": {
        "execution": {
          "iopub.execute_input": "2022-05-01T07:47:56.301203Z",
          "iopub.status.busy": "2022-05-01T07:47:56.300925Z",
          "iopub.status.idle": "2022-05-01T08:08:23.903310Z",
          "shell.execute_reply": "2022-05-01T08:08:23.902448Z",
          "shell.execute_reply.started": "2022-05-01T07:47:56.301173Z"
        },
        "id": "la2AUGG0XXW8"
      },
      "outputs": [],
      "source": [
        "\n",
        "\n",
        "SystemSummary = []\n",
        "\n",
        "for i, input_text in enumerate(text):\n",
        "\n",
        "    inp = tokenizer_bart(input_text, add_special_tokens=False,\n",
        "                         truncation=True, return_tensors=\"pt\",\n",
        "                         padding='max_length', max_length=1024)['input_ids'].to(device)\n",
        "\n",
        "    model_output = model_bart.generate(inp, use_cache=True,\n",
        "                                        num_beams=4,\n",
        "                                        max_length=70,\n",
        "                                        min_length=30,\n",
        "                                        early_stopping=True,\n",
        "                                        pad_token_id=pad_id,\n",
        "                                        bos_token_id=bos_id,\n",
        "                                        eos_token_id=eos_id,\n",
        "                                        decoder_start_token_id=tokenizer_bart._convert_token_to_id_with_added_voc(\"<2en>\"))\n",
        "\n",
        "    decoded_output = tokenizer_bart.decode(model_output[0],\n",
        "                                    skip_special_tokens=True,\n",
        "                                    clean_up_tokenization_spaces=False)\n",
        "\n",
        "    SystemSummary.append(decoded_output)"
      ]
    },
    {
      "cell_type": "code",
      "execution_count": 16,
      "metadata": {
        "execution": {
          "iopub.execute_input": "2022-05-01T09:18:58.089296Z",
          "iopub.status.busy": "2022-05-01T09:18:58.088715Z",
          "iopub.status.idle": "2022-05-01T09:18:58.102600Z",
          "shell.execute_reply": "2022-05-01T09:18:58.101828Z",
          "shell.execute_reply.started": "2022-05-01T09:18:58.089225Z"
        },
        "colab": {
          "base_uri": "https://localhost:8080/",
          "height": 423
        },
        "id": "WEDq2JiIXXW8",
        "outputId": "a0cef95c-b734-4a5e-94c1-9ba5adb5c625"
      },
      "outputs": [
        {
          "output_type": "execute_result",
          "data": {
            "text/plain": [
              "                                            GoldSummary  \\\n",
              "0     बिहार में भारतीय जनता पार्टी (बीजेपी) अपने सहय...   \n",
              "1     क्रिस गेल ने कहा चैंपियंस ट्रॉफी में पाकिस्तान...   \n",
              "2     म्रिस्र के नवनियुक्त उप राष्ट्रपति उमर सुलेमान...   \n",
              "3     ट्विंकल खन्ना ने वजाइना से जुड़े कई सवालों के ...   \n",
              "4     दुनिया भर में ग़लत तरीके से सड़क पार करने पर ज...   \n",
              "...                                                 ...   \n",
              "1995  परीक्षा में नकल करते हुए पकड़े जाने पर गुस्साए...   \n",
              "1996  अलग अलग अधिकारियों ने घटना का अलग अलग कारण बता...   \n",
              "1997  पांच सप्ताह लगातार तेजी में रहने के बाद गत सप्...   \n",
              "1998  इसको 14 साल सश्रम कारावास की सजा सुनाई गई थी स...   \n",
              "1999  अदालतों पर ज़िम्मेदारी है महिलाओं के यौन उत्पी...   \n",
              "\n",
              "                                            BartSummary  \n",
              "0     आगामी लोकसभा चुनाव में राज्य की कुल 40 सीटों म...  \n",
              "1     वेस्टइंडीज के आक्रामक बल्लेबाज क्रिस गेल ने कह...  \n",
              "2     म्रिस्र के नवनियुक्त उप राष्ट्रपति उमर सुलेमान...  \n",
              "3     अकसर अपने ट्वीट्स को लेकर चर्चा में रहने वाली ...  \n",
              "4     कहा जाता है कि अमरीका में 1920 के दशक में मोटर...  \n",
              "...                                                 ...  \n",
              "1995  परीक्षा में नकल करते हुए पकड़े जाने पर गुस्साए...  \n",
              "1996  पाकिस्तान के पंजाब प्रांत में एक दरगाह के मानस...  \n",
              "1997  पांच सप्ताह लगातार तेजी में रहने के बाद गत सप्...  \n",
              "1998  तेलंगाना सरकार ने गोपनीयता कानून के तहत सजा का...  \n",
              "1999  मगर यह समिति किसी न्यायाधीश के ख़िलाफ़ यौन उत्...  \n",
              "\n",
              "[2000 rows x 2 columns]"
            ],
            "text/html": [
              "\n",
              "  <div id=\"df-b8354db2-3374-4a5b-a2be-425982101225\" class=\"colab-df-container\">\n",
              "    <div>\n",
              "<style scoped>\n",
              "    .dataframe tbody tr th:only-of-type {\n",
              "        vertical-align: middle;\n",
              "    }\n",
              "\n",
              "    .dataframe tbody tr th {\n",
              "        vertical-align: top;\n",
              "    }\n",
              "\n",
              "    .dataframe thead th {\n",
              "        text-align: right;\n",
              "    }\n",
              "</style>\n",
              "<table border=\"1\" class=\"dataframe\">\n",
              "  <thead>\n",
              "    <tr style=\"text-align: right;\">\n",
              "      <th></th>\n",
              "      <th>GoldSummary</th>\n",
              "      <th>BartSummary</th>\n",
              "    </tr>\n",
              "  </thead>\n",
              "  <tbody>\n",
              "    <tr>\n",
              "      <th>0</th>\n",
              "      <td>बिहार में भारतीय जनता पार्टी (बीजेपी) अपने सहय...</td>\n",
              "      <td>आगामी लोकसभा चुनाव में राज्य की कुल 40 सीटों म...</td>\n",
              "    </tr>\n",
              "    <tr>\n",
              "      <th>1</th>\n",
              "      <td>क्रिस गेल ने कहा चैंपियंस ट्रॉफी में पाकिस्तान...</td>\n",
              "      <td>वेस्टइंडीज के आक्रामक बल्लेबाज क्रिस गेल ने कह...</td>\n",
              "    </tr>\n",
              "    <tr>\n",
              "      <th>2</th>\n",
              "      <td>म्रिस्र के नवनियुक्त उप राष्ट्रपति उमर सुलेमान...</td>\n",
              "      <td>म्रिस्र के नवनियुक्त उप राष्ट्रपति उमर सुलेमान...</td>\n",
              "    </tr>\n",
              "    <tr>\n",
              "      <th>3</th>\n",
              "      <td>ट्विंकल खन्ना ने वजाइना से जुड़े कई सवालों के ...</td>\n",
              "      <td>अकसर अपने ट्वीट्स को लेकर चर्चा में रहने वाली ...</td>\n",
              "    </tr>\n",
              "    <tr>\n",
              "      <th>4</th>\n",
              "      <td>दुनिया भर में ग़लत तरीके से सड़क पार करने पर ज...</td>\n",
              "      <td>कहा जाता है कि अमरीका में 1920 के दशक में मोटर...</td>\n",
              "    </tr>\n",
              "    <tr>\n",
              "      <th>...</th>\n",
              "      <td>...</td>\n",
              "      <td>...</td>\n",
              "    </tr>\n",
              "    <tr>\n",
              "      <th>1995</th>\n",
              "      <td>परीक्षा में नकल करते हुए पकड़े जाने पर गुस्साए...</td>\n",
              "      <td>परीक्षा में नकल करते हुए पकड़े जाने पर गुस्साए...</td>\n",
              "    </tr>\n",
              "    <tr>\n",
              "      <th>1996</th>\n",
              "      <td>अलग अलग अधिकारियों ने घटना का अलग अलग कारण बता...</td>\n",
              "      <td>पाकिस्तान के पंजाब प्रांत में एक दरगाह के मानस...</td>\n",
              "    </tr>\n",
              "    <tr>\n",
              "      <th>1997</th>\n",
              "      <td>पांच सप्ताह लगातार तेजी में रहने के बाद गत सप्...</td>\n",
              "      <td>पांच सप्ताह लगातार तेजी में रहने के बाद गत सप्...</td>\n",
              "    </tr>\n",
              "    <tr>\n",
              "      <th>1998</th>\n",
              "      <td>इसको 14 साल सश्रम कारावास की सजा सुनाई गई थी स...</td>\n",
              "      <td>तेलंगाना सरकार ने गोपनीयता कानून के तहत सजा का...</td>\n",
              "    </tr>\n",
              "    <tr>\n",
              "      <th>1999</th>\n",
              "      <td>अदालतों पर ज़िम्मेदारी है महिलाओं के यौन उत्पी...</td>\n",
              "      <td>मगर यह समिति किसी न्यायाधीश के ख़िलाफ़ यौन उत्...</td>\n",
              "    </tr>\n",
              "  </tbody>\n",
              "</table>\n",
              "<p>2000 rows × 2 columns</p>\n",
              "</div>\n",
              "    <div class=\"colab-df-buttons\">\n",
              "\n",
              "  <div class=\"colab-df-container\">\n",
              "    <button class=\"colab-df-convert\" onclick=\"convertToInteractive('df-b8354db2-3374-4a5b-a2be-425982101225')\"\n",
              "            title=\"Convert this dataframe to an interactive table.\"\n",
              "            style=\"display:none;\">\n",
              "\n",
              "  <svg xmlns=\"http://www.w3.org/2000/svg\" height=\"24px\" viewBox=\"0 -960 960 960\">\n",
              "    <path d=\"M120-120v-720h720v720H120Zm60-500h600v-160H180v160Zm220 220h160v-160H400v160Zm0 220h160v-160H400v160ZM180-400h160v-160H180v160Zm440 0h160v-160H620v160ZM180-180h160v-160H180v160Zm440 0h160v-160H620v160Z\"/>\n",
              "  </svg>\n",
              "    </button>\n",
              "\n",
              "  <style>\n",
              "    .colab-df-container {\n",
              "      display:flex;\n",
              "      gap: 12px;\n",
              "    }\n",
              "\n",
              "    .colab-df-convert {\n",
              "      background-color: #E8F0FE;\n",
              "      border: none;\n",
              "      border-radius: 50%;\n",
              "      cursor: pointer;\n",
              "      display: none;\n",
              "      fill: #1967D2;\n",
              "      height: 32px;\n",
              "      padding: 0 0 0 0;\n",
              "      width: 32px;\n",
              "    }\n",
              "\n",
              "    .colab-df-convert:hover {\n",
              "      background-color: #E2EBFA;\n",
              "      box-shadow: 0px 1px 2px rgba(60, 64, 67, 0.3), 0px 1px 3px 1px rgba(60, 64, 67, 0.15);\n",
              "      fill: #174EA6;\n",
              "    }\n",
              "\n",
              "    .colab-df-buttons div {\n",
              "      margin-bottom: 4px;\n",
              "    }\n",
              "\n",
              "    [theme=dark] .colab-df-convert {\n",
              "      background-color: #3B4455;\n",
              "      fill: #D2E3FC;\n",
              "    }\n",
              "\n",
              "    [theme=dark] .colab-df-convert:hover {\n",
              "      background-color: #434B5C;\n",
              "      box-shadow: 0px 1px 3px 1px rgba(0, 0, 0, 0.15);\n",
              "      filter: drop-shadow(0px 1px 2px rgba(0, 0, 0, 0.3));\n",
              "      fill: #FFFFFF;\n",
              "    }\n",
              "  </style>\n",
              "\n",
              "    <script>\n",
              "      const buttonEl =\n",
              "        document.querySelector('#df-b8354db2-3374-4a5b-a2be-425982101225 button.colab-df-convert');\n",
              "      buttonEl.style.display =\n",
              "        google.colab.kernel.accessAllowed ? 'block' : 'none';\n",
              "\n",
              "      async function convertToInteractive(key) {\n",
              "        const element = document.querySelector('#df-b8354db2-3374-4a5b-a2be-425982101225');\n",
              "        const dataTable =\n",
              "          await google.colab.kernel.invokeFunction('convertToInteractive',\n",
              "                                                    [key], {});\n",
              "        if (!dataTable) return;\n",
              "\n",
              "        const docLinkHtml = 'Like what you see? Visit the ' +\n",
              "          '<a target=\"_blank\" href=https://colab.research.google.com/notebooks/data_table.ipynb>data table notebook</a>'\n",
              "          + ' to learn more about interactive tables.';\n",
              "        element.innerHTML = '';\n",
              "        dataTable['output_type'] = 'display_data';\n",
              "        await google.colab.output.renderOutput(dataTable, element);\n",
              "        const docLink = document.createElement('div');\n",
              "        docLink.innerHTML = docLinkHtml;\n",
              "        element.appendChild(docLink);\n",
              "      }\n",
              "    </script>\n",
              "  </div>\n",
              "\n",
              "\n",
              "<div id=\"df-889b9954-5f8f-40ca-9229-9c0ba85b97d7\">\n",
              "  <button class=\"colab-df-quickchart\" onclick=\"quickchart('df-889b9954-5f8f-40ca-9229-9c0ba85b97d7')\"\n",
              "            title=\"Suggest charts\"\n",
              "            style=\"display:none;\">\n",
              "\n",
              "<svg xmlns=\"http://www.w3.org/2000/svg\" height=\"24px\"viewBox=\"0 0 24 24\"\n",
              "     width=\"24px\">\n",
              "    <g>\n",
              "        <path d=\"M19 3H5c-1.1 0-2 .9-2 2v14c0 1.1.9 2 2 2h14c1.1 0 2-.9 2-2V5c0-1.1-.9-2-2-2zM9 17H7v-7h2v7zm4 0h-2V7h2v10zm4 0h-2v-4h2v4z\"/>\n",
              "    </g>\n",
              "</svg>\n",
              "  </button>\n",
              "\n",
              "<style>\n",
              "  .colab-df-quickchart {\n",
              "      --bg-color: #E8F0FE;\n",
              "      --fill-color: #1967D2;\n",
              "      --hover-bg-color: #E2EBFA;\n",
              "      --hover-fill-color: #174EA6;\n",
              "      --disabled-fill-color: #AAA;\n",
              "      --disabled-bg-color: #DDD;\n",
              "  }\n",
              "\n",
              "  [theme=dark] .colab-df-quickchart {\n",
              "      --bg-color: #3B4455;\n",
              "      --fill-color: #D2E3FC;\n",
              "      --hover-bg-color: #434B5C;\n",
              "      --hover-fill-color: #FFFFFF;\n",
              "      --disabled-bg-color: #3B4455;\n",
              "      --disabled-fill-color: #666;\n",
              "  }\n",
              "\n",
              "  .colab-df-quickchart {\n",
              "    background-color: var(--bg-color);\n",
              "    border: none;\n",
              "    border-radius: 50%;\n",
              "    cursor: pointer;\n",
              "    display: none;\n",
              "    fill: var(--fill-color);\n",
              "    height: 32px;\n",
              "    padding: 0;\n",
              "    width: 32px;\n",
              "  }\n",
              "\n",
              "  .colab-df-quickchart:hover {\n",
              "    background-color: var(--hover-bg-color);\n",
              "    box-shadow: 0 1px 2px rgba(60, 64, 67, 0.3), 0 1px 3px 1px rgba(60, 64, 67, 0.15);\n",
              "    fill: var(--button-hover-fill-color);\n",
              "  }\n",
              "\n",
              "  .colab-df-quickchart-complete:disabled,\n",
              "  .colab-df-quickchart-complete:disabled:hover {\n",
              "    background-color: var(--disabled-bg-color);\n",
              "    fill: var(--disabled-fill-color);\n",
              "    box-shadow: none;\n",
              "  }\n",
              "\n",
              "  .colab-df-spinner {\n",
              "    border: 2px solid var(--fill-color);\n",
              "    border-color: transparent;\n",
              "    border-bottom-color: var(--fill-color);\n",
              "    animation:\n",
              "      spin 1s steps(1) infinite;\n",
              "  }\n",
              "\n",
              "  @keyframes spin {\n",
              "    0% {\n",
              "      border-color: transparent;\n",
              "      border-bottom-color: var(--fill-color);\n",
              "      border-left-color: var(--fill-color);\n",
              "    }\n",
              "    20% {\n",
              "      border-color: transparent;\n",
              "      border-left-color: var(--fill-color);\n",
              "      border-top-color: var(--fill-color);\n",
              "    }\n",
              "    30% {\n",
              "      border-color: transparent;\n",
              "      border-left-color: var(--fill-color);\n",
              "      border-top-color: var(--fill-color);\n",
              "      border-right-color: var(--fill-color);\n",
              "    }\n",
              "    40% {\n",
              "      border-color: transparent;\n",
              "      border-right-color: var(--fill-color);\n",
              "      border-top-color: var(--fill-color);\n",
              "    }\n",
              "    60% {\n",
              "      border-color: transparent;\n",
              "      border-right-color: var(--fill-color);\n",
              "    }\n",
              "    80% {\n",
              "      border-color: transparent;\n",
              "      border-right-color: var(--fill-color);\n",
              "      border-bottom-color: var(--fill-color);\n",
              "    }\n",
              "    90% {\n",
              "      border-color: transparent;\n",
              "      border-bottom-color: var(--fill-color);\n",
              "    }\n",
              "  }\n",
              "</style>\n",
              "\n",
              "  <script>\n",
              "    async function quickchart(key) {\n",
              "      const quickchartButtonEl =\n",
              "        document.querySelector('#' + key + ' button');\n",
              "      quickchartButtonEl.disabled = true;  // To prevent multiple clicks.\n",
              "      quickchartButtonEl.classList.add('colab-df-spinner');\n",
              "      try {\n",
              "        const charts = await google.colab.kernel.invokeFunction(\n",
              "            'suggestCharts', [key], {});\n",
              "      } catch (error) {\n",
              "        console.error('Error during call to suggestCharts:', error);\n",
              "      }\n",
              "      quickchartButtonEl.classList.remove('colab-df-spinner');\n",
              "      quickchartButtonEl.classList.add('colab-df-quickchart-complete');\n",
              "    }\n",
              "    (() => {\n",
              "      let quickchartButtonEl =\n",
              "        document.querySelector('#df-889b9954-5f8f-40ca-9229-9c0ba85b97d7 button');\n",
              "      quickchartButtonEl.style.display =\n",
              "        google.colab.kernel.accessAllowed ? 'block' : 'none';\n",
              "    })();\n",
              "  </script>\n",
              "</div>\n",
              "\n",
              "  <div id=\"id_b1f72c48-64ae-4779-a1e3-a26df22f430e\">\n",
              "    <style>\n",
              "      .colab-df-generate {\n",
              "        background-color: #E8F0FE;\n",
              "        border: none;\n",
              "        border-radius: 50%;\n",
              "        cursor: pointer;\n",
              "        display: none;\n",
              "        fill: #1967D2;\n",
              "        height: 32px;\n",
              "        padding: 0 0 0 0;\n",
              "        width: 32px;\n",
              "      }\n",
              "\n",
              "      .colab-df-generate:hover {\n",
              "        background-color: #E2EBFA;\n",
              "        box-shadow: 0px 1px 2px rgba(60, 64, 67, 0.3), 0px 1px 3px 1px rgba(60, 64, 67, 0.15);\n",
              "        fill: #174EA6;\n",
              "      }\n",
              "\n",
              "      [theme=dark] .colab-df-generate {\n",
              "        background-color: #3B4455;\n",
              "        fill: #D2E3FC;\n",
              "      }\n",
              "\n",
              "      [theme=dark] .colab-df-generate:hover {\n",
              "        background-color: #434B5C;\n",
              "        box-shadow: 0px 1px 3px 1px rgba(0, 0, 0, 0.15);\n",
              "        filter: drop-shadow(0px 1px 2px rgba(0, 0, 0, 0.3));\n",
              "        fill: #FFFFFF;\n",
              "      }\n",
              "    </style>\n",
              "    <button class=\"colab-df-generate\" onclick=\"generateWithVariable('Summaries')\"\n",
              "            title=\"Generate code using this dataframe.\"\n",
              "            style=\"display:none;\">\n",
              "\n",
              "  <svg xmlns=\"http://www.w3.org/2000/svg\" height=\"24px\"viewBox=\"0 0 24 24\"\n",
              "       width=\"24px\">\n",
              "    <path d=\"M7,19H8.4L18.45,9,17,7.55,7,17.6ZM5,21V16.75L18.45,3.32a2,2,0,0,1,2.83,0l1.4,1.43a1.91,1.91,0,0,1,.58,1.4,1.91,1.91,0,0,1-.58,1.4L9.25,21ZM18.45,9,17,7.55Zm-12,3A5.31,5.31,0,0,0,4.9,8.1,5.31,5.31,0,0,0,1,6.5,5.31,5.31,0,0,0,4.9,4.9,5.31,5.31,0,0,0,6.5,1,5.31,5.31,0,0,0,8.1,4.9,5.31,5.31,0,0,0,12,6.5,5.46,5.46,0,0,0,6.5,12Z\"/>\n",
              "  </svg>\n",
              "    </button>\n",
              "    <script>\n",
              "      (() => {\n",
              "      const buttonEl =\n",
              "        document.querySelector('#id_b1f72c48-64ae-4779-a1e3-a26df22f430e button.colab-df-generate');\n",
              "      buttonEl.style.display =\n",
              "        google.colab.kernel.accessAllowed ? 'block' : 'none';\n",
              "\n",
              "      buttonEl.onclick = () => {\n",
              "        google.colab.notebook.generateWithVariable('Summaries');\n",
              "      }\n",
              "      })();\n",
              "    </script>\n",
              "  </div>\n",
              "\n",
              "    </div>\n",
              "  </div>\n"
            ],
            "application/vnd.google.colaboratory.intrinsic+json": {
              "type": "dataframe",
              "variable_name": "Summaries",
              "summary": "{\n  \"name\": \"Summaries\",\n  \"rows\": 2000,\n  \"fields\": [\n    {\n      \"column\": \"GoldSummary\",\n      \"properties\": {\n        \"dtype\": \"string\",\n        \"num_unique_values\": 1998,\n        \"samples\": [\n          \"\\u091c\\u092e\\u094d\\u092e\\u0942-\\u0915\\u0936\\u094d\\u092e\\u0940\\u0930 \\u0915\\u093e \\u0935\\u093f\\u0936\\u0947\\u0937 \\u0926\\u0930\\u094d\\u091c\\u093e \\u0935\\u093e\\u092a\\u0938 \\u0932\\u093f\\u090f \\u091c\\u093e\\u0928\\u0947 \\u0915\\u0947 \\u092c\\u093e\\u0926 \\u092c\\u0940\\u091c\\u0947\\u092a\\u0940 \\u0915\\u094b \\u091b\\u094b\\u0921\\u093c\\u0915\\u0930 \\u0915\\u0947\\u0902\\u0926\\u094d\\u0930 \\u0936\\u093e\\u0938\\u093f\\u0924 \\u092a\\u094d\\u0930\\u0926\\u0947\\u0936 \\u0915\\u0947 \\u092a\\u094d\\u0930\\u092e\\u0941\\u0916 \\u0930\\u093e\\u091c\\u0928\\u0940\\u0924\\u093f\\u0915 \\u0926\\u0932 \\u0936\\u0928\\u093f\\u0935\\u093e\\u0930 \\u0915\\u094b \\u090f\\u0915 \\u0938\\u093e\\u0925 \\u0906\\u090f \\u0914\\u0930 \\u0905\\u0928\\u0941\\u091a\\u094d\\u091b\\u0947\\u0926-370 \\u0915\\u094b \\u092b\\u093f\\u0930 \\u0938\\u0947 \\u092c\\u0939\\u093e\\u0932 \\u0915\\u0930\\u0928\\u0947 \\u0915\\u094b \\u0932\\u0947\\u0915\\u0930 \\u092c\\u092f\\u093e\\u0928 \\u091c\\u093e\\u0930\\u0940 \\u0915\\u093f\\u092f\\u093e. \\u092c\\u092f\\u093e\\u0928 \\u092e\\u0947\\u0902 \\u0915\\u0939\\u093e \\u0917\\u092f\\u093e \\u0939\\u0948 \\u0915\\u093f \\u0935\\u094b \\u0907\\u0938\\u0915\\u094b \\u0932\\u0947\\u0915\\u0930 \\u0938\\u0902\\u0918\\u0930\\u094d\\u0937 \\u0915\\u0930\\u0947\\u0902\\u0917\\u0947.\",\n          \"\\u0926\\u0941\\u0928\\u093f\\u092f\\u093e \\u0915\\u0940 \\u0938\\u092c\\u0938\\u0947 \\u0909\\u092e\\u094d\\u0930\\u0926\\u0930\\u093e\\u091c\\u093c \\u092c\\u094d\\u0932\\u0949\\u0917\\u0930 108 \\u0935\\u0930\\u094d\\u0937 \\u0915\\u0940 \\u0913\\u0932\\u093f\\u0935 \\u0930\\u093f\\u0932\\u0947 \\u0915\\u093e \\u0926\\u0947\\u0939\\u093e\\u0902\\u0924 \\u0939\\u094b \\u0917\\u092f\\u093e \\u0939\\u0948. \\u0935\\u0947 \\u0911\\u0938\\u094d\\u091f\\u094d\\u0930\\u0947\\u0932\\u093f\\u092f\\u093e \\u0915\\u0940 \\u0930\\u0939\\u0928\\u0947 \\u0935\\u093e\\u0932\\u0940 \\u0925\\u0940\\u0902.\",\n          \"\\u092c\\u0940. \\u091a\\u0902\\u0926\\u094d\\u0930\\u0915\\u0932\\u093e \\u0928\\u0947 \\u0932\\u093f\\u0902\\u0915\\u0921\\u093f\\u0928 \\u092a\\u0930 \\u0915\\u0935\\u093f\\u0924\\u093e \\u0938\\u093e\\u091d\\u093e \\u0915\\u0940 \\u0939\\u0948 \\u0909\\u0928\\u094d\\u0939\\u094b\\u0902\\u0928\\u0947 \\u0932\\u093f\\u0916\\u093e \\u0915\\u093f \\u091b\\u093e\\u092a\\u093e \\u091c\\u093e\\u0902\\u091a \\u0915\\u0940 \\u092a\\u094d\\u0930\\u0915\\u094d\\u0930\\u093f\\u092f\\u093e \\u0915\\u093e \\u0939\\u093f\\u0938\\u094d\\u0938\\u093e \\u0939\\u0948 \\u0905\\u0935\\u0948\\u0927 \\u0916\\u0928\\u0928 \\u092e\\u093e\\u092e\\u0932\\u0947 \\u092e\\u0947\\u0902 \\u091a\\u0902\\u0926\\u094d\\u0930\\u0915\\u0932\\u093e \\u092a\\u0930 \\u0938\\u0940\\u092c\\u0940\\u0906\\u0908 \\u0928\\u0947 \\u091b\\u093e\\u092a\\u093e \\u092e\\u093e\\u0930\\u093e \\u0925\\u093e\"\n        ],\n        \"semantic_type\": \"\",\n        \"description\": \"\"\n      }\n    },\n    {\n      \"column\": \"BartSummary\",\n      \"properties\": {\n        \"dtype\": \"string\",\n        \"num_unique_values\": 1999,\n        \"samples\": [\n          \"\\u092a\\u094d\\u0930\\u0927\\u093e\\u0928\\u092e\\u0902\\u0924\\u094d\\u0930\\u0940 \\u092e\\u0928\\u092e\\u094b\\u0939\\u0928 \\u0938\\u093f\\u0902\\u0939 \\u0928\\u0947 \\u092e\\u0902\\u0917\\u0932\\u0935\\u093e\\u0930 \\u0915\\u094b \\u0915\\u0939\\u093e \\u0915\\u093f \\u090f\\u0915 \\u0938\\u0940\\u091f \\u092a\\u0930 \\u0939\\u0941\\u090f \\u0909\\u092a\\u091a\\u0941\\u0928\\u093e\\u0935 \\u0915\\u0947 \\u092a\\u0930\\u093f\\u0923\\u093e\\u092e \\u0915\\u094b \\u0909\\u0928\\u0915\\u0940 \\u0938\\u0930\\u0915\\u093e\\u0930 \\u0915\\u0947 \\u092a\\u094d\\u0930\\u0926\\u0930\\u094d\\u0936\\u0928 \\u0915\\u0947 \\u092b\\u0932\\u0938\\u092b\\u0947 \\u0938\\u0947 \\u091c\\u094b\\u0921\\u093c\\u0915\\u0930 \\u0928\\u0939\\u0940\\u0902 \\u0926\\u0947\\u0916\\u093e \\u091c\\u093e \\u0938\\u0915\\u0924\\u093e\\u0964 \\u0939\\u0930\\u093f\\u092f\\u093e\\u0923\\u093e \\u0906\\u0902\\u0927\\u094d\\u0930 \\u092a\\u094d\\u0930\\u0926\\u0947\\u0936 \\u092e\\u0939\\u093e\\u0930\\u093e\\u0937\\u094d\\u091f\\u094d\\u0930 \\u0914\\u0930 \\u092c\\u093f\\u0939\\u093e\\u0930 \\u092e\\u0947\\u0902 \\u0939\\u0941\\u090f \\u0909\\u092a\\u091a\\u0941\\u0928\\u093e\\u0935\\u094b\\u0902 \\u092e\\u0947\\u0902 \\u0915\\u093e\\u0902\\u0917\\u094d\\u0930\\u0947\\u0938 \\u0915\\u094b \\u092e\\u093f\\u0932\\u0940 \\u0915\\u0930\\u093e\\u0930\\u0940 \\u0936\\u093f\\u0915\\u0938\\u094d\\u0924 \\u0915\\u0947 \\u092c\\u093e\\u0930\\u0947 \\u092e\\u0947\\u0902 \\u092a\\u0942\\u091b\\u0947 \\u091c\\u093e\\u0928\\u0947 \\u092a\\u0930 \\u092a\\u094d\\u0930\\u0927\\u093e\\u0928\\u092e\\u0902\\u0924\\u094d\\u0930\\u0940 \\u0928\\u0947 \\u0938\\u0902\\u0935\\u093e\\u0926\\u0926\\u093e\\u0924\\u093e\\u0913\\u0902 \\u0938\\u0947 \\u0915\\u0939\\u093e \\\"\\u090f\\u0915 \\u0909\\u092a\\u091a\\u0941\\u0928\\u093e\\u0935 \\u0915\\u094b \\u091c\\u0928\\u092e\\u0924 \\u0938\\u0902\\u0917\\u094d\\u0930\\u0939 \\u092f\\u093e\",\n          \"\\u092a\\u0941\\u0923\\u0947 \\u092e\\u0947\\u0902 \\u092e\\u094c\\u091c\\u0942\\u0926 \\u0921\\u0949\\u0915\\u094d\\u091f\\u0930 \\u0917\\u0923\\u0947\\u0936 \\u0930\\u0916 \\u0915\\u0947 \\u0905\\u0938\\u094d\\u092a\\u0924\\u093e\\u0932 \\u092e\\u0947\\u0902 \\u092a\\u094d\\u0930\\u0938\\u0935 \\u0915\\u0947 \\u092c\\u093e\\u0926 \\u0905\\u0917\\u0930 \\u0936\\u093f\\u0936\\u0941 \\u0932\\u0921\\u093c\\u0915\\u0940 \\u0939\\u094b \\u0924\\u094b \\u092e\\u093e\\u0902 \\u0914\\u0930 \\u0936\\u093f\\u0936\\u0941 \\u0915\\u093e \\u092a\\u0942\\u0930\\u093e \\u0907\\u0932\\u093e\\u091c \\u092e\\u0941\\u092b\\u094d\\u093c\\u0924 \\u0915\\u093f\\u092f\\u093e \\u091c\\u093e\\u0924\\u093e \\u0939\\u0948. \\u0921\\u0949\\u0915\\u094d\\u091f\\u0930 \\u0930\\u0916 \\u0915\\u0939\\u0924\\u0947 \\u0939\\u0948\\u0902, \\\"\\u0939\\u0949\\u0938\\u094d\\u092a\\u093f\\u091f\\u0932 \\u092e\\u0947\\u0902 \\u091c\\u092c \\u0915\\u094b\\u0908 \\u092e\\u0939\\u093f\\u0932\\u093e \\u092a\\u094d\\u0930\\u0947\\u0917\\u0928\\u0947\\u0902\\u0938\\u0940 \\u0915\\u0947 \\u0932\\u093f\\u090f \\u0939\\u092e\\u093e\\u0930\\u0947 \\u092a\\u093e\\u0938 \\u0906\\u0924\\u0940 \\u0939\\u0948 \\u0924\\u094b \\u0909\\u0938\\u0915\\u0947 \\u0926\\u093f\\u092e\\u093e\\u0917\\u093c \\u092e\\u0947\\u0902 \\u092a\\u0939\\u0932\\u0947 \\u0926\\u093f\\u0928 \\u0938\\u0947 \\u092f\\u0939\\u0940 \\u0930\\u0939\\u0924\\u093e \\u0939\\u0948 \\u0915\\u093f \\u0932\\u0921\\u093c\\u0915\\u093e \\u0939\\u094b\\u0928\\u0947\",\n          \"\\u0909\\u0924\\u094d\\u0924\\u0930\\u092a\\u094d\\u0930\\u0926\\u0947\\u0936 \\u0935\\u093f\\u0926\\u094d\\u092f\\u0941\\u0924 \\u0928\\u093f\\u0917\\u092e \\u0928\\u0947 \\u0935\\u093e\\u0930\\u093e\\u0923\\u0938\\u0940 \\u0915\\u0947 \\u092c\\u093e\\u0939\\u0930\\u0940 \\u0907\\u0932\\u093e\\u0915\\u0947 \\u092e\\u0947\\u0902 \\u0932\\u092e\\u0939\\u0940 \\u092e\\u0947\\u0902 \\u0938\\u094d\\u0925\\u093f\\u0924 \\u092e\\u0939\\u093e\\u0928 \\u0909\\u092a\\u0928\\u094d\\u092f\\u093e\\u0938\\u0915\\u093e\\u0930 \\u092e\\u0941\\u0902\\u0936\\u0940 \\u092a\\u094d\\u0930\\u0947\\u092e\\u091a\\u0902\\u0926 \\u0915\\u0947 \\u092a\\u0948\\u0924\\u0943\\u0915 \\u092e\\u0915\\u093e\\u0928 \\u092e\\u0947\\u0902 \\u092c\\u093f\\u091c\\u0932\\u0940 \\u0915\\u0940 \\u0906\\u092a\\u0942\\u0930\\u094d\\u0924\\u093f \\u092c\\u0939\\u093e\\u0932 \\u0915\\u0930 \\u0926\\u0940 \\u0939\\u0948. \\u0926\\u0930\\u0905\\u0938\\u0932 \\u0932\\u0947\\u0916\\u0915 \\u0915\\u0940 139 \\u0935\\u0940\\u0902 \\u091c\\u092f\\u0902\\u0924\\u0940 \\u0915\\u0947 \\u0915\\u0941\\u091b \\u0926\\u093f\\u0928 \\u092a\\u0939\\u0932\\u0947 \\u092a\\u093f\\u091b\\u0932\\u0947 \\u0938\\u092a\\u094d\\u0924\\u093e\\u0939 \\u0909\\u0928\\u0915\\u0947 \\u092e\\u0915\\u093e\\u0928 \\u0915\\u0940 \\u092c\\u093f\\u091c\\u0932\\u0940 \\u0906\\u092a\\u0942\\u0930\\u094d\\u0924\\u093f \\u0930\\u094b\\u0915\\u0947 \\u091c\\u093e\\u0928\\u0947 \\u0938\\u0947 \\u0935\\u093f\\u0935\\u093e\\u0926 \\u092a\\u0948\\u0926\\u093e \\u0939\\u094b \\u0917\\u092f\\u093e \\u0925\\u093e. \\u0939\\u093e\\u0932\\u093e\\u0902\\u0915\\u093f \\u0935\\u0930\\u093e\\u0923\\u0938\\u0940 \\u0915\\u0947 \\u091c\\u093f\\u0932\\u093e\\u0927\\u093f\\u0915\\u093e\\u0930\\u0940\"\n        ],\n        \"semantic_type\": \"\",\n        \"description\": \"\"\n      }\n    }\n  ]\n}"
            }
          },
          "metadata": {},
          "execution_count": 16
        }
      ],
      "source": [
        "Summaries = pd.DataFrame(list(zip(goldsummary, SystemSummary)), columns =['GoldSummary', 'BartSummary'])\n",
        "Summaries"
      ]
    },
    {
      "cell_type": "code",
      "execution_count": 20,
      "metadata": {
        "execution": {
          "iopub.execute_input": "2022-05-01T09:19:13.118153Z",
          "iopub.status.busy": "2022-05-01T09:19:13.117902Z",
          "iopub.status.idle": "2022-05-01T09:19:17.028376Z",
          "shell.execute_reply": "2022-05-01T09:19:17.027618Z",
          "shell.execute_reply.started": "2022-05-01T09:19:13.118127Z"
        },
        "colab": {
          "base_uri": "https://localhost:8080/",
          "height": 143
        },
        "id": "2S8laUUyXXW8",
        "outputId": "1e8fd9e9-564e-47eb-b821-891305189bb7"
      },
      "outputs": [
        {
          "output_type": "execute_result",
          "data": {
            "text/plain": [
              "            rouge-1   rouge-2   rouge-l\n",
              "recall     0.524375  0.305393  0.470940\n",
              "precision  0.318803  0.168727  0.286694\n",
              "f-measure  0.392498  0.214855  0.352787"
            ],
            "text/html": [
              "\n",
              "  <div id=\"df-229df571-656e-47c5-bb07-9b9ad6aa1805\" class=\"colab-df-container\">\n",
              "    <div>\n",
              "<style scoped>\n",
              "    .dataframe tbody tr th:only-of-type {\n",
              "        vertical-align: middle;\n",
              "    }\n",
              "\n",
              "    .dataframe tbody tr th {\n",
              "        vertical-align: top;\n",
              "    }\n",
              "\n",
              "    .dataframe thead th {\n",
              "        text-align: right;\n",
              "    }\n",
              "</style>\n",
              "<table border=\"1\" class=\"dataframe\">\n",
              "  <thead>\n",
              "    <tr style=\"text-align: right;\">\n",
              "      <th></th>\n",
              "      <th>rouge-1</th>\n",
              "      <th>rouge-2</th>\n",
              "      <th>rouge-l</th>\n",
              "    </tr>\n",
              "  </thead>\n",
              "  <tbody>\n",
              "    <tr>\n",
              "      <th>recall</th>\n",
              "      <td>0.524375</td>\n",
              "      <td>0.305393</td>\n",
              "      <td>0.470940</td>\n",
              "    </tr>\n",
              "    <tr>\n",
              "      <th>precision</th>\n",
              "      <td>0.318803</td>\n",
              "      <td>0.168727</td>\n",
              "      <td>0.286694</td>\n",
              "    </tr>\n",
              "    <tr>\n",
              "      <th>f-measure</th>\n",
              "      <td>0.392498</td>\n",
              "      <td>0.214855</td>\n",
              "      <td>0.352787</td>\n",
              "    </tr>\n",
              "  </tbody>\n",
              "</table>\n",
              "</div>\n",
              "    <div class=\"colab-df-buttons\">\n",
              "\n",
              "  <div class=\"colab-df-container\">\n",
              "    <button class=\"colab-df-convert\" onclick=\"convertToInteractive('df-229df571-656e-47c5-bb07-9b9ad6aa1805')\"\n",
              "            title=\"Convert this dataframe to an interactive table.\"\n",
              "            style=\"display:none;\">\n",
              "\n",
              "  <svg xmlns=\"http://www.w3.org/2000/svg\" height=\"24px\" viewBox=\"0 -960 960 960\">\n",
              "    <path d=\"M120-120v-720h720v720H120Zm60-500h600v-160H180v160Zm220 220h160v-160H400v160Zm0 220h160v-160H400v160ZM180-400h160v-160H180v160Zm440 0h160v-160H620v160ZM180-180h160v-160H180v160Zm440 0h160v-160H620v160Z\"/>\n",
              "  </svg>\n",
              "    </button>\n",
              "\n",
              "  <style>\n",
              "    .colab-df-container {\n",
              "      display:flex;\n",
              "      gap: 12px;\n",
              "    }\n",
              "\n",
              "    .colab-df-convert {\n",
              "      background-color: #E8F0FE;\n",
              "      border: none;\n",
              "      border-radius: 50%;\n",
              "      cursor: pointer;\n",
              "      display: none;\n",
              "      fill: #1967D2;\n",
              "      height: 32px;\n",
              "      padding: 0 0 0 0;\n",
              "      width: 32px;\n",
              "    }\n",
              "\n",
              "    .colab-df-convert:hover {\n",
              "      background-color: #E2EBFA;\n",
              "      box-shadow: 0px 1px 2px rgba(60, 64, 67, 0.3), 0px 1px 3px 1px rgba(60, 64, 67, 0.15);\n",
              "      fill: #174EA6;\n",
              "    }\n",
              "\n",
              "    .colab-df-buttons div {\n",
              "      margin-bottom: 4px;\n",
              "    }\n",
              "\n",
              "    [theme=dark] .colab-df-convert {\n",
              "      background-color: #3B4455;\n",
              "      fill: #D2E3FC;\n",
              "    }\n",
              "\n",
              "    [theme=dark] .colab-df-convert:hover {\n",
              "      background-color: #434B5C;\n",
              "      box-shadow: 0px 1px 3px 1px rgba(0, 0, 0, 0.15);\n",
              "      filter: drop-shadow(0px 1px 2px rgba(0, 0, 0, 0.3));\n",
              "      fill: #FFFFFF;\n",
              "    }\n",
              "  </style>\n",
              "\n",
              "    <script>\n",
              "      const buttonEl =\n",
              "        document.querySelector('#df-229df571-656e-47c5-bb07-9b9ad6aa1805 button.colab-df-convert');\n",
              "      buttonEl.style.display =\n",
              "        google.colab.kernel.accessAllowed ? 'block' : 'none';\n",
              "\n",
              "      async function convertToInteractive(key) {\n",
              "        const element = document.querySelector('#df-229df571-656e-47c5-bb07-9b9ad6aa1805');\n",
              "        const dataTable =\n",
              "          await google.colab.kernel.invokeFunction('convertToInteractive',\n",
              "                                                    [key], {});\n",
              "        if (!dataTable) return;\n",
              "\n",
              "        const docLinkHtml = 'Like what you see? Visit the ' +\n",
              "          '<a target=\"_blank\" href=https://colab.research.google.com/notebooks/data_table.ipynb>data table notebook</a>'\n",
              "          + ' to learn more about interactive tables.';\n",
              "        element.innerHTML = '';\n",
              "        dataTable['output_type'] = 'display_data';\n",
              "        await google.colab.output.renderOutput(dataTable, element);\n",
              "        const docLink = document.createElement('div');\n",
              "        docLink.innerHTML = docLinkHtml;\n",
              "        element.appendChild(docLink);\n",
              "      }\n",
              "    </script>\n",
              "  </div>\n",
              "\n",
              "\n",
              "<div id=\"df-145d2700-2007-40ce-b497-1b8ba1399f3b\">\n",
              "  <button class=\"colab-df-quickchart\" onclick=\"quickchart('df-145d2700-2007-40ce-b497-1b8ba1399f3b')\"\n",
              "            title=\"Suggest charts\"\n",
              "            style=\"display:none;\">\n",
              "\n",
              "<svg xmlns=\"http://www.w3.org/2000/svg\" height=\"24px\"viewBox=\"0 0 24 24\"\n",
              "     width=\"24px\">\n",
              "    <g>\n",
              "        <path d=\"M19 3H5c-1.1 0-2 .9-2 2v14c0 1.1.9 2 2 2h14c1.1 0 2-.9 2-2V5c0-1.1-.9-2-2-2zM9 17H7v-7h2v7zm4 0h-2V7h2v10zm4 0h-2v-4h2v4z\"/>\n",
              "    </g>\n",
              "</svg>\n",
              "  </button>\n",
              "\n",
              "<style>\n",
              "  .colab-df-quickchart {\n",
              "      --bg-color: #E8F0FE;\n",
              "      --fill-color: #1967D2;\n",
              "      --hover-bg-color: #E2EBFA;\n",
              "      --hover-fill-color: #174EA6;\n",
              "      --disabled-fill-color: #AAA;\n",
              "      --disabled-bg-color: #DDD;\n",
              "  }\n",
              "\n",
              "  [theme=dark] .colab-df-quickchart {\n",
              "      --bg-color: #3B4455;\n",
              "      --fill-color: #D2E3FC;\n",
              "      --hover-bg-color: #434B5C;\n",
              "      --hover-fill-color: #FFFFFF;\n",
              "      --disabled-bg-color: #3B4455;\n",
              "      --disabled-fill-color: #666;\n",
              "  }\n",
              "\n",
              "  .colab-df-quickchart {\n",
              "    background-color: var(--bg-color);\n",
              "    border: none;\n",
              "    border-radius: 50%;\n",
              "    cursor: pointer;\n",
              "    display: none;\n",
              "    fill: var(--fill-color);\n",
              "    height: 32px;\n",
              "    padding: 0;\n",
              "    width: 32px;\n",
              "  }\n",
              "\n",
              "  .colab-df-quickchart:hover {\n",
              "    background-color: var(--hover-bg-color);\n",
              "    box-shadow: 0 1px 2px rgba(60, 64, 67, 0.3), 0 1px 3px 1px rgba(60, 64, 67, 0.15);\n",
              "    fill: var(--button-hover-fill-color);\n",
              "  }\n",
              "\n",
              "  .colab-df-quickchart-complete:disabled,\n",
              "  .colab-df-quickchart-complete:disabled:hover {\n",
              "    background-color: var(--disabled-bg-color);\n",
              "    fill: var(--disabled-fill-color);\n",
              "    box-shadow: none;\n",
              "  }\n",
              "\n",
              "  .colab-df-spinner {\n",
              "    border: 2px solid var(--fill-color);\n",
              "    border-color: transparent;\n",
              "    border-bottom-color: var(--fill-color);\n",
              "    animation:\n",
              "      spin 1s steps(1) infinite;\n",
              "  }\n",
              "\n",
              "  @keyframes spin {\n",
              "    0% {\n",
              "      border-color: transparent;\n",
              "      border-bottom-color: var(--fill-color);\n",
              "      border-left-color: var(--fill-color);\n",
              "    }\n",
              "    20% {\n",
              "      border-color: transparent;\n",
              "      border-left-color: var(--fill-color);\n",
              "      border-top-color: var(--fill-color);\n",
              "    }\n",
              "    30% {\n",
              "      border-color: transparent;\n",
              "      border-left-color: var(--fill-color);\n",
              "      border-top-color: var(--fill-color);\n",
              "      border-right-color: var(--fill-color);\n",
              "    }\n",
              "    40% {\n",
              "      border-color: transparent;\n",
              "      border-right-color: var(--fill-color);\n",
              "      border-top-color: var(--fill-color);\n",
              "    }\n",
              "    60% {\n",
              "      border-color: transparent;\n",
              "      border-right-color: var(--fill-color);\n",
              "    }\n",
              "    80% {\n",
              "      border-color: transparent;\n",
              "      border-right-color: var(--fill-color);\n",
              "      border-bottom-color: var(--fill-color);\n",
              "    }\n",
              "    90% {\n",
              "      border-color: transparent;\n",
              "      border-bottom-color: var(--fill-color);\n",
              "    }\n",
              "  }\n",
              "</style>\n",
              "\n",
              "  <script>\n",
              "    async function quickchart(key) {\n",
              "      const quickchartButtonEl =\n",
              "        document.querySelector('#' + key + ' button');\n",
              "      quickchartButtonEl.disabled = true;  // To prevent multiple clicks.\n",
              "      quickchartButtonEl.classList.add('colab-df-spinner');\n",
              "      try {\n",
              "        const charts = await google.colab.kernel.invokeFunction(\n",
              "            'suggestCharts', [key], {});\n",
              "      } catch (error) {\n",
              "        console.error('Error during call to suggestCharts:', error);\n",
              "      }\n",
              "      quickchartButtonEl.classList.remove('colab-df-spinner');\n",
              "      quickchartButtonEl.classList.add('colab-df-quickchart-complete');\n",
              "    }\n",
              "    (() => {\n",
              "      let quickchartButtonEl =\n",
              "        document.querySelector('#df-145d2700-2007-40ce-b497-1b8ba1399f3b button');\n",
              "      quickchartButtonEl.style.display =\n",
              "        google.colab.kernel.accessAllowed ? 'block' : 'none';\n",
              "    })();\n",
              "  </script>\n",
              "</div>\n",
              "\n",
              "  <div id=\"id_fba4d9dc-5820-40b2-811c-975bd345395a\">\n",
              "    <style>\n",
              "      .colab-df-generate {\n",
              "        background-color: #E8F0FE;\n",
              "        border: none;\n",
              "        border-radius: 50%;\n",
              "        cursor: pointer;\n",
              "        display: none;\n",
              "        fill: #1967D2;\n",
              "        height: 32px;\n",
              "        padding: 0 0 0 0;\n",
              "        width: 32px;\n",
              "      }\n",
              "\n",
              "      .colab-df-generate:hover {\n",
              "        background-color: #E2EBFA;\n",
              "        box-shadow: 0px 1px 2px rgba(60, 64, 67, 0.3), 0px 1px 3px 1px rgba(60, 64, 67, 0.15);\n",
              "        fill: #174EA6;\n",
              "      }\n",
              "\n",
              "      [theme=dark] .colab-df-generate {\n",
              "        background-color: #3B4455;\n",
              "        fill: #D2E3FC;\n",
              "      }\n",
              "\n",
              "      [theme=dark] .colab-df-generate:hover {\n",
              "        background-color: #434B5C;\n",
              "        box-shadow: 0px 1px 3px 1px rgba(0, 0, 0, 0.15);\n",
              "        filter: drop-shadow(0px 1px 2px rgba(0, 0, 0, 0.3));\n",
              "        fill: #FFFFFF;\n",
              "      }\n",
              "    </style>\n",
              "    <button class=\"colab-df-generate\" onclick=\"generateWithVariable('BartRouge')\"\n",
              "            title=\"Generate code using this dataframe.\"\n",
              "            style=\"display:none;\">\n",
              "\n",
              "  <svg xmlns=\"http://www.w3.org/2000/svg\" height=\"24px\"viewBox=\"0 0 24 24\"\n",
              "       width=\"24px\">\n",
              "    <path d=\"M7,19H8.4L18.45,9,17,7.55,7,17.6ZM5,21V16.75L18.45,3.32a2,2,0,0,1,2.83,0l1.4,1.43a1.91,1.91,0,0,1,.58,1.4,1.91,1.91,0,0,1-.58,1.4L9.25,21ZM18.45,9,17,7.55Zm-12,3A5.31,5.31,0,0,0,4.9,8.1,5.31,5.31,0,0,0,1,6.5,5.31,5.31,0,0,0,4.9,4.9,5.31,5.31,0,0,0,6.5,1,5.31,5.31,0,0,0,8.1,4.9,5.31,5.31,0,0,0,12,6.5,5.46,5.46,0,0,0,6.5,12Z\"/>\n",
              "  </svg>\n",
              "    </button>\n",
              "    <script>\n",
              "      (() => {\n",
              "      const buttonEl =\n",
              "        document.querySelector('#id_fba4d9dc-5820-40b2-811c-975bd345395a button.colab-df-generate');\n",
              "      buttonEl.style.display =\n",
              "        google.colab.kernel.accessAllowed ? 'block' : 'none';\n",
              "\n",
              "      buttonEl.onclick = () => {\n",
              "        google.colab.notebook.generateWithVariable('BartRouge');\n",
              "      }\n",
              "      })();\n",
              "    </script>\n",
              "  </div>\n",
              "\n",
              "    </div>\n",
              "  </div>\n"
            ],
            "application/vnd.google.colaboratory.intrinsic+json": {
              "type": "dataframe",
              "variable_name": "BartRouge",
              "summary": "{\n  \"name\": \"BartRouge\",\n  \"rows\": 3,\n  \"fields\": [\n    {\n      \"column\": \"rouge-1\",\n      \"properties\": {\n        \"dtype\": \"number\",\n        \"std\": 0.10414922681195424,\n        \"min\": 0.3188028287116079,\n        \"max\": 0.524374951178897,\n        \"num_unique_values\": 3,\n        \"samples\": [\n          0.524374951178897,\n          0.3188028287116079,\n          0.39249832128796946\n        ],\n        \"semantic_type\": \"\",\n        \"description\": \"\"\n      }\n    },\n    {\n      \"column\": \"rouge-2\",\n      \"properties\": {\n        \"dtype\": \"number\",\n        \"std\": 0.06952531270336165,\n        \"min\": 0.16872662419450743,\n        \"max\": 0.30539289526824437,\n        \"num_unique_values\": 3,\n        \"samples\": [\n          0.30539289526824437,\n          0.16872662419450743,\n          0.21485491605706566\n        ],\n        \"semantic_type\": \"\",\n        \"description\": \"\"\n      }\n    },\n    {\n      \"column\": \"rouge-l\",\n      \"properties\": {\n        \"dtype\": \"number\",\n        \"std\": 0.09334065721293486,\n        \"min\": 0.2866936769272572,\n        \"max\": 0.4709395851928466,\n        \"num_unique_values\": 3,\n        \"samples\": [\n          0.4709395851928466,\n          0.2866936769272572,\n          0.3527874391331243\n        ],\n        \"semantic_type\": \"\",\n        \"description\": \"\"\n      }\n    }\n  ]\n}"
            }
          },
          "metadata": {},
          "execution_count": 20
        }
      ],
      "source": [
        "rouge = Rouge()\n",
        "score = rouge.get_scores(Summaries['BartSummary'], Summaries['GoldSummary'], avg=True)\n",
        "BartRouge = pd.DataFrame(score).set_index([['recall','precision','f-measure']])\n",
        "BartRouge"
      ]
    },
    {
      "cell_type": "markdown",
      "metadata": {
        "id": "DMMv7_jmXXW9"
      },
      "source": [
        "### **Model2 : T5**"
      ]
    },
    {
      "cell_type": "code",
      "execution_count": 17,
      "metadata": {
        "colab": {
          "base_uri": "https://localhost:8080/",
          "height": 284,
          "referenced_widgets": [
            "081c93814c394fdf89963129f44f7dc6",
            "2744f57b35b34b34a0dbbf3cd9ed1b7d",
            "7329401e15e841b29b3d1e21e6c058ef",
            "df4abf2783ca4af48dca614944218a60",
            "6987b4f5afb14ffc9173fc82557c190c",
            "7b288eb2756c44659254b0d75b298ae6",
            "c3d2e73dfbb14bebbe9eeb64cad10ef7",
            "ddcacaee10ba45439956064364e02515",
            "cce8f61454594395ac2a740d99a73168",
            "f03d226d747b4af7921aa721ce595281",
            "4edbced3bab1463abb1032a833bf887a",
            "92843992a69c47059777765b0633c894",
            "dacfb7bcca6b428e9a4856fb82749320",
            "821e31ac687e485c9106bcb3b8b53628",
            "ecb1f901bb3549d8b1d2ada943ea9011",
            "b2369f0240004a088b4bd5d246499490",
            "8b85c71f2af14a79b1f824eeadf95c60",
            "10837cc3496444de88d5df8f623987ad",
            "208f273cb0e1437a8ed719cfa6c9da6d",
            "b95dbf0d9ae94dc788dca9675a90780a",
            "9f563658cd71455983220d879f3bdcfc",
            "de55c6c1148c42c4b7a67b1e4a541472",
            "d9cb8fa600934d718da439bcd91b8238",
            "442a3ec777704359acd796f857791087",
            "c82ebf42583f4d5b864217aeec32a7ba",
            "3bfea8cc31554d15a959c77c53e52cfa",
            "460455b2684d48dbb1d650b28b9579e0",
            "878e1a1d73134edbbf5708063cd5f7d5",
            "f4d6283d5001444b971eb76a86453eba",
            "d18b255fd45b428db9caa1efeead9ae7",
            "232035db36a244cfb476442711f18e1b",
            "82bb400a26664d80862489a0e44c7484",
            "ed2b757754434b4abc0faa30e2a5a0fb",
            "9e0fb0505bb7473c95bdfa13c10d6452",
            "4271d90f02044e828141618c62fe1760",
            "fd9a021f260e441a9e676c64ac7f64c0",
            "b5d7749fdf634193aeac203824c5ebdd",
            "641b02f5dd7346cda04a6e02d82d7f62",
            "7cdfe64d345c408792aee47bfcdacf70",
            "cda344213a7f4ace90e9c5442a5116e3",
            "ba2e250e71ab4ae4817860750a6fa3a7",
            "b00dc96375f24bc8af2d8be2406e2f6c",
            "517ade92c0ef444897a19700bf3a2900",
            "52bbe41246db450c8629d80457712bc0",
            "a11a20e198f94fe691b7809670fbaacc",
            "cc7faa250f2b4d3f8854e0923a2169f2",
            "faa1dbea8e224198b2a4036d209d461e",
            "d5306fc7f94344b4a35cb7a0cb91d77b",
            "4a884ef267724173b2040d20d537b7ce",
            "91c6a764b64c443b99453d35772bf5c0",
            "9cb8804e6fd74aa88fac2c72ac063ed3",
            "c0a6095deb0641ff9c60a595214560ba",
            "69eda2720a75456795e7a4c34c64e450",
            "cbeafae6ca6a4e498a913c2eb74c4d48",
            "9c91e3695b95485db1edf339ff0fc0c8"
          ]
        },
        "id": "mlUK3RHkXXW9",
        "outputId": "d2bc8b6b-c365-42c4-be5d-023ba7c2f611"
      },
      "outputs": [
        {
          "output_type": "display_data",
          "data": {
            "text/plain": [
              "tokenizer_config.json:   0%|          | 0.00/375 [00:00<?, ?B/s]"
            ],
            "application/vnd.jupyter.widget-view+json": {
              "version_major": 2,
              "version_minor": 0,
              "model_id": "081c93814c394fdf89963129f44f7dc6"
            }
          },
          "metadata": {}
        },
        {
          "output_type": "display_data",
          "data": {
            "text/plain": [
              "config.json:   0%|          | 0.00/730 [00:00<?, ?B/s]"
            ],
            "application/vnd.jupyter.widget-view+json": {
              "version_major": 2,
              "version_minor": 0,
              "model_id": "92843992a69c47059777765b0633c894"
            }
          },
          "metadata": {}
        },
        {
          "output_type": "display_data",
          "data": {
            "text/plain": [
              "spiece.model:   0%|          | 0.00/4.31M [00:00<?, ?B/s]"
            ],
            "application/vnd.jupyter.widget-view+json": {
              "version_major": 2,
              "version_minor": 0,
              "model_id": "d9cb8fa600934d718da439bcd91b8238"
            }
          },
          "metadata": {}
        },
        {
          "output_type": "display_data",
          "data": {
            "text/plain": [
              "special_tokens_map.json:   0%|          | 0.00/65.0 [00:00<?, ?B/s]"
            ],
            "application/vnd.jupyter.widget-view+json": {
              "version_major": 2,
              "version_minor": 0,
              "model_id": "9e0fb0505bb7473c95bdfa13c10d6452"
            }
          },
          "metadata": {}
        },
        {
          "output_type": "stream",
          "name": "stderr",
          "text": [
            "You are using the default legacy behaviour of the <class 'transformers.models.t5.tokenization_t5.T5Tokenizer'>. This is expected, and simply means that the `legacy` (previous) behavior will be used so nothing changes for you. If you want to use the new behaviour, set `legacy=False`. This should only be set if you understand what it means, and thoroughly read the reason why this was added as explained in https://github.com/huggingface/transformers/pull/24565\n",
            "/usr/local/lib/python3.11/dist-packages/transformers/convert_slow_tokenizer.py:561: UserWarning:\n",
            "\n",
            "The sentencepiece tokenizer that you are converting to a fast tokenizer uses the byte fallback option which is not implemented in the fast tokenizers. In practice this means that the fast version of the tokenizer can produce unknown tokens whereas the sentencepiece version would have converted these unknown tokens into a sequence of byte tokens matching the original piece of text.\n",
            "\n"
          ]
        },
        {
          "output_type": "display_data",
          "data": {
            "text/plain": [
              "pytorch_model.bin:   0%|          | 0.00/2.33G [00:00<?, ?B/s]"
            ],
            "application/vnd.jupyter.widget-view+json": {
              "version_major": 2,
              "version_minor": 0,
              "model_id": "a11a20e198f94fe691b7809670fbaacc"
            }
          },
          "metadata": {}
        }
      ],
      "source": [
        "t5_checkpoint = \"csebuetnlp/mT5_multilingual_XLSum\"\n",
        "\n",
        "tokenizer_t5 = AutoTokenizer.from_pretrained(t5_checkpoint)\n",
        "model_t5 = AutoModelForSeq2SeqLM.from_pretrained(t5_checkpoint).to(device)"
      ]
    },
    {
      "cell_type": "code",
      "execution_count": 19,
      "metadata": {
        "execution": {
          "iopub.execute_input": "2022-05-01T08:25:42.960140Z",
          "iopub.status.busy": "2022-05-01T08:25:42.959611Z",
          "iopub.status.idle": "2022-05-01T09:11:37.242572Z",
          "shell.execute_reply": "2022-05-01T09:11:37.241771Z",
          "shell.execute_reply.started": "2022-05-01T08:25:42.960104Z"
        },
        "id": "ynDGxx-IXXW9"
      },
      "outputs": [],
      "source": [
        "\n",
        "\n",
        "SystemSummary1 = []\n",
        "\n",
        "for i, input_text in enumerate(text):\n",
        "\n",
        "    input_ids = tokenizer_t5(input_text,\n",
        "                             return_tensors=\"pt\",\n",
        "                             padding=\"max_length\",\n",
        "                             truncation=True,\n",
        "                             max_length=768)[\"input_ids\"].to(device)\n",
        "\n",
        "    model_output = model_t5.generate(input_ids=input_ids,\n",
        "                                     num_beams=4,\n",
        "                                     max_length=70,\n",
        "                                     min_length=30,\n",
        "                                     no_repeat_ngram_size=2,\n",
        "                                     early_stopping=True)\n",
        "\n",
        "    decoded_output = tokenizer_t5.decode(model_output[0],\n",
        "                                  skip_special_tokens=True,\n",
        "                                  clean_up_tokenization_spaces=False)\n",
        "\n",
        "    SystemSummary1.append(decoded_output)"
      ]
    },
    {
      "cell_type": "code",
      "execution_count": 21,
      "metadata": {
        "execution": {
          "iopub.execute_input": "2022-05-01T09:19:55.168203Z",
          "iopub.status.busy": "2022-05-01T09:19:55.167649Z",
          "iopub.status.idle": "2022-05-01T09:19:55.176384Z",
          "shell.execute_reply": "2022-05-01T09:19:55.173869Z",
          "shell.execute_reply.started": "2022-05-01T09:19:55.168166Z"
        },
        "id": "t-ZF3g2YXXW9"
      },
      "outputs": [],
      "source": [
        "Summaries['T5Summary'] = SystemSummary1"
      ]
    },
    {
      "cell_type": "code",
      "execution_count": 22,
      "metadata": {
        "execution": {
          "iopub.execute_input": "2022-05-01T09:20:08.179496Z",
          "iopub.status.busy": "2022-05-01T09:20:08.179247Z",
          "iopub.status.idle": "2022-05-01T09:20:08.188718Z",
          "shell.execute_reply": "2022-05-01T09:20:08.187983Z",
          "shell.execute_reply.started": "2022-05-01T09:20:08.179468Z"
        },
        "colab": {
          "base_uri": "https://localhost:8080/",
          "height": 206
        },
        "id": "3U3LGmr6XXW9",
        "outputId": "3fdda628-3f0a-4985-d438-7ba848faf0fa"
      },
      "outputs": [
        {
          "output_type": "execute_result",
          "data": {
            "text/plain": [
              "                                         GoldSummary  \\\n",
              "0  बिहार में भारतीय जनता पार्टी (बीजेपी) अपने सहय...   \n",
              "1  क्रिस गेल ने कहा चैंपियंस ट्रॉफी में पाकिस्तान...   \n",
              "2  म्रिस्र के नवनियुक्त उप राष्ट्रपति उमर सुलेमान...   \n",
              "3  ट्विंकल खन्ना ने वजाइना से जुड़े कई सवालों के ...   \n",
              "4  दुनिया भर में ग़लत तरीके से सड़क पार करने पर ज...   \n",
              "\n",
              "                                         BartSummary  \\\n",
              "0  आगामी लोकसभा चुनाव में राज्य की कुल 40 सीटों म...   \n",
              "1  वेस्टइंडीज के आक्रामक बल्लेबाज क्रिस गेल ने कह...   \n",
              "2  म्रिस्र के नवनियुक्त उप राष्ट्रपति उमर सुलेमान...   \n",
              "3  अकसर अपने ट्वीट्स को लेकर चर्चा में रहने वाली ...   \n",
              "4  कहा जाता है कि अमरीका में 1920 के दशक में मोटर...   \n",
              "\n",
              "                                           T5Summary  \n",
              "0  बिहार में विधानसभा चुनावों के लिए बीजेपी और जन...  \n",
              "1  आईसीसी चैम्पियंस ट्रॉफी में अगले महीने भारत और...  \n",
              "2  मिस्र के राष्ट्रपति हुस्नी मुबारक ने सरकार विर...  \n",
              "3  बॉलीवुड की एक्ट्रेस ट्विंकल खन्ना ने एक और ब्ल...  \n",
              "4  अमरीका में लाल बत्ती पर सड़क पार करने पर रोक ल...  "
            ],
            "text/html": [
              "\n",
              "  <div id=\"df-ddcc5103-f2b6-4035-a9e8-0ec50b266719\" class=\"colab-df-container\">\n",
              "    <div>\n",
              "<style scoped>\n",
              "    .dataframe tbody tr th:only-of-type {\n",
              "        vertical-align: middle;\n",
              "    }\n",
              "\n",
              "    .dataframe tbody tr th {\n",
              "        vertical-align: top;\n",
              "    }\n",
              "\n",
              "    .dataframe thead th {\n",
              "        text-align: right;\n",
              "    }\n",
              "</style>\n",
              "<table border=\"1\" class=\"dataframe\">\n",
              "  <thead>\n",
              "    <tr style=\"text-align: right;\">\n",
              "      <th></th>\n",
              "      <th>GoldSummary</th>\n",
              "      <th>BartSummary</th>\n",
              "      <th>T5Summary</th>\n",
              "    </tr>\n",
              "  </thead>\n",
              "  <tbody>\n",
              "    <tr>\n",
              "      <th>0</th>\n",
              "      <td>बिहार में भारतीय जनता पार्टी (बीजेपी) अपने सहय...</td>\n",
              "      <td>आगामी लोकसभा चुनाव में राज्य की कुल 40 सीटों म...</td>\n",
              "      <td>बिहार में विधानसभा चुनावों के लिए बीजेपी और जन...</td>\n",
              "    </tr>\n",
              "    <tr>\n",
              "      <th>1</th>\n",
              "      <td>क्रिस गेल ने कहा चैंपियंस ट्रॉफी में पाकिस्तान...</td>\n",
              "      <td>वेस्टइंडीज के आक्रामक बल्लेबाज क्रिस गेल ने कह...</td>\n",
              "      <td>आईसीसी चैम्पियंस ट्रॉफी में अगले महीने भारत और...</td>\n",
              "    </tr>\n",
              "    <tr>\n",
              "      <th>2</th>\n",
              "      <td>म्रिस्र के नवनियुक्त उप राष्ट्रपति उमर सुलेमान...</td>\n",
              "      <td>म्रिस्र के नवनियुक्त उप राष्ट्रपति उमर सुलेमान...</td>\n",
              "      <td>मिस्र के राष्ट्रपति हुस्नी मुबारक ने सरकार विर...</td>\n",
              "    </tr>\n",
              "    <tr>\n",
              "      <th>3</th>\n",
              "      <td>ट्विंकल खन्ना ने वजाइना से जुड़े कई सवालों के ...</td>\n",
              "      <td>अकसर अपने ट्वीट्स को लेकर चर्चा में रहने वाली ...</td>\n",
              "      <td>बॉलीवुड की एक्ट्रेस ट्विंकल खन्ना ने एक और ब्ल...</td>\n",
              "    </tr>\n",
              "    <tr>\n",
              "      <th>4</th>\n",
              "      <td>दुनिया भर में ग़लत तरीके से सड़क पार करने पर ज...</td>\n",
              "      <td>कहा जाता है कि अमरीका में 1920 के दशक में मोटर...</td>\n",
              "      <td>अमरीका में लाल बत्ती पर सड़क पार करने पर रोक ल...</td>\n",
              "    </tr>\n",
              "  </tbody>\n",
              "</table>\n",
              "</div>\n",
              "    <div class=\"colab-df-buttons\">\n",
              "\n",
              "  <div class=\"colab-df-container\">\n",
              "    <button class=\"colab-df-convert\" onclick=\"convertToInteractive('df-ddcc5103-f2b6-4035-a9e8-0ec50b266719')\"\n",
              "            title=\"Convert this dataframe to an interactive table.\"\n",
              "            style=\"display:none;\">\n",
              "\n",
              "  <svg xmlns=\"http://www.w3.org/2000/svg\" height=\"24px\" viewBox=\"0 -960 960 960\">\n",
              "    <path d=\"M120-120v-720h720v720H120Zm60-500h600v-160H180v160Zm220 220h160v-160H400v160Zm0 220h160v-160H400v160ZM180-400h160v-160H180v160Zm440 0h160v-160H620v160ZM180-180h160v-160H180v160Zm440 0h160v-160H620v160Z\"/>\n",
              "  </svg>\n",
              "    </button>\n",
              "\n",
              "  <style>\n",
              "    .colab-df-container {\n",
              "      display:flex;\n",
              "      gap: 12px;\n",
              "    }\n",
              "\n",
              "    .colab-df-convert {\n",
              "      background-color: #E8F0FE;\n",
              "      border: none;\n",
              "      border-radius: 50%;\n",
              "      cursor: pointer;\n",
              "      display: none;\n",
              "      fill: #1967D2;\n",
              "      height: 32px;\n",
              "      padding: 0 0 0 0;\n",
              "      width: 32px;\n",
              "    }\n",
              "\n",
              "    .colab-df-convert:hover {\n",
              "      background-color: #E2EBFA;\n",
              "      box-shadow: 0px 1px 2px rgba(60, 64, 67, 0.3), 0px 1px 3px 1px rgba(60, 64, 67, 0.15);\n",
              "      fill: #174EA6;\n",
              "    }\n",
              "\n",
              "    .colab-df-buttons div {\n",
              "      margin-bottom: 4px;\n",
              "    }\n",
              "\n",
              "    [theme=dark] .colab-df-convert {\n",
              "      background-color: #3B4455;\n",
              "      fill: #D2E3FC;\n",
              "    }\n",
              "\n",
              "    [theme=dark] .colab-df-convert:hover {\n",
              "      background-color: #434B5C;\n",
              "      box-shadow: 0px 1px 3px 1px rgba(0, 0, 0, 0.15);\n",
              "      filter: drop-shadow(0px 1px 2px rgba(0, 0, 0, 0.3));\n",
              "      fill: #FFFFFF;\n",
              "    }\n",
              "  </style>\n",
              "\n",
              "    <script>\n",
              "      const buttonEl =\n",
              "        document.querySelector('#df-ddcc5103-f2b6-4035-a9e8-0ec50b266719 button.colab-df-convert');\n",
              "      buttonEl.style.display =\n",
              "        google.colab.kernel.accessAllowed ? 'block' : 'none';\n",
              "\n",
              "      async function convertToInteractive(key) {\n",
              "        const element = document.querySelector('#df-ddcc5103-f2b6-4035-a9e8-0ec50b266719');\n",
              "        const dataTable =\n",
              "          await google.colab.kernel.invokeFunction('convertToInteractive',\n",
              "                                                    [key], {});\n",
              "        if (!dataTable) return;\n",
              "\n",
              "        const docLinkHtml = 'Like what you see? Visit the ' +\n",
              "          '<a target=\"_blank\" href=https://colab.research.google.com/notebooks/data_table.ipynb>data table notebook</a>'\n",
              "          + ' to learn more about interactive tables.';\n",
              "        element.innerHTML = '';\n",
              "        dataTable['output_type'] = 'display_data';\n",
              "        await google.colab.output.renderOutput(dataTable, element);\n",
              "        const docLink = document.createElement('div');\n",
              "        docLink.innerHTML = docLinkHtml;\n",
              "        element.appendChild(docLink);\n",
              "      }\n",
              "    </script>\n",
              "  </div>\n",
              "\n",
              "\n",
              "<div id=\"df-b2c3e7ff-9f02-4794-84aa-fc0cc08fa398\">\n",
              "  <button class=\"colab-df-quickchart\" onclick=\"quickchart('df-b2c3e7ff-9f02-4794-84aa-fc0cc08fa398')\"\n",
              "            title=\"Suggest charts\"\n",
              "            style=\"display:none;\">\n",
              "\n",
              "<svg xmlns=\"http://www.w3.org/2000/svg\" height=\"24px\"viewBox=\"0 0 24 24\"\n",
              "     width=\"24px\">\n",
              "    <g>\n",
              "        <path d=\"M19 3H5c-1.1 0-2 .9-2 2v14c0 1.1.9 2 2 2h14c1.1 0 2-.9 2-2V5c0-1.1-.9-2-2-2zM9 17H7v-7h2v7zm4 0h-2V7h2v10zm4 0h-2v-4h2v4z\"/>\n",
              "    </g>\n",
              "</svg>\n",
              "  </button>\n",
              "\n",
              "<style>\n",
              "  .colab-df-quickchart {\n",
              "      --bg-color: #E8F0FE;\n",
              "      --fill-color: #1967D2;\n",
              "      --hover-bg-color: #E2EBFA;\n",
              "      --hover-fill-color: #174EA6;\n",
              "      --disabled-fill-color: #AAA;\n",
              "      --disabled-bg-color: #DDD;\n",
              "  }\n",
              "\n",
              "  [theme=dark] .colab-df-quickchart {\n",
              "      --bg-color: #3B4455;\n",
              "      --fill-color: #D2E3FC;\n",
              "      --hover-bg-color: #434B5C;\n",
              "      --hover-fill-color: #FFFFFF;\n",
              "      --disabled-bg-color: #3B4455;\n",
              "      --disabled-fill-color: #666;\n",
              "  }\n",
              "\n",
              "  .colab-df-quickchart {\n",
              "    background-color: var(--bg-color);\n",
              "    border: none;\n",
              "    border-radius: 50%;\n",
              "    cursor: pointer;\n",
              "    display: none;\n",
              "    fill: var(--fill-color);\n",
              "    height: 32px;\n",
              "    padding: 0;\n",
              "    width: 32px;\n",
              "  }\n",
              "\n",
              "  .colab-df-quickchart:hover {\n",
              "    background-color: var(--hover-bg-color);\n",
              "    box-shadow: 0 1px 2px rgba(60, 64, 67, 0.3), 0 1px 3px 1px rgba(60, 64, 67, 0.15);\n",
              "    fill: var(--button-hover-fill-color);\n",
              "  }\n",
              "\n",
              "  .colab-df-quickchart-complete:disabled,\n",
              "  .colab-df-quickchart-complete:disabled:hover {\n",
              "    background-color: var(--disabled-bg-color);\n",
              "    fill: var(--disabled-fill-color);\n",
              "    box-shadow: none;\n",
              "  }\n",
              "\n",
              "  .colab-df-spinner {\n",
              "    border: 2px solid var(--fill-color);\n",
              "    border-color: transparent;\n",
              "    border-bottom-color: var(--fill-color);\n",
              "    animation:\n",
              "      spin 1s steps(1) infinite;\n",
              "  }\n",
              "\n",
              "  @keyframes spin {\n",
              "    0% {\n",
              "      border-color: transparent;\n",
              "      border-bottom-color: var(--fill-color);\n",
              "      border-left-color: var(--fill-color);\n",
              "    }\n",
              "    20% {\n",
              "      border-color: transparent;\n",
              "      border-left-color: var(--fill-color);\n",
              "      border-top-color: var(--fill-color);\n",
              "    }\n",
              "    30% {\n",
              "      border-color: transparent;\n",
              "      border-left-color: var(--fill-color);\n",
              "      border-top-color: var(--fill-color);\n",
              "      border-right-color: var(--fill-color);\n",
              "    }\n",
              "    40% {\n",
              "      border-color: transparent;\n",
              "      border-right-color: var(--fill-color);\n",
              "      border-top-color: var(--fill-color);\n",
              "    }\n",
              "    60% {\n",
              "      border-color: transparent;\n",
              "      border-right-color: var(--fill-color);\n",
              "    }\n",
              "    80% {\n",
              "      border-color: transparent;\n",
              "      border-right-color: var(--fill-color);\n",
              "      border-bottom-color: var(--fill-color);\n",
              "    }\n",
              "    90% {\n",
              "      border-color: transparent;\n",
              "      border-bottom-color: var(--fill-color);\n",
              "    }\n",
              "  }\n",
              "</style>\n",
              "\n",
              "  <script>\n",
              "    async function quickchart(key) {\n",
              "      const quickchartButtonEl =\n",
              "        document.querySelector('#' + key + ' button');\n",
              "      quickchartButtonEl.disabled = true;  // To prevent multiple clicks.\n",
              "      quickchartButtonEl.classList.add('colab-df-spinner');\n",
              "      try {\n",
              "        const charts = await google.colab.kernel.invokeFunction(\n",
              "            'suggestCharts', [key], {});\n",
              "      } catch (error) {\n",
              "        console.error('Error during call to suggestCharts:', error);\n",
              "      }\n",
              "      quickchartButtonEl.classList.remove('colab-df-spinner');\n",
              "      quickchartButtonEl.classList.add('colab-df-quickchart-complete');\n",
              "    }\n",
              "    (() => {\n",
              "      let quickchartButtonEl =\n",
              "        document.querySelector('#df-b2c3e7ff-9f02-4794-84aa-fc0cc08fa398 button');\n",
              "      quickchartButtonEl.style.display =\n",
              "        google.colab.kernel.accessAllowed ? 'block' : 'none';\n",
              "    })();\n",
              "  </script>\n",
              "</div>\n",
              "\n",
              "    </div>\n",
              "  </div>\n"
            ],
            "application/vnd.google.colaboratory.intrinsic+json": {
              "type": "dataframe",
              "variable_name": "Summaries",
              "summary": "{\n  \"name\": \"Summaries\",\n  \"rows\": 2000,\n  \"fields\": [\n    {\n      \"column\": \"GoldSummary\",\n      \"properties\": {\n        \"dtype\": \"string\",\n        \"num_unique_values\": 1998,\n        \"samples\": [\n          \"\\u091c\\u092e\\u094d\\u092e\\u0942-\\u0915\\u0936\\u094d\\u092e\\u0940\\u0930 \\u0915\\u093e \\u0935\\u093f\\u0936\\u0947\\u0937 \\u0926\\u0930\\u094d\\u091c\\u093e \\u0935\\u093e\\u092a\\u0938 \\u0932\\u093f\\u090f \\u091c\\u093e\\u0928\\u0947 \\u0915\\u0947 \\u092c\\u093e\\u0926 \\u092c\\u0940\\u091c\\u0947\\u092a\\u0940 \\u0915\\u094b \\u091b\\u094b\\u0921\\u093c\\u0915\\u0930 \\u0915\\u0947\\u0902\\u0926\\u094d\\u0930 \\u0936\\u093e\\u0938\\u093f\\u0924 \\u092a\\u094d\\u0930\\u0926\\u0947\\u0936 \\u0915\\u0947 \\u092a\\u094d\\u0930\\u092e\\u0941\\u0916 \\u0930\\u093e\\u091c\\u0928\\u0940\\u0924\\u093f\\u0915 \\u0926\\u0932 \\u0936\\u0928\\u093f\\u0935\\u093e\\u0930 \\u0915\\u094b \\u090f\\u0915 \\u0938\\u093e\\u0925 \\u0906\\u090f \\u0914\\u0930 \\u0905\\u0928\\u0941\\u091a\\u094d\\u091b\\u0947\\u0926-370 \\u0915\\u094b \\u092b\\u093f\\u0930 \\u0938\\u0947 \\u092c\\u0939\\u093e\\u0932 \\u0915\\u0930\\u0928\\u0947 \\u0915\\u094b \\u0932\\u0947\\u0915\\u0930 \\u092c\\u092f\\u093e\\u0928 \\u091c\\u093e\\u0930\\u0940 \\u0915\\u093f\\u092f\\u093e. \\u092c\\u092f\\u093e\\u0928 \\u092e\\u0947\\u0902 \\u0915\\u0939\\u093e \\u0917\\u092f\\u093e \\u0939\\u0948 \\u0915\\u093f \\u0935\\u094b \\u0907\\u0938\\u0915\\u094b \\u0932\\u0947\\u0915\\u0930 \\u0938\\u0902\\u0918\\u0930\\u094d\\u0937 \\u0915\\u0930\\u0947\\u0902\\u0917\\u0947.\",\n          \"\\u0926\\u0941\\u0928\\u093f\\u092f\\u093e \\u0915\\u0940 \\u0938\\u092c\\u0938\\u0947 \\u0909\\u092e\\u094d\\u0930\\u0926\\u0930\\u093e\\u091c\\u093c \\u092c\\u094d\\u0932\\u0949\\u0917\\u0930 108 \\u0935\\u0930\\u094d\\u0937 \\u0915\\u0940 \\u0913\\u0932\\u093f\\u0935 \\u0930\\u093f\\u0932\\u0947 \\u0915\\u093e \\u0926\\u0947\\u0939\\u093e\\u0902\\u0924 \\u0939\\u094b \\u0917\\u092f\\u093e \\u0939\\u0948. \\u0935\\u0947 \\u0911\\u0938\\u094d\\u091f\\u094d\\u0930\\u0947\\u0932\\u093f\\u092f\\u093e \\u0915\\u0940 \\u0930\\u0939\\u0928\\u0947 \\u0935\\u093e\\u0932\\u0940 \\u0925\\u0940\\u0902.\",\n          \"\\u092c\\u0940. \\u091a\\u0902\\u0926\\u094d\\u0930\\u0915\\u0932\\u093e \\u0928\\u0947 \\u0932\\u093f\\u0902\\u0915\\u0921\\u093f\\u0928 \\u092a\\u0930 \\u0915\\u0935\\u093f\\u0924\\u093e \\u0938\\u093e\\u091d\\u093e \\u0915\\u0940 \\u0939\\u0948 \\u0909\\u0928\\u094d\\u0939\\u094b\\u0902\\u0928\\u0947 \\u0932\\u093f\\u0916\\u093e \\u0915\\u093f \\u091b\\u093e\\u092a\\u093e \\u091c\\u093e\\u0902\\u091a \\u0915\\u0940 \\u092a\\u094d\\u0930\\u0915\\u094d\\u0930\\u093f\\u092f\\u093e \\u0915\\u093e \\u0939\\u093f\\u0938\\u094d\\u0938\\u093e \\u0939\\u0948 \\u0905\\u0935\\u0948\\u0927 \\u0916\\u0928\\u0928 \\u092e\\u093e\\u092e\\u0932\\u0947 \\u092e\\u0947\\u0902 \\u091a\\u0902\\u0926\\u094d\\u0930\\u0915\\u0932\\u093e \\u092a\\u0930 \\u0938\\u0940\\u092c\\u0940\\u0906\\u0908 \\u0928\\u0947 \\u091b\\u093e\\u092a\\u093e \\u092e\\u093e\\u0930\\u093e \\u0925\\u093e\"\n        ],\n        \"semantic_type\": \"\",\n        \"description\": \"\"\n      }\n    },\n    {\n      \"column\": \"BartSummary\",\n      \"properties\": {\n        \"dtype\": \"string\",\n        \"num_unique_values\": 1999,\n        \"samples\": [\n          \"\\u092a\\u094d\\u0930\\u0927\\u093e\\u0928\\u092e\\u0902\\u0924\\u094d\\u0930\\u0940 \\u092e\\u0928\\u092e\\u094b\\u0939\\u0928 \\u0938\\u093f\\u0902\\u0939 \\u0928\\u0947 \\u092e\\u0902\\u0917\\u0932\\u0935\\u093e\\u0930 \\u0915\\u094b \\u0915\\u0939\\u093e \\u0915\\u093f \\u090f\\u0915 \\u0938\\u0940\\u091f \\u092a\\u0930 \\u0939\\u0941\\u090f \\u0909\\u092a\\u091a\\u0941\\u0928\\u093e\\u0935 \\u0915\\u0947 \\u092a\\u0930\\u093f\\u0923\\u093e\\u092e \\u0915\\u094b \\u0909\\u0928\\u0915\\u0940 \\u0938\\u0930\\u0915\\u093e\\u0930 \\u0915\\u0947 \\u092a\\u094d\\u0930\\u0926\\u0930\\u094d\\u0936\\u0928 \\u0915\\u0947 \\u092b\\u0932\\u0938\\u092b\\u0947 \\u0938\\u0947 \\u091c\\u094b\\u0921\\u093c\\u0915\\u0930 \\u0928\\u0939\\u0940\\u0902 \\u0926\\u0947\\u0916\\u093e \\u091c\\u093e \\u0938\\u0915\\u0924\\u093e\\u0964 \\u0939\\u0930\\u093f\\u092f\\u093e\\u0923\\u093e \\u0906\\u0902\\u0927\\u094d\\u0930 \\u092a\\u094d\\u0930\\u0926\\u0947\\u0936 \\u092e\\u0939\\u093e\\u0930\\u093e\\u0937\\u094d\\u091f\\u094d\\u0930 \\u0914\\u0930 \\u092c\\u093f\\u0939\\u093e\\u0930 \\u092e\\u0947\\u0902 \\u0939\\u0941\\u090f \\u0909\\u092a\\u091a\\u0941\\u0928\\u093e\\u0935\\u094b\\u0902 \\u092e\\u0947\\u0902 \\u0915\\u093e\\u0902\\u0917\\u094d\\u0930\\u0947\\u0938 \\u0915\\u094b \\u092e\\u093f\\u0932\\u0940 \\u0915\\u0930\\u093e\\u0930\\u0940 \\u0936\\u093f\\u0915\\u0938\\u094d\\u0924 \\u0915\\u0947 \\u092c\\u093e\\u0930\\u0947 \\u092e\\u0947\\u0902 \\u092a\\u0942\\u091b\\u0947 \\u091c\\u093e\\u0928\\u0947 \\u092a\\u0930 \\u092a\\u094d\\u0930\\u0927\\u093e\\u0928\\u092e\\u0902\\u0924\\u094d\\u0930\\u0940 \\u0928\\u0947 \\u0938\\u0902\\u0935\\u093e\\u0926\\u0926\\u093e\\u0924\\u093e\\u0913\\u0902 \\u0938\\u0947 \\u0915\\u0939\\u093e \\\"\\u090f\\u0915 \\u0909\\u092a\\u091a\\u0941\\u0928\\u093e\\u0935 \\u0915\\u094b \\u091c\\u0928\\u092e\\u0924 \\u0938\\u0902\\u0917\\u094d\\u0930\\u0939 \\u092f\\u093e\",\n          \"\\u092a\\u0941\\u0923\\u0947 \\u092e\\u0947\\u0902 \\u092e\\u094c\\u091c\\u0942\\u0926 \\u0921\\u0949\\u0915\\u094d\\u091f\\u0930 \\u0917\\u0923\\u0947\\u0936 \\u0930\\u0916 \\u0915\\u0947 \\u0905\\u0938\\u094d\\u092a\\u0924\\u093e\\u0932 \\u092e\\u0947\\u0902 \\u092a\\u094d\\u0930\\u0938\\u0935 \\u0915\\u0947 \\u092c\\u093e\\u0926 \\u0905\\u0917\\u0930 \\u0936\\u093f\\u0936\\u0941 \\u0932\\u0921\\u093c\\u0915\\u0940 \\u0939\\u094b \\u0924\\u094b \\u092e\\u093e\\u0902 \\u0914\\u0930 \\u0936\\u093f\\u0936\\u0941 \\u0915\\u093e \\u092a\\u0942\\u0930\\u093e \\u0907\\u0932\\u093e\\u091c \\u092e\\u0941\\u092b\\u094d\\u093c\\u0924 \\u0915\\u093f\\u092f\\u093e \\u091c\\u093e\\u0924\\u093e \\u0939\\u0948. \\u0921\\u0949\\u0915\\u094d\\u091f\\u0930 \\u0930\\u0916 \\u0915\\u0939\\u0924\\u0947 \\u0939\\u0948\\u0902, \\\"\\u0939\\u0949\\u0938\\u094d\\u092a\\u093f\\u091f\\u0932 \\u092e\\u0947\\u0902 \\u091c\\u092c \\u0915\\u094b\\u0908 \\u092e\\u0939\\u093f\\u0932\\u093e \\u092a\\u094d\\u0930\\u0947\\u0917\\u0928\\u0947\\u0902\\u0938\\u0940 \\u0915\\u0947 \\u0932\\u093f\\u090f \\u0939\\u092e\\u093e\\u0930\\u0947 \\u092a\\u093e\\u0938 \\u0906\\u0924\\u0940 \\u0939\\u0948 \\u0924\\u094b \\u0909\\u0938\\u0915\\u0947 \\u0926\\u093f\\u092e\\u093e\\u0917\\u093c \\u092e\\u0947\\u0902 \\u092a\\u0939\\u0932\\u0947 \\u0926\\u093f\\u0928 \\u0938\\u0947 \\u092f\\u0939\\u0940 \\u0930\\u0939\\u0924\\u093e \\u0939\\u0948 \\u0915\\u093f \\u0932\\u0921\\u093c\\u0915\\u093e \\u0939\\u094b\\u0928\\u0947\",\n          \"\\u0909\\u0924\\u094d\\u0924\\u0930\\u092a\\u094d\\u0930\\u0926\\u0947\\u0936 \\u0935\\u093f\\u0926\\u094d\\u092f\\u0941\\u0924 \\u0928\\u093f\\u0917\\u092e \\u0928\\u0947 \\u0935\\u093e\\u0930\\u093e\\u0923\\u0938\\u0940 \\u0915\\u0947 \\u092c\\u093e\\u0939\\u0930\\u0940 \\u0907\\u0932\\u093e\\u0915\\u0947 \\u092e\\u0947\\u0902 \\u0932\\u092e\\u0939\\u0940 \\u092e\\u0947\\u0902 \\u0938\\u094d\\u0925\\u093f\\u0924 \\u092e\\u0939\\u093e\\u0928 \\u0909\\u092a\\u0928\\u094d\\u092f\\u093e\\u0938\\u0915\\u093e\\u0930 \\u092e\\u0941\\u0902\\u0936\\u0940 \\u092a\\u094d\\u0930\\u0947\\u092e\\u091a\\u0902\\u0926 \\u0915\\u0947 \\u092a\\u0948\\u0924\\u0943\\u0915 \\u092e\\u0915\\u093e\\u0928 \\u092e\\u0947\\u0902 \\u092c\\u093f\\u091c\\u0932\\u0940 \\u0915\\u0940 \\u0906\\u092a\\u0942\\u0930\\u094d\\u0924\\u093f \\u092c\\u0939\\u093e\\u0932 \\u0915\\u0930 \\u0926\\u0940 \\u0939\\u0948. \\u0926\\u0930\\u0905\\u0938\\u0932 \\u0932\\u0947\\u0916\\u0915 \\u0915\\u0940 139 \\u0935\\u0940\\u0902 \\u091c\\u092f\\u0902\\u0924\\u0940 \\u0915\\u0947 \\u0915\\u0941\\u091b \\u0926\\u093f\\u0928 \\u092a\\u0939\\u0932\\u0947 \\u092a\\u093f\\u091b\\u0932\\u0947 \\u0938\\u092a\\u094d\\u0924\\u093e\\u0939 \\u0909\\u0928\\u0915\\u0947 \\u092e\\u0915\\u093e\\u0928 \\u0915\\u0940 \\u092c\\u093f\\u091c\\u0932\\u0940 \\u0906\\u092a\\u0942\\u0930\\u094d\\u0924\\u093f \\u0930\\u094b\\u0915\\u0947 \\u091c\\u093e\\u0928\\u0947 \\u0938\\u0947 \\u0935\\u093f\\u0935\\u093e\\u0926 \\u092a\\u0948\\u0926\\u093e \\u0939\\u094b \\u0917\\u092f\\u093e \\u0925\\u093e. \\u0939\\u093e\\u0932\\u093e\\u0902\\u0915\\u093f \\u0935\\u0930\\u093e\\u0923\\u0938\\u0940 \\u0915\\u0947 \\u091c\\u093f\\u0932\\u093e\\u0927\\u093f\\u0915\\u093e\\u0930\\u0940\"\n        ],\n        \"semantic_type\": \"\",\n        \"description\": \"\"\n      }\n    },\n    {\n      \"column\": \"T5Summary\",\n      \"properties\": {\n        \"dtype\": \"string\",\n        \"num_unique_values\": 1998,\n        \"samples\": [\n          \"\\u092d\\u093e\\u0930\\u0924 \\u092a\\u094d\\u0930\\u0936\\u093e\\u0938\\u093f\\u0924 \\u091c\\u092e\\u094d\\u092e\\u0942-\\u0915\\u0936\\u094d\\u092e\\u0940\\u0930 \\u092e\\u0947\\u0902 '\\u0917\\u0941\\u092a\\u0915\\u0930 \\u0918\\u094b\\u0937\\u0923\\u093e\\u092a\\u0924\\u094d\\u0930' \\u092a\\u0930 \\u0939\\u0938\\u094d\\u0924\\u093e\\u0915\\u094d\\u0937\\u0930 \\u0915\\u0930\\u0928\\u0947 \\u0935\\u093e\\u0932\\u0947 \\u0938\\u093e\\u0924 \\u0915\\u094d\\u0937\\u0947\\u0924\\u094d\\u0930\\u0940\\u092f \\u0926\\u0932\\u094b\\u0902 \\u0928\\u0947 \\u090f\\u0915 \\u0938\\u093e\\u091d\\u093e \\u092c\\u092f\\u093e\\u0928 \\u091c\\u093e\\u0930\\u0940 \\u0915\\u093f\\u092f\\u093e \\u0939\\u0948.\",\n          \"\\u0906\\u0938\\u094d\\u091f\\u094d\\u0930\\u0947\\u0932\\u093f\\u092f\\u093e\\u0908 \\u092c\\u094d\\u0932\\u0949\\u0917\\u093f\\u0902\\u0917 \\u0938\\u094d\\u091f\\u093e\\u0930 \\u0913\\u0932\\u093f\\u0935 \\u0930\\u093f\\u0932\\u0947 \\u0915\\u093e 91 \\u0938\\u093e\\u0932 \\u0915\\u0940 \\u0909\\u092e\\u094d\\u0930 \\u092e\\u0947\\u0902 \\u0928\\u093f\\u0927\\u0928 \\u0939\\u094b \\u0917\\u092f\\u093e \\u0939\\u0948.\",\n          \"\\u0905\\u0935\\u0948\\u0927 \\u0916\\u0928\\u0928 \\u092e\\u093e\\u092e\\u0932\\u0947 \\u092e\\u0947\\u0902 \\u0938\\u0940\\u092c\\u0940\\u0906\\u0908 \\u0915\\u0940 \\u091b\\u093e\\u092a\\u0947\\u092e\\u093e\\u0930\\u0940 \\u0915\\u0947 \\u092c\\u093e\\u0926 \\u091a\\u0930\\u094d\\u091a\\u093e \\u092e\\u0947\\u0902 \\u0906\\u0908\\u0902 \\u0906\\u0908\\u090f\\u090f\\u0938 \\u092c\\u0940. \\u091a\\u0902\\u0926\\u094d\\u0930\\u0915\\u0932\\u093e \\u0928\\u0947 \\u090f\\u0915 \\u092c\\u093e\\u0930 \\u092b\\u093f\\u0930 \\u0905\\u092a\\u0928\\u0940 \\u092c\\u093e\\u0924 \\u0930\\u0916\\u0940 \\u0939\\u0948.\"\n        ],\n        \"semantic_type\": \"\",\n        \"description\": \"\"\n      }\n    }\n  ]\n}"
            }
          },
          "metadata": {},
          "execution_count": 22
        }
      ],
      "source": [
        "Summaries.head()"
      ]
    },
    {
      "cell_type": "code",
      "execution_count": 23,
      "metadata": {
        "execution": {
          "iopub.execute_input": "2022-05-01T09:20:36.279792Z",
          "iopub.status.busy": "2022-05-01T09:20:36.279128Z",
          "iopub.status.idle": "2022-05-01T09:20:37.903367Z",
          "shell.execute_reply": "2022-05-01T09:20:37.902673Z",
          "shell.execute_reply.started": "2022-05-01T09:20:36.279739Z"
        },
        "colab": {
          "base_uri": "https://localhost:8080/",
          "height": 143
        },
        "id": "uU_eiHpjXXW-",
        "outputId": "7ad9f031-4e3f-40fb-a7ca-8f74f289190e"
      },
      "outputs": [
        {
          "output_type": "execute_result",
          "data": {
            "text/plain": [
              "            rouge-1   rouge-2   rouge-l\n",
              "recall     0.358730  0.177657  0.310006\n",
              "precision  0.478730  0.246423  0.412382\n",
              "f-measure  0.402687  0.201998  0.347540"
            ],
            "text/html": [
              "\n",
              "  <div id=\"df-6787ed67-4045-4898-9fe3-055261e1ce83\" class=\"colab-df-container\">\n",
              "    <div>\n",
              "<style scoped>\n",
              "    .dataframe tbody tr th:only-of-type {\n",
              "        vertical-align: middle;\n",
              "    }\n",
              "\n",
              "    .dataframe tbody tr th {\n",
              "        vertical-align: top;\n",
              "    }\n",
              "\n",
              "    .dataframe thead th {\n",
              "        text-align: right;\n",
              "    }\n",
              "</style>\n",
              "<table border=\"1\" class=\"dataframe\">\n",
              "  <thead>\n",
              "    <tr style=\"text-align: right;\">\n",
              "      <th></th>\n",
              "      <th>rouge-1</th>\n",
              "      <th>rouge-2</th>\n",
              "      <th>rouge-l</th>\n",
              "    </tr>\n",
              "  </thead>\n",
              "  <tbody>\n",
              "    <tr>\n",
              "      <th>recall</th>\n",
              "      <td>0.358730</td>\n",
              "      <td>0.177657</td>\n",
              "      <td>0.310006</td>\n",
              "    </tr>\n",
              "    <tr>\n",
              "      <th>precision</th>\n",
              "      <td>0.478730</td>\n",
              "      <td>0.246423</td>\n",
              "      <td>0.412382</td>\n",
              "    </tr>\n",
              "    <tr>\n",
              "      <th>f-measure</th>\n",
              "      <td>0.402687</td>\n",
              "      <td>0.201998</td>\n",
              "      <td>0.347540</td>\n",
              "    </tr>\n",
              "  </tbody>\n",
              "</table>\n",
              "</div>\n",
              "    <div class=\"colab-df-buttons\">\n",
              "\n",
              "  <div class=\"colab-df-container\">\n",
              "    <button class=\"colab-df-convert\" onclick=\"convertToInteractive('df-6787ed67-4045-4898-9fe3-055261e1ce83')\"\n",
              "            title=\"Convert this dataframe to an interactive table.\"\n",
              "            style=\"display:none;\">\n",
              "\n",
              "  <svg xmlns=\"http://www.w3.org/2000/svg\" height=\"24px\" viewBox=\"0 -960 960 960\">\n",
              "    <path d=\"M120-120v-720h720v720H120Zm60-500h600v-160H180v160Zm220 220h160v-160H400v160Zm0 220h160v-160H400v160ZM180-400h160v-160H180v160Zm440 0h160v-160H620v160ZM180-180h160v-160H180v160Zm440 0h160v-160H620v160Z\"/>\n",
              "  </svg>\n",
              "    </button>\n",
              "\n",
              "  <style>\n",
              "    .colab-df-container {\n",
              "      display:flex;\n",
              "      gap: 12px;\n",
              "    }\n",
              "\n",
              "    .colab-df-convert {\n",
              "      background-color: #E8F0FE;\n",
              "      border: none;\n",
              "      border-radius: 50%;\n",
              "      cursor: pointer;\n",
              "      display: none;\n",
              "      fill: #1967D2;\n",
              "      height: 32px;\n",
              "      padding: 0 0 0 0;\n",
              "      width: 32px;\n",
              "    }\n",
              "\n",
              "    .colab-df-convert:hover {\n",
              "      background-color: #E2EBFA;\n",
              "      box-shadow: 0px 1px 2px rgba(60, 64, 67, 0.3), 0px 1px 3px 1px rgba(60, 64, 67, 0.15);\n",
              "      fill: #174EA6;\n",
              "    }\n",
              "\n",
              "    .colab-df-buttons div {\n",
              "      margin-bottom: 4px;\n",
              "    }\n",
              "\n",
              "    [theme=dark] .colab-df-convert {\n",
              "      background-color: #3B4455;\n",
              "      fill: #D2E3FC;\n",
              "    }\n",
              "\n",
              "    [theme=dark] .colab-df-convert:hover {\n",
              "      background-color: #434B5C;\n",
              "      box-shadow: 0px 1px 3px 1px rgba(0, 0, 0, 0.15);\n",
              "      filter: drop-shadow(0px 1px 2px rgba(0, 0, 0, 0.3));\n",
              "      fill: #FFFFFF;\n",
              "    }\n",
              "  </style>\n",
              "\n",
              "    <script>\n",
              "      const buttonEl =\n",
              "        document.querySelector('#df-6787ed67-4045-4898-9fe3-055261e1ce83 button.colab-df-convert');\n",
              "      buttonEl.style.display =\n",
              "        google.colab.kernel.accessAllowed ? 'block' : 'none';\n",
              "\n",
              "      async function convertToInteractive(key) {\n",
              "        const element = document.querySelector('#df-6787ed67-4045-4898-9fe3-055261e1ce83');\n",
              "        const dataTable =\n",
              "          await google.colab.kernel.invokeFunction('convertToInteractive',\n",
              "                                                    [key], {});\n",
              "        if (!dataTable) return;\n",
              "\n",
              "        const docLinkHtml = 'Like what you see? Visit the ' +\n",
              "          '<a target=\"_blank\" href=https://colab.research.google.com/notebooks/data_table.ipynb>data table notebook</a>'\n",
              "          + ' to learn more about interactive tables.';\n",
              "        element.innerHTML = '';\n",
              "        dataTable['output_type'] = 'display_data';\n",
              "        await google.colab.output.renderOutput(dataTable, element);\n",
              "        const docLink = document.createElement('div');\n",
              "        docLink.innerHTML = docLinkHtml;\n",
              "        element.appendChild(docLink);\n",
              "      }\n",
              "    </script>\n",
              "  </div>\n",
              "\n",
              "\n",
              "<div id=\"df-6677a278-8d5e-468e-b8f0-ca78690d6671\">\n",
              "  <button class=\"colab-df-quickchart\" onclick=\"quickchart('df-6677a278-8d5e-468e-b8f0-ca78690d6671')\"\n",
              "            title=\"Suggest charts\"\n",
              "            style=\"display:none;\">\n",
              "\n",
              "<svg xmlns=\"http://www.w3.org/2000/svg\" height=\"24px\"viewBox=\"0 0 24 24\"\n",
              "     width=\"24px\">\n",
              "    <g>\n",
              "        <path d=\"M19 3H5c-1.1 0-2 .9-2 2v14c0 1.1.9 2 2 2h14c1.1 0 2-.9 2-2V5c0-1.1-.9-2-2-2zM9 17H7v-7h2v7zm4 0h-2V7h2v10zm4 0h-2v-4h2v4z\"/>\n",
              "    </g>\n",
              "</svg>\n",
              "  </button>\n",
              "\n",
              "<style>\n",
              "  .colab-df-quickchart {\n",
              "      --bg-color: #E8F0FE;\n",
              "      --fill-color: #1967D2;\n",
              "      --hover-bg-color: #E2EBFA;\n",
              "      --hover-fill-color: #174EA6;\n",
              "      --disabled-fill-color: #AAA;\n",
              "      --disabled-bg-color: #DDD;\n",
              "  }\n",
              "\n",
              "  [theme=dark] .colab-df-quickchart {\n",
              "      --bg-color: #3B4455;\n",
              "      --fill-color: #D2E3FC;\n",
              "      --hover-bg-color: #434B5C;\n",
              "      --hover-fill-color: #FFFFFF;\n",
              "      --disabled-bg-color: #3B4455;\n",
              "      --disabled-fill-color: #666;\n",
              "  }\n",
              "\n",
              "  .colab-df-quickchart {\n",
              "    background-color: var(--bg-color);\n",
              "    border: none;\n",
              "    border-radius: 50%;\n",
              "    cursor: pointer;\n",
              "    display: none;\n",
              "    fill: var(--fill-color);\n",
              "    height: 32px;\n",
              "    padding: 0;\n",
              "    width: 32px;\n",
              "  }\n",
              "\n",
              "  .colab-df-quickchart:hover {\n",
              "    background-color: var(--hover-bg-color);\n",
              "    box-shadow: 0 1px 2px rgba(60, 64, 67, 0.3), 0 1px 3px 1px rgba(60, 64, 67, 0.15);\n",
              "    fill: var(--button-hover-fill-color);\n",
              "  }\n",
              "\n",
              "  .colab-df-quickchart-complete:disabled,\n",
              "  .colab-df-quickchart-complete:disabled:hover {\n",
              "    background-color: var(--disabled-bg-color);\n",
              "    fill: var(--disabled-fill-color);\n",
              "    box-shadow: none;\n",
              "  }\n",
              "\n",
              "  .colab-df-spinner {\n",
              "    border: 2px solid var(--fill-color);\n",
              "    border-color: transparent;\n",
              "    border-bottom-color: var(--fill-color);\n",
              "    animation:\n",
              "      spin 1s steps(1) infinite;\n",
              "  }\n",
              "\n",
              "  @keyframes spin {\n",
              "    0% {\n",
              "      border-color: transparent;\n",
              "      border-bottom-color: var(--fill-color);\n",
              "      border-left-color: var(--fill-color);\n",
              "    }\n",
              "    20% {\n",
              "      border-color: transparent;\n",
              "      border-left-color: var(--fill-color);\n",
              "      border-top-color: var(--fill-color);\n",
              "    }\n",
              "    30% {\n",
              "      border-color: transparent;\n",
              "      border-left-color: var(--fill-color);\n",
              "      border-top-color: var(--fill-color);\n",
              "      border-right-color: var(--fill-color);\n",
              "    }\n",
              "    40% {\n",
              "      border-color: transparent;\n",
              "      border-right-color: var(--fill-color);\n",
              "      border-top-color: var(--fill-color);\n",
              "    }\n",
              "    60% {\n",
              "      border-color: transparent;\n",
              "      border-right-color: var(--fill-color);\n",
              "    }\n",
              "    80% {\n",
              "      border-color: transparent;\n",
              "      border-right-color: var(--fill-color);\n",
              "      border-bottom-color: var(--fill-color);\n",
              "    }\n",
              "    90% {\n",
              "      border-color: transparent;\n",
              "      border-bottom-color: var(--fill-color);\n",
              "    }\n",
              "  }\n",
              "</style>\n",
              "\n",
              "  <script>\n",
              "    async function quickchart(key) {\n",
              "      const quickchartButtonEl =\n",
              "        document.querySelector('#' + key + ' button');\n",
              "      quickchartButtonEl.disabled = true;  // To prevent multiple clicks.\n",
              "      quickchartButtonEl.classList.add('colab-df-spinner');\n",
              "      try {\n",
              "        const charts = await google.colab.kernel.invokeFunction(\n",
              "            'suggestCharts', [key], {});\n",
              "      } catch (error) {\n",
              "        console.error('Error during call to suggestCharts:', error);\n",
              "      }\n",
              "      quickchartButtonEl.classList.remove('colab-df-spinner');\n",
              "      quickchartButtonEl.classList.add('colab-df-quickchart-complete');\n",
              "    }\n",
              "    (() => {\n",
              "      let quickchartButtonEl =\n",
              "        document.querySelector('#df-6677a278-8d5e-468e-b8f0-ca78690d6671 button');\n",
              "      quickchartButtonEl.style.display =\n",
              "        google.colab.kernel.accessAllowed ? 'block' : 'none';\n",
              "    })();\n",
              "  </script>\n",
              "</div>\n",
              "\n",
              "  <div id=\"id_b2a7a383-795b-42dc-bf17-3fa62643456d\">\n",
              "    <style>\n",
              "      .colab-df-generate {\n",
              "        background-color: #E8F0FE;\n",
              "        border: none;\n",
              "        border-radius: 50%;\n",
              "        cursor: pointer;\n",
              "        display: none;\n",
              "        fill: #1967D2;\n",
              "        height: 32px;\n",
              "        padding: 0 0 0 0;\n",
              "        width: 32px;\n",
              "      }\n",
              "\n",
              "      .colab-df-generate:hover {\n",
              "        background-color: #E2EBFA;\n",
              "        box-shadow: 0px 1px 2px rgba(60, 64, 67, 0.3), 0px 1px 3px 1px rgba(60, 64, 67, 0.15);\n",
              "        fill: #174EA6;\n",
              "      }\n",
              "\n",
              "      [theme=dark] .colab-df-generate {\n",
              "        background-color: #3B4455;\n",
              "        fill: #D2E3FC;\n",
              "      }\n",
              "\n",
              "      [theme=dark] .colab-df-generate:hover {\n",
              "        background-color: #434B5C;\n",
              "        box-shadow: 0px 1px 3px 1px rgba(0, 0, 0, 0.15);\n",
              "        filter: drop-shadow(0px 1px 2px rgba(0, 0, 0, 0.3));\n",
              "        fill: #FFFFFF;\n",
              "      }\n",
              "    </style>\n",
              "    <button class=\"colab-df-generate\" onclick=\"generateWithVariable('T5Rouge')\"\n",
              "            title=\"Generate code using this dataframe.\"\n",
              "            style=\"display:none;\">\n",
              "\n",
              "  <svg xmlns=\"http://www.w3.org/2000/svg\" height=\"24px\"viewBox=\"0 0 24 24\"\n",
              "       width=\"24px\">\n",
              "    <path d=\"M7,19H8.4L18.45,9,17,7.55,7,17.6ZM5,21V16.75L18.45,3.32a2,2,0,0,1,2.83,0l1.4,1.43a1.91,1.91,0,0,1,.58,1.4,1.91,1.91,0,0,1-.58,1.4L9.25,21ZM18.45,9,17,7.55Zm-12,3A5.31,5.31,0,0,0,4.9,8.1,5.31,5.31,0,0,0,1,6.5,5.31,5.31,0,0,0,4.9,4.9,5.31,5.31,0,0,0,6.5,1,5.31,5.31,0,0,0,8.1,4.9,5.31,5.31,0,0,0,12,6.5,5.46,5.46,0,0,0,6.5,12Z\"/>\n",
              "  </svg>\n",
              "    </button>\n",
              "    <script>\n",
              "      (() => {\n",
              "      const buttonEl =\n",
              "        document.querySelector('#id_b2a7a383-795b-42dc-bf17-3fa62643456d button.colab-df-generate');\n",
              "      buttonEl.style.display =\n",
              "        google.colab.kernel.accessAllowed ? 'block' : 'none';\n",
              "\n",
              "      buttonEl.onclick = () => {\n",
              "        google.colab.notebook.generateWithVariable('T5Rouge');\n",
              "      }\n",
              "      })();\n",
              "    </script>\n",
              "  </div>\n",
              "\n",
              "    </div>\n",
              "  </div>\n"
            ],
            "application/vnd.google.colaboratory.intrinsic+json": {
              "type": "dataframe",
              "variable_name": "T5Rouge",
              "summary": "{\n  \"name\": \"T5Rouge\",\n  \"rows\": 3,\n  \"fields\": [\n    {\n      \"column\": \"rouge-1\",\n      \"properties\": {\n        \"dtype\": \"number\",\n        \"std\": 0.060710860446349525,\n        \"min\": 0.3587301387615596,\n        \"max\": 0.47873035800356906,\n        \"num_unique_values\": 3,\n        \"samples\": [\n          0.3587301387615596,\n          0.47873035800356906,\n          0.4026869860955282\n        ],\n        \"semantic_type\": \"\",\n        \"description\": \"\"\n      }\n    },\n    {\n      \"column\": \"rouge-2\",\n      \"properties\": {\n        \"dtype\": \"number\",\n        \"std\": 0.034868362715874256,\n        \"min\": 0.17765677473186256,\n        \"max\": 0.24642279345556778,\n        \"num_unique_values\": 3,\n        \"samples\": [\n          0.17765677473186256,\n          0.24642279345556778,\n          0.2019981628538168\n        ],\n        \"semantic_type\": \"\",\n        \"description\": \"\"\n      }\n    },\n    {\n      \"column\": \"rouge-l\",\n      \"properties\": {\n        \"dtype\": \"number\",\n        \"std\": 0.051791373540616754,\n        \"min\": 0.31000614380285574,\n        \"max\": 0.4123819411811499,\n        \"num_unique_values\": 3,\n        \"samples\": [\n          0.31000614380285574,\n          0.4123819411811499,\n          0.3475398781807044\n        ],\n        \"semantic_type\": \"\",\n        \"description\": \"\"\n      }\n    }\n  ]\n}"
            }
          },
          "metadata": {},
          "execution_count": 23
        }
      ],
      "source": [
        "rouge = Rouge()\n",
        "score = rouge.get_scores(Summaries['T5Summary'], Summaries['GoldSummary'], avg=True)\n",
        "T5Rouge = pd.DataFrame(score).set_index([['recall','precision','f-measure']])\n",
        "T5Rouge"
      ]
    },
    {
      "cell_type": "markdown",
      "metadata": {
        "id": "qXp3yIrbXXW-"
      },
      "source": [
        "### **Plotting Rouge Score**"
      ]
    },
    {
      "cell_type": "code",
      "execution_count": 31,
      "metadata": {
        "execution": {
          "iopub.execute_input": "2022-05-01T09:43:24.590002Z",
          "iopub.status.busy": "2022-05-01T09:43:24.589588Z",
          "iopub.status.idle": "2022-05-01T09:43:24.595943Z",
          "shell.execute_reply": "2022-05-01T09:43:24.595240Z",
          "shell.execute_reply.started": "2022-05-01T09:43:24.589968Z"
        },
        "id": "-JQ5D55cXXW-"
      },
      "outputs": [],
      "source": [
        "T5Rouge = T5Rouge[['rouge-1','rouge-l', 'rouge-2']]\n",
        "BartRouge = BartRouge[['rouge-1','rouge-l', 'rouge-2']]"
      ]
    },
    {
      "cell_type": "code",
      "execution_count": 32,
      "metadata": {
        "colab": {
          "base_uri": "https://localhost:8080/",
          "height": 417
        },
        "id": "wlfKCyLJXXW-",
        "outputId": "79366f89-b46a-407c-fce5-7292384d12b3"
      },
      "outputs": [
        {
          "output_type": "display_data",
          "data": {
            "application/vnd.plotly.v1+json": {
              "data": [
                {
                  "alignmentgroup": "True",
                  "hovertemplate": "legend=rouge-1<br>Metrics=%{x}<br>Rouge Score=%{y}<extra></extra>",
                  "legendgroup": "rouge-1",
                  "marker": {
                    "color": "#636efa",
                    "pattern": {
                      "shape": ""
                    }
                  },
                  "name": "rouge-1",
                  "offsetgroup": "rouge-1",
                  "orientation": "v",
                  "showlegend": true,
                  "textposition": "auto",
                  "texttemplate": "%{y:.2s}",
                  "x": [
                    "recall",
                    "precision",
                    "f-measure"
                  ],
                  "xaxis": "x",
                  "y": [
                    35.873013876155966,
                    47.8730358003569,
                    40.26869860955282
                  ],
                  "yaxis": "y",
                  "type": "bar"
                },
                {
                  "alignmentgroup": "True",
                  "hovertemplate": "legend=rouge-l<br>Metrics=%{x}<br>Rouge Score=%{y}<extra></extra>",
                  "legendgroup": "rouge-l",
                  "marker": {
                    "color": "#EF553B",
                    "pattern": {
                      "shape": ""
                    }
                  },
                  "name": "rouge-l",
                  "offsetgroup": "rouge-l",
                  "orientation": "v",
                  "showlegend": true,
                  "textposition": "auto",
                  "texttemplate": "%{y:.2s}",
                  "x": [
                    "recall",
                    "precision",
                    "f-measure"
                  ],
                  "xaxis": "x",
                  "y": [
                    31.000614380285572,
                    41.23819411811499,
                    34.75398781807044
                  ],
                  "yaxis": "y",
                  "type": "bar"
                },
                {
                  "alignmentgroup": "True",
                  "hovertemplate": "legend=rouge-2<br>Metrics=%{x}<br>Rouge Score=%{y}<extra></extra>",
                  "legendgroup": "rouge-2",
                  "marker": {
                    "color": "#00cc96",
                    "pattern": {
                      "shape": ""
                    }
                  },
                  "name": "rouge-2",
                  "offsetgroup": "rouge-2",
                  "orientation": "v",
                  "showlegend": true,
                  "textposition": "auto",
                  "texttemplate": "%{y:.2s}",
                  "x": [
                    "recall",
                    "precision",
                    "f-measure"
                  ],
                  "xaxis": "x",
                  "y": [
                    17.765677473186255,
                    24.642279345556776,
                    20.19981628538168
                  ],
                  "yaxis": "y",
                  "type": "bar"
                }
              ],
              "layout": {
                "template": {
                  "data": {
                    "histogram2dcontour": [
                      {
                        "type": "histogram2dcontour",
                        "colorbar": {
                          "outlinewidth": 0,
                          "ticks": ""
                        },
                        "colorscale": [
                          [
                            0,
                            "#0d0887"
                          ],
                          [
                            0.1111111111111111,
                            "#46039f"
                          ],
                          [
                            0.2222222222222222,
                            "#7201a8"
                          ],
                          [
                            0.3333333333333333,
                            "#9c179e"
                          ],
                          [
                            0.4444444444444444,
                            "#bd3786"
                          ],
                          [
                            0.5555555555555556,
                            "#d8576b"
                          ],
                          [
                            0.6666666666666666,
                            "#ed7953"
                          ],
                          [
                            0.7777777777777778,
                            "#fb9f3a"
                          ],
                          [
                            0.8888888888888888,
                            "#fdca26"
                          ],
                          [
                            1,
                            "#f0f921"
                          ]
                        ]
                      }
                    ],
                    "choropleth": [
                      {
                        "type": "choropleth",
                        "colorbar": {
                          "outlinewidth": 0,
                          "ticks": ""
                        }
                      }
                    ],
                    "histogram2d": [
                      {
                        "type": "histogram2d",
                        "colorbar": {
                          "outlinewidth": 0,
                          "ticks": ""
                        },
                        "colorscale": [
                          [
                            0,
                            "#0d0887"
                          ],
                          [
                            0.1111111111111111,
                            "#46039f"
                          ],
                          [
                            0.2222222222222222,
                            "#7201a8"
                          ],
                          [
                            0.3333333333333333,
                            "#9c179e"
                          ],
                          [
                            0.4444444444444444,
                            "#bd3786"
                          ],
                          [
                            0.5555555555555556,
                            "#d8576b"
                          ],
                          [
                            0.6666666666666666,
                            "#ed7953"
                          ],
                          [
                            0.7777777777777778,
                            "#fb9f3a"
                          ],
                          [
                            0.8888888888888888,
                            "#fdca26"
                          ],
                          [
                            1,
                            "#f0f921"
                          ]
                        ]
                      }
                    ],
                    "heatmap": [
                      {
                        "type": "heatmap",
                        "colorbar": {
                          "outlinewidth": 0,
                          "ticks": ""
                        },
                        "colorscale": [
                          [
                            0,
                            "#0d0887"
                          ],
                          [
                            0.1111111111111111,
                            "#46039f"
                          ],
                          [
                            0.2222222222222222,
                            "#7201a8"
                          ],
                          [
                            0.3333333333333333,
                            "#9c179e"
                          ],
                          [
                            0.4444444444444444,
                            "#bd3786"
                          ],
                          [
                            0.5555555555555556,
                            "#d8576b"
                          ],
                          [
                            0.6666666666666666,
                            "#ed7953"
                          ],
                          [
                            0.7777777777777778,
                            "#fb9f3a"
                          ],
                          [
                            0.8888888888888888,
                            "#fdca26"
                          ],
                          [
                            1,
                            "#f0f921"
                          ]
                        ]
                      }
                    ],
                    "heatmapgl": [
                      {
                        "type": "heatmapgl",
                        "colorbar": {
                          "outlinewidth": 0,
                          "ticks": ""
                        },
                        "colorscale": [
                          [
                            0,
                            "#0d0887"
                          ],
                          [
                            0.1111111111111111,
                            "#46039f"
                          ],
                          [
                            0.2222222222222222,
                            "#7201a8"
                          ],
                          [
                            0.3333333333333333,
                            "#9c179e"
                          ],
                          [
                            0.4444444444444444,
                            "#bd3786"
                          ],
                          [
                            0.5555555555555556,
                            "#d8576b"
                          ],
                          [
                            0.6666666666666666,
                            "#ed7953"
                          ],
                          [
                            0.7777777777777778,
                            "#fb9f3a"
                          ],
                          [
                            0.8888888888888888,
                            "#fdca26"
                          ],
                          [
                            1,
                            "#f0f921"
                          ]
                        ]
                      }
                    ],
                    "contourcarpet": [
                      {
                        "type": "contourcarpet",
                        "colorbar": {
                          "outlinewidth": 0,
                          "ticks": ""
                        }
                      }
                    ],
                    "contour": [
                      {
                        "type": "contour",
                        "colorbar": {
                          "outlinewidth": 0,
                          "ticks": ""
                        },
                        "colorscale": [
                          [
                            0,
                            "#0d0887"
                          ],
                          [
                            0.1111111111111111,
                            "#46039f"
                          ],
                          [
                            0.2222222222222222,
                            "#7201a8"
                          ],
                          [
                            0.3333333333333333,
                            "#9c179e"
                          ],
                          [
                            0.4444444444444444,
                            "#bd3786"
                          ],
                          [
                            0.5555555555555556,
                            "#d8576b"
                          ],
                          [
                            0.6666666666666666,
                            "#ed7953"
                          ],
                          [
                            0.7777777777777778,
                            "#fb9f3a"
                          ],
                          [
                            0.8888888888888888,
                            "#fdca26"
                          ],
                          [
                            1,
                            "#f0f921"
                          ]
                        ]
                      }
                    ],
                    "surface": [
                      {
                        "type": "surface",
                        "colorbar": {
                          "outlinewidth": 0,
                          "ticks": ""
                        },
                        "colorscale": [
                          [
                            0,
                            "#0d0887"
                          ],
                          [
                            0.1111111111111111,
                            "#46039f"
                          ],
                          [
                            0.2222222222222222,
                            "#7201a8"
                          ],
                          [
                            0.3333333333333333,
                            "#9c179e"
                          ],
                          [
                            0.4444444444444444,
                            "#bd3786"
                          ],
                          [
                            0.5555555555555556,
                            "#d8576b"
                          ],
                          [
                            0.6666666666666666,
                            "#ed7953"
                          ],
                          [
                            0.7777777777777778,
                            "#fb9f3a"
                          ],
                          [
                            0.8888888888888888,
                            "#fdca26"
                          ],
                          [
                            1,
                            "#f0f921"
                          ]
                        ]
                      }
                    ],
                    "mesh3d": [
                      {
                        "type": "mesh3d",
                        "colorbar": {
                          "outlinewidth": 0,
                          "ticks": ""
                        }
                      }
                    ],
                    "scatter": [
                      {
                        "fillpattern": {
                          "fillmode": "overlay",
                          "size": 10,
                          "solidity": 0.2
                        },
                        "type": "scatter"
                      }
                    ],
                    "parcoords": [
                      {
                        "type": "parcoords",
                        "line": {
                          "colorbar": {
                            "outlinewidth": 0,
                            "ticks": ""
                          }
                        }
                      }
                    ],
                    "scatterpolargl": [
                      {
                        "type": "scatterpolargl",
                        "marker": {
                          "colorbar": {
                            "outlinewidth": 0,
                            "ticks": ""
                          }
                        }
                      }
                    ],
                    "bar": [
                      {
                        "error_x": {
                          "color": "#2a3f5f"
                        },
                        "error_y": {
                          "color": "#2a3f5f"
                        },
                        "marker": {
                          "line": {
                            "color": "#E5ECF6",
                            "width": 0.5
                          },
                          "pattern": {
                            "fillmode": "overlay",
                            "size": 10,
                            "solidity": 0.2
                          }
                        },
                        "type": "bar"
                      }
                    ],
                    "scattergeo": [
                      {
                        "type": "scattergeo",
                        "marker": {
                          "colorbar": {
                            "outlinewidth": 0,
                            "ticks": ""
                          }
                        }
                      }
                    ],
                    "scatterpolar": [
                      {
                        "type": "scatterpolar",
                        "marker": {
                          "colorbar": {
                            "outlinewidth": 0,
                            "ticks": ""
                          }
                        }
                      }
                    ],
                    "histogram": [
                      {
                        "marker": {
                          "pattern": {
                            "fillmode": "overlay",
                            "size": 10,
                            "solidity": 0.2
                          }
                        },
                        "type": "histogram"
                      }
                    ],
                    "scattergl": [
                      {
                        "type": "scattergl",
                        "marker": {
                          "colorbar": {
                            "outlinewidth": 0,
                            "ticks": ""
                          }
                        }
                      }
                    ],
                    "scatter3d": [
                      {
                        "type": "scatter3d",
                        "line": {
                          "colorbar": {
                            "outlinewidth": 0,
                            "ticks": ""
                          }
                        },
                        "marker": {
                          "colorbar": {
                            "outlinewidth": 0,
                            "ticks": ""
                          }
                        }
                      }
                    ],
                    "scattermapbox": [
                      {
                        "type": "scattermapbox",
                        "marker": {
                          "colorbar": {
                            "outlinewidth": 0,
                            "ticks": ""
                          }
                        }
                      }
                    ],
                    "scatterternary": [
                      {
                        "type": "scatterternary",
                        "marker": {
                          "colorbar": {
                            "outlinewidth": 0,
                            "ticks": ""
                          }
                        }
                      }
                    ],
                    "scattercarpet": [
                      {
                        "type": "scattercarpet",
                        "marker": {
                          "colorbar": {
                            "outlinewidth": 0,
                            "ticks": ""
                          }
                        }
                      }
                    ],
                    "carpet": [
                      {
                        "aaxis": {
                          "endlinecolor": "#2a3f5f",
                          "gridcolor": "white",
                          "linecolor": "white",
                          "minorgridcolor": "white",
                          "startlinecolor": "#2a3f5f"
                        },
                        "baxis": {
                          "endlinecolor": "#2a3f5f",
                          "gridcolor": "white",
                          "linecolor": "white",
                          "minorgridcolor": "white",
                          "startlinecolor": "#2a3f5f"
                        },
                        "type": "carpet"
                      }
                    ],
                    "table": [
                      {
                        "cells": {
                          "fill": {
                            "color": "#EBF0F8"
                          },
                          "line": {
                            "color": "white"
                          }
                        },
                        "header": {
                          "fill": {
                            "color": "#C8D4E3"
                          },
                          "line": {
                            "color": "white"
                          }
                        },
                        "type": "table"
                      }
                    ],
                    "barpolar": [
                      {
                        "marker": {
                          "line": {
                            "color": "#E5ECF6",
                            "width": 0.5
                          },
                          "pattern": {
                            "fillmode": "overlay",
                            "size": 10,
                            "solidity": 0.2
                          }
                        },
                        "type": "barpolar"
                      }
                    ],
                    "pie": [
                      {
                        "automargin": true,
                        "type": "pie"
                      }
                    ]
                  },
                  "layout": {
                    "autotypenumbers": "strict",
                    "colorway": [
                      "#636efa",
                      "#EF553B",
                      "#00cc96",
                      "#ab63fa",
                      "#FFA15A",
                      "#19d3f3",
                      "#FF6692",
                      "#B6E880",
                      "#FF97FF",
                      "#FECB52"
                    ],
                    "font": {
                      "color": "#2a3f5f"
                    },
                    "hovermode": "closest",
                    "hoverlabel": {
                      "align": "left"
                    },
                    "paper_bgcolor": "white",
                    "plot_bgcolor": "#E5ECF6",
                    "polar": {
                      "bgcolor": "#E5ECF6",
                      "angularaxis": {
                        "gridcolor": "white",
                        "linecolor": "white",
                        "ticks": ""
                      },
                      "radialaxis": {
                        "gridcolor": "white",
                        "linecolor": "white",
                        "ticks": ""
                      }
                    },
                    "ternary": {
                      "bgcolor": "#E5ECF6",
                      "aaxis": {
                        "gridcolor": "white",
                        "linecolor": "white",
                        "ticks": ""
                      },
                      "baxis": {
                        "gridcolor": "white",
                        "linecolor": "white",
                        "ticks": ""
                      },
                      "caxis": {
                        "gridcolor": "white",
                        "linecolor": "white",
                        "ticks": ""
                      }
                    },
                    "coloraxis": {
                      "colorbar": {
                        "outlinewidth": 0,
                        "ticks": ""
                      }
                    },
                    "colorscale": {
                      "sequential": [
                        [
                          0,
                          "#0d0887"
                        ],
                        [
                          0.1111111111111111,
                          "#46039f"
                        ],
                        [
                          0.2222222222222222,
                          "#7201a8"
                        ],
                        [
                          0.3333333333333333,
                          "#9c179e"
                        ],
                        [
                          0.4444444444444444,
                          "#bd3786"
                        ],
                        [
                          0.5555555555555556,
                          "#d8576b"
                        ],
                        [
                          0.6666666666666666,
                          "#ed7953"
                        ],
                        [
                          0.7777777777777778,
                          "#fb9f3a"
                        ],
                        [
                          0.8888888888888888,
                          "#fdca26"
                        ],
                        [
                          1,
                          "#f0f921"
                        ]
                      ],
                      "sequentialminus": [
                        [
                          0,
                          "#0d0887"
                        ],
                        [
                          0.1111111111111111,
                          "#46039f"
                        ],
                        [
                          0.2222222222222222,
                          "#7201a8"
                        ],
                        [
                          0.3333333333333333,
                          "#9c179e"
                        ],
                        [
                          0.4444444444444444,
                          "#bd3786"
                        ],
                        [
                          0.5555555555555556,
                          "#d8576b"
                        ],
                        [
                          0.6666666666666666,
                          "#ed7953"
                        ],
                        [
                          0.7777777777777778,
                          "#fb9f3a"
                        ],
                        [
                          0.8888888888888888,
                          "#fdca26"
                        ],
                        [
                          1,
                          "#f0f921"
                        ]
                      ],
                      "diverging": [
                        [
                          0,
                          "#8e0152"
                        ],
                        [
                          0.1,
                          "#c51b7d"
                        ],
                        [
                          0.2,
                          "#de77ae"
                        ],
                        [
                          0.3,
                          "#f1b6da"
                        ],
                        [
                          0.4,
                          "#fde0ef"
                        ],
                        [
                          0.5,
                          "#f7f7f7"
                        ],
                        [
                          0.6,
                          "#e6f5d0"
                        ],
                        [
                          0.7,
                          "#b8e186"
                        ],
                        [
                          0.8,
                          "#7fbc41"
                        ],
                        [
                          0.9,
                          "#4d9221"
                        ],
                        [
                          1,
                          "#276419"
                        ]
                      ]
                    },
                    "xaxis": {
                      "gridcolor": "white",
                      "linecolor": "white",
                      "ticks": "",
                      "title": {
                        "standoff": 15
                      },
                      "zerolinecolor": "white",
                      "automargin": true,
                      "zerolinewidth": 2
                    },
                    "yaxis": {
                      "gridcolor": "white",
                      "linecolor": "white",
                      "ticks": "",
                      "title": {
                        "standoff": 15
                      },
                      "zerolinecolor": "white",
                      "automargin": true,
                      "zerolinewidth": 2
                    },
                    "scene": {
                      "xaxis": {
                        "backgroundcolor": "#E5ECF6",
                        "gridcolor": "white",
                        "linecolor": "white",
                        "showbackground": true,
                        "ticks": "",
                        "zerolinecolor": "white",
                        "gridwidth": 2
                      },
                      "yaxis": {
                        "backgroundcolor": "#E5ECF6",
                        "gridcolor": "white",
                        "linecolor": "white",
                        "showbackground": true,
                        "ticks": "",
                        "zerolinecolor": "white",
                        "gridwidth": 2
                      },
                      "zaxis": {
                        "backgroundcolor": "#E5ECF6",
                        "gridcolor": "white",
                        "linecolor": "white",
                        "showbackground": true,
                        "ticks": "",
                        "zerolinecolor": "white",
                        "gridwidth": 2
                      }
                    },
                    "shapedefaults": {
                      "line": {
                        "color": "#2a3f5f"
                      }
                    },
                    "annotationdefaults": {
                      "arrowcolor": "#2a3f5f",
                      "arrowhead": 0,
                      "arrowwidth": 1
                    },
                    "geo": {
                      "bgcolor": "white",
                      "landcolor": "#E5ECF6",
                      "subunitcolor": "white",
                      "showland": true,
                      "showlakes": true,
                      "lakecolor": "white"
                    },
                    "title": {
                      "x": 0.05
                    },
                    "mapbox": {
                      "style": "light"
                    }
                  }
                },
                "xaxis": {
                  "anchor": "y",
                  "domain": [
                    0,
                    1
                  ],
                  "title": {
                    "text": "Metrics"
                  }
                },
                "yaxis": {
                  "anchor": "x",
                  "domain": [
                    0,
                    1
                  ],
                  "title": {
                    "text": "Rouge Score"
                  }
                },
                "legend": {
                  "title": {
                    "text": "legend"
                  },
                  "tracegroupgap": 0
                },
                "margin": {
                  "t": 60
                },
                "barmode": "group",
                "title": {
                  "text": "Score",
                  "y": 0.96,
                  "x": 0.49,
                  "xanchor": "center",
                  "yanchor": "top"
                },
                "width": 650,
                "height": 400
              },
              "config": {
                "plotlyServerURL": "https://plot.ly"
              }
            },
            "text/html": [
              "<div>                            <div id=\"8378bc1c-5693-4aef-a527-94d0b5d068fb\" class=\"plotly-graph-div\" style=\"height:400px; width:650px;\"></div>            <script type=\"text/javascript\">                require([\"plotly\"], function(Plotly) {                    window.PLOTLYENV=window.PLOTLYENV || {};                                    if (document.getElementById(\"8378bc1c-5693-4aef-a527-94d0b5d068fb\")) {                    Plotly.newPlot(                        \"8378bc1c-5693-4aef-a527-94d0b5d068fb\",                        [{\"alignmentgroup\":\"True\",\"hovertemplate\":\"legend=rouge-1\\u003cbr\\u003eMetrics=%{x}\\u003cbr\\u003eRouge Score=%{y}\\u003cextra\\u003e\\u003c\\u002fextra\\u003e\",\"legendgroup\":\"rouge-1\",\"marker\":{\"color\":\"#636efa\",\"pattern\":{\"shape\":\"\"}},\"name\":\"rouge-1\",\"offsetgroup\":\"rouge-1\",\"orientation\":\"v\",\"showlegend\":true,\"textposition\":\"auto\",\"texttemplate\":\"%{y:.2s}\",\"x\":[\"recall\",\"precision\",\"f-measure\"],\"xaxis\":\"x\",\"y\":[35.873013876155966,47.8730358003569,40.26869860955282],\"yaxis\":\"y\",\"type\":\"bar\"},{\"alignmentgroup\":\"True\",\"hovertemplate\":\"legend=rouge-l\\u003cbr\\u003eMetrics=%{x}\\u003cbr\\u003eRouge Score=%{y}\\u003cextra\\u003e\\u003c\\u002fextra\\u003e\",\"legendgroup\":\"rouge-l\",\"marker\":{\"color\":\"#EF553B\",\"pattern\":{\"shape\":\"\"}},\"name\":\"rouge-l\",\"offsetgroup\":\"rouge-l\",\"orientation\":\"v\",\"showlegend\":true,\"textposition\":\"auto\",\"texttemplate\":\"%{y:.2s}\",\"x\":[\"recall\",\"precision\",\"f-measure\"],\"xaxis\":\"x\",\"y\":[31.000614380285572,41.23819411811499,34.75398781807044],\"yaxis\":\"y\",\"type\":\"bar\"},{\"alignmentgroup\":\"True\",\"hovertemplate\":\"legend=rouge-2\\u003cbr\\u003eMetrics=%{x}\\u003cbr\\u003eRouge Score=%{y}\\u003cextra\\u003e\\u003c\\u002fextra\\u003e\",\"legendgroup\":\"rouge-2\",\"marker\":{\"color\":\"#00cc96\",\"pattern\":{\"shape\":\"\"}},\"name\":\"rouge-2\",\"offsetgroup\":\"rouge-2\",\"orientation\":\"v\",\"showlegend\":true,\"textposition\":\"auto\",\"texttemplate\":\"%{y:.2s}\",\"x\":[\"recall\",\"precision\",\"f-measure\"],\"xaxis\":\"x\",\"y\":[17.765677473186255,24.642279345556776,20.19981628538168],\"yaxis\":\"y\",\"type\":\"bar\"}],                        {\"template\":{\"data\":{\"histogram2dcontour\":[{\"type\":\"histogram2dcontour\",\"colorbar\":{\"outlinewidth\":0,\"ticks\":\"\"},\"colorscale\":[[0.0,\"#0d0887\"],[0.1111111111111111,\"#46039f\"],[0.2222222222222222,\"#7201a8\"],[0.3333333333333333,\"#9c179e\"],[0.4444444444444444,\"#bd3786\"],[0.5555555555555556,\"#d8576b\"],[0.6666666666666666,\"#ed7953\"],[0.7777777777777778,\"#fb9f3a\"],[0.8888888888888888,\"#fdca26\"],[1.0,\"#f0f921\"]]}],\"choropleth\":[{\"type\":\"choropleth\",\"colorbar\":{\"outlinewidth\":0,\"ticks\":\"\"}}],\"histogram2d\":[{\"type\":\"histogram2d\",\"colorbar\":{\"outlinewidth\":0,\"ticks\":\"\"},\"colorscale\":[[0.0,\"#0d0887\"],[0.1111111111111111,\"#46039f\"],[0.2222222222222222,\"#7201a8\"],[0.3333333333333333,\"#9c179e\"],[0.4444444444444444,\"#bd3786\"],[0.5555555555555556,\"#d8576b\"],[0.6666666666666666,\"#ed7953\"],[0.7777777777777778,\"#fb9f3a\"],[0.8888888888888888,\"#fdca26\"],[1.0,\"#f0f921\"]]}],\"heatmap\":[{\"type\":\"heatmap\",\"colorbar\":{\"outlinewidth\":0,\"ticks\":\"\"},\"colorscale\":[[0.0,\"#0d0887\"],[0.1111111111111111,\"#46039f\"],[0.2222222222222222,\"#7201a8\"],[0.3333333333333333,\"#9c179e\"],[0.4444444444444444,\"#bd3786\"],[0.5555555555555556,\"#d8576b\"],[0.6666666666666666,\"#ed7953\"],[0.7777777777777778,\"#fb9f3a\"],[0.8888888888888888,\"#fdca26\"],[1.0,\"#f0f921\"]]}],\"heatmapgl\":[{\"type\":\"heatmapgl\",\"colorbar\":{\"outlinewidth\":0,\"ticks\":\"\"},\"colorscale\":[[0.0,\"#0d0887\"],[0.1111111111111111,\"#46039f\"],[0.2222222222222222,\"#7201a8\"],[0.3333333333333333,\"#9c179e\"],[0.4444444444444444,\"#bd3786\"],[0.5555555555555556,\"#d8576b\"],[0.6666666666666666,\"#ed7953\"],[0.7777777777777778,\"#fb9f3a\"],[0.8888888888888888,\"#fdca26\"],[1.0,\"#f0f921\"]]}],\"contourcarpet\":[{\"type\":\"contourcarpet\",\"colorbar\":{\"outlinewidth\":0,\"ticks\":\"\"}}],\"contour\":[{\"type\":\"contour\",\"colorbar\":{\"outlinewidth\":0,\"ticks\":\"\"},\"colorscale\":[[0.0,\"#0d0887\"],[0.1111111111111111,\"#46039f\"],[0.2222222222222222,\"#7201a8\"],[0.3333333333333333,\"#9c179e\"],[0.4444444444444444,\"#bd3786\"],[0.5555555555555556,\"#d8576b\"],[0.6666666666666666,\"#ed7953\"],[0.7777777777777778,\"#fb9f3a\"],[0.8888888888888888,\"#fdca26\"],[1.0,\"#f0f921\"]]}],\"surface\":[{\"type\":\"surface\",\"colorbar\":{\"outlinewidth\":0,\"ticks\":\"\"},\"colorscale\":[[0.0,\"#0d0887\"],[0.1111111111111111,\"#46039f\"],[0.2222222222222222,\"#7201a8\"],[0.3333333333333333,\"#9c179e\"],[0.4444444444444444,\"#bd3786\"],[0.5555555555555556,\"#d8576b\"],[0.6666666666666666,\"#ed7953\"],[0.7777777777777778,\"#fb9f3a\"],[0.8888888888888888,\"#fdca26\"],[1.0,\"#f0f921\"]]}],\"mesh3d\":[{\"type\":\"mesh3d\",\"colorbar\":{\"outlinewidth\":0,\"ticks\":\"\"}}],\"scatter\":[{\"fillpattern\":{\"fillmode\":\"overlay\",\"size\":10,\"solidity\":0.2},\"type\":\"scatter\"}],\"parcoords\":[{\"type\":\"parcoords\",\"line\":{\"colorbar\":{\"outlinewidth\":0,\"ticks\":\"\"}}}],\"scatterpolargl\":[{\"type\":\"scatterpolargl\",\"marker\":{\"colorbar\":{\"outlinewidth\":0,\"ticks\":\"\"}}}],\"bar\":[{\"error_x\":{\"color\":\"#2a3f5f\"},\"error_y\":{\"color\":\"#2a3f5f\"},\"marker\":{\"line\":{\"color\":\"#E5ECF6\",\"width\":0.5},\"pattern\":{\"fillmode\":\"overlay\",\"size\":10,\"solidity\":0.2}},\"type\":\"bar\"}],\"scattergeo\":[{\"type\":\"scattergeo\",\"marker\":{\"colorbar\":{\"outlinewidth\":0,\"ticks\":\"\"}}}],\"scatterpolar\":[{\"type\":\"scatterpolar\",\"marker\":{\"colorbar\":{\"outlinewidth\":0,\"ticks\":\"\"}}}],\"histogram\":[{\"marker\":{\"pattern\":{\"fillmode\":\"overlay\",\"size\":10,\"solidity\":0.2}},\"type\":\"histogram\"}],\"scattergl\":[{\"type\":\"scattergl\",\"marker\":{\"colorbar\":{\"outlinewidth\":0,\"ticks\":\"\"}}}],\"scatter3d\":[{\"type\":\"scatter3d\",\"line\":{\"colorbar\":{\"outlinewidth\":0,\"ticks\":\"\"}},\"marker\":{\"colorbar\":{\"outlinewidth\":0,\"ticks\":\"\"}}}],\"scattermapbox\":[{\"type\":\"scattermapbox\",\"marker\":{\"colorbar\":{\"outlinewidth\":0,\"ticks\":\"\"}}}],\"scatterternary\":[{\"type\":\"scatterternary\",\"marker\":{\"colorbar\":{\"outlinewidth\":0,\"ticks\":\"\"}}}],\"scattercarpet\":[{\"type\":\"scattercarpet\",\"marker\":{\"colorbar\":{\"outlinewidth\":0,\"ticks\":\"\"}}}],\"carpet\":[{\"aaxis\":{\"endlinecolor\":\"#2a3f5f\",\"gridcolor\":\"white\",\"linecolor\":\"white\",\"minorgridcolor\":\"white\",\"startlinecolor\":\"#2a3f5f\"},\"baxis\":{\"endlinecolor\":\"#2a3f5f\",\"gridcolor\":\"white\",\"linecolor\":\"white\",\"minorgridcolor\":\"white\",\"startlinecolor\":\"#2a3f5f\"},\"type\":\"carpet\"}],\"table\":[{\"cells\":{\"fill\":{\"color\":\"#EBF0F8\"},\"line\":{\"color\":\"white\"}},\"header\":{\"fill\":{\"color\":\"#C8D4E3\"},\"line\":{\"color\":\"white\"}},\"type\":\"table\"}],\"barpolar\":[{\"marker\":{\"line\":{\"color\":\"#E5ECF6\",\"width\":0.5},\"pattern\":{\"fillmode\":\"overlay\",\"size\":10,\"solidity\":0.2}},\"type\":\"barpolar\"}],\"pie\":[{\"automargin\":true,\"type\":\"pie\"}]},\"layout\":{\"autotypenumbers\":\"strict\",\"colorway\":[\"#636efa\",\"#EF553B\",\"#00cc96\",\"#ab63fa\",\"#FFA15A\",\"#19d3f3\",\"#FF6692\",\"#B6E880\",\"#FF97FF\",\"#FECB52\"],\"font\":{\"color\":\"#2a3f5f\"},\"hovermode\":\"closest\",\"hoverlabel\":{\"align\":\"left\"},\"paper_bgcolor\":\"white\",\"plot_bgcolor\":\"#E5ECF6\",\"polar\":{\"bgcolor\":\"#E5ECF6\",\"angularaxis\":{\"gridcolor\":\"white\",\"linecolor\":\"white\",\"ticks\":\"\"},\"radialaxis\":{\"gridcolor\":\"white\",\"linecolor\":\"white\",\"ticks\":\"\"}},\"ternary\":{\"bgcolor\":\"#E5ECF6\",\"aaxis\":{\"gridcolor\":\"white\",\"linecolor\":\"white\",\"ticks\":\"\"},\"baxis\":{\"gridcolor\":\"white\",\"linecolor\":\"white\",\"ticks\":\"\"},\"caxis\":{\"gridcolor\":\"white\",\"linecolor\":\"white\",\"ticks\":\"\"}},\"coloraxis\":{\"colorbar\":{\"outlinewidth\":0,\"ticks\":\"\"}},\"colorscale\":{\"sequential\":[[0.0,\"#0d0887\"],[0.1111111111111111,\"#46039f\"],[0.2222222222222222,\"#7201a8\"],[0.3333333333333333,\"#9c179e\"],[0.4444444444444444,\"#bd3786\"],[0.5555555555555556,\"#d8576b\"],[0.6666666666666666,\"#ed7953\"],[0.7777777777777778,\"#fb9f3a\"],[0.8888888888888888,\"#fdca26\"],[1.0,\"#f0f921\"]],\"sequentialminus\":[[0.0,\"#0d0887\"],[0.1111111111111111,\"#46039f\"],[0.2222222222222222,\"#7201a8\"],[0.3333333333333333,\"#9c179e\"],[0.4444444444444444,\"#bd3786\"],[0.5555555555555556,\"#d8576b\"],[0.6666666666666666,\"#ed7953\"],[0.7777777777777778,\"#fb9f3a\"],[0.8888888888888888,\"#fdca26\"],[1.0,\"#f0f921\"]],\"diverging\":[[0,\"#8e0152\"],[0.1,\"#c51b7d\"],[0.2,\"#de77ae\"],[0.3,\"#f1b6da\"],[0.4,\"#fde0ef\"],[0.5,\"#f7f7f7\"],[0.6,\"#e6f5d0\"],[0.7,\"#b8e186\"],[0.8,\"#7fbc41\"],[0.9,\"#4d9221\"],[1,\"#276419\"]]},\"xaxis\":{\"gridcolor\":\"white\",\"linecolor\":\"white\",\"ticks\":\"\",\"title\":{\"standoff\":15},\"zerolinecolor\":\"white\",\"automargin\":true,\"zerolinewidth\":2},\"yaxis\":{\"gridcolor\":\"white\",\"linecolor\":\"white\",\"ticks\":\"\",\"title\":{\"standoff\":15},\"zerolinecolor\":\"white\",\"automargin\":true,\"zerolinewidth\":2},\"scene\":{\"xaxis\":{\"backgroundcolor\":\"#E5ECF6\",\"gridcolor\":\"white\",\"linecolor\":\"white\",\"showbackground\":true,\"ticks\":\"\",\"zerolinecolor\":\"white\",\"gridwidth\":2},\"yaxis\":{\"backgroundcolor\":\"#E5ECF6\",\"gridcolor\":\"white\",\"linecolor\":\"white\",\"showbackground\":true,\"ticks\":\"\",\"zerolinecolor\":\"white\",\"gridwidth\":2},\"zaxis\":{\"backgroundcolor\":\"#E5ECF6\",\"gridcolor\":\"white\",\"linecolor\":\"white\",\"showbackground\":true,\"ticks\":\"\",\"zerolinecolor\":\"white\",\"gridwidth\":2}},\"shapedefaults\":{\"line\":{\"color\":\"#2a3f5f\"}},\"annotationdefaults\":{\"arrowcolor\":\"#2a3f5f\",\"arrowhead\":0,\"arrowwidth\":1},\"geo\":{\"bgcolor\":\"white\",\"landcolor\":\"#E5ECF6\",\"subunitcolor\":\"white\",\"showland\":true,\"showlakes\":true,\"lakecolor\":\"white\"},\"title\":{\"x\":0.05},\"mapbox\":{\"style\":\"light\"}}},\"xaxis\":{\"anchor\":\"y\",\"domain\":[0.0,1.0],\"title\":{\"text\":\"Metrics\"}},\"yaxis\":{\"anchor\":\"x\",\"domain\":[0.0,1.0],\"title\":{\"text\":\"Rouge Score\"}},\"legend\":{\"title\":{\"text\":\"legend\"},\"tracegroupgap\":0},\"margin\":{\"t\":60},\"barmode\":\"group\",\"title\":{\"text\":\"Score\",\"y\":0.96,\"x\":0.49,\"xanchor\":\"center\",\"yanchor\":\"top\"},\"width\":650,\"height\":400},                        {\"responsive\": true}                    ).then(function(){\n",
              "                            \n",
              "var gd = document.getElementById('8378bc1c-5693-4aef-a527-94d0b5d068fb');\n",
              "var x = new MutationObserver(function (mutations, observer) {{\n",
              "        var display = window.getComputedStyle(gd).display;\n",
              "        if (!display || display === 'none') {{\n",
              "            console.log([gd, 'removed!']);\n",
              "            Plotly.purge(gd);\n",
              "            observer.disconnect();\n",
              "        }}\n",
              "}});\n",
              "\n",
              "// Listen for the removal of the full notebook cells\n",
              "var notebookContainer = gd.closest('#notebook-container');\n",
              "if (notebookContainer) {{\n",
              "    x.observe(notebookContainer, {childList: true});\n",
              "}}\n",
              "\n",
              "// Listen for the clearing of the current output cell\n",
              "var outputEl = gd.closest('.output');\n",
              "if (outputEl) {{\n",
              "    x.observe(outputEl, {childList: true});\n",
              "}}\n",
              "\n",
              "                        })                };                });            </script>        </div>"
            ]
          },
          "metadata": {}
        }
      ],
      "source": [
        "fig = px.bar(T5Rouge*100, x=T5Rouge.index, y=T5Rouge.columns,\n",
        "             barmode='group',\n",
        "             text_auto='.2s',\n",
        "             labels={\n",
        "                     \"Algo\": \"Algorithms\",\n",
        "                     \"value\": \"Rouge Score\",\n",
        "                     \"variable\": \"legend\",\n",
        "                     'index': \"Metrics\"\n",
        "                 })\n",
        "\n",
        "fig.update_layout(width=650,\n",
        "                  height=400,\n",
        "                  title={\n",
        "                  'text': \"Score\",\n",
        "                  'y':.96,\n",
        "                  'x':0.49,\n",
        "                  'xanchor': 'center',\n",
        "                  'yanchor': 'top'})\n",
        "\n",
        "fig.show()"
      ]
    },
    {
      "cell_type": "markdown",
      "metadata": {
        "id": "LKGLEDBXXXW-"
      },
      "source": [
        "![newplot.png](attachment:41c6ca4b-c8d5-43ae-a9f3-4436725df739.png)"
      ]
    },
    {
      "cell_type": "code",
      "execution_count": 33,
      "metadata": {
        "colab": {
          "base_uri": "https://localhost:8080/",
          "height": 417
        },
        "id": "F5EYCOCNXXW_",
        "outputId": "82c99a81-1b7b-4d33-acae-1685edb64834"
      },
      "outputs": [
        {
          "output_type": "display_data",
          "data": {
            "application/vnd.plotly.v1+json": {
              "data": [
                {
                  "alignmentgroup": "True",
                  "hovertemplate": "legend=rouge-1<br>Metrics=%{x}<br>Rouge Score=%{y}<extra></extra>",
                  "legendgroup": "rouge-1",
                  "marker": {
                    "color": "#636efa",
                    "pattern": {
                      "shape": ""
                    }
                  },
                  "name": "rouge-1",
                  "offsetgroup": "rouge-1",
                  "orientation": "v",
                  "showlegend": true,
                  "textposition": "auto",
                  "texttemplate": "%{y:.2s}",
                  "x": [
                    "recall",
                    "precision",
                    "f-measure"
                  ],
                  "xaxis": "x",
                  "y": [
                    52.437495117889696,
                    31.88028287116079,
                    39.249832128796946
                  ],
                  "yaxis": "y",
                  "type": "bar"
                },
                {
                  "alignmentgroup": "True",
                  "hovertemplate": "legend=rouge-l<br>Metrics=%{x}<br>Rouge Score=%{y}<extra></extra>",
                  "legendgroup": "rouge-l",
                  "marker": {
                    "color": "#EF553B",
                    "pattern": {
                      "shape": ""
                    }
                  },
                  "name": "rouge-l",
                  "offsetgroup": "rouge-l",
                  "orientation": "v",
                  "showlegend": true,
                  "textposition": "auto",
                  "texttemplate": "%{y:.2s}",
                  "x": [
                    "recall",
                    "precision",
                    "f-measure"
                  ],
                  "xaxis": "x",
                  "y": [
                    47.09395851928466,
                    28.66936769272572,
                    35.27874391331243
                  ],
                  "yaxis": "y",
                  "type": "bar"
                },
                {
                  "alignmentgroup": "True",
                  "hovertemplate": "legend=rouge-2<br>Metrics=%{x}<br>Rouge Score=%{y}<extra></extra>",
                  "legendgroup": "rouge-2",
                  "marker": {
                    "color": "#00cc96",
                    "pattern": {
                      "shape": ""
                    }
                  },
                  "name": "rouge-2",
                  "offsetgroup": "rouge-2",
                  "orientation": "v",
                  "showlegend": true,
                  "textposition": "auto",
                  "texttemplate": "%{y:.2s}",
                  "x": [
                    "recall",
                    "precision",
                    "f-measure"
                  ],
                  "xaxis": "x",
                  "y": [
                    30.539289526824437,
                    16.872662419450744,
                    21.485491605706567
                  ],
                  "yaxis": "y",
                  "type": "bar"
                }
              ],
              "layout": {
                "template": {
                  "data": {
                    "histogram2dcontour": [
                      {
                        "type": "histogram2dcontour",
                        "colorbar": {
                          "outlinewidth": 0,
                          "ticks": ""
                        },
                        "colorscale": [
                          [
                            0,
                            "#0d0887"
                          ],
                          [
                            0.1111111111111111,
                            "#46039f"
                          ],
                          [
                            0.2222222222222222,
                            "#7201a8"
                          ],
                          [
                            0.3333333333333333,
                            "#9c179e"
                          ],
                          [
                            0.4444444444444444,
                            "#bd3786"
                          ],
                          [
                            0.5555555555555556,
                            "#d8576b"
                          ],
                          [
                            0.6666666666666666,
                            "#ed7953"
                          ],
                          [
                            0.7777777777777778,
                            "#fb9f3a"
                          ],
                          [
                            0.8888888888888888,
                            "#fdca26"
                          ],
                          [
                            1,
                            "#f0f921"
                          ]
                        ]
                      }
                    ],
                    "choropleth": [
                      {
                        "type": "choropleth",
                        "colorbar": {
                          "outlinewidth": 0,
                          "ticks": ""
                        }
                      }
                    ],
                    "histogram2d": [
                      {
                        "type": "histogram2d",
                        "colorbar": {
                          "outlinewidth": 0,
                          "ticks": ""
                        },
                        "colorscale": [
                          [
                            0,
                            "#0d0887"
                          ],
                          [
                            0.1111111111111111,
                            "#46039f"
                          ],
                          [
                            0.2222222222222222,
                            "#7201a8"
                          ],
                          [
                            0.3333333333333333,
                            "#9c179e"
                          ],
                          [
                            0.4444444444444444,
                            "#bd3786"
                          ],
                          [
                            0.5555555555555556,
                            "#d8576b"
                          ],
                          [
                            0.6666666666666666,
                            "#ed7953"
                          ],
                          [
                            0.7777777777777778,
                            "#fb9f3a"
                          ],
                          [
                            0.8888888888888888,
                            "#fdca26"
                          ],
                          [
                            1,
                            "#f0f921"
                          ]
                        ]
                      }
                    ],
                    "heatmap": [
                      {
                        "type": "heatmap",
                        "colorbar": {
                          "outlinewidth": 0,
                          "ticks": ""
                        },
                        "colorscale": [
                          [
                            0,
                            "#0d0887"
                          ],
                          [
                            0.1111111111111111,
                            "#46039f"
                          ],
                          [
                            0.2222222222222222,
                            "#7201a8"
                          ],
                          [
                            0.3333333333333333,
                            "#9c179e"
                          ],
                          [
                            0.4444444444444444,
                            "#bd3786"
                          ],
                          [
                            0.5555555555555556,
                            "#d8576b"
                          ],
                          [
                            0.6666666666666666,
                            "#ed7953"
                          ],
                          [
                            0.7777777777777778,
                            "#fb9f3a"
                          ],
                          [
                            0.8888888888888888,
                            "#fdca26"
                          ],
                          [
                            1,
                            "#f0f921"
                          ]
                        ]
                      }
                    ],
                    "heatmapgl": [
                      {
                        "type": "heatmapgl",
                        "colorbar": {
                          "outlinewidth": 0,
                          "ticks": ""
                        },
                        "colorscale": [
                          [
                            0,
                            "#0d0887"
                          ],
                          [
                            0.1111111111111111,
                            "#46039f"
                          ],
                          [
                            0.2222222222222222,
                            "#7201a8"
                          ],
                          [
                            0.3333333333333333,
                            "#9c179e"
                          ],
                          [
                            0.4444444444444444,
                            "#bd3786"
                          ],
                          [
                            0.5555555555555556,
                            "#d8576b"
                          ],
                          [
                            0.6666666666666666,
                            "#ed7953"
                          ],
                          [
                            0.7777777777777778,
                            "#fb9f3a"
                          ],
                          [
                            0.8888888888888888,
                            "#fdca26"
                          ],
                          [
                            1,
                            "#f0f921"
                          ]
                        ]
                      }
                    ],
                    "contourcarpet": [
                      {
                        "type": "contourcarpet",
                        "colorbar": {
                          "outlinewidth": 0,
                          "ticks": ""
                        }
                      }
                    ],
                    "contour": [
                      {
                        "type": "contour",
                        "colorbar": {
                          "outlinewidth": 0,
                          "ticks": ""
                        },
                        "colorscale": [
                          [
                            0,
                            "#0d0887"
                          ],
                          [
                            0.1111111111111111,
                            "#46039f"
                          ],
                          [
                            0.2222222222222222,
                            "#7201a8"
                          ],
                          [
                            0.3333333333333333,
                            "#9c179e"
                          ],
                          [
                            0.4444444444444444,
                            "#bd3786"
                          ],
                          [
                            0.5555555555555556,
                            "#d8576b"
                          ],
                          [
                            0.6666666666666666,
                            "#ed7953"
                          ],
                          [
                            0.7777777777777778,
                            "#fb9f3a"
                          ],
                          [
                            0.8888888888888888,
                            "#fdca26"
                          ],
                          [
                            1,
                            "#f0f921"
                          ]
                        ]
                      }
                    ],
                    "surface": [
                      {
                        "type": "surface",
                        "colorbar": {
                          "outlinewidth": 0,
                          "ticks": ""
                        },
                        "colorscale": [
                          [
                            0,
                            "#0d0887"
                          ],
                          [
                            0.1111111111111111,
                            "#46039f"
                          ],
                          [
                            0.2222222222222222,
                            "#7201a8"
                          ],
                          [
                            0.3333333333333333,
                            "#9c179e"
                          ],
                          [
                            0.4444444444444444,
                            "#bd3786"
                          ],
                          [
                            0.5555555555555556,
                            "#d8576b"
                          ],
                          [
                            0.6666666666666666,
                            "#ed7953"
                          ],
                          [
                            0.7777777777777778,
                            "#fb9f3a"
                          ],
                          [
                            0.8888888888888888,
                            "#fdca26"
                          ],
                          [
                            1,
                            "#f0f921"
                          ]
                        ]
                      }
                    ],
                    "mesh3d": [
                      {
                        "type": "mesh3d",
                        "colorbar": {
                          "outlinewidth": 0,
                          "ticks": ""
                        }
                      }
                    ],
                    "scatter": [
                      {
                        "fillpattern": {
                          "fillmode": "overlay",
                          "size": 10,
                          "solidity": 0.2
                        },
                        "type": "scatter"
                      }
                    ],
                    "parcoords": [
                      {
                        "type": "parcoords",
                        "line": {
                          "colorbar": {
                            "outlinewidth": 0,
                            "ticks": ""
                          }
                        }
                      }
                    ],
                    "scatterpolargl": [
                      {
                        "type": "scatterpolargl",
                        "marker": {
                          "colorbar": {
                            "outlinewidth": 0,
                            "ticks": ""
                          }
                        }
                      }
                    ],
                    "bar": [
                      {
                        "error_x": {
                          "color": "#2a3f5f"
                        },
                        "error_y": {
                          "color": "#2a3f5f"
                        },
                        "marker": {
                          "line": {
                            "color": "#E5ECF6",
                            "width": 0.5
                          },
                          "pattern": {
                            "fillmode": "overlay",
                            "size": 10,
                            "solidity": 0.2
                          }
                        },
                        "type": "bar"
                      }
                    ],
                    "scattergeo": [
                      {
                        "type": "scattergeo",
                        "marker": {
                          "colorbar": {
                            "outlinewidth": 0,
                            "ticks": ""
                          }
                        }
                      }
                    ],
                    "scatterpolar": [
                      {
                        "type": "scatterpolar",
                        "marker": {
                          "colorbar": {
                            "outlinewidth": 0,
                            "ticks": ""
                          }
                        }
                      }
                    ],
                    "histogram": [
                      {
                        "marker": {
                          "pattern": {
                            "fillmode": "overlay",
                            "size": 10,
                            "solidity": 0.2
                          }
                        },
                        "type": "histogram"
                      }
                    ],
                    "scattergl": [
                      {
                        "type": "scattergl",
                        "marker": {
                          "colorbar": {
                            "outlinewidth": 0,
                            "ticks": ""
                          }
                        }
                      }
                    ],
                    "scatter3d": [
                      {
                        "type": "scatter3d",
                        "line": {
                          "colorbar": {
                            "outlinewidth": 0,
                            "ticks": ""
                          }
                        },
                        "marker": {
                          "colorbar": {
                            "outlinewidth": 0,
                            "ticks": ""
                          }
                        }
                      }
                    ],
                    "scattermapbox": [
                      {
                        "type": "scattermapbox",
                        "marker": {
                          "colorbar": {
                            "outlinewidth": 0,
                            "ticks": ""
                          }
                        }
                      }
                    ],
                    "scatterternary": [
                      {
                        "type": "scatterternary",
                        "marker": {
                          "colorbar": {
                            "outlinewidth": 0,
                            "ticks": ""
                          }
                        }
                      }
                    ],
                    "scattercarpet": [
                      {
                        "type": "scattercarpet",
                        "marker": {
                          "colorbar": {
                            "outlinewidth": 0,
                            "ticks": ""
                          }
                        }
                      }
                    ],
                    "carpet": [
                      {
                        "aaxis": {
                          "endlinecolor": "#2a3f5f",
                          "gridcolor": "white",
                          "linecolor": "white",
                          "minorgridcolor": "white",
                          "startlinecolor": "#2a3f5f"
                        },
                        "baxis": {
                          "endlinecolor": "#2a3f5f",
                          "gridcolor": "white",
                          "linecolor": "white",
                          "minorgridcolor": "white",
                          "startlinecolor": "#2a3f5f"
                        },
                        "type": "carpet"
                      }
                    ],
                    "table": [
                      {
                        "cells": {
                          "fill": {
                            "color": "#EBF0F8"
                          },
                          "line": {
                            "color": "white"
                          }
                        },
                        "header": {
                          "fill": {
                            "color": "#C8D4E3"
                          },
                          "line": {
                            "color": "white"
                          }
                        },
                        "type": "table"
                      }
                    ],
                    "barpolar": [
                      {
                        "marker": {
                          "line": {
                            "color": "#E5ECF6",
                            "width": 0.5
                          },
                          "pattern": {
                            "fillmode": "overlay",
                            "size": 10,
                            "solidity": 0.2
                          }
                        },
                        "type": "barpolar"
                      }
                    ],
                    "pie": [
                      {
                        "automargin": true,
                        "type": "pie"
                      }
                    ]
                  },
                  "layout": {
                    "autotypenumbers": "strict",
                    "colorway": [
                      "#636efa",
                      "#EF553B",
                      "#00cc96",
                      "#ab63fa",
                      "#FFA15A",
                      "#19d3f3",
                      "#FF6692",
                      "#B6E880",
                      "#FF97FF",
                      "#FECB52"
                    ],
                    "font": {
                      "color": "#2a3f5f"
                    },
                    "hovermode": "closest",
                    "hoverlabel": {
                      "align": "left"
                    },
                    "paper_bgcolor": "white",
                    "plot_bgcolor": "#E5ECF6",
                    "polar": {
                      "bgcolor": "#E5ECF6",
                      "angularaxis": {
                        "gridcolor": "white",
                        "linecolor": "white",
                        "ticks": ""
                      },
                      "radialaxis": {
                        "gridcolor": "white",
                        "linecolor": "white",
                        "ticks": ""
                      }
                    },
                    "ternary": {
                      "bgcolor": "#E5ECF6",
                      "aaxis": {
                        "gridcolor": "white",
                        "linecolor": "white",
                        "ticks": ""
                      },
                      "baxis": {
                        "gridcolor": "white",
                        "linecolor": "white",
                        "ticks": ""
                      },
                      "caxis": {
                        "gridcolor": "white",
                        "linecolor": "white",
                        "ticks": ""
                      }
                    },
                    "coloraxis": {
                      "colorbar": {
                        "outlinewidth": 0,
                        "ticks": ""
                      }
                    },
                    "colorscale": {
                      "sequential": [
                        [
                          0,
                          "#0d0887"
                        ],
                        [
                          0.1111111111111111,
                          "#46039f"
                        ],
                        [
                          0.2222222222222222,
                          "#7201a8"
                        ],
                        [
                          0.3333333333333333,
                          "#9c179e"
                        ],
                        [
                          0.4444444444444444,
                          "#bd3786"
                        ],
                        [
                          0.5555555555555556,
                          "#d8576b"
                        ],
                        [
                          0.6666666666666666,
                          "#ed7953"
                        ],
                        [
                          0.7777777777777778,
                          "#fb9f3a"
                        ],
                        [
                          0.8888888888888888,
                          "#fdca26"
                        ],
                        [
                          1,
                          "#f0f921"
                        ]
                      ],
                      "sequentialminus": [
                        [
                          0,
                          "#0d0887"
                        ],
                        [
                          0.1111111111111111,
                          "#46039f"
                        ],
                        [
                          0.2222222222222222,
                          "#7201a8"
                        ],
                        [
                          0.3333333333333333,
                          "#9c179e"
                        ],
                        [
                          0.4444444444444444,
                          "#bd3786"
                        ],
                        [
                          0.5555555555555556,
                          "#d8576b"
                        ],
                        [
                          0.6666666666666666,
                          "#ed7953"
                        ],
                        [
                          0.7777777777777778,
                          "#fb9f3a"
                        ],
                        [
                          0.8888888888888888,
                          "#fdca26"
                        ],
                        [
                          1,
                          "#f0f921"
                        ]
                      ],
                      "diverging": [
                        [
                          0,
                          "#8e0152"
                        ],
                        [
                          0.1,
                          "#c51b7d"
                        ],
                        [
                          0.2,
                          "#de77ae"
                        ],
                        [
                          0.3,
                          "#f1b6da"
                        ],
                        [
                          0.4,
                          "#fde0ef"
                        ],
                        [
                          0.5,
                          "#f7f7f7"
                        ],
                        [
                          0.6,
                          "#e6f5d0"
                        ],
                        [
                          0.7,
                          "#b8e186"
                        ],
                        [
                          0.8,
                          "#7fbc41"
                        ],
                        [
                          0.9,
                          "#4d9221"
                        ],
                        [
                          1,
                          "#276419"
                        ]
                      ]
                    },
                    "xaxis": {
                      "gridcolor": "white",
                      "linecolor": "white",
                      "ticks": "",
                      "title": {
                        "standoff": 15
                      },
                      "zerolinecolor": "white",
                      "automargin": true,
                      "zerolinewidth": 2
                    },
                    "yaxis": {
                      "gridcolor": "white",
                      "linecolor": "white",
                      "ticks": "",
                      "title": {
                        "standoff": 15
                      },
                      "zerolinecolor": "white",
                      "automargin": true,
                      "zerolinewidth": 2
                    },
                    "scene": {
                      "xaxis": {
                        "backgroundcolor": "#E5ECF6",
                        "gridcolor": "white",
                        "linecolor": "white",
                        "showbackground": true,
                        "ticks": "",
                        "zerolinecolor": "white",
                        "gridwidth": 2
                      },
                      "yaxis": {
                        "backgroundcolor": "#E5ECF6",
                        "gridcolor": "white",
                        "linecolor": "white",
                        "showbackground": true,
                        "ticks": "",
                        "zerolinecolor": "white",
                        "gridwidth": 2
                      },
                      "zaxis": {
                        "backgroundcolor": "#E5ECF6",
                        "gridcolor": "white",
                        "linecolor": "white",
                        "showbackground": true,
                        "ticks": "",
                        "zerolinecolor": "white",
                        "gridwidth": 2
                      }
                    },
                    "shapedefaults": {
                      "line": {
                        "color": "#2a3f5f"
                      }
                    },
                    "annotationdefaults": {
                      "arrowcolor": "#2a3f5f",
                      "arrowhead": 0,
                      "arrowwidth": 1
                    },
                    "geo": {
                      "bgcolor": "white",
                      "landcolor": "#E5ECF6",
                      "subunitcolor": "white",
                      "showland": true,
                      "showlakes": true,
                      "lakecolor": "white"
                    },
                    "title": {
                      "x": 0.05
                    },
                    "mapbox": {
                      "style": "light"
                    }
                  }
                },
                "xaxis": {
                  "anchor": "y",
                  "domain": [
                    0,
                    1
                  ],
                  "title": {
                    "text": "Metrics"
                  }
                },
                "yaxis": {
                  "anchor": "x",
                  "domain": [
                    0,
                    1
                  ],
                  "title": {
                    "text": "Rouge Score"
                  }
                },
                "legend": {
                  "title": {
                    "text": "legend"
                  },
                  "tracegroupgap": 0
                },
                "margin": {
                  "t": 60
                },
                "barmode": "group",
                "title": {
                  "text": "Score",
                  "y": 0.96,
                  "x": 0.49,
                  "xanchor": "center",
                  "yanchor": "top"
                },
                "width": 650,
                "height": 400
              },
              "config": {
                "plotlyServerURL": "https://plot.ly"
              }
            },
            "text/html": [
              "<div>                            <div id=\"00ef6705-0c0c-447c-9143-35dbbd8a9fef\" class=\"plotly-graph-div\" style=\"height:400px; width:650px;\"></div>            <script type=\"text/javascript\">                require([\"plotly\"], function(Plotly) {                    window.PLOTLYENV=window.PLOTLYENV || {};                                    if (document.getElementById(\"00ef6705-0c0c-447c-9143-35dbbd8a9fef\")) {                    Plotly.newPlot(                        \"00ef6705-0c0c-447c-9143-35dbbd8a9fef\",                        [{\"alignmentgroup\":\"True\",\"hovertemplate\":\"legend=rouge-1\\u003cbr\\u003eMetrics=%{x}\\u003cbr\\u003eRouge Score=%{y}\\u003cextra\\u003e\\u003c\\u002fextra\\u003e\",\"legendgroup\":\"rouge-1\",\"marker\":{\"color\":\"#636efa\",\"pattern\":{\"shape\":\"\"}},\"name\":\"rouge-1\",\"offsetgroup\":\"rouge-1\",\"orientation\":\"v\",\"showlegend\":true,\"textposition\":\"auto\",\"texttemplate\":\"%{y:.2s}\",\"x\":[\"recall\",\"precision\",\"f-measure\"],\"xaxis\":\"x\",\"y\":[52.437495117889696,31.88028287116079,39.249832128796946],\"yaxis\":\"y\",\"type\":\"bar\"},{\"alignmentgroup\":\"True\",\"hovertemplate\":\"legend=rouge-l\\u003cbr\\u003eMetrics=%{x}\\u003cbr\\u003eRouge Score=%{y}\\u003cextra\\u003e\\u003c\\u002fextra\\u003e\",\"legendgroup\":\"rouge-l\",\"marker\":{\"color\":\"#EF553B\",\"pattern\":{\"shape\":\"\"}},\"name\":\"rouge-l\",\"offsetgroup\":\"rouge-l\",\"orientation\":\"v\",\"showlegend\":true,\"textposition\":\"auto\",\"texttemplate\":\"%{y:.2s}\",\"x\":[\"recall\",\"precision\",\"f-measure\"],\"xaxis\":\"x\",\"y\":[47.09395851928466,28.66936769272572,35.27874391331243],\"yaxis\":\"y\",\"type\":\"bar\"},{\"alignmentgroup\":\"True\",\"hovertemplate\":\"legend=rouge-2\\u003cbr\\u003eMetrics=%{x}\\u003cbr\\u003eRouge Score=%{y}\\u003cextra\\u003e\\u003c\\u002fextra\\u003e\",\"legendgroup\":\"rouge-2\",\"marker\":{\"color\":\"#00cc96\",\"pattern\":{\"shape\":\"\"}},\"name\":\"rouge-2\",\"offsetgroup\":\"rouge-2\",\"orientation\":\"v\",\"showlegend\":true,\"textposition\":\"auto\",\"texttemplate\":\"%{y:.2s}\",\"x\":[\"recall\",\"precision\",\"f-measure\"],\"xaxis\":\"x\",\"y\":[30.539289526824437,16.872662419450744,21.485491605706567],\"yaxis\":\"y\",\"type\":\"bar\"}],                        {\"template\":{\"data\":{\"histogram2dcontour\":[{\"type\":\"histogram2dcontour\",\"colorbar\":{\"outlinewidth\":0,\"ticks\":\"\"},\"colorscale\":[[0.0,\"#0d0887\"],[0.1111111111111111,\"#46039f\"],[0.2222222222222222,\"#7201a8\"],[0.3333333333333333,\"#9c179e\"],[0.4444444444444444,\"#bd3786\"],[0.5555555555555556,\"#d8576b\"],[0.6666666666666666,\"#ed7953\"],[0.7777777777777778,\"#fb9f3a\"],[0.8888888888888888,\"#fdca26\"],[1.0,\"#f0f921\"]]}],\"choropleth\":[{\"type\":\"choropleth\",\"colorbar\":{\"outlinewidth\":0,\"ticks\":\"\"}}],\"histogram2d\":[{\"type\":\"histogram2d\",\"colorbar\":{\"outlinewidth\":0,\"ticks\":\"\"},\"colorscale\":[[0.0,\"#0d0887\"],[0.1111111111111111,\"#46039f\"],[0.2222222222222222,\"#7201a8\"],[0.3333333333333333,\"#9c179e\"],[0.4444444444444444,\"#bd3786\"],[0.5555555555555556,\"#d8576b\"],[0.6666666666666666,\"#ed7953\"],[0.7777777777777778,\"#fb9f3a\"],[0.8888888888888888,\"#fdca26\"],[1.0,\"#f0f921\"]]}],\"heatmap\":[{\"type\":\"heatmap\",\"colorbar\":{\"outlinewidth\":0,\"ticks\":\"\"},\"colorscale\":[[0.0,\"#0d0887\"],[0.1111111111111111,\"#46039f\"],[0.2222222222222222,\"#7201a8\"],[0.3333333333333333,\"#9c179e\"],[0.4444444444444444,\"#bd3786\"],[0.5555555555555556,\"#d8576b\"],[0.6666666666666666,\"#ed7953\"],[0.7777777777777778,\"#fb9f3a\"],[0.8888888888888888,\"#fdca26\"],[1.0,\"#f0f921\"]]}],\"heatmapgl\":[{\"type\":\"heatmapgl\",\"colorbar\":{\"outlinewidth\":0,\"ticks\":\"\"},\"colorscale\":[[0.0,\"#0d0887\"],[0.1111111111111111,\"#46039f\"],[0.2222222222222222,\"#7201a8\"],[0.3333333333333333,\"#9c179e\"],[0.4444444444444444,\"#bd3786\"],[0.5555555555555556,\"#d8576b\"],[0.6666666666666666,\"#ed7953\"],[0.7777777777777778,\"#fb9f3a\"],[0.8888888888888888,\"#fdca26\"],[1.0,\"#f0f921\"]]}],\"contourcarpet\":[{\"type\":\"contourcarpet\",\"colorbar\":{\"outlinewidth\":0,\"ticks\":\"\"}}],\"contour\":[{\"type\":\"contour\",\"colorbar\":{\"outlinewidth\":0,\"ticks\":\"\"},\"colorscale\":[[0.0,\"#0d0887\"],[0.1111111111111111,\"#46039f\"],[0.2222222222222222,\"#7201a8\"],[0.3333333333333333,\"#9c179e\"],[0.4444444444444444,\"#bd3786\"],[0.5555555555555556,\"#d8576b\"],[0.6666666666666666,\"#ed7953\"],[0.7777777777777778,\"#fb9f3a\"],[0.8888888888888888,\"#fdca26\"],[1.0,\"#f0f921\"]]}],\"surface\":[{\"type\":\"surface\",\"colorbar\":{\"outlinewidth\":0,\"ticks\":\"\"},\"colorscale\":[[0.0,\"#0d0887\"],[0.1111111111111111,\"#46039f\"],[0.2222222222222222,\"#7201a8\"],[0.3333333333333333,\"#9c179e\"],[0.4444444444444444,\"#bd3786\"],[0.5555555555555556,\"#d8576b\"],[0.6666666666666666,\"#ed7953\"],[0.7777777777777778,\"#fb9f3a\"],[0.8888888888888888,\"#fdca26\"],[1.0,\"#f0f921\"]]}],\"mesh3d\":[{\"type\":\"mesh3d\",\"colorbar\":{\"outlinewidth\":0,\"ticks\":\"\"}}],\"scatter\":[{\"fillpattern\":{\"fillmode\":\"overlay\",\"size\":10,\"solidity\":0.2},\"type\":\"scatter\"}],\"parcoords\":[{\"type\":\"parcoords\",\"line\":{\"colorbar\":{\"outlinewidth\":0,\"ticks\":\"\"}}}],\"scatterpolargl\":[{\"type\":\"scatterpolargl\",\"marker\":{\"colorbar\":{\"outlinewidth\":0,\"ticks\":\"\"}}}],\"bar\":[{\"error_x\":{\"color\":\"#2a3f5f\"},\"error_y\":{\"color\":\"#2a3f5f\"},\"marker\":{\"line\":{\"color\":\"#E5ECF6\",\"width\":0.5},\"pattern\":{\"fillmode\":\"overlay\",\"size\":10,\"solidity\":0.2}},\"type\":\"bar\"}],\"scattergeo\":[{\"type\":\"scattergeo\",\"marker\":{\"colorbar\":{\"outlinewidth\":0,\"ticks\":\"\"}}}],\"scatterpolar\":[{\"type\":\"scatterpolar\",\"marker\":{\"colorbar\":{\"outlinewidth\":0,\"ticks\":\"\"}}}],\"histogram\":[{\"marker\":{\"pattern\":{\"fillmode\":\"overlay\",\"size\":10,\"solidity\":0.2}},\"type\":\"histogram\"}],\"scattergl\":[{\"type\":\"scattergl\",\"marker\":{\"colorbar\":{\"outlinewidth\":0,\"ticks\":\"\"}}}],\"scatter3d\":[{\"type\":\"scatter3d\",\"line\":{\"colorbar\":{\"outlinewidth\":0,\"ticks\":\"\"}},\"marker\":{\"colorbar\":{\"outlinewidth\":0,\"ticks\":\"\"}}}],\"scattermapbox\":[{\"type\":\"scattermapbox\",\"marker\":{\"colorbar\":{\"outlinewidth\":0,\"ticks\":\"\"}}}],\"scatterternary\":[{\"type\":\"scatterternary\",\"marker\":{\"colorbar\":{\"outlinewidth\":0,\"ticks\":\"\"}}}],\"scattercarpet\":[{\"type\":\"scattercarpet\",\"marker\":{\"colorbar\":{\"outlinewidth\":0,\"ticks\":\"\"}}}],\"carpet\":[{\"aaxis\":{\"endlinecolor\":\"#2a3f5f\",\"gridcolor\":\"white\",\"linecolor\":\"white\",\"minorgridcolor\":\"white\",\"startlinecolor\":\"#2a3f5f\"},\"baxis\":{\"endlinecolor\":\"#2a3f5f\",\"gridcolor\":\"white\",\"linecolor\":\"white\",\"minorgridcolor\":\"white\",\"startlinecolor\":\"#2a3f5f\"},\"type\":\"carpet\"}],\"table\":[{\"cells\":{\"fill\":{\"color\":\"#EBF0F8\"},\"line\":{\"color\":\"white\"}},\"header\":{\"fill\":{\"color\":\"#C8D4E3\"},\"line\":{\"color\":\"white\"}},\"type\":\"table\"}],\"barpolar\":[{\"marker\":{\"line\":{\"color\":\"#E5ECF6\",\"width\":0.5},\"pattern\":{\"fillmode\":\"overlay\",\"size\":10,\"solidity\":0.2}},\"type\":\"barpolar\"}],\"pie\":[{\"automargin\":true,\"type\":\"pie\"}]},\"layout\":{\"autotypenumbers\":\"strict\",\"colorway\":[\"#636efa\",\"#EF553B\",\"#00cc96\",\"#ab63fa\",\"#FFA15A\",\"#19d3f3\",\"#FF6692\",\"#B6E880\",\"#FF97FF\",\"#FECB52\"],\"font\":{\"color\":\"#2a3f5f\"},\"hovermode\":\"closest\",\"hoverlabel\":{\"align\":\"left\"},\"paper_bgcolor\":\"white\",\"plot_bgcolor\":\"#E5ECF6\",\"polar\":{\"bgcolor\":\"#E5ECF6\",\"angularaxis\":{\"gridcolor\":\"white\",\"linecolor\":\"white\",\"ticks\":\"\"},\"radialaxis\":{\"gridcolor\":\"white\",\"linecolor\":\"white\",\"ticks\":\"\"}},\"ternary\":{\"bgcolor\":\"#E5ECF6\",\"aaxis\":{\"gridcolor\":\"white\",\"linecolor\":\"white\",\"ticks\":\"\"},\"baxis\":{\"gridcolor\":\"white\",\"linecolor\":\"white\",\"ticks\":\"\"},\"caxis\":{\"gridcolor\":\"white\",\"linecolor\":\"white\",\"ticks\":\"\"}},\"coloraxis\":{\"colorbar\":{\"outlinewidth\":0,\"ticks\":\"\"}},\"colorscale\":{\"sequential\":[[0.0,\"#0d0887\"],[0.1111111111111111,\"#46039f\"],[0.2222222222222222,\"#7201a8\"],[0.3333333333333333,\"#9c179e\"],[0.4444444444444444,\"#bd3786\"],[0.5555555555555556,\"#d8576b\"],[0.6666666666666666,\"#ed7953\"],[0.7777777777777778,\"#fb9f3a\"],[0.8888888888888888,\"#fdca26\"],[1.0,\"#f0f921\"]],\"sequentialminus\":[[0.0,\"#0d0887\"],[0.1111111111111111,\"#46039f\"],[0.2222222222222222,\"#7201a8\"],[0.3333333333333333,\"#9c179e\"],[0.4444444444444444,\"#bd3786\"],[0.5555555555555556,\"#d8576b\"],[0.6666666666666666,\"#ed7953\"],[0.7777777777777778,\"#fb9f3a\"],[0.8888888888888888,\"#fdca26\"],[1.0,\"#f0f921\"]],\"diverging\":[[0,\"#8e0152\"],[0.1,\"#c51b7d\"],[0.2,\"#de77ae\"],[0.3,\"#f1b6da\"],[0.4,\"#fde0ef\"],[0.5,\"#f7f7f7\"],[0.6,\"#e6f5d0\"],[0.7,\"#b8e186\"],[0.8,\"#7fbc41\"],[0.9,\"#4d9221\"],[1,\"#276419\"]]},\"xaxis\":{\"gridcolor\":\"white\",\"linecolor\":\"white\",\"ticks\":\"\",\"title\":{\"standoff\":15},\"zerolinecolor\":\"white\",\"automargin\":true,\"zerolinewidth\":2},\"yaxis\":{\"gridcolor\":\"white\",\"linecolor\":\"white\",\"ticks\":\"\",\"title\":{\"standoff\":15},\"zerolinecolor\":\"white\",\"automargin\":true,\"zerolinewidth\":2},\"scene\":{\"xaxis\":{\"backgroundcolor\":\"#E5ECF6\",\"gridcolor\":\"white\",\"linecolor\":\"white\",\"showbackground\":true,\"ticks\":\"\",\"zerolinecolor\":\"white\",\"gridwidth\":2},\"yaxis\":{\"backgroundcolor\":\"#E5ECF6\",\"gridcolor\":\"white\",\"linecolor\":\"white\",\"showbackground\":true,\"ticks\":\"\",\"zerolinecolor\":\"white\",\"gridwidth\":2},\"zaxis\":{\"backgroundcolor\":\"#E5ECF6\",\"gridcolor\":\"white\",\"linecolor\":\"white\",\"showbackground\":true,\"ticks\":\"\",\"zerolinecolor\":\"white\",\"gridwidth\":2}},\"shapedefaults\":{\"line\":{\"color\":\"#2a3f5f\"}},\"annotationdefaults\":{\"arrowcolor\":\"#2a3f5f\",\"arrowhead\":0,\"arrowwidth\":1},\"geo\":{\"bgcolor\":\"white\",\"landcolor\":\"#E5ECF6\",\"subunitcolor\":\"white\",\"showland\":true,\"showlakes\":true,\"lakecolor\":\"white\"},\"title\":{\"x\":0.05},\"mapbox\":{\"style\":\"light\"}}},\"xaxis\":{\"anchor\":\"y\",\"domain\":[0.0,1.0],\"title\":{\"text\":\"Metrics\"}},\"yaxis\":{\"anchor\":\"x\",\"domain\":[0.0,1.0],\"title\":{\"text\":\"Rouge Score\"}},\"legend\":{\"title\":{\"text\":\"legend\"},\"tracegroupgap\":0},\"margin\":{\"t\":60},\"barmode\":\"group\",\"title\":{\"text\":\"Score\",\"y\":0.96,\"x\":0.49,\"xanchor\":\"center\",\"yanchor\":\"top\"},\"width\":650,\"height\":400},                        {\"responsive\": true}                    ).then(function(){\n",
              "                            \n",
              "var gd = document.getElementById('00ef6705-0c0c-447c-9143-35dbbd8a9fef');\n",
              "var x = new MutationObserver(function (mutations, observer) {{\n",
              "        var display = window.getComputedStyle(gd).display;\n",
              "        if (!display || display === 'none') {{\n",
              "            console.log([gd, 'removed!']);\n",
              "            Plotly.purge(gd);\n",
              "            observer.disconnect();\n",
              "        }}\n",
              "}});\n",
              "\n",
              "// Listen for the removal of the full notebook cells\n",
              "var notebookContainer = gd.closest('#notebook-container');\n",
              "if (notebookContainer) {{\n",
              "    x.observe(notebookContainer, {childList: true});\n",
              "}}\n",
              "\n",
              "// Listen for the clearing of the current output cell\n",
              "var outputEl = gd.closest('.output');\n",
              "if (outputEl) {{\n",
              "    x.observe(outputEl, {childList: true});\n",
              "}}\n",
              "\n",
              "                        })                };                });            </script>        </div>"
            ]
          },
          "metadata": {}
        }
      ],
      "source": [
        "fig = px.bar(BartRouge*100, x=BartRouge.index, y=BartRouge.columns,\n",
        "             barmode='group',\n",
        "             text_auto='.2s',\n",
        "             labels={\n",
        "                     \"Algo\": \"Algorithms\",\n",
        "                     \"value\": \"Rouge Score\",\n",
        "                     \"variable\": \"legend\",\n",
        "                     'index': \"Metrics\"\n",
        "                 })\n",
        "fig.update_layout( width=650,\n",
        "                  height=400,\n",
        "                title={\n",
        "                  'text': \"Score\",\n",
        "                  'y':.96,\n",
        "                  'x':0.49,\n",
        "                  'xanchor': 'center',\n",
        "                  'yanchor': 'top'})\n",
        "\n",
        "fig.show()"
      ]
    },
    {
      "cell_type": "markdown",
      "metadata": {
        "id": "nuZUyX2EXXW_"
      },
      "source": [
        "![newplot (1).png](attachment:fbccaf73-89cf-4f36-ad97-52099df820d2.png)"
      ]
    },
    {
      "cell_type": "markdown",
      "metadata": {
        "id": "OYk9qDXCXXW_"
      },
      "source": [
        "### **Sample Summaries**"
      ]
    },
    {
      "cell_type": "code",
      "execution_count": 27,
      "metadata": {
        "execution": {
          "iopub.execute_input": "2022-05-01T09:55:20.408711Z",
          "iopub.status.busy": "2022-05-01T09:55:20.408462Z",
          "iopub.status.idle": "2022-05-01T09:55:20.414325Z",
          "shell.execute_reply": "2022-05-01T09:55:20.413392Z",
          "shell.execute_reply.started": "2022-05-01T09:55:20.408684Z"
        },
        "colab": {
          "base_uri": "https://localhost:8080/"
        },
        "id": "ldgI1uADXXW_",
        "outputId": "80e93463-a67d-45e4-934b-35e0bbce7bdb"
      },
      "outputs": [
        {
          "output_type": "execute_result",
          "data": {
            "text/plain": [
              "['बिहार में भारतीय जनता पार्टी (बीजेपी) अपने सहयोगी जनता दल यूनाइटेड (जेडीयू) और लोक जनशक्ति पार्टी (एलजेपी) से क़दम-क़दम पर समझौता करने को विवश दिख रही है.',\n",
              " 'क्रिस गेल ने कहा चैंपियंस ट्रॉफी में पाकिस्तानी पर भारी पड़ेगा भारत क्रिस गेल ने पाकिस्तान को पंसदीदा टीम बताया 18 जून से इंग्लैंड और वेल्स में शुरू होगा चैम्पियंस ट्रॉफी टूर्नामेंट',\n",
              " 'म्रिस्र के नवनियुक्त उप राष्ट्रपति उमर सुलेमान ने कहा कि वह तब तक बातचीत नहीं करेंगे जब तक लोग प्रदर्शन बंद कर अपने घरों को नहीं लौटेंगे।',\n",
              " 'ट्विंकल खन्ना ने वजाइना से जुड़े कई सवालों के दिए जवाब. ट्विंकल खन्ना ने सोशल मीडिया पर शेयर की पोस्ट. ट्विंकल खन्ना ने अपने ब्लॉक में दिए 11 सवालों के जवाब.',\n",
              " 'दुनिया भर में ग़लत तरीके से सड़क पार करने पर जुर्माना लगाए जाने का प्रावधान है लेकिन अमरीका में ऐसी ग़लती करने पर जिस तरह के क़ायदे कानून हैं, वह किसी भी विदेशी आगंतुक को चौंका सकता है.']"
            ]
          },
          "metadata": {},
          "execution_count": 27
        }
      ],
      "source": [
        "[i for i in Summaries['GoldSummary'][:5]]"
      ]
    },
    {
      "cell_type": "code",
      "execution_count": 28,
      "metadata": {
        "execution": {
          "iopub.execute_input": "2022-05-01T09:55:52.959979Z",
          "iopub.status.busy": "2022-05-01T09:55:52.959101Z",
          "iopub.status.idle": "2022-05-01T09:55:52.966222Z",
          "shell.execute_reply": "2022-05-01T09:55:52.965523Z",
          "shell.execute_reply.started": "2022-05-01T09:55:52.959927Z"
        },
        "colab": {
          "base_uri": "https://localhost:8080/"
        },
        "id": "lxyTkKHeXXW_",
        "outputId": "aacfc16c-75d7-46e8-faff-c0fe32a2e261"
      },
      "outputs": [
        {
          "output_type": "execute_result",
          "data": {
            "text/plain": [
              "['बिहार में विधानसभा चुनावों के लिए बीजेपी और जनता दल यूनाइटेड (जेडीयू) जैसे तीनों घटक राजनीतिक दलों की उम्मीदवारी लड़ने की तैयारी कर रहे हैं.',\n",
              " 'आईसीसी चैम्पियंस ट्रॉफी में अगले महीने भारत और पाकिस्तान के बीच होने वाले मुकाबले में भारत का पलड़ा भारी रहेगा.',\n",
              " 'मिस्र के राष्ट्रपति हुस्नी मुबारक ने सरकार विरोधी प्रदर्शनकारियों के साथ बातचीत शुरू करने का आग्रह किया है.',\n",
              " 'बॉलीवुड की एक्ट्रेस ट्विंकल खन्ना ने एक और ब्लॉग लिखते हुए 11 सवालों के जवाब दिए हैं.',\n",
              " 'अमरीका में लाल बत्ती पर सड़क पार करने पर रोक लगा दी गई है और इसके लिए कई लोगों को जुर्माना लगाया गया है.']"
            ]
          },
          "metadata": {},
          "execution_count": 28
        }
      ],
      "source": [
        "[i for i in Summaries['T5Summary'][:5]]"
      ]
    },
    {
      "cell_type": "code",
      "execution_count": 29,
      "metadata": {
        "execution": {
          "iopub.execute_input": "2022-05-01T09:55:59.893875Z",
          "iopub.status.busy": "2022-05-01T09:55:59.893511Z",
          "iopub.status.idle": "2022-05-01T09:55:59.900719Z",
          "shell.execute_reply": "2022-05-01T09:55:59.899917Z",
          "shell.execute_reply.started": "2022-05-01T09:55:59.893838Z"
        },
        "colab": {
          "base_uri": "https://localhost:8080/"
        },
        "id": "AeZC8FrvXXXA",
        "outputId": "98706877-8406-4bc5-e036-a37a47eedde3"
      },
      "outputs": [
        {
          "output_type": "execute_result",
          "data": {
            "text/plain": [
              "['आगामी लोकसभा चुनाव में राज्य की कुल 40 सीटों में से जिन सीटों पर राष्ट्रीय जनतांत्रिक गठबंधन (एनडीए) के ये तीनों घटक चुनाव लड़ेंगे, उनकी सूची से भी बीजेपी की मजबूरी झलक उठती है. यानी राज्य के मुख्यमंत्री और जेडीयू के अध्यक्ष नीतीश कुमार ने सीटों के चयन में अपने दलीय हित के अनुकूल बीजेपी नेतृत्व को जैसे',\n",
              " 'वेस्टइंडीज के आक्रामक बल्लेबाज क्रिस गेल ने कहा है कि अगले महीने शुरू होने वाली आईसीसी चैम्पियंस ट्रॉफी में भारत और पाकिस्तान के बीच होने वाले मुकाबले में भारत का पलड़ा भारी रहेगा. भारत और पाकिस्तान चार जून को चैम्पियंस ट्रॉफी में आमने सामने होंगे. गेल ने हालांकि भारत और पाकिस्तान को अपनी पसंदीदा टीमें भी बताया.एक कार्यक्रम',\n",
              " 'म्रिस्र के नवनियुक्त उप राष्ट्रपति उमर सुलेमान ने बुधवार को कहा कि वह विपक्ष के साथ तब तक बातचीत नहीं करेंगे जब तक लोग प्रदर्शन बंद कर अपने घरों को नहीं लौटेंगे। समाचार एजेंसी डीपीए के मुताबिक सुलेमान ने कहा \"राष्ट्रपति हुस्नी मुबारक ने विपक्ष के साथ बातचीत शुरू करने का आग्रह किया है लेकिन यह तब तक',\n",
              " 'अकसर अपने ट्वीट्स को लेकर चर्चा में रहने वाली बॉलीवुड के सुपरस्टार अक्षय कुमार की पत्नी ट्विंकल खन्ना समसामयिक मुद्दों पर अपनी बेबाक राय रखने के लिए जानी जाती हैं. वह एक ब्लॉग भी लिखती हैं. हाल में ट्विंकल ने एक वेबसाइट के लिए एक ब्लॉग लिखा है जिसमें उन्होंने विशेषज्ञों द्वारा स्वीकृत योनि से जुड़े',\n",
              " 'कहा जाता है कि अमरीका में 1920 के दशक में मोटर उद्योग की ओर से किए गए प्रचार प्रसार की वजह से रेड लाइट पर सड़क पार करने के कायदे बनाए गए थे. कैलिफोर्निया के व्हीकल कोड में कहा गया है, \"सड़क पर पैदल चल रहा कोई भी व्यक्ति रेड लाइट की ओर सड़क पार करने की कोशिश नहीं करेगा']"
            ]
          },
          "metadata": {},
          "execution_count": 29
        }
      ],
      "source": [
        "[i for i in Summaries['BartSummary'][:5]]"
      ]
    },
    {
      "cell_type": "markdown",
      "metadata": {
        "id": "Ani-CohLXXXA"
      },
      "source": [
        "Note: Plotly plots are not rendering after saving notebook, so I kept same graph as image file."
      ]
    }
  ],
  "metadata": {
    "kernelspec": {
      "display_name": "Python 3",
      "name": "python3"
    },
    "language_info": {
      "codemirror_mode": {
        "name": "ipython",
        "version": 3
      },
      "file_extension": ".py",
      "mimetype": "text/x-python",
      "name": "python",
      "nbconvert_exporter": "python",
      "pygments_lexer": "ipython3",
      "version": "3.8.12"
    },
    "colab": {
      "provenance": [],
      "gpuType": "T4",
      "include_colab_link": true
    },
    "accelerator": "GPU",
    "widgets": {
      "application/vnd.jupyter.widget-state+json": {
        "afafcd9a436e463db848a21cf6cbdd84": {
          "model_module": "@jupyter-widgets/controls",
          "model_name": "HBoxModel",
          "model_module_version": "1.5.0",
          "state": {
            "_dom_classes": [],
            "_model_module": "@jupyter-widgets/controls",
            "_model_module_version": "1.5.0",
            "_model_name": "HBoxModel",
            "_view_count": null,
            "_view_module": "@jupyter-widgets/controls",
            "_view_module_version": "1.5.0",
            "_view_name": "HBoxView",
            "box_style": "",
            "children": [
              "IPY_MODEL_08fbdaf86ad5488fb7ab06397e58c9a9",
              "IPY_MODEL_543df3d6cd2241a2aaede5d56f23b41b",
              "IPY_MODEL_b1d8f5de427f41b4bd3a25cb124a8ce9"
            ],
            "layout": "IPY_MODEL_1b63d87dd87b472b9ac94193eeb6ca0f"
          }
        },
        "08fbdaf86ad5488fb7ab06397e58c9a9": {
          "model_module": "@jupyter-widgets/controls",
          "model_name": "HTMLModel",
          "model_module_version": "1.5.0",
          "state": {
            "_dom_classes": [],
            "_model_module": "@jupyter-widgets/controls",
            "_model_module_version": "1.5.0",
            "_model_name": "HTMLModel",
            "_view_count": null,
            "_view_module": "@jupyter-widgets/controls",
            "_view_module_version": "1.5.0",
            "_view_name": "HTMLView",
            "description": "",
            "description_tooltip": null,
            "layout": "IPY_MODEL_ed512bf7acf44edaba0033d6b7750298",
            "placeholder": "​",
            "style": "IPY_MODEL_2a8a3fd2010a418091176cf3a4640f0f",
            "value": "tokenizer_config.json: 100%"
          }
        },
        "543df3d6cd2241a2aaede5d56f23b41b": {
          "model_module": "@jupyter-widgets/controls",
          "model_name": "FloatProgressModel",
          "model_module_version": "1.5.0",
          "state": {
            "_dom_classes": [],
            "_model_module": "@jupyter-widgets/controls",
            "_model_module_version": "1.5.0",
            "_model_name": "FloatProgressModel",
            "_view_count": null,
            "_view_module": "@jupyter-widgets/controls",
            "_view_module_version": "1.5.0",
            "_view_name": "ProgressView",
            "bar_style": "success",
            "description": "",
            "description_tooltip": null,
            "layout": "IPY_MODEL_adc4b14f1789434091c070a565de9de5",
            "max": 498,
            "min": 0,
            "orientation": "horizontal",
            "style": "IPY_MODEL_a5dfb5dc0bf940a8a9562e3cafae8ad0",
            "value": 498
          }
        },
        "b1d8f5de427f41b4bd3a25cb124a8ce9": {
          "model_module": "@jupyter-widgets/controls",
          "model_name": "HTMLModel",
          "model_module_version": "1.5.0",
          "state": {
            "_dom_classes": [],
            "_model_module": "@jupyter-widgets/controls",
            "_model_module_version": "1.5.0",
            "_model_name": "HTMLModel",
            "_view_count": null,
            "_view_module": "@jupyter-widgets/controls",
            "_view_module_version": "1.5.0",
            "_view_name": "HTMLView",
            "description": "",
            "description_tooltip": null,
            "layout": "IPY_MODEL_2fb52b2b67ec425bafae76706b97ea24",
            "placeholder": "​",
            "style": "IPY_MODEL_9030ff3a6c294f0bad37d75215cd5f74",
            "value": " 498/498 [00:00&lt;00:00, 16.0kB/s]"
          }
        },
        "1b63d87dd87b472b9ac94193eeb6ca0f": {
          "model_module": "@jupyter-widgets/base",
          "model_name": "LayoutModel",
          "model_module_version": "1.2.0",
          "state": {
            "_model_module": "@jupyter-widgets/base",
            "_model_module_version": "1.2.0",
            "_model_name": "LayoutModel",
            "_view_count": null,
            "_view_module": "@jupyter-widgets/base",
            "_view_module_version": "1.2.0",
            "_view_name": "LayoutView",
            "align_content": null,
            "align_items": null,
            "align_self": null,
            "border": null,
            "bottom": null,
            "display": null,
            "flex": null,
            "flex_flow": null,
            "grid_area": null,
            "grid_auto_columns": null,
            "grid_auto_flow": null,
            "grid_auto_rows": null,
            "grid_column": null,
            "grid_gap": null,
            "grid_row": null,
            "grid_template_areas": null,
            "grid_template_columns": null,
            "grid_template_rows": null,
            "height": null,
            "justify_content": null,
            "justify_items": null,
            "left": null,
            "margin": null,
            "max_height": null,
            "max_width": null,
            "min_height": null,
            "min_width": null,
            "object_fit": null,
            "object_position": null,
            "order": null,
            "overflow": null,
            "overflow_x": null,
            "overflow_y": null,
            "padding": null,
            "right": null,
            "top": null,
            "visibility": null,
            "width": null
          }
        },
        "ed512bf7acf44edaba0033d6b7750298": {
          "model_module": "@jupyter-widgets/base",
          "model_name": "LayoutModel",
          "model_module_version": "1.2.0",
          "state": {
            "_model_module": "@jupyter-widgets/base",
            "_model_module_version": "1.2.0",
            "_model_name": "LayoutModel",
            "_view_count": null,
            "_view_module": "@jupyter-widgets/base",
            "_view_module_version": "1.2.0",
            "_view_name": "LayoutView",
            "align_content": null,
            "align_items": null,
            "align_self": null,
            "border": null,
            "bottom": null,
            "display": null,
            "flex": null,
            "flex_flow": null,
            "grid_area": null,
            "grid_auto_columns": null,
            "grid_auto_flow": null,
            "grid_auto_rows": null,
            "grid_column": null,
            "grid_gap": null,
            "grid_row": null,
            "grid_template_areas": null,
            "grid_template_columns": null,
            "grid_template_rows": null,
            "height": null,
            "justify_content": null,
            "justify_items": null,
            "left": null,
            "margin": null,
            "max_height": null,
            "max_width": null,
            "min_height": null,
            "min_width": null,
            "object_fit": null,
            "object_position": null,
            "order": null,
            "overflow": null,
            "overflow_x": null,
            "overflow_y": null,
            "padding": null,
            "right": null,
            "top": null,
            "visibility": null,
            "width": null
          }
        },
        "2a8a3fd2010a418091176cf3a4640f0f": {
          "model_module": "@jupyter-widgets/controls",
          "model_name": "DescriptionStyleModel",
          "model_module_version": "1.5.0",
          "state": {
            "_model_module": "@jupyter-widgets/controls",
            "_model_module_version": "1.5.0",
            "_model_name": "DescriptionStyleModel",
            "_view_count": null,
            "_view_module": "@jupyter-widgets/base",
            "_view_module_version": "1.2.0",
            "_view_name": "StyleView",
            "description_width": ""
          }
        },
        "adc4b14f1789434091c070a565de9de5": {
          "model_module": "@jupyter-widgets/base",
          "model_name": "LayoutModel",
          "model_module_version": "1.2.0",
          "state": {
            "_model_module": "@jupyter-widgets/base",
            "_model_module_version": "1.2.0",
            "_model_name": "LayoutModel",
            "_view_count": null,
            "_view_module": "@jupyter-widgets/base",
            "_view_module_version": "1.2.0",
            "_view_name": "LayoutView",
            "align_content": null,
            "align_items": null,
            "align_self": null,
            "border": null,
            "bottom": null,
            "display": null,
            "flex": null,
            "flex_flow": null,
            "grid_area": null,
            "grid_auto_columns": null,
            "grid_auto_flow": null,
            "grid_auto_rows": null,
            "grid_column": null,
            "grid_gap": null,
            "grid_row": null,
            "grid_template_areas": null,
            "grid_template_columns": null,
            "grid_template_rows": null,
            "height": null,
            "justify_content": null,
            "justify_items": null,
            "left": null,
            "margin": null,
            "max_height": null,
            "max_width": null,
            "min_height": null,
            "min_width": null,
            "object_fit": null,
            "object_position": null,
            "order": null,
            "overflow": null,
            "overflow_x": null,
            "overflow_y": null,
            "padding": null,
            "right": null,
            "top": null,
            "visibility": null,
            "width": null
          }
        },
        "a5dfb5dc0bf940a8a9562e3cafae8ad0": {
          "model_module": "@jupyter-widgets/controls",
          "model_name": "ProgressStyleModel",
          "model_module_version": "1.5.0",
          "state": {
            "_model_module": "@jupyter-widgets/controls",
            "_model_module_version": "1.5.0",
            "_model_name": "ProgressStyleModel",
            "_view_count": null,
            "_view_module": "@jupyter-widgets/base",
            "_view_module_version": "1.2.0",
            "_view_name": "StyleView",
            "bar_color": null,
            "description_width": ""
          }
        },
        "2fb52b2b67ec425bafae76706b97ea24": {
          "model_module": "@jupyter-widgets/base",
          "model_name": "LayoutModel",
          "model_module_version": "1.2.0",
          "state": {
            "_model_module": "@jupyter-widgets/base",
            "_model_module_version": "1.2.0",
            "_model_name": "LayoutModel",
            "_view_count": null,
            "_view_module": "@jupyter-widgets/base",
            "_view_module_version": "1.2.0",
            "_view_name": "LayoutView",
            "align_content": null,
            "align_items": null,
            "align_self": null,
            "border": null,
            "bottom": null,
            "display": null,
            "flex": null,
            "flex_flow": null,
            "grid_area": null,
            "grid_auto_columns": null,
            "grid_auto_flow": null,
            "grid_auto_rows": null,
            "grid_column": null,
            "grid_gap": null,
            "grid_row": null,
            "grid_template_areas": null,
            "grid_template_columns": null,
            "grid_template_rows": null,
            "height": null,
            "justify_content": null,
            "justify_items": null,
            "left": null,
            "margin": null,
            "max_height": null,
            "max_width": null,
            "min_height": null,
            "min_width": null,
            "object_fit": null,
            "object_position": null,
            "order": null,
            "overflow": null,
            "overflow_x": null,
            "overflow_y": null,
            "padding": null,
            "right": null,
            "top": null,
            "visibility": null,
            "width": null
          }
        },
        "9030ff3a6c294f0bad37d75215cd5f74": {
          "model_module": "@jupyter-widgets/controls",
          "model_name": "DescriptionStyleModel",
          "model_module_version": "1.5.0",
          "state": {
            "_model_module": "@jupyter-widgets/controls",
            "_model_module_version": "1.5.0",
            "_model_name": "DescriptionStyleModel",
            "_view_count": null,
            "_view_module": "@jupyter-widgets/base",
            "_view_module_version": "1.2.0",
            "_view_name": "StyleView",
            "description_width": ""
          }
        },
        "06c7040394ef42daae8ee2c0d7bfbc07": {
          "model_module": "@jupyter-widgets/controls",
          "model_name": "HBoxModel",
          "model_module_version": "1.5.0",
          "state": {
            "_dom_classes": [],
            "_model_module": "@jupyter-widgets/controls",
            "_model_module_version": "1.5.0",
            "_model_name": "HBoxModel",
            "_view_count": null,
            "_view_module": "@jupyter-widgets/controls",
            "_view_module_version": "1.5.0",
            "_view_name": "HBoxView",
            "box_style": "",
            "children": [
              "IPY_MODEL_b75fd3022b5e45fd8898b6b4c332c296",
              "IPY_MODEL_9cde921b4cde42329ea59419ad7bea64",
              "IPY_MODEL_8c7a866a117f44298207eb33b52e5067"
            ],
            "layout": "IPY_MODEL_d1b20b9e9648454b825518f0b35e76a5"
          }
        },
        "b75fd3022b5e45fd8898b6b4c332c296": {
          "model_module": "@jupyter-widgets/controls",
          "model_name": "HTMLModel",
          "model_module_version": "1.5.0",
          "state": {
            "_dom_classes": [],
            "_model_module": "@jupyter-widgets/controls",
            "_model_module_version": "1.5.0",
            "_model_name": "HTMLModel",
            "_view_count": null,
            "_view_module": "@jupyter-widgets/controls",
            "_view_module_version": "1.5.0",
            "_view_name": "HTMLView",
            "description": "",
            "description_tooltip": null,
            "layout": "IPY_MODEL_fce2b0c3e6df42a29220cf6807b0aebc",
            "placeholder": "​",
            "style": "IPY_MODEL_08f27a88207e4400aa286752e33f1932",
            "value": "config.json: 100%"
          }
        },
        "9cde921b4cde42329ea59419ad7bea64": {
          "model_module": "@jupyter-widgets/controls",
          "model_name": "FloatProgressModel",
          "model_module_version": "1.5.0",
          "state": {
            "_dom_classes": [],
            "_model_module": "@jupyter-widgets/controls",
            "_model_module_version": "1.5.0",
            "_model_name": "FloatProgressModel",
            "_view_count": null,
            "_view_module": "@jupyter-widgets/controls",
            "_view_module_version": "1.5.0",
            "_view_name": "ProgressView",
            "bar_style": "success",
            "description": "",
            "description_tooltip": null,
            "layout": "IPY_MODEL_b524c0c926bf4c74bd94ed4fbd92ad31",
            "max": 832,
            "min": 0,
            "orientation": "horizontal",
            "style": "IPY_MODEL_2ad71b036c46434e84306f21026be4e8",
            "value": 832
          }
        },
        "8c7a866a117f44298207eb33b52e5067": {
          "model_module": "@jupyter-widgets/controls",
          "model_name": "HTMLModel",
          "model_module_version": "1.5.0",
          "state": {
            "_dom_classes": [],
            "_model_module": "@jupyter-widgets/controls",
            "_model_module_version": "1.5.0",
            "_model_name": "HTMLModel",
            "_view_count": null,
            "_view_module": "@jupyter-widgets/controls",
            "_view_module_version": "1.5.0",
            "_view_name": "HTMLView",
            "description": "",
            "description_tooltip": null,
            "layout": "IPY_MODEL_31f3b48d282c4c17a0115d1ed751af2b",
            "placeholder": "​",
            "style": "IPY_MODEL_7d203ad5f0504f4c9accab36f0c1b5c2",
            "value": " 832/832 [00:00&lt;00:00, 24.3kB/s]"
          }
        },
        "d1b20b9e9648454b825518f0b35e76a5": {
          "model_module": "@jupyter-widgets/base",
          "model_name": "LayoutModel",
          "model_module_version": "1.2.0",
          "state": {
            "_model_module": "@jupyter-widgets/base",
            "_model_module_version": "1.2.0",
            "_model_name": "LayoutModel",
            "_view_count": null,
            "_view_module": "@jupyter-widgets/base",
            "_view_module_version": "1.2.0",
            "_view_name": "LayoutView",
            "align_content": null,
            "align_items": null,
            "align_self": null,
            "border": null,
            "bottom": null,
            "display": null,
            "flex": null,
            "flex_flow": null,
            "grid_area": null,
            "grid_auto_columns": null,
            "grid_auto_flow": null,
            "grid_auto_rows": null,
            "grid_column": null,
            "grid_gap": null,
            "grid_row": null,
            "grid_template_areas": null,
            "grid_template_columns": null,
            "grid_template_rows": null,
            "height": null,
            "justify_content": null,
            "justify_items": null,
            "left": null,
            "margin": null,
            "max_height": null,
            "max_width": null,
            "min_height": null,
            "min_width": null,
            "object_fit": null,
            "object_position": null,
            "order": null,
            "overflow": null,
            "overflow_x": null,
            "overflow_y": null,
            "padding": null,
            "right": null,
            "top": null,
            "visibility": null,
            "width": null
          }
        },
        "fce2b0c3e6df42a29220cf6807b0aebc": {
          "model_module": "@jupyter-widgets/base",
          "model_name": "LayoutModel",
          "model_module_version": "1.2.0",
          "state": {
            "_model_module": "@jupyter-widgets/base",
            "_model_module_version": "1.2.0",
            "_model_name": "LayoutModel",
            "_view_count": null,
            "_view_module": "@jupyter-widgets/base",
            "_view_module_version": "1.2.0",
            "_view_name": "LayoutView",
            "align_content": null,
            "align_items": null,
            "align_self": null,
            "border": null,
            "bottom": null,
            "display": null,
            "flex": null,
            "flex_flow": null,
            "grid_area": null,
            "grid_auto_columns": null,
            "grid_auto_flow": null,
            "grid_auto_rows": null,
            "grid_column": null,
            "grid_gap": null,
            "grid_row": null,
            "grid_template_areas": null,
            "grid_template_columns": null,
            "grid_template_rows": null,
            "height": null,
            "justify_content": null,
            "justify_items": null,
            "left": null,
            "margin": null,
            "max_height": null,
            "max_width": null,
            "min_height": null,
            "min_width": null,
            "object_fit": null,
            "object_position": null,
            "order": null,
            "overflow": null,
            "overflow_x": null,
            "overflow_y": null,
            "padding": null,
            "right": null,
            "top": null,
            "visibility": null,
            "width": null
          }
        },
        "08f27a88207e4400aa286752e33f1932": {
          "model_module": "@jupyter-widgets/controls",
          "model_name": "DescriptionStyleModel",
          "model_module_version": "1.5.0",
          "state": {
            "_model_module": "@jupyter-widgets/controls",
            "_model_module_version": "1.5.0",
            "_model_name": "DescriptionStyleModel",
            "_view_count": null,
            "_view_module": "@jupyter-widgets/base",
            "_view_module_version": "1.2.0",
            "_view_name": "StyleView",
            "description_width": ""
          }
        },
        "b524c0c926bf4c74bd94ed4fbd92ad31": {
          "model_module": "@jupyter-widgets/base",
          "model_name": "LayoutModel",
          "model_module_version": "1.2.0",
          "state": {
            "_model_module": "@jupyter-widgets/base",
            "_model_module_version": "1.2.0",
            "_model_name": "LayoutModel",
            "_view_count": null,
            "_view_module": "@jupyter-widgets/base",
            "_view_module_version": "1.2.0",
            "_view_name": "LayoutView",
            "align_content": null,
            "align_items": null,
            "align_self": null,
            "border": null,
            "bottom": null,
            "display": null,
            "flex": null,
            "flex_flow": null,
            "grid_area": null,
            "grid_auto_columns": null,
            "grid_auto_flow": null,
            "grid_auto_rows": null,
            "grid_column": null,
            "grid_gap": null,
            "grid_row": null,
            "grid_template_areas": null,
            "grid_template_columns": null,
            "grid_template_rows": null,
            "height": null,
            "justify_content": null,
            "justify_items": null,
            "left": null,
            "margin": null,
            "max_height": null,
            "max_width": null,
            "min_height": null,
            "min_width": null,
            "object_fit": null,
            "object_position": null,
            "order": null,
            "overflow": null,
            "overflow_x": null,
            "overflow_y": null,
            "padding": null,
            "right": null,
            "top": null,
            "visibility": null,
            "width": null
          }
        },
        "2ad71b036c46434e84306f21026be4e8": {
          "model_module": "@jupyter-widgets/controls",
          "model_name": "ProgressStyleModel",
          "model_module_version": "1.5.0",
          "state": {
            "_model_module": "@jupyter-widgets/controls",
            "_model_module_version": "1.5.0",
            "_model_name": "ProgressStyleModel",
            "_view_count": null,
            "_view_module": "@jupyter-widgets/base",
            "_view_module_version": "1.2.0",
            "_view_name": "StyleView",
            "bar_color": null,
            "description_width": ""
          }
        },
        "31f3b48d282c4c17a0115d1ed751af2b": {
          "model_module": "@jupyter-widgets/base",
          "model_name": "LayoutModel",
          "model_module_version": "1.2.0",
          "state": {
            "_model_module": "@jupyter-widgets/base",
            "_model_module_version": "1.2.0",
            "_model_name": "LayoutModel",
            "_view_count": null,
            "_view_module": "@jupyter-widgets/base",
            "_view_module_version": "1.2.0",
            "_view_name": "LayoutView",
            "align_content": null,
            "align_items": null,
            "align_self": null,
            "border": null,
            "bottom": null,
            "display": null,
            "flex": null,
            "flex_flow": null,
            "grid_area": null,
            "grid_auto_columns": null,
            "grid_auto_flow": null,
            "grid_auto_rows": null,
            "grid_column": null,
            "grid_gap": null,
            "grid_row": null,
            "grid_template_areas": null,
            "grid_template_columns": null,
            "grid_template_rows": null,
            "height": null,
            "justify_content": null,
            "justify_items": null,
            "left": null,
            "margin": null,
            "max_height": null,
            "max_width": null,
            "min_height": null,
            "min_width": null,
            "object_fit": null,
            "object_position": null,
            "order": null,
            "overflow": null,
            "overflow_x": null,
            "overflow_y": null,
            "padding": null,
            "right": null,
            "top": null,
            "visibility": null,
            "width": null
          }
        },
        "7d203ad5f0504f4c9accab36f0c1b5c2": {
          "model_module": "@jupyter-widgets/controls",
          "model_name": "DescriptionStyleModel",
          "model_module_version": "1.5.0",
          "state": {
            "_model_module": "@jupyter-widgets/controls",
            "_model_module_version": "1.5.0",
            "_model_name": "DescriptionStyleModel",
            "_view_count": null,
            "_view_module": "@jupyter-widgets/base",
            "_view_module_version": "1.2.0",
            "_view_name": "StyleView",
            "description_width": ""
          }
        },
        "f8286762cb7d4feea14bf9773e9c9d8f": {
          "model_module": "@jupyter-widgets/controls",
          "model_name": "HBoxModel",
          "model_module_version": "1.5.0",
          "state": {
            "_dom_classes": [],
            "_model_module": "@jupyter-widgets/controls",
            "_model_module_version": "1.5.0",
            "_model_name": "HBoxModel",
            "_view_count": null,
            "_view_module": "@jupyter-widgets/controls",
            "_view_module_version": "1.5.0",
            "_view_name": "HBoxView",
            "box_style": "",
            "children": [
              "IPY_MODEL_9d4c0a7aa20f46db84e0e13787c935d4",
              "IPY_MODEL_6df660ed7f41462bb39eb0226ba07017",
              "IPY_MODEL_39fbde2948634589b27dcf71a1ac5b81"
            ],
            "layout": "IPY_MODEL_3aad1b46303a441591a4170bd843dd93"
          }
        },
        "9d4c0a7aa20f46db84e0e13787c935d4": {
          "model_module": "@jupyter-widgets/controls",
          "model_name": "HTMLModel",
          "model_module_version": "1.5.0",
          "state": {
            "_dom_classes": [],
            "_model_module": "@jupyter-widgets/controls",
            "_model_module_version": "1.5.0",
            "_model_name": "HTMLModel",
            "_view_count": null,
            "_view_module": "@jupyter-widgets/controls",
            "_view_module_version": "1.5.0",
            "_view_name": "HTMLView",
            "description": "",
            "description_tooltip": null,
            "layout": "IPY_MODEL_76ef6ac517df48e1a19930d19feba6dc",
            "placeholder": "​",
            "style": "IPY_MODEL_b3ef9f596ec84fc189519611d5f1a2f0",
            "value": "spiece.model: 100%"
          }
        },
        "6df660ed7f41462bb39eb0226ba07017": {
          "model_module": "@jupyter-widgets/controls",
          "model_name": "FloatProgressModel",
          "model_module_version": "1.5.0",
          "state": {
            "_dom_classes": [],
            "_model_module": "@jupyter-widgets/controls",
            "_model_module_version": "1.5.0",
            "_model_name": "FloatProgressModel",
            "_view_count": null,
            "_view_module": "@jupyter-widgets/controls",
            "_view_module_version": "1.5.0",
            "_view_name": "ProgressView",
            "bar_style": "success",
            "description": "",
            "description_tooltip": null,
            "layout": "IPY_MODEL_945eff63d3994d1198112273cce4089d",
            "max": 1898704,
            "min": 0,
            "orientation": "horizontal",
            "style": "IPY_MODEL_71fbf8e04610481fa10a4e45d39d2fca",
            "value": 1898704
          }
        },
        "39fbde2948634589b27dcf71a1ac5b81": {
          "model_module": "@jupyter-widgets/controls",
          "model_name": "HTMLModel",
          "model_module_version": "1.5.0",
          "state": {
            "_dom_classes": [],
            "_model_module": "@jupyter-widgets/controls",
            "_model_module_version": "1.5.0",
            "_model_name": "HTMLModel",
            "_view_count": null,
            "_view_module": "@jupyter-widgets/controls",
            "_view_module_version": "1.5.0",
            "_view_name": "HTMLView",
            "description": "",
            "description_tooltip": null,
            "layout": "IPY_MODEL_1ea086ce96d84887ae3aeb8192c18f1c",
            "placeholder": "​",
            "style": "IPY_MODEL_cbd5b54eb4dd4ee08d32fd32cd11d5f8",
            "value": " 1.90M/1.90M [00:00&lt;00:00, 7.54MB/s]"
          }
        },
        "3aad1b46303a441591a4170bd843dd93": {
          "model_module": "@jupyter-widgets/base",
          "model_name": "LayoutModel",
          "model_module_version": "1.2.0",
          "state": {
            "_model_module": "@jupyter-widgets/base",
            "_model_module_version": "1.2.0",
            "_model_name": "LayoutModel",
            "_view_count": null,
            "_view_module": "@jupyter-widgets/base",
            "_view_module_version": "1.2.0",
            "_view_name": "LayoutView",
            "align_content": null,
            "align_items": null,
            "align_self": null,
            "border": null,
            "bottom": null,
            "display": null,
            "flex": null,
            "flex_flow": null,
            "grid_area": null,
            "grid_auto_columns": null,
            "grid_auto_flow": null,
            "grid_auto_rows": null,
            "grid_column": null,
            "grid_gap": null,
            "grid_row": null,
            "grid_template_areas": null,
            "grid_template_columns": null,
            "grid_template_rows": null,
            "height": null,
            "justify_content": null,
            "justify_items": null,
            "left": null,
            "margin": null,
            "max_height": null,
            "max_width": null,
            "min_height": null,
            "min_width": null,
            "object_fit": null,
            "object_position": null,
            "order": null,
            "overflow": null,
            "overflow_x": null,
            "overflow_y": null,
            "padding": null,
            "right": null,
            "top": null,
            "visibility": null,
            "width": null
          }
        },
        "76ef6ac517df48e1a19930d19feba6dc": {
          "model_module": "@jupyter-widgets/base",
          "model_name": "LayoutModel",
          "model_module_version": "1.2.0",
          "state": {
            "_model_module": "@jupyter-widgets/base",
            "_model_module_version": "1.2.0",
            "_model_name": "LayoutModel",
            "_view_count": null,
            "_view_module": "@jupyter-widgets/base",
            "_view_module_version": "1.2.0",
            "_view_name": "LayoutView",
            "align_content": null,
            "align_items": null,
            "align_self": null,
            "border": null,
            "bottom": null,
            "display": null,
            "flex": null,
            "flex_flow": null,
            "grid_area": null,
            "grid_auto_columns": null,
            "grid_auto_flow": null,
            "grid_auto_rows": null,
            "grid_column": null,
            "grid_gap": null,
            "grid_row": null,
            "grid_template_areas": null,
            "grid_template_columns": null,
            "grid_template_rows": null,
            "height": null,
            "justify_content": null,
            "justify_items": null,
            "left": null,
            "margin": null,
            "max_height": null,
            "max_width": null,
            "min_height": null,
            "min_width": null,
            "object_fit": null,
            "object_position": null,
            "order": null,
            "overflow": null,
            "overflow_x": null,
            "overflow_y": null,
            "padding": null,
            "right": null,
            "top": null,
            "visibility": null,
            "width": null
          }
        },
        "b3ef9f596ec84fc189519611d5f1a2f0": {
          "model_module": "@jupyter-widgets/controls",
          "model_name": "DescriptionStyleModel",
          "model_module_version": "1.5.0",
          "state": {
            "_model_module": "@jupyter-widgets/controls",
            "_model_module_version": "1.5.0",
            "_model_name": "DescriptionStyleModel",
            "_view_count": null,
            "_view_module": "@jupyter-widgets/base",
            "_view_module_version": "1.2.0",
            "_view_name": "StyleView",
            "description_width": ""
          }
        },
        "945eff63d3994d1198112273cce4089d": {
          "model_module": "@jupyter-widgets/base",
          "model_name": "LayoutModel",
          "model_module_version": "1.2.0",
          "state": {
            "_model_module": "@jupyter-widgets/base",
            "_model_module_version": "1.2.0",
            "_model_name": "LayoutModel",
            "_view_count": null,
            "_view_module": "@jupyter-widgets/base",
            "_view_module_version": "1.2.0",
            "_view_name": "LayoutView",
            "align_content": null,
            "align_items": null,
            "align_self": null,
            "border": null,
            "bottom": null,
            "display": null,
            "flex": null,
            "flex_flow": null,
            "grid_area": null,
            "grid_auto_columns": null,
            "grid_auto_flow": null,
            "grid_auto_rows": null,
            "grid_column": null,
            "grid_gap": null,
            "grid_row": null,
            "grid_template_areas": null,
            "grid_template_columns": null,
            "grid_template_rows": null,
            "height": null,
            "justify_content": null,
            "justify_items": null,
            "left": null,
            "margin": null,
            "max_height": null,
            "max_width": null,
            "min_height": null,
            "min_width": null,
            "object_fit": null,
            "object_position": null,
            "order": null,
            "overflow": null,
            "overflow_x": null,
            "overflow_y": null,
            "padding": null,
            "right": null,
            "top": null,
            "visibility": null,
            "width": null
          }
        },
        "71fbf8e04610481fa10a4e45d39d2fca": {
          "model_module": "@jupyter-widgets/controls",
          "model_name": "ProgressStyleModel",
          "model_module_version": "1.5.0",
          "state": {
            "_model_module": "@jupyter-widgets/controls",
            "_model_module_version": "1.5.0",
            "_model_name": "ProgressStyleModel",
            "_view_count": null,
            "_view_module": "@jupyter-widgets/base",
            "_view_module_version": "1.2.0",
            "_view_name": "StyleView",
            "bar_color": null,
            "description_width": ""
          }
        },
        "1ea086ce96d84887ae3aeb8192c18f1c": {
          "model_module": "@jupyter-widgets/base",
          "model_name": "LayoutModel",
          "model_module_version": "1.2.0",
          "state": {
            "_model_module": "@jupyter-widgets/base",
            "_model_module_version": "1.2.0",
            "_model_name": "LayoutModel",
            "_view_count": null,
            "_view_module": "@jupyter-widgets/base",
            "_view_module_version": "1.2.0",
            "_view_name": "LayoutView",
            "align_content": null,
            "align_items": null,
            "align_self": null,
            "border": null,
            "bottom": null,
            "display": null,
            "flex": null,
            "flex_flow": null,
            "grid_area": null,
            "grid_auto_columns": null,
            "grid_auto_flow": null,
            "grid_auto_rows": null,
            "grid_column": null,
            "grid_gap": null,
            "grid_row": null,
            "grid_template_areas": null,
            "grid_template_columns": null,
            "grid_template_rows": null,
            "height": null,
            "justify_content": null,
            "justify_items": null,
            "left": null,
            "margin": null,
            "max_height": null,
            "max_width": null,
            "min_height": null,
            "min_width": null,
            "object_fit": null,
            "object_position": null,
            "order": null,
            "overflow": null,
            "overflow_x": null,
            "overflow_y": null,
            "padding": null,
            "right": null,
            "top": null,
            "visibility": null,
            "width": null
          }
        },
        "cbd5b54eb4dd4ee08d32fd32cd11d5f8": {
          "model_module": "@jupyter-widgets/controls",
          "model_name": "DescriptionStyleModel",
          "model_module_version": "1.5.0",
          "state": {
            "_model_module": "@jupyter-widgets/controls",
            "_model_module_version": "1.5.0",
            "_model_name": "DescriptionStyleModel",
            "_view_count": null,
            "_view_module": "@jupyter-widgets/base",
            "_view_module_version": "1.2.0",
            "_view_name": "StyleView",
            "description_width": ""
          }
        },
        "8e06bcd9ad4c4a3c82e48c463e65823a": {
          "model_module": "@jupyter-widgets/controls",
          "model_name": "HBoxModel",
          "model_module_version": "1.5.0",
          "state": {
            "_dom_classes": [],
            "_model_module": "@jupyter-widgets/controls",
            "_model_module_version": "1.5.0",
            "_model_name": "HBoxModel",
            "_view_count": null,
            "_view_module": "@jupyter-widgets/controls",
            "_view_module_version": "1.5.0",
            "_view_name": "HBoxView",
            "box_style": "",
            "children": [
              "IPY_MODEL_5cebab519a43484c8cb9bde3fdd70479",
              "IPY_MODEL_1d660ad55a4e4457932d8f6399e021c9",
              "IPY_MODEL_a093c9b0719445f18f261f1d99cb69d8"
            ],
            "layout": "IPY_MODEL_5415aa75d2d147549a4c52b727f49de4"
          }
        },
        "5cebab519a43484c8cb9bde3fdd70479": {
          "model_module": "@jupyter-widgets/controls",
          "model_name": "HTMLModel",
          "model_module_version": "1.5.0",
          "state": {
            "_dom_classes": [],
            "_model_module": "@jupyter-widgets/controls",
            "_model_module_version": "1.5.0",
            "_model_name": "HTMLModel",
            "_view_count": null,
            "_view_module": "@jupyter-widgets/controls",
            "_view_module_version": "1.5.0",
            "_view_name": "HTMLView",
            "description": "",
            "description_tooltip": null,
            "layout": "IPY_MODEL_cdfdb9da7cee40ab884140293ef3f66a",
            "placeholder": "​",
            "style": "IPY_MODEL_a1134167f81a4b37a6eed92a7b2274e7",
            "value": "added_tokens.json: 100%"
          }
        },
        "1d660ad55a4e4457932d8f6399e021c9": {
          "model_module": "@jupyter-widgets/controls",
          "model_name": "FloatProgressModel",
          "model_module_version": "1.5.0",
          "state": {
            "_dom_classes": [],
            "_model_module": "@jupyter-widgets/controls",
            "_model_module_version": "1.5.0",
            "_model_name": "FloatProgressModel",
            "_view_count": null,
            "_view_module": "@jupyter-widgets/controls",
            "_view_module_version": "1.5.0",
            "_view_name": "ProgressView",
            "bar_style": "success",
            "description": "",
            "description_tooltip": null,
            "layout": "IPY_MODEL_45ec8e4bc2a24abaae6f9cfc2261c718",
            "max": 221,
            "min": 0,
            "orientation": "horizontal",
            "style": "IPY_MODEL_0b95a8ae304a4e27a0b2044b86d3ab4e",
            "value": 221
          }
        },
        "a093c9b0719445f18f261f1d99cb69d8": {
          "model_module": "@jupyter-widgets/controls",
          "model_name": "HTMLModel",
          "model_module_version": "1.5.0",
          "state": {
            "_dom_classes": [],
            "_model_module": "@jupyter-widgets/controls",
            "_model_module_version": "1.5.0",
            "_model_name": "HTMLModel",
            "_view_count": null,
            "_view_module": "@jupyter-widgets/controls",
            "_view_module_version": "1.5.0",
            "_view_name": "HTMLView",
            "description": "",
            "description_tooltip": null,
            "layout": "IPY_MODEL_5a7b469677d9430eacc0402eab04b927",
            "placeholder": "​",
            "style": "IPY_MODEL_3b9795b91cab45c98409af25795ea132",
            "value": " 221/221 [00:00&lt;00:00, 7.10kB/s]"
          }
        },
        "5415aa75d2d147549a4c52b727f49de4": {
          "model_module": "@jupyter-widgets/base",
          "model_name": "LayoutModel",
          "model_module_version": "1.2.0",
          "state": {
            "_model_module": "@jupyter-widgets/base",
            "_model_module_version": "1.2.0",
            "_model_name": "LayoutModel",
            "_view_count": null,
            "_view_module": "@jupyter-widgets/base",
            "_view_module_version": "1.2.0",
            "_view_name": "LayoutView",
            "align_content": null,
            "align_items": null,
            "align_self": null,
            "border": null,
            "bottom": null,
            "display": null,
            "flex": null,
            "flex_flow": null,
            "grid_area": null,
            "grid_auto_columns": null,
            "grid_auto_flow": null,
            "grid_auto_rows": null,
            "grid_column": null,
            "grid_gap": null,
            "grid_row": null,
            "grid_template_areas": null,
            "grid_template_columns": null,
            "grid_template_rows": null,
            "height": null,
            "justify_content": null,
            "justify_items": null,
            "left": null,
            "margin": null,
            "max_height": null,
            "max_width": null,
            "min_height": null,
            "min_width": null,
            "object_fit": null,
            "object_position": null,
            "order": null,
            "overflow": null,
            "overflow_x": null,
            "overflow_y": null,
            "padding": null,
            "right": null,
            "top": null,
            "visibility": null,
            "width": null
          }
        },
        "cdfdb9da7cee40ab884140293ef3f66a": {
          "model_module": "@jupyter-widgets/base",
          "model_name": "LayoutModel",
          "model_module_version": "1.2.0",
          "state": {
            "_model_module": "@jupyter-widgets/base",
            "_model_module_version": "1.2.0",
            "_model_name": "LayoutModel",
            "_view_count": null,
            "_view_module": "@jupyter-widgets/base",
            "_view_module_version": "1.2.0",
            "_view_name": "LayoutView",
            "align_content": null,
            "align_items": null,
            "align_self": null,
            "border": null,
            "bottom": null,
            "display": null,
            "flex": null,
            "flex_flow": null,
            "grid_area": null,
            "grid_auto_columns": null,
            "grid_auto_flow": null,
            "grid_auto_rows": null,
            "grid_column": null,
            "grid_gap": null,
            "grid_row": null,
            "grid_template_areas": null,
            "grid_template_columns": null,
            "grid_template_rows": null,
            "height": null,
            "justify_content": null,
            "justify_items": null,
            "left": null,
            "margin": null,
            "max_height": null,
            "max_width": null,
            "min_height": null,
            "min_width": null,
            "object_fit": null,
            "object_position": null,
            "order": null,
            "overflow": null,
            "overflow_x": null,
            "overflow_y": null,
            "padding": null,
            "right": null,
            "top": null,
            "visibility": null,
            "width": null
          }
        },
        "a1134167f81a4b37a6eed92a7b2274e7": {
          "model_module": "@jupyter-widgets/controls",
          "model_name": "DescriptionStyleModel",
          "model_module_version": "1.5.0",
          "state": {
            "_model_module": "@jupyter-widgets/controls",
            "_model_module_version": "1.5.0",
            "_model_name": "DescriptionStyleModel",
            "_view_count": null,
            "_view_module": "@jupyter-widgets/base",
            "_view_module_version": "1.2.0",
            "_view_name": "StyleView",
            "description_width": ""
          }
        },
        "45ec8e4bc2a24abaae6f9cfc2261c718": {
          "model_module": "@jupyter-widgets/base",
          "model_name": "LayoutModel",
          "model_module_version": "1.2.0",
          "state": {
            "_model_module": "@jupyter-widgets/base",
            "_model_module_version": "1.2.0",
            "_model_name": "LayoutModel",
            "_view_count": null,
            "_view_module": "@jupyter-widgets/base",
            "_view_module_version": "1.2.0",
            "_view_name": "LayoutView",
            "align_content": null,
            "align_items": null,
            "align_self": null,
            "border": null,
            "bottom": null,
            "display": null,
            "flex": null,
            "flex_flow": null,
            "grid_area": null,
            "grid_auto_columns": null,
            "grid_auto_flow": null,
            "grid_auto_rows": null,
            "grid_column": null,
            "grid_gap": null,
            "grid_row": null,
            "grid_template_areas": null,
            "grid_template_columns": null,
            "grid_template_rows": null,
            "height": null,
            "justify_content": null,
            "justify_items": null,
            "left": null,
            "margin": null,
            "max_height": null,
            "max_width": null,
            "min_height": null,
            "min_width": null,
            "object_fit": null,
            "object_position": null,
            "order": null,
            "overflow": null,
            "overflow_x": null,
            "overflow_y": null,
            "padding": null,
            "right": null,
            "top": null,
            "visibility": null,
            "width": null
          }
        },
        "0b95a8ae304a4e27a0b2044b86d3ab4e": {
          "model_module": "@jupyter-widgets/controls",
          "model_name": "ProgressStyleModel",
          "model_module_version": "1.5.0",
          "state": {
            "_model_module": "@jupyter-widgets/controls",
            "_model_module_version": "1.5.0",
            "_model_name": "ProgressStyleModel",
            "_view_count": null,
            "_view_module": "@jupyter-widgets/base",
            "_view_module_version": "1.2.0",
            "_view_name": "StyleView",
            "bar_color": null,
            "description_width": ""
          }
        },
        "5a7b469677d9430eacc0402eab04b927": {
          "model_module": "@jupyter-widgets/base",
          "model_name": "LayoutModel",
          "model_module_version": "1.2.0",
          "state": {
            "_model_module": "@jupyter-widgets/base",
            "_model_module_version": "1.2.0",
            "_model_name": "LayoutModel",
            "_view_count": null,
            "_view_module": "@jupyter-widgets/base",
            "_view_module_version": "1.2.0",
            "_view_name": "LayoutView",
            "align_content": null,
            "align_items": null,
            "align_self": null,
            "border": null,
            "bottom": null,
            "display": null,
            "flex": null,
            "flex_flow": null,
            "grid_area": null,
            "grid_auto_columns": null,
            "grid_auto_flow": null,
            "grid_auto_rows": null,
            "grid_column": null,
            "grid_gap": null,
            "grid_row": null,
            "grid_template_areas": null,
            "grid_template_columns": null,
            "grid_template_rows": null,
            "height": null,
            "justify_content": null,
            "justify_items": null,
            "left": null,
            "margin": null,
            "max_height": null,
            "max_width": null,
            "min_height": null,
            "min_width": null,
            "object_fit": null,
            "object_position": null,
            "order": null,
            "overflow": null,
            "overflow_x": null,
            "overflow_y": null,
            "padding": null,
            "right": null,
            "top": null,
            "visibility": null,
            "width": null
          }
        },
        "3b9795b91cab45c98409af25795ea132": {
          "model_module": "@jupyter-widgets/controls",
          "model_name": "DescriptionStyleModel",
          "model_module_version": "1.5.0",
          "state": {
            "_model_module": "@jupyter-widgets/controls",
            "_model_module_version": "1.5.0",
            "_model_name": "DescriptionStyleModel",
            "_view_count": null,
            "_view_module": "@jupyter-widgets/base",
            "_view_module_version": "1.2.0",
            "_view_name": "StyleView",
            "description_width": ""
          }
        },
        "6e4df14d059f4b7e92679fb1f838003b": {
          "model_module": "@jupyter-widgets/controls",
          "model_name": "HBoxModel",
          "model_module_version": "1.5.0",
          "state": {
            "_dom_classes": [],
            "_model_module": "@jupyter-widgets/controls",
            "_model_module_version": "1.5.0",
            "_model_name": "HBoxModel",
            "_view_count": null,
            "_view_module": "@jupyter-widgets/controls",
            "_view_module_version": "1.5.0",
            "_view_name": "HBoxView",
            "box_style": "",
            "children": [
              "IPY_MODEL_6e1b26e0303849719cf2c5626078e7ef",
              "IPY_MODEL_2e4d744ddcfe4afab22af933add46647",
              "IPY_MODEL_fbcdaa22ee89465f84f5a00c7d627e82"
            ],
            "layout": "IPY_MODEL_b537bf2c900049b4b70e210cabc3dea3"
          }
        },
        "6e1b26e0303849719cf2c5626078e7ef": {
          "model_module": "@jupyter-widgets/controls",
          "model_name": "HTMLModel",
          "model_module_version": "1.5.0",
          "state": {
            "_dom_classes": [],
            "_model_module": "@jupyter-widgets/controls",
            "_model_module_version": "1.5.0",
            "_model_name": "HTMLModel",
            "_view_count": null,
            "_view_module": "@jupyter-widgets/controls",
            "_view_module_version": "1.5.0",
            "_view_name": "HTMLView",
            "description": "",
            "description_tooltip": null,
            "layout": "IPY_MODEL_bf86b11722434ba4893236d0a6b3e637",
            "placeholder": "​",
            "style": "IPY_MODEL_e7531162380040e9b3e49b9984892e98",
            "value": "special_tokens_map.json: 100%"
          }
        },
        "2e4d744ddcfe4afab22af933add46647": {
          "model_module": "@jupyter-widgets/controls",
          "model_name": "FloatProgressModel",
          "model_module_version": "1.5.0",
          "state": {
            "_dom_classes": [],
            "_model_module": "@jupyter-widgets/controls",
            "_model_module_version": "1.5.0",
            "_model_name": "FloatProgressModel",
            "_view_count": null,
            "_view_module": "@jupyter-widgets/controls",
            "_view_module_version": "1.5.0",
            "_view_name": "ProgressView",
            "bar_style": "success",
            "description": "",
            "description_tooltip": null,
            "layout": "IPY_MODEL_fbb89679ec2546e7af2280f2d9cd8c69",
            "max": 398,
            "min": 0,
            "orientation": "horizontal",
            "style": "IPY_MODEL_bca7f0c3d9214059a65fe87a9e5e3401",
            "value": 398
          }
        },
        "fbcdaa22ee89465f84f5a00c7d627e82": {
          "model_module": "@jupyter-widgets/controls",
          "model_name": "HTMLModel",
          "model_module_version": "1.5.0",
          "state": {
            "_dom_classes": [],
            "_model_module": "@jupyter-widgets/controls",
            "_model_module_version": "1.5.0",
            "_model_name": "HTMLModel",
            "_view_count": null,
            "_view_module": "@jupyter-widgets/controls",
            "_view_module_version": "1.5.0",
            "_view_name": "HTMLView",
            "description": "",
            "description_tooltip": null,
            "layout": "IPY_MODEL_387b97c23105499093b4219b10f1f073",
            "placeholder": "​",
            "style": "IPY_MODEL_c39e98299cd54fc6a28b7c61b7fa3b17",
            "value": " 398/398 [00:00&lt;00:00, 24.4kB/s]"
          }
        },
        "b537bf2c900049b4b70e210cabc3dea3": {
          "model_module": "@jupyter-widgets/base",
          "model_name": "LayoutModel",
          "model_module_version": "1.2.0",
          "state": {
            "_model_module": "@jupyter-widgets/base",
            "_model_module_version": "1.2.0",
            "_model_name": "LayoutModel",
            "_view_count": null,
            "_view_module": "@jupyter-widgets/base",
            "_view_module_version": "1.2.0",
            "_view_name": "LayoutView",
            "align_content": null,
            "align_items": null,
            "align_self": null,
            "border": null,
            "bottom": null,
            "display": null,
            "flex": null,
            "flex_flow": null,
            "grid_area": null,
            "grid_auto_columns": null,
            "grid_auto_flow": null,
            "grid_auto_rows": null,
            "grid_column": null,
            "grid_gap": null,
            "grid_row": null,
            "grid_template_areas": null,
            "grid_template_columns": null,
            "grid_template_rows": null,
            "height": null,
            "justify_content": null,
            "justify_items": null,
            "left": null,
            "margin": null,
            "max_height": null,
            "max_width": null,
            "min_height": null,
            "min_width": null,
            "object_fit": null,
            "object_position": null,
            "order": null,
            "overflow": null,
            "overflow_x": null,
            "overflow_y": null,
            "padding": null,
            "right": null,
            "top": null,
            "visibility": null,
            "width": null
          }
        },
        "bf86b11722434ba4893236d0a6b3e637": {
          "model_module": "@jupyter-widgets/base",
          "model_name": "LayoutModel",
          "model_module_version": "1.2.0",
          "state": {
            "_model_module": "@jupyter-widgets/base",
            "_model_module_version": "1.2.0",
            "_model_name": "LayoutModel",
            "_view_count": null,
            "_view_module": "@jupyter-widgets/base",
            "_view_module_version": "1.2.0",
            "_view_name": "LayoutView",
            "align_content": null,
            "align_items": null,
            "align_self": null,
            "border": null,
            "bottom": null,
            "display": null,
            "flex": null,
            "flex_flow": null,
            "grid_area": null,
            "grid_auto_columns": null,
            "grid_auto_flow": null,
            "grid_auto_rows": null,
            "grid_column": null,
            "grid_gap": null,
            "grid_row": null,
            "grid_template_areas": null,
            "grid_template_columns": null,
            "grid_template_rows": null,
            "height": null,
            "justify_content": null,
            "justify_items": null,
            "left": null,
            "margin": null,
            "max_height": null,
            "max_width": null,
            "min_height": null,
            "min_width": null,
            "object_fit": null,
            "object_position": null,
            "order": null,
            "overflow": null,
            "overflow_x": null,
            "overflow_y": null,
            "padding": null,
            "right": null,
            "top": null,
            "visibility": null,
            "width": null
          }
        },
        "e7531162380040e9b3e49b9984892e98": {
          "model_module": "@jupyter-widgets/controls",
          "model_name": "DescriptionStyleModel",
          "model_module_version": "1.5.0",
          "state": {
            "_model_module": "@jupyter-widgets/controls",
            "_model_module_version": "1.5.0",
            "_model_name": "DescriptionStyleModel",
            "_view_count": null,
            "_view_module": "@jupyter-widgets/base",
            "_view_module_version": "1.2.0",
            "_view_name": "StyleView",
            "description_width": ""
          }
        },
        "fbb89679ec2546e7af2280f2d9cd8c69": {
          "model_module": "@jupyter-widgets/base",
          "model_name": "LayoutModel",
          "model_module_version": "1.2.0",
          "state": {
            "_model_module": "@jupyter-widgets/base",
            "_model_module_version": "1.2.0",
            "_model_name": "LayoutModel",
            "_view_count": null,
            "_view_module": "@jupyter-widgets/base",
            "_view_module_version": "1.2.0",
            "_view_name": "LayoutView",
            "align_content": null,
            "align_items": null,
            "align_self": null,
            "border": null,
            "bottom": null,
            "display": null,
            "flex": null,
            "flex_flow": null,
            "grid_area": null,
            "grid_auto_columns": null,
            "grid_auto_flow": null,
            "grid_auto_rows": null,
            "grid_column": null,
            "grid_gap": null,
            "grid_row": null,
            "grid_template_areas": null,
            "grid_template_columns": null,
            "grid_template_rows": null,
            "height": null,
            "justify_content": null,
            "justify_items": null,
            "left": null,
            "margin": null,
            "max_height": null,
            "max_width": null,
            "min_height": null,
            "min_width": null,
            "object_fit": null,
            "object_position": null,
            "order": null,
            "overflow": null,
            "overflow_x": null,
            "overflow_y": null,
            "padding": null,
            "right": null,
            "top": null,
            "visibility": null,
            "width": null
          }
        },
        "bca7f0c3d9214059a65fe87a9e5e3401": {
          "model_module": "@jupyter-widgets/controls",
          "model_name": "ProgressStyleModel",
          "model_module_version": "1.5.0",
          "state": {
            "_model_module": "@jupyter-widgets/controls",
            "_model_module_version": "1.5.0",
            "_model_name": "ProgressStyleModel",
            "_view_count": null,
            "_view_module": "@jupyter-widgets/base",
            "_view_module_version": "1.2.0",
            "_view_name": "StyleView",
            "bar_color": null,
            "description_width": ""
          }
        },
        "387b97c23105499093b4219b10f1f073": {
          "model_module": "@jupyter-widgets/base",
          "model_name": "LayoutModel",
          "model_module_version": "1.2.0",
          "state": {
            "_model_module": "@jupyter-widgets/base",
            "_model_module_version": "1.2.0",
            "_model_name": "LayoutModel",
            "_view_count": null,
            "_view_module": "@jupyter-widgets/base",
            "_view_module_version": "1.2.0",
            "_view_name": "LayoutView",
            "align_content": null,
            "align_items": null,
            "align_self": null,
            "border": null,
            "bottom": null,
            "display": null,
            "flex": null,
            "flex_flow": null,
            "grid_area": null,
            "grid_auto_columns": null,
            "grid_auto_flow": null,
            "grid_auto_rows": null,
            "grid_column": null,
            "grid_gap": null,
            "grid_row": null,
            "grid_template_areas": null,
            "grid_template_columns": null,
            "grid_template_rows": null,
            "height": null,
            "justify_content": null,
            "justify_items": null,
            "left": null,
            "margin": null,
            "max_height": null,
            "max_width": null,
            "min_height": null,
            "min_width": null,
            "object_fit": null,
            "object_position": null,
            "order": null,
            "overflow": null,
            "overflow_x": null,
            "overflow_y": null,
            "padding": null,
            "right": null,
            "top": null,
            "visibility": null,
            "width": null
          }
        },
        "c39e98299cd54fc6a28b7c61b7fa3b17": {
          "model_module": "@jupyter-widgets/controls",
          "model_name": "DescriptionStyleModel",
          "model_module_version": "1.5.0",
          "state": {
            "_model_module": "@jupyter-widgets/controls",
            "_model_module_version": "1.5.0",
            "_model_name": "DescriptionStyleModel",
            "_view_count": null,
            "_view_module": "@jupyter-widgets/base",
            "_view_module_version": "1.2.0",
            "_view_name": "StyleView",
            "description_width": ""
          }
        },
        "d91cbeb1c0ea4e2695de7f5042036865": {
          "model_module": "@jupyter-widgets/controls",
          "model_name": "HBoxModel",
          "model_module_version": "1.5.0",
          "state": {
            "_dom_classes": [],
            "_model_module": "@jupyter-widgets/controls",
            "_model_module_version": "1.5.0",
            "_model_name": "HBoxModel",
            "_view_count": null,
            "_view_module": "@jupyter-widgets/controls",
            "_view_module_version": "1.5.0",
            "_view_name": "HBoxView",
            "box_style": "",
            "children": [
              "IPY_MODEL_4743af3b8b304e3186f1d95d8a3cb20b",
              "IPY_MODEL_8d5167c8ba7f48a18404259bc09b4075",
              "IPY_MODEL_00614d8e86fd4b2b9543f434fd6d0545"
            ],
            "layout": "IPY_MODEL_1fa5e7193dbc4bf5b331b83f744c8225"
          }
        },
        "4743af3b8b304e3186f1d95d8a3cb20b": {
          "model_module": "@jupyter-widgets/controls",
          "model_name": "HTMLModel",
          "model_module_version": "1.5.0",
          "state": {
            "_dom_classes": [],
            "_model_module": "@jupyter-widgets/controls",
            "_model_module_version": "1.5.0",
            "_model_name": "HTMLModel",
            "_view_count": null,
            "_view_module": "@jupyter-widgets/controls",
            "_view_module_version": "1.5.0",
            "_view_name": "HTMLView",
            "description": "",
            "description_tooltip": null,
            "layout": "IPY_MODEL_af1c83b6ac904bcb8c74d92139a5f6ad",
            "placeholder": "​",
            "style": "IPY_MODEL_3be323f1b1984cf7a9ae220f6fc029a7",
            "value": "pytorch_model.bin: 100%"
          }
        },
        "8d5167c8ba7f48a18404259bc09b4075": {
          "model_module": "@jupyter-widgets/controls",
          "model_name": "FloatProgressModel",
          "model_module_version": "1.5.0",
          "state": {
            "_dom_classes": [],
            "_model_module": "@jupyter-widgets/controls",
            "_model_module_version": "1.5.0",
            "_model_name": "FloatProgressModel",
            "_view_count": null,
            "_view_module": "@jupyter-widgets/controls",
            "_view_module_version": "1.5.0",
            "_view_name": "ProgressView",
            "bar_style": "success",
            "description": "",
            "description_tooltip": null,
            "layout": "IPY_MODEL_5c71802506f54b289fcf8a97a92a28d4",
            "max": 976429105,
            "min": 0,
            "orientation": "horizontal",
            "style": "IPY_MODEL_5624b7c68a2d4bdf820d9c757a7deb01",
            "value": 976429105
          }
        },
        "00614d8e86fd4b2b9543f434fd6d0545": {
          "model_module": "@jupyter-widgets/controls",
          "model_name": "HTMLModel",
          "model_module_version": "1.5.0",
          "state": {
            "_dom_classes": [],
            "_model_module": "@jupyter-widgets/controls",
            "_model_module_version": "1.5.0",
            "_model_name": "HTMLModel",
            "_view_count": null,
            "_view_module": "@jupyter-widgets/controls",
            "_view_module_version": "1.5.0",
            "_view_name": "HTMLView",
            "description": "",
            "description_tooltip": null,
            "layout": "IPY_MODEL_f96177326daf41c1a962d2f95c1bc7cc",
            "placeholder": "​",
            "style": "IPY_MODEL_2e6a59b65630452284acd6821877ce41",
            "value": " 976M/976M [00:13&lt;00:00, 113MB/s]"
          }
        },
        "1fa5e7193dbc4bf5b331b83f744c8225": {
          "model_module": "@jupyter-widgets/base",
          "model_name": "LayoutModel",
          "model_module_version": "1.2.0",
          "state": {
            "_model_module": "@jupyter-widgets/base",
            "_model_module_version": "1.2.0",
            "_model_name": "LayoutModel",
            "_view_count": null,
            "_view_module": "@jupyter-widgets/base",
            "_view_module_version": "1.2.0",
            "_view_name": "LayoutView",
            "align_content": null,
            "align_items": null,
            "align_self": null,
            "border": null,
            "bottom": null,
            "display": null,
            "flex": null,
            "flex_flow": null,
            "grid_area": null,
            "grid_auto_columns": null,
            "grid_auto_flow": null,
            "grid_auto_rows": null,
            "grid_column": null,
            "grid_gap": null,
            "grid_row": null,
            "grid_template_areas": null,
            "grid_template_columns": null,
            "grid_template_rows": null,
            "height": null,
            "justify_content": null,
            "justify_items": null,
            "left": null,
            "margin": null,
            "max_height": null,
            "max_width": null,
            "min_height": null,
            "min_width": null,
            "object_fit": null,
            "object_position": null,
            "order": null,
            "overflow": null,
            "overflow_x": null,
            "overflow_y": null,
            "padding": null,
            "right": null,
            "top": null,
            "visibility": null,
            "width": null
          }
        },
        "af1c83b6ac904bcb8c74d92139a5f6ad": {
          "model_module": "@jupyter-widgets/base",
          "model_name": "LayoutModel",
          "model_module_version": "1.2.0",
          "state": {
            "_model_module": "@jupyter-widgets/base",
            "_model_module_version": "1.2.0",
            "_model_name": "LayoutModel",
            "_view_count": null,
            "_view_module": "@jupyter-widgets/base",
            "_view_module_version": "1.2.0",
            "_view_name": "LayoutView",
            "align_content": null,
            "align_items": null,
            "align_self": null,
            "border": null,
            "bottom": null,
            "display": null,
            "flex": null,
            "flex_flow": null,
            "grid_area": null,
            "grid_auto_columns": null,
            "grid_auto_flow": null,
            "grid_auto_rows": null,
            "grid_column": null,
            "grid_gap": null,
            "grid_row": null,
            "grid_template_areas": null,
            "grid_template_columns": null,
            "grid_template_rows": null,
            "height": null,
            "justify_content": null,
            "justify_items": null,
            "left": null,
            "margin": null,
            "max_height": null,
            "max_width": null,
            "min_height": null,
            "min_width": null,
            "object_fit": null,
            "object_position": null,
            "order": null,
            "overflow": null,
            "overflow_x": null,
            "overflow_y": null,
            "padding": null,
            "right": null,
            "top": null,
            "visibility": null,
            "width": null
          }
        },
        "3be323f1b1984cf7a9ae220f6fc029a7": {
          "model_module": "@jupyter-widgets/controls",
          "model_name": "DescriptionStyleModel",
          "model_module_version": "1.5.0",
          "state": {
            "_model_module": "@jupyter-widgets/controls",
            "_model_module_version": "1.5.0",
            "_model_name": "DescriptionStyleModel",
            "_view_count": null,
            "_view_module": "@jupyter-widgets/base",
            "_view_module_version": "1.2.0",
            "_view_name": "StyleView",
            "description_width": ""
          }
        },
        "5c71802506f54b289fcf8a97a92a28d4": {
          "model_module": "@jupyter-widgets/base",
          "model_name": "LayoutModel",
          "model_module_version": "1.2.0",
          "state": {
            "_model_module": "@jupyter-widgets/base",
            "_model_module_version": "1.2.0",
            "_model_name": "LayoutModel",
            "_view_count": null,
            "_view_module": "@jupyter-widgets/base",
            "_view_module_version": "1.2.0",
            "_view_name": "LayoutView",
            "align_content": null,
            "align_items": null,
            "align_self": null,
            "border": null,
            "bottom": null,
            "display": null,
            "flex": null,
            "flex_flow": null,
            "grid_area": null,
            "grid_auto_columns": null,
            "grid_auto_flow": null,
            "grid_auto_rows": null,
            "grid_column": null,
            "grid_gap": null,
            "grid_row": null,
            "grid_template_areas": null,
            "grid_template_columns": null,
            "grid_template_rows": null,
            "height": null,
            "justify_content": null,
            "justify_items": null,
            "left": null,
            "margin": null,
            "max_height": null,
            "max_width": null,
            "min_height": null,
            "min_width": null,
            "object_fit": null,
            "object_position": null,
            "order": null,
            "overflow": null,
            "overflow_x": null,
            "overflow_y": null,
            "padding": null,
            "right": null,
            "top": null,
            "visibility": null,
            "width": null
          }
        },
        "5624b7c68a2d4bdf820d9c757a7deb01": {
          "model_module": "@jupyter-widgets/controls",
          "model_name": "ProgressStyleModel",
          "model_module_version": "1.5.0",
          "state": {
            "_model_module": "@jupyter-widgets/controls",
            "_model_module_version": "1.5.0",
            "_model_name": "ProgressStyleModel",
            "_view_count": null,
            "_view_module": "@jupyter-widgets/base",
            "_view_module_version": "1.2.0",
            "_view_name": "StyleView",
            "bar_color": null,
            "description_width": ""
          }
        },
        "f96177326daf41c1a962d2f95c1bc7cc": {
          "model_module": "@jupyter-widgets/base",
          "model_name": "LayoutModel",
          "model_module_version": "1.2.0",
          "state": {
            "_model_module": "@jupyter-widgets/base",
            "_model_module_version": "1.2.0",
            "_model_name": "LayoutModel",
            "_view_count": null,
            "_view_module": "@jupyter-widgets/base",
            "_view_module_version": "1.2.0",
            "_view_name": "LayoutView",
            "align_content": null,
            "align_items": null,
            "align_self": null,
            "border": null,
            "bottom": null,
            "display": null,
            "flex": null,
            "flex_flow": null,
            "grid_area": null,
            "grid_auto_columns": null,
            "grid_auto_flow": null,
            "grid_auto_rows": null,
            "grid_column": null,
            "grid_gap": null,
            "grid_row": null,
            "grid_template_areas": null,
            "grid_template_columns": null,
            "grid_template_rows": null,
            "height": null,
            "justify_content": null,
            "justify_items": null,
            "left": null,
            "margin": null,
            "max_height": null,
            "max_width": null,
            "min_height": null,
            "min_width": null,
            "object_fit": null,
            "object_position": null,
            "order": null,
            "overflow": null,
            "overflow_x": null,
            "overflow_y": null,
            "padding": null,
            "right": null,
            "top": null,
            "visibility": null,
            "width": null
          }
        },
        "2e6a59b65630452284acd6821877ce41": {
          "model_module": "@jupyter-widgets/controls",
          "model_name": "DescriptionStyleModel",
          "model_module_version": "1.5.0",
          "state": {
            "_model_module": "@jupyter-widgets/controls",
            "_model_module_version": "1.5.0",
            "_model_name": "DescriptionStyleModel",
            "_view_count": null,
            "_view_module": "@jupyter-widgets/base",
            "_view_module_version": "1.2.0",
            "_view_name": "StyleView",
            "description_width": ""
          }
        },
        "1ffe28dc2ca7415aa1f50d25a1425534": {
          "model_module": "@jupyter-widgets/controls",
          "model_name": "HBoxModel",
          "model_module_version": "1.5.0",
          "state": {
            "_dom_classes": [],
            "_model_module": "@jupyter-widgets/controls",
            "_model_module_version": "1.5.0",
            "_model_name": "HBoxModel",
            "_view_count": null,
            "_view_module": "@jupyter-widgets/controls",
            "_view_module_version": "1.5.0",
            "_view_name": "HBoxView",
            "box_style": "",
            "children": [
              "IPY_MODEL_bd8ce53fbba04083962c4378ad57d6f4",
              "IPY_MODEL_8c1e6e42738c43b893ca88b7c220bbb1",
              "IPY_MODEL_f89ce2f5767b4e919364da2b8b3d05c5"
            ],
            "layout": "IPY_MODEL_e8c0052e76be40809b867275b468b57e"
          }
        },
        "bd8ce53fbba04083962c4378ad57d6f4": {
          "model_module": "@jupyter-widgets/controls",
          "model_name": "HTMLModel",
          "model_module_version": "1.5.0",
          "state": {
            "_dom_classes": [],
            "_model_module": "@jupyter-widgets/controls",
            "_model_module_version": "1.5.0",
            "_model_name": "HTMLModel",
            "_view_count": null,
            "_view_module": "@jupyter-widgets/controls",
            "_view_module_version": "1.5.0",
            "_view_name": "HTMLView",
            "description": "",
            "description_tooltip": null,
            "layout": "IPY_MODEL_cf0623c6da30454ba74ff7534c5578f2",
            "placeholder": "​",
            "style": "IPY_MODEL_485073b5ddb943a1ad61102ef239fb4c",
            "value": "model.safetensors: 100%"
          }
        },
        "8c1e6e42738c43b893ca88b7c220bbb1": {
          "model_module": "@jupyter-widgets/controls",
          "model_name": "FloatProgressModel",
          "model_module_version": "1.5.0",
          "state": {
            "_dom_classes": [],
            "_model_module": "@jupyter-widgets/controls",
            "_model_module_version": "1.5.0",
            "_model_name": "FloatProgressModel",
            "_view_count": null,
            "_view_module": "@jupyter-widgets/controls",
            "_view_module_version": "1.5.0",
            "_view_name": "ProgressView",
            "bar_style": "success",
            "description": "",
            "description_tooltip": null,
            "layout": "IPY_MODEL_30f2077cf46a405ea4963bb82b4b593c",
            "max": 976355330,
            "min": 0,
            "orientation": "horizontal",
            "style": "IPY_MODEL_cd35e61126f2406083cc1e5a5dd14764",
            "value": 976355330
          }
        },
        "f89ce2f5767b4e919364da2b8b3d05c5": {
          "model_module": "@jupyter-widgets/controls",
          "model_name": "HTMLModel",
          "model_module_version": "1.5.0",
          "state": {
            "_dom_classes": [],
            "_model_module": "@jupyter-widgets/controls",
            "_model_module_version": "1.5.0",
            "_model_name": "HTMLModel",
            "_view_count": null,
            "_view_module": "@jupyter-widgets/controls",
            "_view_module_version": "1.5.0",
            "_view_name": "HTMLView",
            "description": "",
            "description_tooltip": null,
            "layout": "IPY_MODEL_fe040e4351cf4ac5919e63c44f31dc9b",
            "placeholder": "​",
            "style": "IPY_MODEL_82c0fce5cafb4aff8d9b5947c01660ba",
            "value": " 976M/976M [00:05&lt;00:00, 191MB/s]"
          }
        },
        "e8c0052e76be40809b867275b468b57e": {
          "model_module": "@jupyter-widgets/base",
          "model_name": "LayoutModel",
          "model_module_version": "1.2.0",
          "state": {
            "_model_module": "@jupyter-widgets/base",
            "_model_module_version": "1.2.0",
            "_model_name": "LayoutModel",
            "_view_count": null,
            "_view_module": "@jupyter-widgets/base",
            "_view_module_version": "1.2.0",
            "_view_name": "LayoutView",
            "align_content": null,
            "align_items": null,
            "align_self": null,
            "border": null,
            "bottom": null,
            "display": null,
            "flex": null,
            "flex_flow": null,
            "grid_area": null,
            "grid_auto_columns": null,
            "grid_auto_flow": null,
            "grid_auto_rows": null,
            "grid_column": null,
            "grid_gap": null,
            "grid_row": null,
            "grid_template_areas": null,
            "grid_template_columns": null,
            "grid_template_rows": null,
            "height": null,
            "justify_content": null,
            "justify_items": null,
            "left": null,
            "margin": null,
            "max_height": null,
            "max_width": null,
            "min_height": null,
            "min_width": null,
            "object_fit": null,
            "object_position": null,
            "order": null,
            "overflow": null,
            "overflow_x": null,
            "overflow_y": null,
            "padding": null,
            "right": null,
            "top": null,
            "visibility": null,
            "width": null
          }
        },
        "cf0623c6da30454ba74ff7534c5578f2": {
          "model_module": "@jupyter-widgets/base",
          "model_name": "LayoutModel",
          "model_module_version": "1.2.0",
          "state": {
            "_model_module": "@jupyter-widgets/base",
            "_model_module_version": "1.2.0",
            "_model_name": "LayoutModel",
            "_view_count": null,
            "_view_module": "@jupyter-widgets/base",
            "_view_module_version": "1.2.0",
            "_view_name": "LayoutView",
            "align_content": null,
            "align_items": null,
            "align_self": null,
            "border": null,
            "bottom": null,
            "display": null,
            "flex": null,
            "flex_flow": null,
            "grid_area": null,
            "grid_auto_columns": null,
            "grid_auto_flow": null,
            "grid_auto_rows": null,
            "grid_column": null,
            "grid_gap": null,
            "grid_row": null,
            "grid_template_areas": null,
            "grid_template_columns": null,
            "grid_template_rows": null,
            "height": null,
            "justify_content": null,
            "justify_items": null,
            "left": null,
            "margin": null,
            "max_height": null,
            "max_width": null,
            "min_height": null,
            "min_width": null,
            "object_fit": null,
            "object_position": null,
            "order": null,
            "overflow": null,
            "overflow_x": null,
            "overflow_y": null,
            "padding": null,
            "right": null,
            "top": null,
            "visibility": null,
            "width": null
          }
        },
        "485073b5ddb943a1ad61102ef239fb4c": {
          "model_module": "@jupyter-widgets/controls",
          "model_name": "DescriptionStyleModel",
          "model_module_version": "1.5.0",
          "state": {
            "_model_module": "@jupyter-widgets/controls",
            "_model_module_version": "1.5.0",
            "_model_name": "DescriptionStyleModel",
            "_view_count": null,
            "_view_module": "@jupyter-widgets/base",
            "_view_module_version": "1.2.0",
            "_view_name": "StyleView",
            "description_width": ""
          }
        },
        "30f2077cf46a405ea4963bb82b4b593c": {
          "model_module": "@jupyter-widgets/base",
          "model_name": "LayoutModel",
          "model_module_version": "1.2.0",
          "state": {
            "_model_module": "@jupyter-widgets/base",
            "_model_module_version": "1.2.0",
            "_model_name": "LayoutModel",
            "_view_count": null,
            "_view_module": "@jupyter-widgets/base",
            "_view_module_version": "1.2.0",
            "_view_name": "LayoutView",
            "align_content": null,
            "align_items": null,
            "align_self": null,
            "border": null,
            "bottom": null,
            "display": null,
            "flex": null,
            "flex_flow": null,
            "grid_area": null,
            "grid_auto_columns": null,
            "grid_auto_flow": null,
            "grid_auto_rows": null,
            "grid_column": null,
            "grid_gap": null,
            "grid_row": null,
            "grid_template_areas": null,
            "grid_template_columns": null,
            "grid_template_rows": null,
            "height": null,
            "justify_content": null,
            "justify_items": null,
            "left": null,
            "margin": null,
            "max_height": null,
            "max_width": null,
            "min_height": null,
            "min_width": null,
            "object_fit": null,
            "object_position": null,
            "order": null,
            "overflow": null,
            "overflow_x": null,
            "overflow_y": null,
            "padding": null,
            "right": null,
            "top": null,
            "visibility": null,
            "width": null
          }
        },
        "cd35e61126f2406083cc1e5a5dd14764": {
          "model_module": "@jupyter-widgets/controls",
          "model_name": "ProgressStyleModel",
          "model_module_version": "1.5.0",
          "state": {
            "_model_module": "@jupyter-widgets/controls",
            "_model_module_version": "1.5.0",
            "_model_name": "ProgressStyleModel",
            "_view_count": null,
            "_view_module": "@jupyter-widgets/base",
            "_view_module_version": "1.2.0",
            "_view_name": "StyleView",
            "bar_color": null,
            "description_width": ""
          }
        },
        "fe040e4351cf4ac5919e63c44f31dc9b": {
          "model_module": "@jupyter-widgets/base",
          "model_name": "LayoutModel",
          "model_module_version": "1.2.0",
          "state": {
            "_model_module": "@jupyter-widgets/base",
            "_model_module_version": "1.2.0",
            "_model_name": "LayoutModel",
            "_view_count": null,
            "_view_module": "@jupyter-widgets/base",
            "_view_module_version": "1.2.0",
            "_view_name": "LayoutView",
            "align_content": null,
            "align_items": null,
            "align_self": null,
            "border": null,
            "bottom": null,
            "display": null,
            "flex": null,
            "flex_flow": null,
            "grid_area": null,
            "grid_auto_columns": null,
            "grid_auto_flow": null,
            "grid_auto_rows": null,
            "grid_column": null,
            "grid_gap": null,
            "grid_row": null,
            "grid_template_areas": null,
            "grid_template_columns": null,
            "grid_template_rows": null,
            "height": null,
            "justify_content": null,
            "justify_items": null,
            "left": null,
            "margin": null,
            "max_height": null,
            "max_width": null,
            "min_height": null,
            "min_width": null,
            "object_fit": null,
            "object_position": null,
            "order": null,
            "overflow": null,
            "overflow_x": null,
            "overflow_y": null,
            "padding": null,
            "right": null,
            "top": null,
            "visibility": null,
            "width": null
          }
        },
        "82c0fce5cafb4aff8d9b5947c01660ba": {
          "model_module": "@jupyter-widgets/controls",
          "model_name": "DescriptionStyleModel",
          "model_module_version": "1.5.0",
          "state": {
            "_model_module": "@jupyter-widgets/controls",
            "_model_module_version": "1.5.0",
            "_model_name": "DescriptionStyleModel",
            "_view_count": null,
            "_view_module": "@jupyter-widgets/base",
            "_view_module_version": "1.2.0",
            "_view_name": "StyleView",
            "description_width": ""
          }
        },
        "081c93814c394fdf89963129f44f7dc6": {
          "model_module": "@jupyter-widgets/controls",
          "model_name": "HBoxModel",
          "model_module_version": "1.5.0",
          "state": {
            "_dom_classes": [],
            "_model_module": "@jupyter-widgets/controls",
            "_model_module_version": "1.5.0",
            "_model_name": "HBoxModel",
            "_view_count": null,
            "_view_module": "@jupyter-widgets/controls",
            "_view_module_version": "1.5.0",
            "_view_name": "HBoxView",
            "box_style": "",
            "children": [
              "IPY_MODEL_2744f57b35b34b34a0dbbf3cd9ed1b7d",
              "IPY_MODEL_7329401e15e841b29b3d1e21e6c058ef",
              "IPY_MODEL_df4abf2783ca4af48dca614944218a60"
            ],
            "layout": "IPY_MODEL_6987b4f5afb14ffc9173fc82557c190c"
          }
        },
        "2744f57b35b34b34a0dbbf3cd9ed1b7d": {
          "model_module": "@jupyter-widgets/controls",
          "model_name": "HTMLModel",
          "model_module_version": "1.5.0",
          "state": {
            "_dom_classes": [],
            "_model_module": "@jupyter-widgets/controls",
            "_model_module_version": "1.5.0",
            "_model_name": "HTMLModel",
            "_view_count": null,
            "_view_module": "@jupyter-widgets/controls",
            "_view_module_version": "1.5.0",
            "_view_name": "HTMLView",
            "description": "",
            "description_tooltip": null,
            "layout": "IPY_MODEL_7b288eb2756c44659254b0d75b298ae6",
            "placeholder": "​",
            "style": "IPY_MODEL_c3d2e73dfbb14bebbe9eeb64cad10ef7",
            "value": "tokenizer_config.json: 100%"
          }
        },
        "7329401e15e841b29b3d1e21e6c058ef": {
          "model_module": "@jupyter-widgets/controls",
          "model_name": "FloatProgressModel",
          "model_module_version": "1.5.0",
          "state": {
            "_dom_classes": [],
            "_model_module": "@jupyter-widgets/controls",
            "_model_module_version": "1.5.0",
            "_model_name": "FloatProgressModel",
            "_view_count": null,
            "_view_module": "@jupyter-widgets/controls",
            "_view_module_version": "1.5.0",
            "_view_name": "ProgressView",
            "bar_style": "success",
            "description": "",
            "description_tooltip": null,
            "layout": "IPY_MODEL_ddcacaee10ba45439956064364e02515",
            "max": 375,
            "min": 0,
            "orientation": "horizontal",
            "style": "IPY_MODEL_cce8f61454594395ac2a740d99a73168",
            "value": 375
          }
        },
        "df4abf2783ca4af48dca614944218a60": {
          "model_module": "@jupyter-widgets/controls",
          "model_name": "HTMLModel",
          "model_module_version": "1.5.0",
          "state": {
            "_dom_classes": [],
            "_model_module": "@jupyter-widgets/controls",
            "_model_module_version": "1.5.0",
            "_model_name": "HTMLModel",
            "_view_count": null,
            "_view_module": "@jupyter-widgets/controls",
            "_view_module_version": "1.5.0",
            "_view_name": "HTMLView",
            "description": "",
            "description_tooltip": null,
            "layout": "IPY_MODEL_f03d226d747b4af7921aa721ce595281",
            "placeholder": "​",
            "style": "IPY_MODEL_4edbced3bab1463abb1032a833bf887a",
            "value": " 375/375 [00:00&lt;00:00, 34.0kB/s]"
          }
        },
        "6987b4f5afb14ffc9173fc82557c190c": {
          "model_module": "@jupyter-widgets/base",
          "model_name": "LayoutModel",
          "model_module_version": "1.2.0",
          "state": {
            "_model_module": "@jupyter-widgets/base",
            "_model_module_version": "1.2.0",
            "_model_name": "LayoutModel",
            "_view_count": null,
            "_view_module": "@jupyter-widgets/base",
            "_view_module_version": "1.2.0",
            "_view_name": "LayoutView",
            "align_content": null,
            "align_items": null,
            "align_self": null,
            "border": null,
            "bottom": null,
            "display": null,
            "flex": null,
            "flex_flow": null,
            "grid_area": null,
            "grid_auto_columns": null,
            "grid_auto_flow": null,
            "grid_auto_rows": null,
            "grid_column": null,
            "grid_gap": null,
            "grid_row": null,
            "grid_template_areas": null,
            "grid_template_columns": null,
            "grid_template_rows": null,
            "height": null,
            "justify_content": null,
            "justify_items": null,
            "left": null,
            "margin": null,
            "max_height": null,
            "max_width": null,
            "min_height": null,
            "min_width": null,
            "object_fit": null,
            "object_position": null,
            "order": null,
            "overflow": null,
            "overflow_x": null,
            "overflow_y": null,
            "padding": null,
            "right": null,
            "top": null,
            "visibility": null,
            "width": null
          }
        },
        "7b288eb2756c44659254b0d75b298ae6": {
          "model_module": "@jupyter-widgets/base",
          "model_name": "LayoutModel",
          "model_module_version": "1.2.0",
          "state": {
            "_model_module": "@jupyter-widgets/base",
            "_model_module_version": "1.2.0",
            "_model_name": "LayoutModel",
            "_view_count": null,
            "_view_module": "@jupyter-widgets/base",
            "_view_module_version": "1.2.0",
            "_view_name": "LayoutView",
            "align_content": null,
            "align_items": null,
            "align_self": null,
            "border": null,
            "bottom": null,
            "display": null,
            "flex": null,
            "flex_flow": null,
            "grid_area": null,
            "grid_auto_columns": null,
            "grid_auto_flow": null,
            "grid_auto_rows": null,
            "grid_column": null,
            "grid_gap": null,
            "grid_row": null,
            "grid_template_areas": null,
            "grid_template_columns": null,
            "grid_template_rows": null,
            "height": null,
            "justify_content": null,
            "justify_items": null,
            "left": null,
            "margin": null,
            "max_height": null,
            "max_width": null,
            "min_height": null,
            "min_width": null,
            "object_fit": null,
            "object_position": null,
            "order": null,
            "overflow": null,
            "overflow_x": null,
            "overflow_y": null,
            "padding": null,
            "right": null,
            "top": null,
            "visibility": null,
            "width": null
          }
        },
        "c3d2e73dfbb14bebbe9eeb64cad10ef7": {
          "model_module": "@jupyter-widgets/controls",
          "model_name": "DescriptionStyleModel",
          "model_module_version": "1.5.0",
          "state": {
            "_model_module": "@jupyter-widgets/controls",
            "_model_module_version": "1.5.0",
            "_model_name": "DescriptionStyleModel",
            "_view_count": null,
            "_view_module": "@jupyter-widgets/base",
            "_view_module_version": "1.2.0",
            "_view_name": "StyleView",
            "description_width": ""
          }
        },
        "ddcacaee10ba45439956064364e02515": {
          "model_module": "@jupyter-widgets/base",
          "model_name": "LayoutModel",
          "model_module_version": "1.2.0",
          "state": {
            "_model_module": "@jupyter-widgets/base",
            "_model_module_version": "1.2.0",
            "_model_name": "LayoutModel",
            "_view_count": null,
            "_view_module": "@jupyter-widgets/base",
            "_view_module_version": "1.2.0",
            "_view_name": "LayoutView",
            "align_content": null,
            "align_items": null,
            "align_self": null,
            "border": null,
            "bottom": null,
            "display": null,
            "flex": null,
            "flex_flow": null,
            "grid_area": null,
            "grid_auto_columns": null,
            "grid_auto_flow": null,
            "grid_auto_rows": null,
            "grid_column": null,
            "grid_gap": null,
            "grid_row": null,
            "grid_template_areas": null,
            "grid_template_columns": null,
            "grid_template_rows": null,
            "height": null,
            "justify_content": null,
            "justify_items": null,
            "left": null,
            "margin": null,
            "max_height": null,
            "max_width": null,
            "min_height": null,
            "min_width": null,
            "object_fit": null,
            "object_position": null,
            "order": null,
            "overflow": null,
            "overflow_x": null,
            "overflow_y": null,
            "padding": null,
            "right": null,
            "top": null,
            "visibility": null,
            "width": null
          }
        },
        "cce8f61454594395ac2a740d99a73168": {
          "model_module": "@jupyter-widgets/controls",
          "model_name": "ProgressStyleModel",
          "model_module_version": "1.5.0",
          "state": {
            "_model_module": "@jupyter-widgets/controls",
            "_model_module_version": "1.5.0",
            "_model_name": "ProgressStyleModel",
            "_view_count": null,
            "_view_module": "@jupyter-widgets/base",
            "_view_module_version": "1.2.0",
            "_view_name": "StyleView",
            "bar_color": null,
            "description_width": ""
          }
        },
        "f03d226d747b4af7921aa721ce595281": {
          "model_module": "@jupyter-widgets/base",
          "model_name": "LayoutModel",
          "model_module_version": "1.2.0",
          "state": {
            "_model_module": "@jupyter-widgets/base",
            "_model_module_version": "1.2.0",
            "_model_name": "LayoutModel",
            "_view_count": null,
            "_view_module": "@jupyter-widgets/base",
            "_view_module_version": "1.2.0",
            "_view_name": "LayoutView",
            "align_content": null,
            "align_items": null,
            "align_self": null,
            "border": null,
            "bottom": null,
            "display": null,
            "flex": null,
            "flex_flow": null,
            "grid_area": null,
            "grid_auto_columns": null,
            "grid_auto_flow": null,
            "grid_auto_rows": null,
            "grid_column": null,
            "grid_gap": null,
            "grid_row": null,
            "grid_template_areas": null,
            "grid_template_columns": null,
            "grid_template_rows": null,
            "height": null,
            "justify_content": null,
            "justify_items": null,
            "left": null,
            "margin": null,
            "max_height": null,
            "max_width": null,
            "min_height": null,
            "min_width": null,
            "object_fit": null,
            "object_position": null,
            "order": null,
            "overflow": null,
            "overflow_x": null,
            "overflow_y": null,
            "padding": null,
            "right": null,
            "top": null,
            "visibility": null,
            "width": null
          }
        },
        "4edbced3bab1463abb1032a833bf887a": {
          "model_module": "@jupyter-widgets/controls",
          "model_name": "DescriptionStyleModel",
          "model_module_version": "1.5.0",
          "state": {
            "_model_module": "@jupyter-widgets/controls",
            "_model_module_version": "1.5.0",
            "_model_name": "DescriptionStyleModel",
            "_view_count": null,
            "_view_module": "@jupyter-widgets/base",
            "_view_module_version": "1.2.0",
            "_view_name": "StyleView",
            "description_width": ""
          }
        },
        "92843992a69c47059777765b0633c894": {
          "model_module": "@jupyter-widgets/controls",
          "model_name": "HBoxModel",
          "model_module_version": "1.5.0",
          "state": {
            "_dom_classes": [],
            "_model_module": "@jupyter-widgets/controls",
            "_model_module_version": "1.5.0",
            "_model_name": "HBoxModel",
            "_view_count": null,
            "_view_module": "@jupyter-widgets/controls",
            "_view_module_version": "1.5.0",
            "_view_name": "HBoxView",
            "box_style": "",
            "children": [
              "IPY_MODEL_dacfb7bcca6b428e9a4856fb82749320",
              "IPY_MODEL_821e31ac687e485c9106bcb3b8b53628",
              "IPY_MODEL_ecb1f901bb3549d8b1d2ada943ea9011"
            ],
            "layout": "IPY_MODEL_b2369f0240004a088b4bd5d246499490"
          }
        },
        "dacfb7bcca6b428e9a4856fb82749320": {
          "model_module": "@jupyter-widgets/controls",
          "model_name": "HTMLModel",
          "model_module_version": "1.5.0",
          "state": {
            "_dom_classes": [],
            "_model_module": "@jupyter-widgets/controls",
            "_model_module_version": "1.5.0",
            "_model_name": "HTMLModel",
            "_view_count": null,
            "_view_module": "@jupyter-widgets/controls",
            "_view_module_version": "1.5.0",
            "_view_name": "HTMLView",
            "description": "",
            "description_tooltip": null,
            "layout": "IPY_MODEL_8b85c71f2af14a79b1f824eeadf95c60",
            "placeholder": "​",
            "style": "IPY_MODEL_10837cc3496444de88d5df8f623987ad",
            "value": "config.json: 100%"
          }
        },
        "821e31ac687e485c9106bcb3b8b53628": {
          "model_module": "@jupyter-widgets/controls",
          "model_name": "FloatProgressModel",
          "model_module_version": "1.5.0",
          "state": {
            "_dom_classes": [],
            "_model_module": "@jupyter-widgets/controls",
            "_model_module_version": "1.5.0",
            "_model_name": "FloatProgressModel",
            "_view_count": null,
            "_view_module": "@jupyter-widgets/controls",
            "_view_module_version": "1.5.0",
            "_view_name": "ProgressView",
            "bar_style": "success",
            "description": "",
            "description_tooltip": null,
            "layout": "IPY_MODEL_208f273cb0e1437a8ed719cfa6c9da6d",
            "max": 730,
            "min": 0,
            "orientation": "horizontal",
            "style": "IPY_MODEL_b95dbf0d9ae94dc788dca9675a90780a",
            "value": 730
          }
        },
        "ecb1f901bb3549d8b1d2ada943ea9011": {
          "model_module": "@jupyter-widgets/controls",
          "model_name": "HTMLModel",
          "model_module_version": "1.5.0",
          "state": {
            "_dom_classes": [],
            "_model_module": "@jupyter-widgets/controls",
            "_model_module_version": "1.5.0",
            "_model_name": "HTMLModel",
            "_view_count": null,
            "_view_module": "@jupyter-widgets/controls",
            "_view_module_version": "1.5.0",
            "_view_name": "HTMLView",
            "description": "",
            "description_tooltip": null,
            "layout": "IPY_MODEL_9f563658cd71455983220d879f3bdcfc",
            "placeholder": "​",
            "style": "IPY_MODEL_de55c6c1148c42c4b7a67b1e4a541472",
            "value": " 730/730 [00:00&lt;00:00, 58.9kB/s]"
          }
        },
        "b2369f0240004a088b4bd5d246499490": {
          "model_module": "@jupyter-widgets/base",
          "model_name": "LayoutModel",
          "model_module_version": "1.2.0",
          "state": {
            "_model_module": "@jupyter-widgets/base",
            "_model_module_version": "1.2.0",
            "_model_name": "LayoutModel",
            "_view_count": null,
            "_view_module": "@jupyter-widgets/base",
            "_view_module_version": "1.2.0",
            "_view_name": "LayoutView",
            "align_content": null,
            "align_items": null,
            "align_self": null,
            "border": null,
            "bottom": null,
            "display": null,
            "flex": null,
            "flex_flow": null,
            "grid_area": null,
            "grid_auto_columns": null,
            "grid_auto_flow": null,
            "grid_auto_rows": null,
            "grid_column": null,
            "grid_gap": null,
            "grid_row": null,
            "grid_template_areas": null,
            "grid_template_columns": null,
            "grid_template_rows": null,
            "height": null,
            "justify_content": null,
            "justify_items": null,
            "left": null,
            "margin": null,
            "max_height": null,
            "max_width": null,
            "min_height": null,
            "min_width": null,
            "object_fit": null,
            "object_position": null,
            "order": null,
            "overflow": null,
            "overflow_x": null,
            "overflow_y": null,
            "padding": null,
            "right": null,
            "top": null,
            "visibility": null,
            "width": null
          }
        },
        "8b85c71f2af14a79b1f824eeadf95c60": {
          "model_module": "@jupyter-widgets/base",
          "model_name": "LayoutModel",
          "model_module_version": "1.2.0",
          "state": {
            "_model_module": "@jupyter-widgets/base",
            "_model_module_version": "1.2.0",
            "_model_name": "LayoutModel",
            "_view_count": null,
            "_view_module": "@jupyter-widgets/base",
            "_view_module_version": "1.2.0",
            "_view_name": "LayoutView",
            "align_content": null,
            "align_items": null,
            "align_self": null,
            "border": null,
            "bottom": null,
            "display": null,
            "flex": null,
            "flex_flow": null,
            "grid_area": null,
            "grid_auto_columns": null,
            "grid_auto_flow": null,
            "grid_auto_rows": null,
            "grid_column": null,
            "grid_gap": null,
            "grid_row": null,
            "grid_template_areas": null,
            "grid_template_columns": null,
            "grid_template_rows": null,
            "height": null,
            "justify_content": null,
            "justify_items": null,
            "left": null,
            "margin": null,
            "max_height": null,
            "max_width": null,
            "min_height": null,
            "min_width": null,
            "object_fit": null,
            "object_position": null,
            "order": null,
            "overflow": null,
            "overflow_x": null,
            "overflow_y": null,
            "padding": null,
            "right": null,
            "top": null,
            "visibility": null,
            "width": null
          }
        },
        "10837cc3496444de88d5df8f623987ad": {
          "model_module": "@jupyter-widgets/controls",
          "model_name": "DescriptionStyleModel",
          "model_module_version": "1.5.0",
          "state": {
            "_model_module": "@jupyter-widgets/controls",
            "_model_module_version": "1.5.0",
            "_model_name": "DescriptionStyleModel",
            "_view_count": null,
            "_view_module": "@jupyter-widgets/base",
            "_view_module_version": "1.2.0",
            "_view_name": "StyleView",
            "description_width": ""
          }
        },
        "208f273cb0e1437a8ed719cfa6c9da6d": {
          "model_module": "@jupyter-widgets/base",
          "model_name": "LayoutModel",
          "model_module_version": "1.2.0",
          "state": {
            "_model_module": "@jupyter-widgets/base",
            "_model_module_version": "1.2.0",
            "_model_name": "LayoutModel",
            "_view_count": null,
            "_view_module": "@jupyter-widgets/base",
            "_view_module_version": "1.2.0",
            "_view_name": "LayoutView",
            "align_content": null,
            "align_items": null,
            "align_self": null,
            "border": null,
            "bottom": null,
            "display": null,
            "flex": null,
            "flex_flow": null,
            "grid_area": null,
            "grid_auto_columns": null,
            "grid_auto_flow": null,
            "grid_auto_rows": null,
            "grid_column": null,
            "grid_gap": null,
            "grid_row": null,
            "grid_template_areas": null,
            "grid_template_columns": null,
            "grid_template_rows": null,
            "height": null,
            "justify_content": null,
            "justify_items": null,
            "left": null,
            "margin": null,
            "max_height": null,
            "max_width": null,
            "min_height": null,
            "min_width": null,
            "object_fit": null,
            "object_position": null,
            "order": null,
            "overflow": null,
            "overflow_x": null,
            "overflow_y": null,
            "padding": null,
            "right": null,
            "top": null,
            "visibility": null,
            "width": null
          }
        },
        "b95dbf0d9ae94dc788dca9675a90780a": {
          "model_module": "@jupyter-widgets/controls",
          "model_name": "ProgressStyleModel",
          "model_module_version": "1.5.0",
          "state": {
            "_model_module": "@jupyter-widgets/controls",
            "_model_module_version": "1.5.0",
            "_model_name": "ProgressStyleModel",
            "_view_count": null,
            "_view_module": "@jupyter-widgets/base",
            "_view_module_version": "1.2.0",
            "_view_name": "StyleView",
            "bar_color": null,
            "description_width": ""
          }
        },
        "9f563658cd71455983220d879f3bdcfc": {
          "model_module": "@jupyter-widgets/base",
          "model_name": "LayoutModel",
          "model_module_version": "1.2.0",
          "state": {
            "_model_module": "@jupyter-widgets/base",
            "_model_module_version": "1.2.0",
            "_model_name": "LayoutModel",
            "_view_count": null,
            "_view_module": "@jupyter-widgets/base",
            "_view_module_version": "1.2.0",
            "_view_name": "LayoutView",
            "align_content": null,
            "align_items": null,
            "align_self": null,
            "border": null,
            "bottom": null,
            "display": null,
            "flex": null,
            "flex_flow": null,
            "grid_area": null,
            "grid_auto_columns": null,
            "grid_auto_flow": null,
            "grid_auto_rows": null,
            "grid_column": null,
            "grid_gap": null,
            "grid_row": null,
            "grid_template_areas": null,
            "grid_template_columns": null,
            "grid_template_rows": null,
            "height": null,
            "justify_content": null,
            "justify_items": null,
            "left": null,
            "margin": null,
            "max_height": null,
            "max_width": null,
            "min_height": null,
            "min_width": null,
            "object_fit": null,
            "object_position": null,
            "order": null,
            "overflow": null,
            "overflow_x": null,
            "overflow_y": null,
            "padding": null,
            "right": null,
            "top": null,
            "visibility": null,
            "width": null
          }
        },
        "de55c6c1148c42c4b7a67b1e4a541472": {
          "model_module": "@jupyter-widgets/controls",
          "model_name": "DescriptionStyleModel",
          "model_module_version": "1.5.0",
          "state": {
            "_model_module": "@jupyter-widgets/controls",
            "_model_module_version": "1.5.0",
            "_model_name": "DescriptionStyleModel",
            "_view_count": null,
            "_view_module": "@jupyter-widgets/base",
            "_view_module_version": "1.2.0",
            "_view_name": "StyleView",
            "description_width": ""
          }
        },
        "d9cb8fa600934d718da439bcd91b8238": {
          "model_module": "@jupyter-widgets/controls",
          "model_name": "HBoxModel",
          "model_module_version": "1.5.0",
          "state": {
            "_dom_classes": [],
            "_model_module": "@jupyter-widgets/controls",
            "_model_module_version": "1.5.0",
            "_model_name": "HBoxModel",
            "_view_count": null,
            "_view_module": "@jupyter-widgets/controls",
            "_view_module_version": "1.5.0",
            "_view_name": "HBoxView",
            "box_style": "",
            "children": [
              "IPY_MODEL_442a3ec777704359acd796f857791087",
              "IPY_MODEL_c82ebf42583f4d5b864217aeec32a7ba",
              "IPY_MODEL_3bfea8cc31554d15a959c77c53e52cfa"
            ],
            "layout": "IPY_MODEL_460455b2684d48dbb1d650b28b9579e0"
          }
        },
        "442a3ec777704359acd796f857791087": {
          "model_module": "@jupyter-widgets/controls",
          "model_name": "HTMLModel",
          "model_module_version": "1.5.0",
          "state": {
            "_dom_classes": [],
            "_model_module": "@jupyter-widgets/controls",
            "_model_module_version": "1.5.0",
            "_model_name": "HTMLModel",
            "_view_count": null,
            "_view_module": "@jupyter-widgets/controls",
            "_view_module_version": "1.5.0",
            "_view_name": "HTMLView",
            "description": "",
            "description_tooltip": null,
            "layout": "IPY_MODEL_878e1a1d73134edbbf5708063cd5f7d5",
            "placeholder": "​",
            "style": "IPY_MODEL_f4d6283d5001444b971eb76a86453eba",
            "value": "spiece.model: 100%"
          }
        },
        "c82ebf42583f4d5b864217aeec32a7ba": {
          "model_module": "@jupyter-widgets/controls",
          "model_name": "FloatProgressModel",
          "model_module_version": "1.5.0",
          "state": {
            "_dom_classes": [],
            "_model_module": "@jupyter-widgets/controls",
            "_model_module_version": "1.5.0",
            "_model_name": "FloatProgressModel",
            "_view_count": null,
            "_view_module": "@jupyter-widgets/controls",
            "_view_module_version": "1.5.0",
            "_view_name": "ProgressView",
            "bar_style": "success",
            "description": "",
            "description_tooltip": null,
            "layout": "IPY_MODEL_d18b255fd45b428db9caa1efeead9ae7",
            "max": 4309802,
            "min": 0,
            "orientation": "horizontal",
            "style": "IPY_MODEL_232035db36a244cfb476442711f18e1b",
            "value": 4309802
          }
        },
        "3bfea8cc31554d15a959c77c53e52cfa": {
          "model_module": "@jupyter-widgets/controls",
          "model_name": "HTMLModel",
          "model_module_version": "1.5.0",
          "state": {
            "_dom_classes": [],
            "_model_module": "@jupyter-widgets/controls",
            "_model_module_version": "1.5.0",
            "_model_name": "HTMLModel",
            "_view_count": null,
            "_view_module": "@jupyter-widgets/controls",
            "_view_module_version": "1.5.0",
            "_view_name": "HTMLView",
            "description": "",
            "description_tooltip": null,
            "layout": "IPY_MODEL_82bb400a26664d80862489a0e44c7484",
            "placeholder": "​",
            "style": "IPY_MODEL_ed2b757754434b4abc0faa30e2a5a0fb",
            "value": " 4.31M/4.31M [00:00&lt;00:00, 66.9MB/s]"
          }
        },
        "460455b2684d48dbb1d650b28b9579e0": {
          "model_module": "@jupyter-widgets/base",
          "model_name": "LayoutModel",
          "model_module_version": "1.2.0",
          "state": {
            "_model_module": "@jupyter-widgets/base",
            "_model_module_version": "1.2.0",
            "_model_name": "LayoutModel",
            "_view_count": null,
            "_view_module": "@jupyter-widgets/base",
            "_view_module_version": "1.2.0",
            "_view_name": "LayoutView",
            "align_content": null,
            "align_items": null,
            "align_self": null,
            "border": null,
            "bottom": null,
            "display": null,
            "flex": null,
            "flex_flow": null,
            "grid_area": null,
            "grid_auto_columns": null,
            "grid_auto_flow": null,
            "grid_auto_rows": null,
            "grid_column": null,
            "grid_gap": null,
            "grid_row": null,
            "grid_template_areas": null,
            "grid_template_columns": null,
            "grid_template_rows": null,
            "height": null,
            "justify_content": null,
            "justify_items": null,
            "left": null,
            "margin": null,
            "max_height": null,
            "max_width": null,
            "min_height": null,
            "min_width": null,
            "object_fit": null,
            "object_position": null,
            "order": null,
            "overflow": null,
            "overflow_x": null,
            "overflow_y": null,
            "padding": null,
            "right": null,
            "top": null,
            "visibility": null,
            "width": null
          }
        },
        "878e1a1d73134edbbf5708063cd5f7d5": {
          "model_module": "@jupyter-widgets/base",
          "model_name": "LayoutModel",
          "model_module_version": "1.2.0",
          "state": {
            "_model_module": "@jupyter-widgets/base",
            "_model_module_version": "1.2.0",
            "_model_name": "LayoutModel",
            "_view_count": null,
            "_view_module": "@jupyter-widgets/base",
            "_view_module_version": "1.2.0",
            "_view_name": "LayoutView",
            "align_content": null,
            "align_items": null,
            "align_self": null,
            "border": null,
            "bottom": null,
            "display": null,
            "flex": null,
            "flex_flow": null,
            "grid_area": null,
            "grid_auto_columns": null,
            "grid_auto_flow": null,
            "grid_auto_rows": null,
            "grid_column": null,
            "grid_gap": null,
            "grid_row": null,
            "grid_template_areas": null,
            "grid_template_columns": null,
            "grid_template_rows": null,
            "height": null,
            "justify_content": null,
            "justify_items": null,
            "left": null,
            "margin": null,
            "max_height": null,
            "max_width": null,
            "min_height": null,
            "min_width": null,
            "object_fit": null,
            "object_position": null,
            "order": null,
            "overflow": null,
            "overflow_x": null,
            "overflow_y": null,
            "padding": null,
            "right": null,
            "top": null,
            "visibility": null,
            "width": null
          }
        },
        "f4d6283d5001444b971eb76a86453eba": {
          "model_module": "@jupyter-widgets/controls",
          "model_name": "DescriptionStyleModel",
          "model_module_version": "1.5.0",
          "state": {
            "_model_module": "@jupyter-widgets/controls",
            "_model_module_version": "1.5.0",
            "_model_name": "DescriptionStyleModel",
            "_view_count": null,
            "_view_module": "@jupyter-widgets/base",
            "_view_module_version": "1.2.0",
            "_view_name": "StyleView",
            "description_width": ""
          }
        },
        "d18b255fd45b428db9caa1efeead9ae7": {
          "model_module": "@jupyter-widgets/base",
          "model_name": "LayoutModel",
          "model_module_version": "1.2.0",
          "state": {
            "_model_module": "@jupyter-widgets/base",
            "_model_module_version": "1.2.0",
            "_model_name": "LayoutModel",
            "_view_count": null,
            "_view_module": "@jupyter-widgets/base",
            "_view_module_version": "1.2.0",
            "_view_name": "LayoutView",
            "align_content": null,
            "align_items": null,
            "align_self": null,
            "border": null,
            "bottom": null,
            "display": null,
            "flex": null,
            "flex_flow": null,
            "grid_area": null,
            "grid_auto_columns": null,
            "grid_auto_flow": null,
            "grid_auto_rows": null,
            "grid_column": null,
            "grid_gap": null,
            "grid_row": null,
            "grid_template_areas": null,
            "grid_template_columns": null,
            "grid_template_rows": null,
            "height": null,
            "justify_content": null,
            "justify_items": null,
            "left": null,
            "margin": null,
            "max_height": null,
            "max_width": null,
            "min_height": null,
            "min_width": null,
            "object_fit": null,
            "object_position": null,
            "order": null,
            "overflow": null,
            "overflow_x": null,
            "overflow_y": null,
            "padding": null,
            "right": null,
            "top": null,
            "visibility": null,
            "width": null
          }
        },
        "232035db36a244cfb476442711f18e1b": {
          "model_module": "@jupyter-widgets/controls",
          "model_name": "ProgressStyleModel",
          "model_module_version": "1.5.0",
          "state": {
            "_model_module": "@jupyter-widgets/controls",
            "_model_module_version": "1.5.0",
            "_model_name": "ProgressStyleModel",
            "_view_count": null,
            "_view_module": "@jupyter-widgets/base",
            "_view_module_version": "1.2.0",
            "_view_name": "StyleView",
            "bar_color": null,
            "description_width": ""
          }
        },
        "82bb400a26664d80862489a0e44c7484": {
          "model_module": "@jupyter-widgets/base",
          "model_name": "LayoutModel",
          "model_module_version": "1.2.0",
          "state": {
            "_model_module": "@jupyter-widgets/base",
            "_model_module_version": "1.2.0",
            "_model_name": "LayoutModel",
            "_view_count": null,
            "_view_module": "@jupyter-widgets/base",
            "_view_module_version": "1.2.0",
            "_view_name": "LayoutView",
            "align_content": null,
            "align_items": null,
            "align_self": null,
            "border": null,
            "bottom": null,
            "display": null,
            "flex": null,
            "flex_flow": null,
            "grid_area": null,
            "grid_auto_columns": null,
            "grid_auto_flow": null,
            "grid_auto_rows": null,
            "grid_column": null,
            "grid_gap": null,
            "grid_row": null,
            "grid_template_areas": null,
            "grid_template_columns": null,
            "grid_template_rows": null,
            "height": null,
            "justify_content": null,
            "justify_items": null,
            "left": null,
            "margin": null,
            "max_height": null,
            "max_width": null,
            "min_height": null,
            "min_width": null,
            "object_fit": null,
            "object_position": null,
            "order": null,
            "overflow": null,
            "overflow_x": null,
            "overflow_y": null,
            "padding": null,
            "right": null,
            "top": null,
            "visibility": null,
            "width": null
          }
        },
        "ed2b757754434b4abc0faa30e2a5a0fb": {
          "model_module": "@jupyter-widgets/controls",
          "model_name": "DescriptionStyleModel",
          "model_module_version": "1.5.0",
          "state": {
            "_model_module": "@jupyter-widgets/controls",
            "_model_module_version": "1.5.0",
            "_model_name": "DescriptionStyleModel",
            "_view_count": null,
            "_view_module": "@jupyter-widgets/base",
            "_view_module_version": "1.2.0",
            "_view_name": "StyleView",
            "description_width": ""
          }
        },
        "9e0fb0505bb7473c95bdfa13c10d6452": {
          "model_module": "@jupyter-widgets/controls",
          "model_name": "HBoxModel",
          "model_module_version": "1.5.0",
          "state": {
            "_dom_classes": [],
            "_model_module": "@jupyter-widgets/controls",
            "_model_module_version": "1.5.0",
            "_model_name": "HBoxModel",
            "_view_count": null,
            "_view_module": "@jupyter-widgets/controls",
            "_view_module_version": "1.5.0",
            "_view_name": "HBoxView",
            "box_style": "",
            "children": [
              "IPY_MODEL_4271d90f02044e828141618c62fe1760",
              "IPY_MODEL_fd9a021f260e441a9e676c64ac7f64c0",
              "IPY_MODEL_b5d7749fdf634193aeac203824c5ebdd"
            ],
            "layout": "IPY_MODEL_641b02f5dd7346cda04a6e02d82d7f62"
          }
        },
        "4271d90f02044e828141618c62fe1760": {
          "model_module": "@jupyter-widgets/controls",
          "model_name": "HTMLModel",
          "model_module_version": "1.5.0",
          "state": {
            "_dom_classes": [],
            "_model_module": "@jupyter-widgets/controls",
            "_model_module_version": "1.5.0",
            "_model_name": "HTMLModel",
            "_view_count": null,
            "_view_module": "@jupyter-widgets/controls",
            "_view_module_version": "1.5.0",
            "_view_name": "HTMLView",
            "description": "",
            "description_tooltip": null,
            "layout": "IPY_MODEL_7cdfe64d345c408792aee47bfcdacf70",
            "placeholder": "​",
            "style": "IPY_MODEL_cda344213a7f4ace90e9c5442a5116e3",
            "value": "special_tokens_map.json: 100%"
          }
        },
        "fd9a021f260e441a9e676c64ac7f64c0": {
          "model_module": "@jupyter-widgets/controls",
          "model_name": "FloatProgressModel",
          "model_module_version": "1.5.0",
          "state": {
            "_dom_classes": [],
            "_model_module": "@jupyter-widgets/controls",
            "_model_module_version": "1.5.0",
            "_model_name": "FloatProgressModel",
            "_view_count": null,
            "_view_module": "@jupyter-widgets/controls",
            "_view_module_version": "1.5.0",
            "_view_name": "ProgressView",
            "bar_style": "success",
            "description": "",
            "description_tooltip": null,
            "layout": "IPY_MODEL_ba2e250e71ab4ae4817860750a6fa3a7",
            "max": 65,
            "min": 0,
            "orientation": "horizontal",
            "style": "IPY_MODEL_b00dc96375f24bc8af2d8be2406e2f6c",
            "value": 65
          }
        },
        "b5d7749fdf634193aeac203824c5ebdd": {
          "model_module": "@jupyter-widgets/controls",
          "model_name": "HTMLModel",
          "model_module_version": "1.5.0",
          "state": {
            "_dom_classes": [],
            "_model_module": "@jupyter-widgets/controls",
            "_model_module_version": "1.5.0",
            "_model_name": "HTMLModel",
            "_view_count": null,
            "_view_module": "@jupyter-widgets/controls",
            "_view_module_version": "1.5.0",
            "_view_name": "HTMLView",
            "description": "",
            "description_tooltip": null,
            "layout": "IPY_MODEL_517ade92c0ef444897a19700bf3a2900",
            "placeholder": "​",
            "style": "IPY_MODEL_52bbe41246db450c8629d80457712bc0",
            "value": " 65.0/65.0 [00:00&lt;00:00, 6.44kB/s]"
          }
        },
        "641b02f5dd7346cda04a6e02d82d7f62": {
          "model_module": "@jupyter-widgets/base",
          "model_name": "LayoutModel",
          "model_module_version": "1.2.0",
          "state": {
            "_model_module": "@jupyter-widgets/base",
            "_model_module_version": "1.2.0",
            "_model_name": "LayoutModel",
            "_view_count": null,
            "_view_module": "@jupyter-widgets/base",
            "_view_module_version": "1.2.0",
            "_view_name": "LayoutView",
            "align_content": null,
            "align_items": null,
            "align_self": null,
            "border": null,
            "bottom": null,
            "display": null,
            "flex": null,
            "flex_flow": null,
            "grid_area": null,
            "grid_auto_columns": null,
            "grid_auto_flow": null,
            "grid_auto_rows": null,
            "grid_column": null,
            "grid_gap": null,
            "grid_row": null,
            "grid_template_areas": null,
            "grid_template_columns": null,
            "grid_template_rows": null,
            "height": null,
            "justify_content": null,
            "justify_items": null,
            "left": null,
            "margin": null,
            "max_height": null,
            "max_width": null,
            "min_height": null,
            "min_width": null,
            "object_fit": null,
            "object_position": null,
            "order": null,
            "overflow": null,
            "overflow_x": null,
            "overflow_y": null,
            "padding": null,
            "right": null,
            "top": null,
            "visibility": null,
            "width": null
          }
        },
        "7cdfe64d345c408792aee47bfcdacf70": {
          "model_module": "@jupyter-widgets/base",
          "model_name": "LayoutModel",
          "model_module_version": "1.2.0",
          "state": {
            "_model_module": "@jupyter-widgets/base",
            "_model_module_version": "1.2.0",
            "_model_name": "LayoutModel",
            "_view_count": null,
            "_view_module": "@jupyter-widgets/base",
            "_view_module_version": "1.2.0",
            "_view_name": "LayoutView",
            "align_content": null,
            "align_items": null,
            "align_self": null,
            "border": null,
            "bottom": null,
            "display": null,
            "flex": null,
            "flex_flow": null,
            "grid_area": null,
            "grid_auto_columns": null,
            "grid_auto_flow": null,
            "grid_auto_rows": null,
            "grid_column": null,
            "grid_gap": null,
            "grid_row": null,
            "grid_template_areas": null,
            "grid_template_columns": null,
            "grid_template_rows": null,
            "height": null,
            "justify_content": null,
            "justify_items": null,
            "left": null,
            "margin": null,
            "max_height": null,
            "max_width": null,
            "min_height": null,
            "min_width": null,
            "object_fit": null,
            "object_position": null,
            "order": null,
            "overflow": null,
            "overflow_x": null,
            "overflow_y": null,
            "padding": null,
            "right": null,
            "top": null,
            "visibility": null,
            "width": null
          }
        },
        "cda344213a7f4ace90e9c5442a5116e3": {
          "model_module": "@jupyter-widgets/controls",
          "model_name": "DescriptionStyleModel",
          "model_module_version": "1.5.0",
          "state": {
            "_model_module": "@jupyter-widgets/controls",
            "_model_module_version": "1.5.0",
            "_model_name": "DescriptionStyleModel",
            "_view_count": null,
            "_view_module": "@jupyter-widgets/base",
            "_view_module_version": "1.2.0",
            "_view_name": "StyleView",
            "description_width": ""
          }
        },
        "ba2e250e71ab4ae4817860750a6fa3a7": {
          "model_module": "@jupyter-widgets/base",
          "model_name": "LayoutModel",
          "model_module_version": "1.2.0",
          "state": {
            "_model_module": "@jupyter-widgets/base",
            "_model_module_version": "1.2.0",
            "_model_name": "LayoutModel",
            "_view_count": null,
            "_view_module": "@jupyter-widgets/base",
            "_view_module_version": "1.2.0",
            "_view_name": "LayoutView",
            "align_content": null,
            "align_items": null,
            "align_self": null,
            "border": null,
            "bottom": null,
            "display": null,
            "flex": null,
            "flex_flow": null,
            "grid_area": null,
            "grid_auto_columns": null,
            "grid_auto_flow": null,
            "grid_auto_rows": null,
            "grid_column": null,
            "grid_gap": null,
            "grid_row": null,
            "grid_template_areas": null,
            "grid_template_columns": null,
            "grid_template_rows": null,
            "height": null,
            "justify_content": null,
            "justify_items": null,
            "left": null,
            "margin": null,
            "max_height": null,
            "max_width": null,
            "min_height": null,
            "min_width": null,
            "object_fit": null,
            "object_position": null,
            "order": null,
            "overflow": null,
            "overflow_x": null,
            "overflow_y": null,
            "padding": null,
            "right": null,
            "top": null,
            "visibility": null,
            "width": null
          }
        },
        "b00dc96375f24bc8af2d8be2406e2f6c": {
          "model_module": "@jupyter-widgets/controls",
          "model_name": "ProgressStyleModel",
          "model_module_version": "1.5.0",
          "state": {
            "_model_module": "@jupyter-widgets/controls",
            "_model_module_version": "1.5.0",
            "_model_name": "ProgressStyleModel",
            "_view_count": null,
            "_view_module": "@jupyter-widgets/base",
            "_view_module_version": "1.2.0",
            "_view_name": "StyleView",
            "bar_color": null,
            "description_width": ""
          }
        },
        "517ade92c0ef444897a19700bf3a2900": {
          "model_module": "@jupyter-widgets/base",
          "model_name": "LayoutModel",
          "model_module_version": "1.2.0",
          "state": {
            "_model_module": "@jupyter-widgets/base",
            "_model_module_version": "1.2.0",
            "_model_name": "LayoutModel",
            "_view_count": null,
            "_view_module": "@jupyter-widgets/base",
            "_view_module_version": "1.2.0",
            "_view_name": "LayoutView",
            "align_content": null,
            "align_items": null,
            "align_self": null,
            "border": null,
            "bottom": null,
            "display": null,
            "flex": null,
            "flex_flow": null,
            "grid_area": null,
            "grid_auto_columns": null,
            "grid_auto_flow": null,
            "grid_auto_rows": null,
            "grid_column": null,
            "grid_gap": null,
            "grid_row": null,
            "grid_template_areas": null,
            "grid_template_columns": null,
            "grid_template_rows": null,
            "height": null,
            "justify_content": null,
            "justify_items": null,
            "left": null,
            "margin": null,
            "max_height": null,
            "max_width": null,
            "min_height": null,
            "min_width": null,
            "object_fit": null,
            "object_position": null,
            "order": null,
            "overflow": null,
            "overflow_x": null,
            "overflow_y": null,
            "padding": null,
            "right": null,
            "top": null,
            "visibility": null,
            "width": null
          }
        },
        "52bbe41246db450c8629d80457712bc0": {
          "model_module": "@jupyter-widgets/controls",
          "model_name": "DescriptionStyleModel",
          "model_module_version": "1.5.0",
          "state": {
            "_model_module": "@jupyter-widgets/controls",
            "_model_module_version": "1.5.0",
            "_model_name": "DescriptionStyleModel",
            "_view_count": null,
            "_view_module": "@jupyter-widgets/base",
            "_view_module_version": "1.2.0",
            "_view_name": "StyleView",
            "description_width": ""
          }
        },
        "a11a20e198f94fe691b7809670fbaacc": {
          "model_module": "@jupyter-widgets/controls",
          "model_name": "HBoxModel",
          "model_module_version": "1.5.0",
          "state": {
            "_dom_classes": [],
            "_model_module": "@jupyter-widgets/controls",
            "_model_module_version": "1.5.0",
            "_model_name": "HBoxModel",
            "_view_count": null,
            "_view_module": "@jupyter-widgets/controls",
            "_view_module_version": "1.5.0",
            "_view_name": "HBoxView",
            "box_style": "",
            "children": [
              "IPY_MODEL_cc7faa250f2b4d3f8854e0923a2169f2",
              "IPY_MODEL_faa1dbea8e224198b2a4036d209d461e",
              "IPY_MODEL_d5306fc7f94344b4a35cb7a0cb91d77b"
            ],
            "layout": "IPY_MODEL_4a884ef267724173b2040d20d537b7ce"
          }
        },
        "cc7faa250f2b4d3f8854e0923a2169f2": {
          "model_module": "@jupyter-widgets/controls",
          "model_name": "HTMLModel",
          "model_module_version": "1.5.0",
          "state": {
            "_dom_classes": [],
            "_model_module": "@jupyter-widgets/controls",
            "_model_module_version": "1.5.0",
            "_model_name": "HTMLModel",
            "_view_count": null,
            "_view_module": "@jupyter-widgets/controls",
            "_view_module_version": "1.5.0",
            "_view_name": "HTMLView",
            "description": "",
            "description_tooltip": null,
            "layout": "IPY_MODEL_91c6a764b64c443b99453d35772bf5c0",
            "placeholder": "​",
            "style": "IPY_MODEL_9cb8804e6fd74aa88fac2c72ac063ed3",
            "value": "pytorch_model.bin: 100%"
          }
        },
        "faa1dbea8e224198b2a4036d209d461e": {
          "model_module": "@jupyter-widgets/controls",
          "model_name": "FloatProgressModel",
          "model_module_version": "1.5.0",
          "state": {
            "_dom_classes": [],
            "_model_module": "@jupyter-widgets/controls",
            "_model_module_version": "1.5.0",
            "_model_name": "FloatProgressModel",
            "_view_count": null,
            "_view_module": "@jupyter-widgets/controls",
            "_view_module_version": "1.5.0",
            "_view_name": "ProgressView",
            "bar_style": "success",
            "description": "",
            "description_tooltip": null,
            "layout": "IPY_MODEL_c0a6095deb0641ff9c60a595214560ba",
            "max": 2329707353,
            "min": 0,
            "orientation": "horizontal",
            "style": "IPY_MODEL_69eda2720a75456795e7a4c34c64e450",
            "value": 2329707353
          }
        },
        "d5306fc7f94344b4a35cb7a0cb91d77b": {
          "model_module": "@jupyter-widgets/controls",
          "model_name": "HTMLModel",
          "model_module_version": "1.5.0",
          "state": {
            "_dom_classes": [],
            "_model_module": "@jupyter-widgets/controls",
            "_model_module_version": "1.5.0",
            "_model_name": "HTMLModel",
            "_view_count": null,
            "_view_module": "@jupyter-widgets/controls",
            "_view_module_version": "1.5.0",
            "_view_name": "HTMLView",
            "description": "",
            "description_tooltip": null,
            "layout": "IPY_MODEL_cbeafae6ca6a4e498a913c2eb74c4d48",
            "placeholder": "​",
            "style": "IPY_MODEL_9c91e3695b95485db1edf339ff0fc0c8",
            "value": " 2.33G/2.33G [00:12&lt;00:00, 243MB/s]"
          }
        },
        "4a884ef267724173b2040d20d537b7ce": {
          "model_module": "@jupyter-widgets/base",
          "model_name": "LayoutModel",
          "model_module_version": "1.2.0",
          "state": {
            "_model_module": "@jupyter-widgets/base",
            "_model_module_version": "1.2.0",
            "_model_name": "LayoutModel",
            "_view_count": null,
            "_view_module": "@jupyter-widgets/base",
            "_view_module_version": "1.2.0",
            "_view_name": "LayoutView",
            "align_content": null,
            "align_items": null,
            "align_self": null,
            "border": null,
            "bottom": null,
            "display": null,
            "flex": null,
            "flex_flow": null,
            "grid_area": null,
            "grid_auto_columns": null,
            "grid_auto_flow": null,
            "grid_auto_rows": null,
            "grid_column": null,
            "grid_gap": null,
            "grid_row": null,
            "grid_template_areas": null,
            "grid_template_columns": null,
            "grid_template_rows": null,
            "height": null,
            "justify_content": null,
            "justify_items": null,
            "left": null,
            "margin": null,
            "max_height": null,
            "max_width": null,
            "min_height": null,
            "min_width": null,
            "object_fit": null,
            "object_position": null,
            "order": null,
            "overflow": null,
            "overflow_x": null,
            "overflow_y": null,
            "padding": null,
            "right": null,
            "top": null,
            "visibility": null,
            "width": null
          }
        },
        "91c6a764b64c443b99453d35772bf5c0": {
          "model_module": "@jupyter-widgets/base",
          "model_name": "LayoutModel",
          "model_module_version": "1.2.0",
          "state": {
            "_model_module": "@jupyter-widgets/base",
            "_model_module_version": "1.2.0",
            "_model_name": "LayoutModel",
            "_view_count": null,
            "_view_module": "@jupyter-widgets/base",
            "_view_module_version": "1.2.0",
            "_view_name": "LayoutView",
            "align_content": null,
            "align_items": null,
            "align_self": null,
            "border": null,
            "bottom": null,
            "display": null,
            "flex": null,
            "flex_flow": null,
            "grid_area": null,
            "grid_auto_columns": null,
            "grid_auto_flow": null,
            "grid_auto_rows": null,
            "grid_column": null,
            "grid_gap": null,
            "grid_row": null,
            "grid_template_areas": null,
            "grid_template_columns": null,
            "grid_template_rows": null,
            "height": null,
            "justify_content": null,
            "justify_items": null,
            "left": null,
            "margin": null,
            "max_height": null,
            "max_width": null,
            "min_height": null,
            "min_width": null,
            "object_fit": null,
            "object_position": null,
            "order": null,
            "overflow": null,
            "overflow_x": null,
            "overflow_y": null,
            "padding": null,
            "right": null,
            "top": null,
            "visibility": null,
            "width": null
          }
        },
        "9cb8804e6fd74aa88fac2c72ac063ed3": {
          "model_module": "@jupyter-widgets/controls",
          "model_name": "DescriptionStyleModel",
          "model_module_version": "1.5.0",
          "state": {
            "_model_module": "@jupyter-widgets/controls",
            "_model_module_version": "1.5.0",
            "_model_name": "DescriptionStyleModel",
            "_view_count": null,
            "_view_module": "@jupyter-widgets/base",
            "_view_module_version": "1.2.0",
            "_view_name": "StyleView",
            "description_width": ""
          }
        },
        "c0a6095deb0641ff9c60a595214560ba": {
          "model_module": "@jupyter-widgets/base",
          "model_name": "LayoutModel",
          "model_module_version": "1.2.0",
          "state": {
            "_model_module": "@jupyter-widgets/base",
            "_model_module_version": "1.2.0",
            "_model_name": "LayoutModel",
            "_view_count": null,
            "_view_module": "@jupyter-widgets/base",
            "_view_module_version": "1.2.0",
            "_view_name": "LayoutView",
            "align_content": null,
            "align_items": null,
            "align_self": null,
            "border": null,
            "bottom": null,
            "display": null,
            "flex": null,
            "flex_flow": null,
            "grid_area": null,
            "grid_auto_columns": null,
            "grid_auto_flow": null,
            "grid_auto_rows": null,
            "grid_column": null,
            "grid_gap": null,
            "grid_row": null,
            "grid_template_areas": null,
            "grid_template_columns": null,
            "grid_template_rows": null,
            "height": null,
            "justify_content": null,
            "justify_items": null,
            "left": null,
            "margin": null,
            "max_height": null,
            "max_width": null,
            "min_height": null,
            "min_width": null,
            "object_fit": null,
            "object_position": null,
            "order": null,
            "overflow": null,
            "overflow_x": null,
            "overflow_y": null,
            "padding": null,
            "right": null,
            "top": null,
            "visibility": null,
            "width": null
          }
        },
        "69eda2720a75456795e7a4c34c64e450": {
          "model_module": "@jupyter-widgets/controls",
          "model_name": "ProgressStyleModel",
          "model_module_version": "1.5.0",
          "state": {
            "_model_module": "@jupyter-widgets/controls",
            "_model_module_version": "1.5.0",
            "_model_name": "ProgressStyleModel",
            "_view_count": null,
            "_view_module": "@jupyter-widgets/base",
            "_view_module_version": "1.2.0",
            "_view_name": "StyleView",
            "bar_color": null,
            "description_width": ""
          }
        },
        "cbeafae6ca6a4e498a913c2eb74c4d48": {
          "model_module": "@jupyter-widgets/base",
          "model_name": "LayoutModel",
          "model_module_version": "1.2.0",
          "state": {
            "_model_module": "@jupyter-widgets/base",
            "_model_module_version": "1.2.0",
            "_model_name": "LayoutModel",
            "_view_count": null,
            "_view_module": "@jupyter-widgets/base",
            "_view_module_version": "1.2.0",
            "_view_name": "LayoutView",
            "align_content": null,
            "align_items": null,
            "align_self": null,
            "border": null,
            "bottom": null,
            "display": null,
            "flex": null,
            "flex_flow": null,
            "grid_area": null,
            "grid_auto_columns": null,
            "grid_auto_flow": null,
            "grid_auto_rows": null,
            "grid_column": null,
            "grid_gap": null,
            "grid_row": null,
            "grid_template_areas": null,
            "grid_template_columns": null,
            "grid_template_rows": null,
            "height": null,
            "justify_content": null,
            "justify_items": null,
            "left": null,
            "margin": null,
            "max_height": null,
            "max_width": null,
            "min_height": null,
            "min_width": null,
            "object_fit": null,
            "object_position": null,
            "order": null,
            "overflow": null,
            "overflow_x": null,
            "overflow_y": null,
            "padding": null,
            "right": null,
            "top": null,
            "visibility": null,
            "width": null
          }
        },
        "9c91e3695b95485db1edf339ff0fc0c8": {
          "model_module": "@jupyter-widgets/controls",
          "model_name": "DescriptionStyleModel",
          "model_module_version": "1.5.0",
          "state": {
            "_model_module": "@jupyter-widgets/controls",
            "_model_module_version": "1.5.0",
            "_model_name": "DescriptionStyleModel",
            "_view_count": null,
            "_view_module": "@jupyter-widgets/base",
            "_view_module_version": "1.2.0",
            "_view_name": "StyleView",
            "description_width": ""
          }
        }
      }
    }
  },
  "nbformat": 4,
  "nbformat_minor": 0
}